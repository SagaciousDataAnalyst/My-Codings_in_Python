{
 "cells": [
  {
   "cell_type": "code",
   "execution_count": 3,
   "id": "e714c904",
   "metadata": {},
   "outputs": [
    {
     "name": "stdout",
     "output_type": "stream",
     "text": [
      "The value of the 2/1 is 2.0\n",
      "========================================\n",
      "The value of the 2/2 is 1.0\n",
      "========================================\n",
      "invalid literal for int() with base 10: 'a'\n",
      "========================================\n",
      "division by zero\n",
      "========================================\n",
      "int() argument must be a string, a bytes-like object or a number, not 'list'\n",
      "========================================\n",
      "invalid literal for int() with base 10: 'five'\n",
      "========================================\n",
      "The value of the 2/5.8 is 0.4\n",
      "========================================\n"
     ]
    }
   ],
   "source": [
    " def myfunction(n):  \n",
    "    example_list=[1,2,'a',0,[1,2,3],\"five\",5.8]\n",
    "    for i in example_list:\n",
    "        try:\n",
    "            print(\"The value of the {}/{} is {}\".format(n,i,n/int(i)))\n",
    "        except Exception as e:\n",
    "            print(e)\n",
    "        print(\"========================================\")\n",
    "\n",
    "myfunction(2)"
   ]
  },
  {
   "cell_type": "code",
   "execution_count": null,
   "id": "5c0d8a94",
   "metadata": {},
   "outputs": [],
   "source": [
    "def myfunction(n):  \n",
    "    example_list=[1,2,'a',0,[1,2,3],\"five\",5.8]\n",
    "    for i in example_list:\n",
    "        try:\n",
    "            print(\"The value of the {}/{} is {}\".format(n,i,n/int(i)))\n",
    "        except Exception as e:\n",
    "            print(e)\n",
    "        print(\"========================================\")\n",
    "\n",
    "myfunction(2)"
   ]
  }
 ],
 "metadata": {
  "kernelspec": {
   "display_name": "Python 3 (ipykernel)",
   "language": "python",
   "name": "python3"
  },
  "language_info": {
   "codemirror_mode": {
    "name": "ipython",
    "version": 3
   },
   "file_extension": ".py",
   "mimetype": "text/x-python",
   "name": "python",
   "nbconvert_exporter": "python",
   "pygments_lexer": "ipython3",
   "version": "3.9.12"
  }
 },
 "nbformat": 4,
 "nbformat_minor": 5
}
