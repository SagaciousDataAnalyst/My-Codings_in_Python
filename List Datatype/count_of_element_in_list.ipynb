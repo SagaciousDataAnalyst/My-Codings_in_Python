{
 "cells": [
  {
   "cell_type": "code",
   "execution_count": 7,
   "id": "56bf47dd",
   "metadata": {},
   "outputs": [
    {
     "name": "stdout",
     "output_type": "stream",
     "text": [
      "enter elements to count : 7\n",
      "7 repeated for 0 times\n",
      "Using the count method : \n",
      "7 repeated for 0 times\n"
     ]
    }
   ],
   "source": [
    "l=[1,3,2,4,67,8,2,3,5,4,1,77,9,0,43,2,1,5,8,9]\n",
    "elm=int(input(\"enter elements to count : \"))\n",
    "count=0\n",
    "for i in l:\n",
    "    if(i==elm):\n",
    "        count+=1\n",
    "print(\"{} repeated for {} times\".format(elm,count))\n",
    "\n",
    "print(\"Using the count method : \")\n",
    "print(\"{} repeated for {} times\".format(elm,l.count(elm)))\n"
   ]
  },
  {
   "cell_type": "code",
   "execution_count": null,
   "id": "f3ac5bc8",
   "metadata": {},
   "outputs": [],
   "source": []
  }
 ],
 "metadata": {
  "kernelspec": {
   "display_name": "Python 3 (ipykernel)",
   "language": "python",
   "name": "python3"
  },
  "language_info": {
   "codemirror_mode": {
    "name": "ipython",
    "version": 3
   },
   "file_extension": ".py",
   "mimetype": "text/x-python",
   "name": "python",
   "nbconvert_exporter": "python",
   "pygments_lexer": "ipython3",
   "version": "3.9.7"
  }
 },
 "nbformat": 4,
 "nbformat_minor": 5
}
