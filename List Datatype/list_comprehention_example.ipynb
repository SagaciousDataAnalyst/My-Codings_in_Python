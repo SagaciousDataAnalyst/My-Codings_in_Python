{
 "cells": [
  {
   "cell_type": "code",
   "execution_count": null,
   "id": "18209bea",
   "metadata": {},
   "outputs": [],
   "source": [
    "def f(l):\n",
    "    even=[i for i in l if(i%2==0)]\n",
    "    odd=[i for i in l if(i%2==1)]\n",
    "    even.sort()\n",
    "    odd.sort()\n",
    "    even.extend(odd[::-1])\n",
    "    print(even)    \n",
    "f([2,3,52,74,6,7])"
   ]
  }
 ],
 "metadata": {
  "kernelspec": {
   "display_name": "Python 3 (ipykernel)",
   "language": "python",
   "name": "python3"
  },
  "language_info": {
   "codemirror_mode": {
    "name": "ipython",
    "version": 3
   },
   "file_extension": ".py",
   "mimetype": "text/x-python",
   "name": "python",
   "nbconvert_exporter": "python",
   "pygments_lexer": "ipython3",
   "version": "3.9.7"
  }
 },
 "nbformat": 4,
 "nbformat_minor": 5
}
