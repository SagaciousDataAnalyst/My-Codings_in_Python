{
 "cells": [
  {
   "cell_type": "code",
   "execution_count": null,
   "id": "79d3eb2d",
   "metadata": {},
   "outputs": [],
   "source": [
    "#creating a list\n",
    "list=[\"a\",\"b\",\"c\",\"d\"]\n",
    "print(\"1) created list : \",list)\n",
    "\n",
    "#appending elements in a list\n",
    "list.append(\"e\")\n",
    "print(\"2) list after append operation : \",list)\n",
    "\n",
    "#accessing item in a list\n",
    "print(\"3) accessing items in a list : \",list[1])\n",
    "\n",
    "#changing item in a list\n",
    "list[1]=\"A\"\n",
    "print(\"4) changing item in the list : \",list)\n",
    "\n",
    "#removing item in a list\n",
    "list.remove(\"a\")\n",
    "print(\"5) after removing an item : \",list)\n",
    "\n",
    "#remove item in a specified index\n",
    "print(\"6) after pop operation ; \",list.pop(3))\n",
    "\n",
    "#loop through a list\n",
    "print(\"loop through list:\")\n",
    "for i in list:\n",
    "    print(i)\n",
    "\n",
    "#sort function\n",
    "print(\" performing sort on list\")\n",
    "L1=[1,2,3,7,3,9,2,]\n",
    "L1.sort()\n",
    "print(L1)\n",
    "\n",
    "#coping a list\n",
    "print(\"coping list\")\n",
    "L2=list.copy()\n",
    "print(L2)\n",
    "\n",
    "#joining two list\n",
    "print(\" joining two list\")\n",
    "L3=L1+L2\n",
    "print(L3)\n",
    "\n",
    "#appending one list into the other list\n",
    "print(\"appending one list into the other list\")\n",
    "for i in L2:\n",
    "    L1.append(i)\n",
    "print(L1)\n",
    "\n",
    "#extend()\n",
    "print(\" extend methon\")\n",
    "list.extend(L2)\n",
    "print(list)"
   ]
  }
 ],
 "metadata": {
  "kernelspec": {
   "display_name": "Python 3 (ipykernel)",
   "language": "python",
   "name": "python3"
  },
  "language_info": {
   "codemirror_mode": {
    "name": "ipython",
    "version": 3
   },
   "file_extension": ".py",
   "mimetype": "text/x-python",
   "name": "python",
   "nbconvert_exporter": "python",
   "pygments_lexer": "ipython3",
   "version": "3.9.7"
  }
 },
 "nbformat": 4,
 "nbformat_minor": 5
}
