{
 "cells": [
  {
   "cell_type": "code",
   "execution_count": null,
   "id": "ada0d45b",
   "metadata": {},
   "outputs": [],
   "source": [
    "def list_comp(s):\n",
    "    p=[]\n",
    "\n",
    "    for i in s:\n",
    "        if \"i\" in i:\n",
    "            p.append(i)\n",
    "    print(p)\n",
    "list_comp([\"python\",\"data\",\"scince\",\"pydev\",\"pycham\"])"
   ]
  }
 ],
 "metadata": {
  "kernelspec": {
   "display_name": "Python 3 (ipykernel)",
   "language": "python",
   "name": "python3"
  },
  "language_info": {
   "codemirror_mode": {
    "name": "ipython",
    "version": 3
   },
   "file_extension": ".py",
   "mimetype": "text/x-python",
   "name": "python",
   "nbconvert_exporter": "python",
   "pygments_lexer": "ipython3",
   "version": "3.9.7"
  }
 },
 "nbformat": 4,
 "nbformat_minor": 5
}
