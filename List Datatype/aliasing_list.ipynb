{
 "cells": [
  {
   "cell_type": "code",
   "execution_count": 2,
   "id": "05d7e5f4",
   "metadata": {},
   "outputs": [
    {
     "name": "stdout",
     "output_type": "stream",
     "text": [
      "[1729, 'python', 8277.816, [1, 2, 3]]\n",
      "[1729, 'python', 8277.816, [1, 2, 3]]\n",
      "[1729, 'python', 8277.816, [1, 2, 3], 'Data Science']\n",
      "[1729, 'python', 8277.816, [1, 2, 3], 'Data Science']\n"
     ]
    }
   ],
   "source": [
    "list_1=[1729,\"python\",8277.816,[1,2,3]]\n",
    "list_2=list_1\n",
    "print(list_1)\n",
    "print(list_2)\n",
    "\n",
    "list_2.append(\"Data Science\")\n",
    "\n",
    "print(list_1)\n",
    "print(list_2)"
   ]
  },
  {
   "cell_type": "code",
   "execution_count": null,
   "id": "b3c604c4",
   "metadata": {},
   "outputs": [],
   "source": []
  }
 ],
 "metadata": {
  "kernelspec": {
   "display_name": "Python 3 (ipykernel)",
   "language": "python",
   "name": "python3"
  },
  "language_info": {
   "codemirror_mode": {
    "name": "ipython",
    "version": 3
   },
   "file_extension": ".py",
   "mimetype": "text/x-python",
   "name": "python",
   "nbconvert_exporter": "python",
   "pygments_lexer": "ipython3",
   "version": "3.9.7"
  }
 },
 "nbformat": 4,
 "nbformat_minor": 5
}
