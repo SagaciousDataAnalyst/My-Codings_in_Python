{
 "cells": [
  {
   "cell_type": "code",
   "execution_count": null,
   "id": "a05ad379",
   "metadata": {},
   "outputs": [],
   "source": [
    "# finding the sum and average of the given list\n",
    "\n",
    "import statistics as s\n",
    "\n",
    "try:\n",
    "    # method_1 to find sum\n",
    "    l=[1,2,3,4,5,6,7,8,9,10]\n",
    "    print(sum(l))\n",
    "    \n",
    "    # method_2 to find sum\n",
    "    count=0\n",
    "    for i in [1,2,3,4,5,6,7,8,9,10]:\n",
    "           count+=i\n",
    "    print(count)\n",
    "    \n",
    "    # method_1 to find avg\n",
    "    print(\"method_1 : avg of the list is : \",s.mean(l))\n",
    "    \n",
    "    # method_2 to find avg\n",
    "    print(\"method_2 : avg of the list is : \",sum(l)/len(l) )\n",
    "    \n",
    "except Exception as e:\n",
    "    print(e)\n"
   ]
  }
 ],
 "metadata": {
  "kernelspec": {
   "display_name": "Python 3 (ipykernel)",
   "language": "python",
   "name": "python3"
  },
  "language_info": {
   "codemirror_mode": {
    "name": "ipython",
    "version": 3
   },
   "file_extension": ".py",
   "mimetype": "text/x-python",
   "name": "python",
   "nbconvert_exporter": "python",
   "pygments_lexer": "ipython3",
   "version": "3.9.7"
  }
 },
 "nbformat": 4,
 "nbformat_minor": 5
}
