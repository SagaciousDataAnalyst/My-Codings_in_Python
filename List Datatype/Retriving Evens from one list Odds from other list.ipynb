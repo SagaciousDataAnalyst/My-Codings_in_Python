{
 "cells": [
  {
   "cell_type": "code",
   "execution_count": null,
   "id": "aa058988",
   "metadata": {},
   "outputs": [],
   "source": [
    "def saparate():\n",
    "    l1=[1,2,3,4,5]\n",
    "    l2=[6,7,8,9,10]\n",
    "    new_list=[]\n",
    "    for i in l1:\n",
    "        if(i%2==1):\n",
    "            new_list.append(i)\n",
    "    for i in l2:\n",
    "        if(i%2==0):\n",
    "            new_list.append(i)\n",
    "    print(new_list)\n",
    "saparate()"
   ]
  }
 ],
 "metadata": {
  "kernelspec": {
   "display_name": "Python 3 (ipykernel)",
   "language": "python",
   "name": "python3"
  },
  "language_info": {
   "codemirror_mode": {
    "name": "ipython",
    "version": 3
   },
   "file_extension": ".py",
   "mimetype": "text/x-python",
   "name": "python",
   "nbconvert_exporter": "python",
   "pygments_lexer": "ipython3",
   "version": "3.9.7"
  }
 },
 "nbformat": 4,
 "nbformat_minor": 5
}
