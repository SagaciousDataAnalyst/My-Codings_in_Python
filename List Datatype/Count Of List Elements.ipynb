{
 "cells": [
  {
   "cell_type": "code",
   "execution_count": null,
   "id": "fa669d52",
   "metadata": {},
   "outputs": [],
   "source": [
    "from collections import Counter\n",
    "def element_count(l):\n",
    "    print(Counter(l))\n",
    "element_count([1,1,1,2,2,3,3,3,3,3,3])"
   ]
  }
 ],
 "metadata": {
  "kernelspec": {
   "display_name": "Python 3 (ipykernel)",
   "language": "python",
   "name": "python3"
  },
  "language_info": {
   "codemirror_mode": {
    "name": "ipython",
    "version": 3
   },
   "file_extension": ".py",
   "mimetype": "text/x-python",
   "name": "python",
   "nbconvert_exporter": "python",
   "pygments_lexer": "ipython3",
   "version": "3.9.7"
  }
 },
 "nbformat": 4,
 "nbformat_minor": 5
}
