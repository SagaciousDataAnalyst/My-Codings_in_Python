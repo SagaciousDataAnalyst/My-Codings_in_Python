{
 "cells": [
  {
   "cell_type": "code",
   "execution_count": 3,
   "id": "425efc7f",
   "metadata": {},
   "outputs": [
    {
     "name": "stdout",
     "output_type": "stream",
     "text": [
      "[1, 2, 3, 5, 6, 8, 9, 89]\n"
     ]
    }
   ],
   "source": [
    "# sorting of the list\n",
    "\n",
    "l=[1,6,3,9,2,5,8,89]  # defining the list\n",
    "for i in range(len(l)):\n",
    "    for j in range(len(l)):\n",
    "        if(l[i]<l[j]):\n",
    "            l[i],l[j]=l[j],l[i]\n",
    "        \n",
    "print(l)"
   ]
  },
  {
   "cell_type": "code",
   "execution_count": null,
   "id": "d81cb702",
   "metadata": {},
   "outputs": [],
   "source": []
  }
 ],
 "metadata": {
  "kernelspec": {
   "display_name": "Python 3 (ipykernel)",
   "language": "python",
   "name": "python3"
  },
  "language_info": {
   "codemirror_mode": {
    "name": "ipython",
    "version": 3
   },
   "file_extension": ".py",
   "mimetype": "text/x-python",
   "name": "python",
   "nbconvert_exporter": "python",
   "pygments_lexer": "ipython3",
   "version": "3.9.7"
  }
 },
 "nbformat": 4,
 "nbformat_minor": 5
}
