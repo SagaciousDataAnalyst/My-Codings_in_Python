{
 "cells": [
  {
   "cell_type": "code",
   "execution_count": null,
   "id": "3fcb0a8b",
   "metadata": {},
   "outputs": [],
   "source": [
    "def f(l):\n",
    "    if l:\n",
    "        l.clear()\n",
    "        return \"Now list become empty\"\n",
    "    else:\n",
    "        return \"List is alread empty\"\n",
    "    \n",
    "    \n",
    "print(f([1,2,3]))\n",
    "print(f([]))"
   ]
  }
 ],
 "metadata": {
  "kernelspec": {
   "display_name": "Python 3 (ipykernel)",
   "language": "python",
   "name": "python3"
  },
  "language_info": {
   "codemirror_mode": {
    "name": "ipython",
    "version": 3
   },
   "file_extension": ".py",
   "mimetype": "text/x-python",
   "name": "python",
   "nbconvert_exporter": "python",
   "pygments_lexer": "ipython3",
   "version": "3.9.7"
  }
 },
 "nbformat": 4,
 "nbformat_minor": 5
}
