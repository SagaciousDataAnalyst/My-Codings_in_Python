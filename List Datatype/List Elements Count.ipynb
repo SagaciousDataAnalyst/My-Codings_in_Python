{
 "cells": [
  {
   "cell_type": "code",
   "execution_count": 1,
   "id": "4a52da7f",
   "metadata": {},
   "outputs": [
    {
     "name": "stdout",
     "output_type": "stream",
     "text": [
      "1 : 3\n",
      "2 : 4\n",
      "3 : 1\n",
      "4 : 1\n",
      "6 : 1\n",
      "{1: 3, 2: 4, 3: 1, 4: 1, 6: 1}\n"
     ]
    }
   ],
   "source": [
    "def list_count(list):\n",
    "    for i in set(list):\n",
    "        print(\"{} : {}\".format(i,list.count(i)))\n",
    "\n",
    "    #other way\n",
    "    print({each: list.count(each) for each in list})\n",
    "list_count([1,2,3,1,1,2,2,2,4,6])"
   ]
  },
  {
   "cell_type": "code",
   "execution_count": null,
   "id": "3275b7d0",
   "metadata": {},
   "outputs": [],
   "source": []
  }
 ],
 "metadata": {
  "kernelspec": {
   "display_name": "Python 3 (ipykernel)",
   "language": "python",
   "name": "python3"
  },
  "language_info": {
   "codemirror_mode": {
    "name": "ipython",
    "version": 3
   },
   "file_extension": ".py",
   "mimetype": "text/x-python",
   "name": "python",
   "nbconvert_exporter": "python",
   "pygments_lexer": "ipython3",
   "version": "3.9.7"
  }
 },
 "nbformat": 4,
 "nbformat_minor": 5
}
