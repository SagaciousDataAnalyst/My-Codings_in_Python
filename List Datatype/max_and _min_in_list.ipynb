{
 "cells": [
  {
   "cell_type": "code",
   "execution_count": 27,
   "id": "6cf46b4c",
   "metadata": {},
   "outputs": [
    {
     "name": "stdout",
     "output_type": "stream",
     "text": [
      "How many ekements you want : 5\n",
      "2\n",
      "1\n",
      "3\n",
      "4\n",
      "5\n",
      "[2, 1, 3, 4, 5]\n",
      "Larrge :  5\n",
      "Small :  1\n"
     ]
    }
   ],
   "source": [
    "x=[]\n",
    "n=int(input(\"How many ekements you want : \"))\n",
    "for i in range(n):\n",
    "    x.append(int(input()))\n",
    "print(x)\n",
    "print(\"Larrge : \",max(x))\n",
    "print(\"Small : \",min(x))"
   ]
  }
 ],
 "metadata": {
  "kernelspec": {
   "display_name": "Python 3 (ipykernel)",
   "language": "python",
   "name": "python3"
  },
  "language_info": {
   "codemirror_mode": {
    "name": "ipython",
    "version": 3
   },
   "file_extension": ".py",
   "mimetype": "text/x-python",
   "name": "python",
   "nbconvert_exporter": "python",
   "pygments_lexer": "ipython3",
   "version": "3.9.7"
  }
 },
 "nbformat": 4,
 "nbformat_minor": 5
}
