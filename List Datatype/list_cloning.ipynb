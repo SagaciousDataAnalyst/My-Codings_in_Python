{
 "cells": [
  {
   "cell_type": "code",
   "execution_count": 2,
   "id": "e29541df",
   "metadata": {},
   "outputs": [
    {
     "name": "stdout",
     "output_type": "stream",
     "text": [
      "Before the modification\n",
      "[1729, 'python', 8277.816, [1, 2, 3]]\n",
      "[1729, 'python', 8277.816, [1, 2, 3]]\n",
      "After the modification\n",
      "[1729, 'python', 8277.816, [1, 2, 3]]\n",
      "[1729, 'python', 8277.816, [1, 2, 3], 'Data Science']\n"
     ]
    }
   ],
   "source": [
    "list_1=[1729,\"python\",8277.816,[1,2,3]]\n",
    "\n",
    "print(\"Before the modification\")\n",
    "list_2=list_1[:]\n",
    "print(list_1)\n",
    "print(list_2)\n",
    "\n",
    "list_2.append(\"Data Science\")\n",
    "\n",
    "print(\"After the modification\")\n",
    "print(list_1)\n",
    "print(list_2)"
   ]
  },
  {
   "cell_type": "code",
   "execution_count": null,
   "id": "012d67a6",
   "metadata": {},
   "outputs": [],
   "source": []
  }
 ],
 "metadata": {
  "kernelspec": {
   "display_name": "Python 3 (ipykernel)",
   "language": "python",
   "name": "python3"
  },
  "language_info": {
   "codemirror_mode": {
    "name": "ipython",
    "version": 3
   },
   "file_extension": ".py",
   "mimetype": "text/x-python",
   "name": "python",
   "nbconvert_exporter": "python",
   "pygments_lexer": "ipython3",
   "version": "3.9.7"
  }
 },
 "nbformat": 4,
 "nbformat_minor": 5
}
