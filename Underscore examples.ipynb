{
 "cells": [
  {
   "cell_type": "markdown",
   "id": "30c6f1e2",
   "metadata": {},
   "source": [
    "# Use In Interpreter"
   ]
  },
  {
   "cell_type": "code",
   "execution_count": 39,
   "id": "156a61b0",
   "metadata": {},
   "outputs": [
    {
     "ename": "TypeError",
     "evalue": "can only concatenate str (not \"int\") to str",
     "output_type": "error",
     "traceback": [
      "\u001b[1;31m---------------------------------------------------------------------------\u001b[0m",
      "\u001b[1;31mTypeError\u001b[0m                                 Traceback (most recent call last)",
      "\u001b[1;32mC:\\Users\\SHAILA~1\\AppData\\Local\\Temp/ipykernel_3000/887523515.py\u001b[0m in \u001b[0;36m<module>\u001b[1;34m\u001b[0m\n\u001b[0;32m      3\u001b[0m \u001b[0m_\u001b[0m   \u001b[1;31m# its gives the previous result, and you can also assign it to the another variable\u001b[0m\u001b[1;33m\u001b[0m\u001b[1;33m\u001b[0m\u001b[0m\n\u001b[0;32m      4\u001b[0m \u001b[1;33m\u001b[0m\u001b[0m\n\u001b[1;32m----> 5\u001b[1;33m \u001b[0mb\u001b[0m\u001b[1;33m=\u001b[0m\u001b[0m_\u001b[0m\u001b[1;33m+\u001b[0m\u001b[1;36m2\u001b[0m\u001b[1;33m\u001b[0m\u001b[1;33m\u001b[0m\u001b[0m\n\u001b[0m\u001b[0;32m      6\u001b[0m \u001b[0mb\u001b[0m\u001b[1;33m\u001b[0m\u001b[1;33m\u001b[0m\u001b[0m\n\u001b[0;32m      7\u001b[0m \u001b[0m_\u001b[0m\u001b[1;33m\u001b[0m\u001b[1;33m\u001b[0m\u001b[0m\n",
      "\u001b[1;31mTypeError\u001b[0m: can only concatenate str (not \"int\") to str"
     ]
    }
   ],
   "source": [
    "a=123  \n",
    "\n",
    "_   # its gives the previous result, and you can also assign it to the another variable\n",
    "\n",
    "b=_+2\n",
    "b\n",
    "_"
   ]
  },
  {
   "cell_type": "code",
   "execution_count": 16,
   "id": "55c02a1e",
   "metadata": {
    "scrolled": true
   },
   "outputs": [
    {
     "data": {
      "text/plain": [
       "125"
      ]
     },
     "execution_count": 16,
     "metadata": {},
     "output_type": "execute_result"
    }
   ],
   "source": [
    "b=234\n",
    "_"
   ]
  },
  {
   "cell_type": "code",
   "execution_count": 17,
   "id": "8f9c532e",
   "metadata": {},
   "outputs": [],
   "source": [
    "c=345"
   ]
  },
  {
   "cell_type": "code",
   "execution_count": 38,
   "id": "f2c9a494",
   "metadata": {},
   "outputs": [
    {
     "data": {
      "text/plain": [
       "'how are you?'"
      ]
     },
     "execution_count": 38,
     "metadata": {},
     "output_type": "execute_result"
    }
   ],
   "source": [
    "a=172\n",
    "_"
   ]
  },
  {
   "cell_type": "markdown",
   "id": "6271051f",
   "metadata": {},
   "source": [
    "# Ignoring Values\n"
   ]
  },
  {
   "cell_type": "markdown",
   "id": "cdb7f3de",
   "metadata": {},
   "source": [
    "Underscore(_) is also used to ignore the values. If you don't want to use specific values while unpacking, just assign that value to underscore(_).\n",
    "\n",
    "Ignoring means assigning the values to special variable underscore(_). We're assigning the values to underscore(_) given not using that in future code."
   ]
  },
  {
   "cell_type": "code",
   "execution_count": 40,
   "id": "9dc737bf",
   "metadata": {},
   "outputs": [
    {
     "name": "stdout",
     "output_type": "stream",
     "text": [
      "1)  1 3\n",
      "2)  7 1\n"
     ]
    }
   ],
   "source": [
    "## ignoring a value\n",
    "a, _, b = 1, 2, 3 # a = 1, b = 3\n",
    "print(\"1) \",a, b)\n",
    "\n",
    "## ignoring multiple values\n",
    "## *(variable) used to assign multiple value to a variable as list while unpacking\n",
    "## it's called \"Extended Unpacking\", only available in Python 3.x\n",
    "a,*_, b = (7, 6, 5, 4, 3, 2, 1)\n",
    "print(\"2) \",a, b)"
   ]
  },
  {
   "cell_type": "markdown",
   "id": "913bf6ea",
   "metadata": {},
   "source": [
    "# Use In Looping "
   ]
  },
  {
   "cell_type": "markdown",
   "id": "d713cd94",
   "metadata": {},
   "source": [
    "you can use underscore as a variable in loops"
   ]
  },
  {
   "cell_type": "code",
   "execution_count": 41,
   "id": "a3c7bec5",
   "metadata": {},
   "outputs": [
    {
     "name": "stdout",
     "output_type": "stream",
     "text": [
      "for loop by using underscore as a variable\n",
      "0\n",
      "1\n",
      "2\n",
      "3\n",
      "4\n",
      "while loop by using underscore as a variable\n",
      "4\n",
      "5\n",
      "6\n",
      "7\n",
      "8\n",
      "9\n",
      "other example: \n",
      "hi\n",
      "hello\n",
      "how are you?\n"
     ]
    }
   ],
   "source": [
    "# for loop\n",
    "print(\"for loop by using underscore as a variable\")\n",
    "for _ in range(5):\n",
    "    print(_)\n",
    "    \n",
    "print(\"while loop by using underscore as a variable\")\n",
    "    \n",
    "while(_<10):\n",
    "    print(_)\n",
    "    _+=1\n",
    "    \n",
    "print(\"other example: \")\n",
    "for _ in [\"hi\",\"hello\",\"how are you?\"]:\n",
    "    print(_)\n"
   ]
  },
  {
   "cell_type": "markdown",
   "id": "fb6f43ea",
   "metadata": {},
   "source": [
    "#  Separating Digits Of Numbers"
   ]
  },
  {
   "cell_type": "markdown",
   "id": "578c22f8",
   "metadata": {},
   "source": [
    "If you have a long digits number, you can separate the group of digits as you like for better understanding."
   ]
  },
  {
   "cell_type": "code",
   "execution_count": 44,
   "id": "fb2e2dd2",
   "metadata": {},
   "outputs": [
    {
     "name": "stdout",
     "output_type": "stream",
     "text": [
      "1000000000\n",
      "1000000000\n",
      "12233445\n"
     ]
    }
   ],
   "source": [
    "a=1_000_000_000\n",
    "print(a)\n",
    "b=1_000_000_000\n",
    "print(b)\n",
    "\n",
    "x=12_23_34_45\n",
    "print(x)"
   ]
  },
  {
   "cell_type": "code",
   "execution_count": 32,
   "id": "eb9ac2a7",
   "metadata": {},
   "outputs": [
    {
     "name": "stdout",
     "output_type": "stream",
     "text": [
      "2\n",
      "52\n",
      "9131\n"
     ]
    }
   ],
   "source": [
    "# you can also use underscore(_) to separate the binary, octal or hex parts of numbers.\n",
    "\n",
    "\n",
    "binary = 0b_0010\n",
    "octa = 0o_64\n",
    "hexa = 0x_23_ab\n",
    "\n",
    "print(binary)\n",
    "print(octa)\n",
    "print(hexa)"
   ]
  },
  {
   "cell_type": "code",
   "execution_count": 46,
   "id": "a5c65622",
   "metadata": {},
   "outputs": [
    {
     "name": "stdout",
     "output_type": "stream",
     "text": [
      "123\n"
     ]
    }
   ],
   "source": [
    "def_=123\n",
    "print(def_)"
   ]
  },
  {
   "cell_type": "code",
   "execution_count": 50,
   "id": "02431b39",
   "metadata": {},
   "outputs": [
    {
     "ename": "AttributeError",
     "evalue": "'A' object has no attribute '__x'",
     "output_type": "error",
     "traceback": [
      "\u001b[1;31m---------------------------------------------------------------------------\u001b[0m",
      "\u001b[1;31mAttributeError\u001b[0m                            Traceback (most recent call last)",
      "\u001b[1;32mC:\\Users\\SHAILA~1\\AppData\\Local\\Temp/ipykernel_3000/419709810.py\u001b[0m in \u001b[0;36m<module>\u001b[1;34m\u001b[0m\n\u001b[0;32m      4\u001b[0m \u001b[0ma\u001b[0m\u001b[1;33m=\u001b[0m\u001b[0mA\u001b[0m\u001b[1;33m(\u001b[0m\u001b[1;33m)\u001b[0m\u001b[1;33m\u001b[0m\u001b[1;33m\u001b[0m\u001b[0m\n\u001b[0;32m      5\u001b[0m \u001b[0ma\u001b[0m\u001b[1;33m.\u001b[0m\u001b[0mf\u001b[0m\u001b[1;33m(\u001b[0m\u001b[1;33m)\u001b[0m\u001b[1;33m\u001b[0m\u001b[1;33m\u001b[0m\u001b[0m\n\u001b[1;32m----> 6\u001b[1;33m \u001b[0mprint\u001b[0m\u001b[1;33m(\u001b[0m\u001b[0ma\u001b[0m\u001b[1;33m.\u001b[0m\u001b[0m__x\u001b[0m\u001b[1;33m)\u001b[0m\u001b[1;33m\u001b[0m\u001b[1;33m\u001b[0m\u001b[0m\n\u001b[0m",
      "\u001b[1;31mAttributeError\u001b[0m: 'A' object has no attribute '__x'"
     ]
    }
   ],
   "source": [
    "class A:\n",
    "    def f(self):\n",
    "        self.__x=10\n",
    "a=A()\n",
    "a.f()\n",
    "print(a.__x) # error"
   ]
  },
  {
   "cell_type": "code",
   "execution_count": null,
   "id": "c74998aa",
   "metadata": {},
   "outputs": [],
   "source": []
  }
 ],
 "metadata": {
  "kernelspec": {
   "display_name": "Python 3 (ipykernel)",
   "language": "python",
   "name": "python3"
  },
  "language_info": {
   "codemirror_mode": {
    "name": "ipython",
    "version": 3
   },
   "file_extension": ".py",
   "mimetype": "text/x-python",
   "name": "python",
   "nbconvert_exporter": "python",
   "pygments_lexer": "ipython3",
   "version": "3.9.12"
  }
 },
 "nbformat": 4,
 "nbformat_minor": 5
}
