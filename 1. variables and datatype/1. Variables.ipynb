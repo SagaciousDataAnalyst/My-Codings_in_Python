{
 "cells": [
  {
   "cell_type": "markdown",
   "id": "9ab4e6da",
   "metadata": {},
   "source": [
    "# Variables\n",
    "Definition:-\n",
    "\n",
    "> ### A variable is a reference of the memory location where the object going to store in the memory.\n",
    "\n",
    "We have few rules to give the variable name. that are:\n",
    "\n",
    "1. A variable name can contain the alphabets and numbers.\n",
    "\n",
    "2. A variable name doesn't contian any special symbols except underscore(\"_\"). (Special symbols means like,@,#,$,%,^,&,*,!.....etc)\n",
    "\n",
    "3. A variable name must start with the alphabets\n",
    "\n",
    "4. A variable name can't start with the number but, a variable anme can followed by the number\n",
    "\n",
    "5. A variable name can not cantain any whitespace\n"
   ]
  },
  {
   "cell_type": "code",
   "execution_count": 4,
   "id": "d0c5d2f7",
   "metadata": {},
   "outputs": [
    {
     "name": "stdout",
     "output_type": "stream",
     "text": [
      "20\n"
     ]
    }
   ],
   "source": [
    "# Defining the variable with value 10\n",
    "\n",
    "Var=10    # Assingning the integer value to the variable\n",
    "print(var)"
   ]
  },
  {
   "cell_type": "code",
   "execution_count": 3,
   "id": "9d8da0f2",
   "metadata": {},
   "outputs": [
    {
     "name": "stdout",
     "output_type": "stream",
     "text": [
      "Python\n"
     ]
    }
   ],
   "source": [
    "# Defining the variable with value \"Python\"\n",
    "\n",
    "Var1=\"Python\"    # Assingning the String value to the variable\n",
    "print(Var1)"
   ]
  },
  {
   "cell_type": "markdown",
   "id": "cf337320",
   "metadata": {},
   "source": [
    "> ### A Variable name can contain Alphabets, Numbers and Underscore. But, We Have to start the variable name with Alphaaabets only."
   ]
  },
  {
   "cell_type": "code",
   "execution_count": 7,
   "id": "43db8bd9",
   "metadata": {},
   "outputs": [],
   "source": [
    "# Valied Variable Names\n",
    "programe = \"C Programming\"\n",
    "prohrame2 = \"C++ Programming \"\n",
    "program_3 = \"Python Programming\"\n",
    "\n",
    "# Invalies Variable Names That Raise an ERROR\n",
    "# 1programe = \"C Programming\"\n",
    "# 2_programe = \"C++ Programming\""
   ]
  },
  {
   "cell_type": "markdown",
   "id": "befc033f",
   "metadata": {},
   "source": [
    ">A Variable name can't containg any white space"
   ]
  },
  {
   "cell_type": "code",
   "execution_count": 8,
   "id": "93d08a5d",
   "metadata": {
    "scrolled": true
   },
   "outputs": [
    {
     "ename": "SyntaxError",
     "evalue": "invalid syntax (3256364417.py, line 1)",
     "output_type": "error",
     "traceback": [
      "\u001b[1;36m  Input \u001b[1;32mIn [8]\u001b[1;36m\u001b[0m\n\u001b[1;33m    programe 1 = \"C Programming\"   # Raise an ERROR\u001b[0m\n\u001b[1;37m             ^\u001b[0m\n\u001b[1;31mSyntaxError\u001b[0m\u001b[1;31m:\u001b[0m invalid syntax\n"
     ]
    }
   ],
   "source": [
    "programe 1 = \"C Programming\"   # Raise an ERROR"
   ]
  },
  {
   "cell_type": "markdown",
   "id": "85de5e1c",
   "metadata": {},
   "source": [
    "> ### A VAriable name can't contain any special character except underscore( \"_\" )"
   ]
  },
  {
   "cell_type": "code",
   "execution_count": 10,
   "id": "02c8cb2a",
   "metadata": {},
   "outputs": [
    {
     "ename": "SyntaxError",
     "evalue": "cannot assign to operator (3441891396.py, line 1)",
     "output_type": "error",
     "traceback": [
      "\u001b[1;36m  Input \u001b[1;32mIn [10]\u001b[1;36m\u001b[0m\n\u001b[1;33m    programe@1 = \"python\" # Raise an ERROR\u001b[0m\n\u001b[1;37m    ^\u001b[0m\n\u001b[1;31mSyntaxError\u001b[0m\u001b[1;31m:\u001b[0m cannot assign to operator\n"
     ]
    }
   ],
   "source": [
    "programe@1 = \"python\" # Raise an ERROR"
   ]
  },
  {
   "cell_type": "code",
   "execution_count": 11,
   "id": "15fa5b77",
   "metadata": {},
   "outputs": [],
   "source": [
    "programe_1 = \"Python\""
   ]
  },
  {
   "cell_type": "markdown",
   "id": "35e40106",
   "metadata": {},
   "source": [
    "> ### Valies and Invalies Variable Names"
   ]
  },
  {
   "cell_type": "code",
   "execution_count": 12,
   "id": "b8627db7",
   "metadata": {},
   "outputs": [],
   "source": [
    "myvar = 10\n",
    "myvar1 = 10\n",
    "myvar_1 = 10\n",
    "MyVar = 10\n",
    "My_Var_1 =10\n",
    "myvar_1_aa =10\n",
    "\n",
    "#1_myvar = 10\n",
    "# myvar 1 = 10\n",
    "# My@var = 10"
   ]
  },
  {
   "cell_type": "code",
   "execution_count": 13,
   "id": "a6258d75",
   "metadata": {},
   "outputs": [
    {
     "name": "stdout",
     "output_type": "stream",
     "text": [
      "20\n",
      "30\n"
     ]
    }
   ],
   "source": [
    "a,b=20,30\n",
    "print(a)\n",
    "print(b)"
   ]
  },
  {
   "cell_type": "code",
   "execution_count": 5,
   "id": "eb5aa062",
   "metadata": {},
   "outputs": [
    {
     "name": "stdout",
     "output_type": "stream",
     "text": [
      "30\n",
      "20\n",
      "a\n",
      "b\n"
     ]
    }
   ],
   "source": [
    "a = 20\n",
    "b=30\n",
    "print(b)\n",
    "print(a)\n",
    "print(\"a\")\n",
    "print(\"b\")"
   ]
  },
  {
   "cell_type": "markdown",
   "id": "a75ee4ea",
   "metadata": {},
   "source": [
    "### What happend if we define the two or more variables with same name.....?"
   ]
  },
  {
   "cell_type": "code",
   "execution_count": 14,
   "id": "57613f1f",
   "metadata": {},
   "outputs": [
    {
     "name": "stdout",
     "output_type": "stream",
     "text": [
      "20\n"
     ]
    }
   ],
   "source": [
    "a=10\n",
    "a=20\n",
    "print(a)"
   ]
  },
  {
   "cell_type": "markdown",
   "id": "5088e812",
   "metadata": {},
   "source": [
    "    In the above programe we can see that we defined the variables we same name \"a\". But, when I print the \"a\" it's display the second given value 20. Its because ..., Python is a \"Top down approach\". "
   ]
  },
  {
   "cell_type": "code",
   "execution_count": null,
   "id": "aef50d23",
   "metadata": {},
   "outputs": [],
   "source": []
  }
 ],
 "metadata": {
  "kernelspec": {
   "display_name": "Python 3 (ipykernel)",
   "language": "python",
   "name": "python3"
  },
  "language_info": {
   "codemirror_mode": {
    "name": "ipython",
    "version": 3
   },
   "file_extension": ".py",
   "mimetype": "text/x-python",
   "name": "python",
   "nbconvert_exporter": "python",
   "pygments_lexer": "ipython3",
   "version": "3.9.12"
  }
 },
 "nbformat": 4,
 "nbformat_minor": 5
}
