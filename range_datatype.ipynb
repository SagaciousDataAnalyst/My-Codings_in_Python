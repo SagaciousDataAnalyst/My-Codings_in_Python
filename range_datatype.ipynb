{
 "cells": [
  {
   "cell_type": "code",
   "execution_count": 11,
   "id": "f03e1a82",
   "metadata": {},
   "outputs": [
    {
     "name": "stdout",
     "output_type": "stream",
     "text": [
      "range(0, 10)\n",
      "0\n",
      "1\n",
      "2\n",
      "3\n",
      "4\n",
      "5\n",
      "6\n",
      "7\n",
      "8\n",
      "9\n",
      "[0, 1, 2, 3, 4, 5, 6, 7, 8, 9]\n",
      "range(0, 5)\n",
      "[0, 1, 2, 3, 4]\n",
      "range(30, 40, 2)\n",
      "[30, 32, 34, 36, 38]\n"
     ]
    }
   ],
   "source": [
    "r=range(10)\n",
    "\n",
    "print(r)\n",
    "\n",
    "for i in r:print(i)\n",
    "    \n",
    "print(list(r))\n",
    "\n",
    "print(r[0:5])\n",
    "\n",
    "print(list(r[0:5]))\n",
    "\n",
    "r1=range(30,40,2)\n",
    "\n",
    "print(r1)\n",
    "\n",
    "print(list(r1))\n"
   ]
  },
  {
   "cell_type": "code",
   "execution_count": null,
   "id": "06765880",
   "metadata": {},
   "outputs": [],
   "source": []
  }
 ],
 "metadata": {
  "kernelspec": {
   "display_name": "Python 3 (ipykernel)",
   "language": "python",
   "name": "python3"
  },
  "language_info": {
   "codemirror_mode": {
    "name": "ipython",
    "version": 3
   },
   "file_extension": ".py",
   "mimetype": "text/x-python",
   "name": "python",
   "nbconvert_exporter": "python",
   "pygments_lexer": "ipython3",
   "version": "3.9.7"
  }
 },
 "nbformat": 4,
 "nbformat_minor": 5
}
