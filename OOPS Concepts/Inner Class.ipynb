{
 "cells": [
  {
   "cell_type": "code",
   "execution_count": null,
   "id": "4798c6cd",
   "metadata": {},
   "outputs": [],
   "source": [
    "#inner class \n",
    "\n",
    "class Outterclass:\n",
    "    def __init__(self,Id,name):\n",
    "        self.Id=Id\n",
    "        self.name=name\n",
    "        self.ic=self.Innerclass()\n",
    "    def display(self):\n",
    "        print(self.Id,self.name)\n",
    "        \n",
    "    class Innerclass:\n",
    "        def __init__(self):\n",
    "            self.dd=22\n",
    "            self.mm=12\n",
    "            self.yyyy=2000\n",
    "        def display(self):\n",
    "            print(\"my dob is : {}/{}/{} \".format(self.dd,self.mm,self.yyyy))\n",
    "            \n",
    "o=Outterclass(11,\"shailaja\")\n",
    "o.display()\n",
    "\n",
    "i=o.ic\n",
    "i.display()"
   ]
  }
 ],
 "metadata": {
  "kernelspec": {
   "display_name": "Python 3 (ipykernel)",
   "language": "python",
   "name": "python3"
  },
  "language_info": {
   "codemirror_mode": {
    "name": "ipython",
    "version": 3
   },
   "file_extension": ".py",
   "mimetype": "text/x-python",
   "name": "python",
   "nbconvert_exporter": "python",
   "pygments_lexer": "ipython3",
   "version": "3.9.7"
  }
 },
 "nbformat": 4,
 "nbformat_minor": 5
}
