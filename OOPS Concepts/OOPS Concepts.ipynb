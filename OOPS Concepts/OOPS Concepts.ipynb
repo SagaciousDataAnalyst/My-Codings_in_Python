{
 "cells": [
  {
   "cell_type": "markdown",
   "id": "72e072a5",
   "metadata": {},
   "source": [
    "# OOPS(bject Orianted Programming System)"
   ]
  },
  {
   "cell_type": "markdown",
   "id": "425e8cf8",
   "metadata": {},
   "source": [
    "## class, object,inheritance,abstraction,polymorphism\n"
   ]
  },
  {
   "cell_type": "markdown",
   "id": "ac0dcca2",
   "metadata": {},
   "source": [
    "### Class and object"
   ]
  },
  {
   "cell_type": "code",
   "execution_count": 1,
   "id": "8ae2e9ee",
   "metadata": {},
   "outputs": [
    {
     "name": "stdout",
     "output_type": "stream",
     "text": [
      "Myclass\n"
     ]
    }
   ],
   "source": [
    "# program to create a class\n",
    "\n",
    "class Myclass:  #Creating the class\n",
    "    print(\"Myclass\")"
   ]
  },
  {
   "cell_type": "code",
   "execution_count": 2,
   "id": "63864306",
   "metadata": {},
   "outputs": [
    {
     "name": "stdout",
     "output_type": "stream",
     "text": [
      "Myclass\n"
     ]
    },
    {
     "data": {
      "text/plain": [
       "<__main__.Myclass at 0xd902f66a0>"
      ]
     },
     "execution_count": 2,
     "metadata": {},
     "output_type": "execute_result"
    }
   ],
   "source": [
    "# program to create an object/instance of the class\n",
    "\n",
    "class Myclass:  #Creating the class\n",
    "    print(\"Myclass\")\n",
    "    \n",
    "Myclass()  # creating the object/instance(The process of creating the object/instance is known as \"Instantation\")"
   ]
  },
  {
   "cell_type": "code",
   "execution_count": 3,
   "id": "ef60db07",
   "metadata": {},
   "outputs": [],
   "source": [
    "# program to understand the constructor\n",
    "\n",
    "class Myclass:\n",
    "    def __init__(self):   # it is the constructor to construct the objects,it invokes automatically when we creat an object/instance. \n",
    "        print(\"hi.......\")          #(if you did not create object/instance constructor doesn't invokes)\n",
    "        \n",
    "        \n",
    "        "
   ]
  },
  {
   "cell_type": "code",
   "execution_count": null,
   "id": "302789f3",
   "metadata": {},
   "outputs": [],
   "source": [
    "# program to understand that, a constructor can only called/invoked when object/instance is created\n",
    "\n",
    "class Myclass:\n",
    "    def __init__(self):   # it is the constructor to construct the objects,it invokes automatically when we creat an object/instance. \n",
    "        print(\"hi.......\")          #(if you did not create object/instance constructor doesn't invokes)\n",
    "        \n",
    "Myclass()  # creating the object/instance       \n",
    "        "
   ]
  },
  {
   "cell_type": "code",
   "execution_count": 5,
   "id": "1bcd6f73",
   "metadata": {},
   "outputs": [
    {
     "name": "stdout",
     "output_type": "stream",
     "text": [
      "10 20\n"
     ]
    },
    {
     "data": {
      "text/plain": [
       "<__main__.Myclass at 0xd902eecd0>"
      ]
     },
     "execution_count": 5,
     "metadata": {},
     "output_type": "execute_result"
    }
   ],
   "source": [
    "# program to pass arguments to the parameters of the constructor\n",
    "\n",
    "class Myclass:\n",
    "    def __init__(self,a,b):  # constructor with the parameters. we have to pass arguments to this parameter when we create an object/instance\n",
    "        print(a,b)  # in this case \" a \" and \" b \" are the local variables\n",
    "        \n",
    "Myclass(10,20)  #craeting the object/instance and passing arguments to the constructor\n",
    "        "
   ]
  },
  {
   "cell_type": "code",
   "execution_count": 9,
   "id": "a593a9dc",
   "metadata": {},
   "outputs": [
    {
     "name": "stdout",
     "output_type": "stream",
     "text": [
      "20 30\n",
      "20 30\n",
      "20\n"
     ]
    }
   ],
   "source": [
    "\n",
    "\n",
    "class Myclass:\n",
    "    def __init__(self,a,b):  # constructor with the parameters. we have to pass arguments to this parameter when we create an object/instance\n",
    "        self.a=a  # creating the instance variable \"a\"\n",
    "        self.b=b  # creating the instance variable \"b\"\n",
    "        print(self.a,self.b)\n",
    "        \n",
    "m=Myclass(20,30)  #craeting the object/instance and passing arguments to the constructor\n",
    "\n",
    "        "
   ]
  },
  {
   "cell_type": "code",
   "execution_count": 12,
   "id": "d142e720",
   "metadata": {},
   "outputs": [
    {
     "name": "stdout",
     "output_type": "stream",
     "text": [
      "20 30 40\n",
      "20 30\n"
     ]
    }
   ],
   "source": [
    "class Myclass:\n",
    "    def __init__(self,a,b,c):  # constructor with the parameters. we have to pass arguments to this parameter when we create an object/instance\n",
    "        self.a=a  # creating the instance variable \"a\"\n",
    "        self.b=b  # creating the instance variable \"b\"\n",
    "        print(a,b,c) # were, \"a\" and \"b\" are local variables\n",
    "        print(self.a,self.b)\n",
    "        \n",
    "m=Myclass(20,30,40)  #craeting the object/instance and passing arguments to the constructor\n",
    "\n",
    "       "
   ]
  },
  {
   "cell_type": "code",
   "execution_count": 7,
   "id": "6ed8ea21",
   "metadata": {},
   "outputs": [
    {
     "name": "stdout",
     "output_type": "stream",
     "text": [
      "20\n",
      "1)  1 2\n",
      "2)  1 2\n",
      "20\n",
      "2\n",
      "3\n",
      "1)  1 2\n",
      "1)  1 2\n"
     ]
    }
   ],
   "source": [
    "class A:\n",
    "    x=20 #static/class variable\n",
    "    print(x)\n",
    "    def __init__(self):\n",
    "        self.a=1 #instance variables\n",
    "        self.b=2\n",
    "        print(\"1) \",self.a,self.b)\n",
    "        \n",
    "    def f(self):\n",
    "#         self.c=5\n",
    "#         print(self.c)\n",
    "        print(\"2) \",self.a,self.b)\n",
    "        print(A.x)\n",
    "        \n",
    "a=A() #creating instance \n",
    "a.f()\n",
    "print(a.b)\n",
    "a.b=3\n",
    "print(a.b)\n",
    "\n",
    "c=A()\n",
    "d=A()\n",
    "\n",
    "\n"
   ]
  },
  {
   "cell_type": "code",
   "execution_count": 48,
   "id": "40896fac",
   "metadata": {},
   "outputs": [
    {
     "name": "stdout",
     "output_type": "stream",
     "text": [
      "1\n",
      "2\n",
      "***********************\n",
      "3\n",
      "4\n"
     ]
    }
   ],
   "source": [
    "class A:\n",
    "    def __init__(abc,x,y):\n",
    "        abc.x=x\n",
    "        abc.y=y\n",
    "        print(x)\n",
    "        print(y)\n",
    "        \n",
    "a=A(1,2) \n",
    "print(\"***********************\")\n",
    "b=A(3,4)\n"
   ]
  },
  {
   "cell_type": "code",
   "execution_count": 1,
   "id": "f8c5e552",
   "metadata": {},
   "outputs": [
    {
     "name": "stdout",
     "output_type": "stream",
     "text": [
      "2\n"
     ]
    },
    {
     "data": {
      "text/plain": [
       "<__main__.B at 0xdf772b96a0>"
      ]
     },
     "execution_count": 1,
     "metadata": {},
     "output_type": "execute_result"
    }
   ],
   "source": [
    "class A:\n",
    "    def __init__(self,a):\n",
    "    \n",
    "        print (\"hi\")\n",
    "\n",
    "\n",
    "class B(A):\n",
    "    def __init__(self,a):\n",
    "        self.a=a\n",
    "        print(a)\n",
    "B(2)\n",
    "\n",
    "# class C(B):\n",
    "#     pass\n",
    "# B()\n"
   ]
  },
  {
   "cell_type": "code",
   "execution_count": 28,
   "id": "bfff62a5",
   "metadata": {},
   "outputs": [
    {
     "name": "stdout",
     "output_type": "stream",
     "text": [
      "20\n",
      "1729\n",
      "10\n",
      "10\n"
     ]
    }
   ],
   "source": [
    "class A:\n",
    "    x=10\n",
    "    def a():\n",
    "        y=20\n",
    "        print(y)\n",
    "    a()\n",
    "    \n",
    "    def f(self,a):\n",
    "        self.a=a\n",
    "        print(a)\n",
    "        print(A.x)\n",
    "\n",
    "A()\n",
    "A().f(1729)\n",
    "print(A.x)"
   ]
  },
  {
   "cell_type": "code",
   "execution_count": 33,
   "id": "4e4f8baf",
   "metadata": {},
   "outputs": [
    {
     "name": "stdout",
     "output_type": "stream",
     "text": [
      "hi Mr. JK\n",
      "so, your  26 ,right?\n"
     ]
    }
   ],
   "source": [
    "class Person:\n",
    "    def __init__(self):\n",
    "        self.name = \"JK\"\n",
    "        self.age = 26\n",
    "    def f(self):\n",
    "        print(\"hi Mr.\",self.name)\n",
    "        print(\"so, your \",self.age,\",right?\")\n",
    "   \n",
    "\n",
    "p1 = Person()\n",
    "p1.f()\n",
    "\n"
   ]
  },
  {
   "cell_type": "code",
   "execution_count": 22,
   "id": "218b0a76",
   "metadata": {},
   "outputs": [
    {
     "name": "stdout",
     "output_type": "stream",
     "text": [
      "2 5\n",
      "2\n",
      "srinivas\n"
     ]
    }
   ],
   "source": [
    "class Class_srinu:\n",
    "    def __init__(self,a,c):\n",
    "        self.a=a\n",
    "        self.c=c\n",
    "        print(self.a ,self.c)\n",
    "    def function(self):\n",
    "        print(\"srinivas\")\n",
    "        \n",
    "    \n",
    "        \n",
    "        \n",
    "a=Class_srinu(2,5)    \n",
    "print(a.a)\n",
    "a.function()\n"
   ]
  },
  {
   "cell_type": "code",
   "execution_count": null,
   "id": "3f3c4fc7",
   "metadata": {},
   "outputs": [],
   "source": []
  },
  {
   "cell_type": "code",
   "execution_count": null,
   "id": "baf22d86",
   "metadata": {},
   "outputs": [],
   "source": []
  },
  {
   "cell_type": "code",
   "execution_count": 12,
   "id": "368ebb38",
   "metadata": {},
   "outputs": [
    {
     "name": "stdout",
     "output_type": "stream",
     "text": [
      "math\n",
      "1729\n",
      "stats\n"
     ]
    }
   ],
   "source": [
    "#Modifing the value of the asttrible by using the obect\n",
    "\n",
    "class Person:\n",
    "    def __init__(self, name, age):\n",
    "        self.name = name\n",
    "        self.age = age\n",
    "\n",
    "p1 = Person(\"math\", 1729)\n",
    "\n",
    "print(p1.name)\n",
    "print(p1.age)\n",
    "p1.name=\"stats\"\n",
    "print(p1.name)"
   ]
  },
  {
   "cell_type": "code",
   "execution_count": 1,
   "id": "cd9ad383",
   "metadata": {
    "scrolled": true
   },
   "outputs": [
    {
     "name": "stdout",
     "output_type": "stream",
     "text": [
      "1729\n"
     ]
    },
    {
     "ename": "AttributeError",
     "evalue": "'Person' object has no attribute '__name'",
     "output_type": "error",
     "traceback": [
      "\u001b[1;31m---------------------------------------------------------------------------\u001b[0m",
      "\u001b[1;31mAttributeError\u001b[0m                            Traceback (most recent call last)",
      "\u001b[1;32mC:\\Users\\SHAILA~1\\AppData\\Local\\Temp/ipykernel_4760/4110370818.py\u001b[0m in \u001b[0;36m<module>\u001b[1;34m\u001b[0m\n\u001b[0;32m     12\u001b[0m \u001b[0mprint\u001b[0m\u001b[1;33m(\u001b[0m\u001b[0mp1\u001b[0m\u001b[1;33m.\u001b[0m\u001b[0mage\u001b[0m\u001b[1;33m)\u001b[0m\u001b[1;33m\u001b[0m\u001b[1;33m\u001b[0m\u001b[0m\n\u001b[0;32m     13\u001b[0m \u001b[1;33m\u001b[0m\u001b[0m\n\u001b[1;32m---> 14\u001b[1;33m \u001b[0mprint\u001b[0m\u001b[1;33m(\u001b[0m\u001b[0mp1\u001b[0m\u001b[1;33m.\u001b[0m\u001b[0m__name\u001b[0m\u001b[1;33m)\u001b[0m \u001b[1;31m# gives erroe\u001b[0m\u001b[1;33m\u001b[0m\u001b[1;33m\u001b[0m\u001b[0m\n\u001b[0m",
      "\u001b[1;31mAttributeError\u001b[0m: 'Person' object has no attribute '__name'"
     ]
    }
   ],
   "source": [
    "\"\"\"\n",
    "restricting the changes in the modifications in the instance var\n",
    "\n",
    "\"\"\"\n",
    "\n",
    "class Person:\n",
    "    def __init__(self, __name, age):\n",
    "        self.__nme = __name\n",
    "        self.age = age\n",
    "\n",
    "p1 = Person(\"math\", 1729)\n",
    "print(p1.age)\n",
    "\n",
    "print(p1.__name) # gives error"
   ]
  },
  {
   "cell_type": "code",
   "execution_count": 37,
   "id": "f3d1ea37",
   "metadata": {},
   "outputs": [
    {
     "name": "stdout",
     "output_type": "stream",
     "text": [
      "math\n",
      "1729\n",
      "stats\n"
     ]
    }
   ],
   "source": [
    "\"\"\"\n",
    "It does not have to be named self , you can call it whatever you like,\n",
    "but it has to be the first parameter of any function in the class:\n",
    "\n",
    "\"\"\"\n",
    "\n",
    "class Person:\n",
    "  def __init__(py, name, age):\n",
    "    py.name = name\n",
    "    py.age = age\n",
    "\n",
    "p1 = Person(\"math\", 1729)\n",
    "\n",
    "print(p1.name)\n",
    "print(p1.age)\n",
    "p1.name=\"stats\"\n",
    "print(p1.name)"
   ]
  },
  {
   "cell_type": "code",
   "execution_count": 5,
   "id": "7617b1a8",
   "metadata": {},
   "outputs": [
    {
     "name": "stdout",
     "output_type": "stream",
     "text": [
      "1729\n",
      "1729\n",
      "1730\n",
      "1729\n"
     ]
    }
   ],
   "source": [
    "\"\"\"\n",
    "understanding the instance variables\n",
    "instance variable:whose seperate copy is created in every object/instance\n",
    "\n",
    "\"\"\"\"\n",
    "\n",
    "class A:\n",
    "    def __init__(self):\n",
    "        self.x=1729 #instance var\n",
    "        \n",
    "    def f(self):\n",
    "        self.x+=1\n",
    "\n",
    "a1=A()\n",
    "a2=A()\n",
    "print(a1.x)\n",
    "print(a2.x)\n",
    "\n",
    "a1.f()\n",
    "print(a1.x)\n",
    "print(a2.x)\n",
    "\n"
   ]
  },
  {
   "cell_type": "code",
   "execution_count": 31,
   "id": "683cb708",
   "metadata": {},
   "outputs": [
    {
     "name": "stdout",
     "output_type": "stream",
     "text": [
      "1729\n",
      "1729\n",
      "1730\n",
      "1730\n",
      "1731\n"
     ]
    }
   ],
   "source": [
    "\n",
    "\"\"\"\n",
    "understanding the class variables\n",
    "class variable:whose single copy is available in every object/instance\n",
    "\n",
    "\"\"\"\n",
    "\n",
    "class A:\n",
    "    x=1729\n",
    "    \n",
    "    #class method \n",
    "    @classmethod   \n",
    "    def f(cls):\n",
    "        cls.x+=1\n",
    "\n",
    "a1=A()\n",
    "a2=A()\n",
    "print(a1.x)\n",
    "print(a2.x)\n",
    "\n",
    "a1.f()\n",
    "print(a1.x)\n",
    "print(a2.x)"
   ]
  },
  {
   "cell_type": "code",
   "execution_count": 29,
   "id": "82a5f4f2",
   "metadata": {},
   "outputs": [
    {
     "name": "stdout",
     "output_type": "stream",
     "text": [
      "10\n",
      "10\n",
      "11\n",
      "11\n"
     ]
    }
   ],
   "source": [
    "# class variables, accessing the out side\n",
    "\n",
    "class A:\n",
    "    x=10\n",
    "    print(x)\n",
    "print(A.x)\n",
    "A.x+=1\n",
    "print(A.x)\n",
    "print(A.x)"
   ]
  },
  {
   "cell_type": "code",
   "execution_count": 25,
   "id": "615afb44",
   "metadata": {},
   "outputs": [
    {
     "name": "stdout",
     "output_type": "stream",
     "text": [
      "10\n",
      "10\n",
      "11\n",
      "11\n",
      "12\n",
      "11\n"
     ]
    }
   ],
   "source": [
    "# class variables, accessing the out side\n",
    "\n",
    "class A:\n",
    "    x=10\n",
    "    print(x)\n",
    "print(A.x)\n",
    "A.x+=1\n",
    "print(A.x)\n",
    "\n",
    "a1=A()\n",
    "print(a1.x)\n",
    "a1.x+=1\n",
    "print(a1.x)\n",
    "a2=A()\n",
    "print(a2.x)"
   ]
  },
  {
   "cell_type": "markdown",
   "id": "dca938c6",
   "metadata": {},
   "source": [
    "# Abstruction "
   ]
  },
  {
   "cell_type": "code",
   "execution_count": 11,
   "id": "d2a33544",
   "metadata": {},
   "outputs": [
    {
     "name": "stdout",
     "output_type": "stream",
     "text": [
      "3\n",
      "3\n"
     ]
    }
   ],
   "source": [
    "class A():\n",
    "    def __init__(self):\n",
    "        self.x=3\n",
    "        print(self.x)        \n",
    "a=A()\n",
    "print(a.x)\n"
   ]
  },
  {
   "cell_type": "code",
   "execution_count": 4,
   "id": "e39f1727",
   "metadata": {
    "scrolled": true
   },
   "outputs": [
    {
     "name": "stdout",
     "output_type": "stream",
     "text": [
      "3\n",
      "3\n"
     ]
    }
   ],
   "source": [
    "#abstruction\n",
    "class A():\n",
    "    def __init__(self):\n",
    "        self.__x=3 #private variable\n",
    "        print(self.__x)        \n",
    "a=A()\n",
    "print(a._A__x)  # name namgling\n"
   ]
  },
  {
   "cell_type": "code",
   "execution_count": 3,
   "id": "4ec66e38",
   "metadata": {},
   "outputs": [
    {
     "name": "stdout",
     "output_type": "stream",
     "text": [
      "2\n",
      "3\n",
      "3\n"
     ]
    }
   ],
   "source": [
    "class A:\n",
    "    def __init__(self):\n",
    "        self.x=2\n",
    "        self.__y=3\n",
    "    def f(self):\n",
    "        print(self.x)\n",
    "        print(self.__y)\n",
    "    \n",
    "a=A()\n",
    "a.f()\n",
    "print(a._A__y) # name namgling\n",
    "\n"
   ]
  },
  {
   "cell_type": "code",
   "execution_count": 15,
   "id": "798e7da9",
   "metadata": {},
   "outputs": [
    {
     "name": "stdout",
     "output_type": "stream",
     "text": [
      "2\n",
      "2\n",
      "3\n"
     ]
    }
   ],
   "source": [
    "\n",
    "\n",
    "class A:\n",
    "    def __init__(self):\n",
    "        self.x=2  #public var\n",
    "        self.__y=3  # private var\n",
    "    def f(self):\n",
    "        print(self.x) \n",
    "    \n",
    "    \n",
    "a=A()\n",
    "a.f()\n",
    "\n",
    "print(a.x)\n",
    "print(a._A__y) \n"
   ]
  },
  {
   "cell_type": "markdown",
   "id": "42efbfd7",
   "metadata": {},
   "source": [
    "An abstract class can be considered as a blueprint for other classes. It allows you to create a set of methods that must be created within any child classes built from the abstract class. A class which contains one or more abstract methods is called an abstract class. An abstract method is a method that has a declaration but does not have an implementation. While we are designing large functional units we use an abstract class. When we want to provide a common interface for different implementations of a component, we use an abstract class. \n",
    "\n",
    "\n",
    "Why use Abstract Base Classes : \n",
    "By defining an abstract base class, you can define a common Application Program Interface(API) for a set of subclasses. This capability is especially useful in situations where a third-party is going to provide implementations, such as with plugins, but can also help you when working in a large team or with a large code-base where keeping all classes in your mind is difficult or not possible. \n",
    "\n",
    "\n",
    "How Abstract Base classes work : \n",
    "By default, Python does not provide abstract classes. Python comes with a module that provides the base for defining Abstract Base classes(ABC) and that module name is ABC. ABC works by decorating methods of the base class as abstract and then registering concrete classes as implementations of the abstract base. A method becomes abstract when decorated with the keyword @abstractmethod."
   ]
  },
  {
   "cell_type": "code",
   "execution_count": 2,
   "id": "a36e4806",
   "metadata": {},
   "outputs": [
    {
     "name": "stdout",
     "output_type": "stream",
     "text": [
      "sum is :  3\n",
      "difference is :  -1\n",
      "sum is :  2\n"
     ]
    }
   ],
   "source": [
    "from abc import ABC,abstractmethod\n",
    "\n",
    "class A(ABC):\n",
    "    \n",
    "    @abstractmethod\n",
    "    def x(self,a,b):\n",
    "        pass\n",
    "    \n",
    "class B1(A):\n",
    "    def x(self,a,b):\n",
    "        print(\"sum is : \",a+b)\n",
    "        \n",
    "\n",
    "class B2(A):\n",
    "    def x(self,a,b):\n",
    "        print(\"difference is : \",a-b)\n",
    "        \n",
    "class B3(A):\n",
    "    def x(self,a,b):\n",
    "        print(\"sum is : \",a*b)\n",
    "        \n",
    "\n",
    "B1().x(1,2)\n",
    "B2().x(1,2)\n",
    "B3().x(1,2)"
   ]
  },
  {
   "cell_type": "code",
   "execution_count": 9,
   "id": "4426492f",
   "metadata": {
    "scrolled": true
   },
   "outputs": [
    {
     "name": "stdout",
     "output_type": "stream",
     "text": [
      "1\n"
     ]
    }
   ],
   "source": [
    "class A:\n",
    "    def f(self):\n",
    "        x=13\n",
    "        print(x)\n",
    "       \n",
    "class B(A):\n",
    "    def f(self):\n",
    "        x=1\n",
    "        print(x)\n",
    "B().f()\n"
   ]
  },
  {
   "cell_type": "code",
   "execution_count": 13,
   "id": "71912c28",
   "metadata": {},
   "outputs": [
    {
     "name": "stdout",
     "output_type": "stream",
     "text": [
      "1 2\n"
     ]
    }
   ],
   "source": [
    "class A:\n",
    "    def f(self):\n",
    "        x=10\n",
    "        print(x)\n",
    "        \n",
    "    def f(self,x):\n",
    "        self.x=20\n",
    "        print(self.x)\n",
    "        \n",
    "    def f(self,x,y):\n",
    "        self.x=x\n",
    "        self.y=y\n",
    "        print(self.x,self.y)\n",
    "        \n",
    "        \n",
    "A().f(1,2)\n",
    "       \n",
    "       \n",
    "       "
   ]
  },
  {
   "cell_type": "code",
   "execution_count": null,
   "id": "1868c35f",
   "metadata": {},
   "outputs": [],
   "source": []
  },
  {
   "cell_type": "code",
   "execution_count": 2,
   "id": "5aee2bc7",
   "metadata": {},
   "outputs": [
    {
     "name": "stdout",
     "output_type": "stream",
     "text": [
      "my car number is :  11\n",
      "maruthi uses usual steering\n",
      "maruthi uses hydraulic breacking system\n"
     ]
    }
   ],
   "source": [
    "from abc import *\n",
    "\n",
    "class Car(ABC):\n",
    "    def __init__(self,rno):\n",
    "        self.rno=rno\n",
    "        \n",
    "    def display(self):\n",
    "        print(\"my car number is : \",self.rno)\n",
    "        \n",
    "    @abstractmethod\n",
    "    def steering(self):\n",
    "        pass \n",
    "    \n",
    "    @abstractmethod\n",
    "    def breaking(self):\n",
    "        pass \n",
    "    \n",
    "class Maruthi(Car):\n",
    "    def steering(self):\n",
    "        print(\"maruthi uses usual steering\")\n",
    "        \n",
    "    def breaking(self):\n",
    "        print(\"maruthi uses hydraulic breacking system\")\n",
    "        \n",
    "m=Maruthi(11)\n",
    "m.display()\n",
    "m.steering()\n",
    "m.breaking()\n",
    "    "
   ]
  },
  {
   "cell_type": "code",
   "execution_count": 16,
   "id": "b68e4204",
   "metadata": {},
   "outputs": [
    {
     "name": "stdout",
     "output_type": "stream",
     "text": [
      "A class\n"
     ]
    },
    {
     "data": {
      "text/plain": [
       "<__main__.B at 0x9021c8a1c0>"
      ]
     },
     "execution_count": 16,
     "metadata": {},
     "output_type": "execute_result"
    }
   ],
   "source": [
    "class A:\n",
    "    def __init__(self):\n",
    "        print(\"A class\")\n",
    "        \n",
    "class B(A):\n",
    "    def __init__(self):\n",
    "        super().__init__()\n",
    "\n",
    "B()"
   ]
  },
  {
   "cell_type": "markdown",
   "id": "c725af53",
   "metadata": {},
   "source": [
    "# Types of methods in class(instance,class,static methods)"
   ]
  },
  {
   "cell_type": "code",
   "execution_count": 3,
   "id": "919417b4",
   "metadata": {},
   "outputs": [
    {
     "name": "stdout",
     "output_type": "stream",
     "text": [
      "enter the no of students : 3\n"
     ]
    },
    {
     "ename": "NameError",
     "evalue": "name 'i' is not defined",
     "output_type": "error",
     "traceback": [
      "\u001b[1;31m---------------------------------------------------------------------------\u001b[0m",
      "\u001b[1;31mNameError\u001b[0m                                 Traceback (most recent call last)",
      "\u001b[1;32mC:\\Users\\SHAILA~1\\AppData\\Local\\Temp/ipykernel_3940/3911510241.py\u001b[0m in \u001b[0;36m<module>\u001b[1;34m\u001b[0m\n\u001b[0;32m     20\u001b[0m \u001b[1;33m\u001b[0m\u001b[0m\n\u001b[0;32m     21\u001b[0m \u001b[0mnum\u001b[0m\u001b[1;33m=\u001b[0m\u001b[0mint\u001b[0m\u001b[1;33m(\u001b[0m\u001b[0minput\u001b[0m\u001b[1;33m(\u001b[0m\u001b[1;34m\"enter the no of students : \"\u001b[0m\u001b[1;33m)\u001b[0m\u001b[1;33m)\u001b[0m\u001b[1;33m\u001b[0m\u001b[1;33m\u001b[0m\u001b[0m\n\u001b[1;32m---> 22\u001b[1;33m \u001b[1;32mwhile\u001b[0m\u001b[1;33m(\u001b[0m\u001b[0mi\u001b[0m\u001b[1;33m<\u001b[0m\u001b[0mnum\u001b[0m\u001b[1;33m)\u001b[0m\u001b[1;33m:\u001b[0m\u001b[1;33m\u001b[0m\u001b[1;33m\u001b[0m\u001b[0m\n\u001b[0m\u001b[0;32m     23\u001b[0m     \u001b[0mname\u001b[0m\u001b[1;33m=\u001b[0m\u001b[0minput\u001b[0m\u001b[1;33m(\u001b[0m\u001b[1;34m\"enter the student name : \"\u001b[0m\u001b[1;33m)\u001b[0m\u001b[1;33m\u001b[0m\u001b[1;33m\u001b[0m\u001b[0m\n\u001b[0;32m     24\u001b[0m     \u001b[0mmarks\u001b[0m\u001b[1;33m=\u001b[0m\u001b[0mint\u001b[0m\u001b[1;33m(\u001b[0m\u001b[0minput\u001b[0m\u001b[1;33m(\u001b[0m\u001b[1;34m\"enter the student marks : \"\u001b[0m\u001b[1;33m)\u001b[0m\u001b[1;33m)\u001b[0m\u001b[1;33m\u001b[0m\u001b[1;33m\u001b[0m\u001b[0m\n",
      "\u001b[1;31mNameError\u001b[0m: name 'i' is not defined"
     ]
    }
   ],
   "source": [
    "# instance method\n",
    "\n",
    "\"\"\"\n",
    "instance methods are the methods which acts upon the instance variables\n",
    "\n",
    "\"\"\"\n",
    "\n",
    "class A:\n",
    "    \n",
    "    #this is constructor\n",
    "    def __init__(self,name,marks):\n",
    "        self.name=name\n",
    "        self.marks=marks\n",
    "        \n",
    "    #this is an instance method \n",
    "    def display(self):\n",
    "        print(\"hi \",self.name)\n",
    "        print(\"your marks are \",self.marks)\n",
    "        \n",
    "        \n",
    "num=int(input(\"enter the no of students : \"))\n",
    "while(i<num):\n",
    "    name=input(\"enter the student name : \")\n",
    "    marks=int(input(\"enter the student marks : \"))\n",
    "\n",
    "    #creating instance of the class \n",
    "    a=A(name,marks)\n",
    "    a.display()\n",
    "    i+=1\n",
    "    print(\"************************************************\")\n",
    "\n"
   ]
  },
  {
   "cell_type": "code",
   "execution_count": 3,
   "id": "13d28d43",
   "metadata": {
    "scrolled": false
   },
   "outputs": [
    {
     "ename": "KeyboardInterrupt",
     "evalue": "Interrupted by user",
     "output_type": "error",
     "traceback": [
      "\u001b[1;31m---------------------------------------------------------------------------\u001b[0m",
      "\u001b[1;31mKeyboardInterrupt\u001b[0m                         Traceback (most recent call last)",
      "\u001b[1;32mC:\\Users\\SHAILA~1\\AppData\\Local\\Temp/ipykernel_2960/2013575966.py\u001b[0m in \u001b[0;36m<module>\u001b[1;34m\u001b[0m\n\u001b[0;32m     25\u001b[0m \u001b[1;33m\u001b[0m\u001b[0m\n\u001b[0;32m     26\u001b[0m \u001b[1;33m\u001b[0m\u001b[0m\n\u001b[1;32m---> 27\u001b[1;33m \u001b[0mn\u001b[0m\u001b[1;33m=\u001b[0m\u001b[0mint\u001b[0m\u001b[1;33m(\u001b[0m\u001b[0minput\u001b[0m\u001b[1;33m(\u001b[0m\u001b[1;34m\"how many students : \"\u001b[0m\u001b[1;33m)\u001b[0m\u001b[1;33m)\u001b[0m\u001b[1;33m\u001b[0m\u001b[1;33m\u001b[0m\u001b[0m\n\u001b[0m\u001b[0;32m     28\u001b[0m \u001b[0mi\u001b[0m\u001b[1;33m=\u001b[0m\u001b[1;36m0\u001b[0m\u001b[1;33m\u001b[0m\u001b[1;33m\u001b[0m\u001b[0m\n\u001b[0;32m     29\u001b[0m \u001b[1;32mwhile\u001b[0m\u001b[1;33m(\u001b[0m\u001b[0mi\u001b[0m\u001b[1;33m<\u001b[0m\u001b[0mn\u001b[0m\u001b[1;33m)\u001b[0m\u001b[1;33m:\u001b[0m\u001b[1;33m\u001b[0m\u001b[1;33m\u001b[0m\u001b[0m\n",
      "\u001b[1;32mC:\\ProgramData\\Anaconda3\\lib\\site-packages\\ipykernel\\kernelbase.py\u001b[0m in \u001b[0;36mraw_input\u001b[1;34m(self, prompt)\u001b[0m\n\u001b[0;32m   1004\u001b[0m                 \u001b[1;34m\"raw_input was called, but this frontend does not support input requests.\"\u001b[0m\u001b[1;33m\u001b[0m\u001b[1;33m\u001b[0m\u001b[0m\n\u001b[0;32m   1005\u001b[0m             )\n\u001b[1;32m-> 1006\u001b[1;33m         return self._input_request(\n\u001b[0m\u001b[0;32m   1007\u001b[0m             \u001b[0mstr\u001b[0m\u001b[1;33m(\u001b[0m\u001b[0mprompt\u001b[0m\u001b[1;33m)\u001b[0m\u001b[1;33m,\u001b[0m\u001b[1;33m\u001b[0m\u001b[1;33m\u001b[0m\u001b[0m\n\u001b[0;32m   1008\u001b[0m             \u001b[0mself\u001b[0m\u001b[1;33m.\u001b[0m\u001b[0m_parent_ident\u001b[0m\u001b[1;33m[\u001b[0m\u001b[1;34m\"shell\"\u001b[0m\u001b[1;33m]\u001b[0m\u001b[1;33m,\u001b[0m\u001b[1;33m\u001b[0m\u001b[1;33m\u001b[0m\u001b[0m\n",
      "\u001b[1;32mC:\\ProgramData\\Anaconda3\\lib\\site-packages\\ipykernel\\kernelbase.py\u001b[0m in \u001b[0;36m_input_request\u001b[1;34m(self, prompt, ident, parent, password)\u001b[0m\n\u001b[0;32m   1049\u001b[0m             \u001b[1;32mexcept\u001b[0m \u001b[0mKeyboardInterrupt\u001b[0m\u001b[1;33m:\u001b[0m\u001b[1;33m\u001b[0m\u001b[1;33m\u001b[0m\u001b[0m\n\u001b[0;32m   1050\u001b[0m                 \u001b[1;31m# re-raise KeyboardInterrupt, to truncate traceback\u001b[0m\u001b[1;33m\u001b[0m\u001b[1;33m\u001b[0m\u001b[0m\n\u001b[1;32m-> 1051\u001b[1;33m                 \u001b[1;32mraise\u001b[0m \u001b[0mKeyboardInterrupt\u001b[0m\u001b[1;33m(\u001b[0m\u001b[1;34m\"Interrupted by user\"\u001b[0m\u001b[1;33m)\u001b[0m \u001b[1;32mfrom\u001b[0m \u001b[1;32mNone\u001b[0m\u001b[1;33m\u001b[0m\u001b[1;33m\u001b[0m\u001b[0m\n\u001b[0m\u001b[0;32m   1052\u001b[0m             \u001b[1;32mexcept\u001b[0m \u001b[0mException\u001b[0m\u001b[1;33m:\u001b[0m\u001b[1;33m\u001b[0m\u001b[1;33m\u001b[0m\u001b[0m\n\u001b[0;32m   1053\u001b[0m                 \u001b[0mself\u001b[0m\u001b[1;33m.\u001b[0m\u001b[0mlog\u001b[0m\u001b[1;33m.\u001b[0m\u001b[0mwarning\u001b[0m\u001b[1;33m(\u001b[0m\u001b[1;34m\"Invalid Message:\"\u001b[0m\u001b[1;33m,\u001b[0m \u001b[0mexc_info\u001b[0m\u001b[1;33m=\u001b[0m\u001b[1;32mTrue\u001b[0m\u001b[1;33m)\u001b[0m\u001b[1;33m\u001b[0m\u001b[1;33m\u001b[0m\u001b[0m\n",
      "\u001b[1;31mKeyboardInterrupt\u001b[0m: Interrupted by user"
     ]
    }
   ],
   "source": [
    "#instance methods\n",
    "#accessor and mutator\n",
    "\n",
    "\"\"\"\n",
    "\n",
    "\"\"\"\n",
    "\n",
    "class A:\n",
    "    \n",
    "    #mutator method\n",
    "    def setName(self,name):\n",
    "        self.name=name\n",
    "    \n",
    "    #accessor method\n",
    "    def getName(self):\n",
    "        return self.name\n",
    "    \n",
    "    #mutator method\n",
    "    def setMarks(self,marks):\n",
    "        self.marks=marks\n",
    "        \n",
    "    #accessor method\n",
    "    def getMarks(self):\n",
    "        return self.marks\n",
    "    \n",
    "    \n",
    "n=int(input(\"how many students : \"))\n",
    "i=0\n",
    "while(i<n):\n",
    "    #creating instance\n",
    "    a=A()\n",
    "    name=input(\"Enter name : \")\n",
    "    a.setName(name)\n",
    "    marks=int(input(\"Enter marks : \"))\n",
    "    a.setMarks(marks)\n",
    "    i+=1\n",
    "    \n",
    "    print(\"hi\",a.getName())\n",
    "    print(\"your marks \",a.getMarks())    \n",
    "        "
   ]
  },
  {
   "cell_type": "code",
   "execution_count": 72,
   "id": "c1c11c76",
   "metadata": {},
   "outputs": [
    {
     "name": "stdout",
     "output_type": "stream",
     "text": [
      "10\n",
      "10\n",
      "********************************\n",
      "1\n",
      "10\n",
      "1\n",
      "10\n"
     ]
    }
   ],
   "source": [
    "#class methods\n",
    "\n",
    "\"\"\"\n",
    "class methods are the methods whose work on the class/static variables\n",
    "they work on class level\n",
    "writen using the \"@classmethod\" decorator\n",
    "first parameter is the \"cls\"\n",
    "calling formate is \"class_name.method()\"\n",
    "\"\"\"\n",
    "class A:\n",
    "    x=10\n",
    "    @classmethod\n",
    "    def f(cls):\n",
    "        print(cls.x)\n",
    "\n",
    "A().f()\n",
    "A.f()\n",
    "    \n",
    "    \n",
    "print(\"********************************\")\n",
    "\n",
    "class A:\n",
    "    x=10\n",
    "    @classmethod\n",
    "    def f(cls,y):\n",
    "        print(y)\n",
    "        print(cls.x)\n",
    "\n",
    "A().f(1) # this argument is taken by \"y\"\n",
    "A.f(1)    "
   ]
  },
  {
   "cell_type": "code",
   "execution_count": 2,
   "id": "636f69d0",
   "metadata": {},
   "outputs": [
    {
     "name": "stdout",
     "output_type": "stream",
     "text": [
      "enter the number to find the squareroot :625\n",
      "suareroot of 625 is 25.0\n"
     ]
    }
   ],
   "source": [
    "#static method\n",
    "\n",
    "\"\"\"\n",
    "static methods are used when some processing is related to the class,\n",
    "but,does not need the  class or its instaces to perform any work\n",
    "\n",
    "\"\"\"\n",
    "\n",
    "import math\n",
    "class A:\n",
    "    #creating thr static method\n",
    "    @staticmethod\n",
    "    def f(x):\n",
    "        return math.sqrt(x)\n",
    "    \n",
    "num=int(input('enter the number to find the squareroot :'))\n",
    "print(\"suareroot of {} is {}\".format(num,A.f(num)))\n",
    "\n"
   ]
  },
  {
   "cell_type": "code",
   "execution_count": 16,
   "id": "e27db1a0",
   "metadata": {
    "scrolled": true
   },
   "outputs": [
    {
     "ename": "NameError",
     "evalue": "name 'salary' is not defined",
     "output_type": "error",
     "traceback": [
      "\u001b[1;31m---------------------------------------------------------------------------\u001b[0m",
      "\u001b[1;31mNameError\u001b[0m                                 Traceback (most recent call last)",
      "\u001b[1;32mC:\\Users\\SHAILA~1\\AppData\\Local\\Temp/ipykernel_2544/227400873.py\u001b[0m in \u001b[0;36m<module>\u001b[1;34m\u001b[0m\n\u001b[0;32m     13\u001b[0m \u001b[1;33m\u001b[0m\u001b[0m\n\u001b[0;32m     14\u001b[0m \u001b[0me\u001b[0m\u001b[1;33m=\u001b[0m\u001b[0mEmp\u001b[0m\u001b[1;33m(\u001b[0m\u001b[1;36m11\u001b[0m\u001b[1;33m,\u001b[0m\u001b[1;34m\"Jk\"\u001b[0m\u001b[1;33m,\u001b[0m\u001b[1;36m1000\u001b[0m\u001b[1;33m)\u001b[0m\u001b[1;33m\u001b[0m\u001b[1;33m\u001b[0m\u001b[0m\n\u001b[1;32m---> 15\u001b[1;33m \u001b[0mMyclass\u001b[0m\u001b[1;33m.\u001b[0m\u001b[0mgetvalues\u001b[0m\u001b[1;33m(\u001b[0m\u001b[0me\u001b[0m\u001b[1;33m)\u001b[0m\u001b[1;33m\u001b[0m\u001b[1;33m\u001b[0m\u001b[0m\n\u001b[0m",
      "\u001b[1;32mC:\\Users\\SHAILA~1\\AppData\\Local\\Temp/ipykernel_2544/227400873.py\u001b[0m in \u001b[0;36mgetvalues\u001b[1;34m(e)\u001b[0m\n\u001b[0;32m     10\u001b[0m     \u001b[1;32mdef\u001b[0m \u001b[0mgetvalues\u001b[0m\u001b[1;33m(\u001b[0m\u001b[0me\u001b[0m\u001b[1;33m)\u001b[0m\u001b[1;33m:\u001b[0m\u001b[1;33m\u001b[0m\u001b[1;33m\u001b[0m\u001b[0m\n\u001b[0;32m     11\u001b[0m         \u001b[0me\u001b[0m\u001b[1;33m.\u001b[0m\u001b[0msalary\u001b[0m\u001b[1;33m+=\u001b[0m\u001b[1;36m1000\u001b[0m\u001b[1;33m\u001b[0m\u001b[1;33m\u001b[0m\u001b[0m\n\u001b[1;32m---> 12\u001b[1;33m         \u001b[0me\u001b[0m\u001b[1;33m.\u001b[0m\u001b[0mdisplay\u001b[0m\u001b[1;33m(\u001b[0m\u001b[1;33m)\u001b[0m\u001b[1;33m\u001b[0m\u001b[1;33m\u001b[0m\u001b[0m\n\u001b[0m\u001b[0;32m     13\u001b[0m \u001b[1;33m\u001b[0m\u001b[0m\n\u001b[0;32m     14\u001b[0m \u001b[0me\u001b[0m\u001b[1;33m=\u001b[0m\u001b[0mEmp\u001b[0m\u001b[1;33m(\u001b[0m\u001b[1;36m11\u001b[0m\u001b[1;33m,\u001b[0m\u001b[1;34m\"Jk\"\u001b[0m\u001b[1;33m,\u001b[0m\u001b[1;36m1000\u001b[0m\u001b[1;33m)\u001b[0m\u001b[1;33m\u001b[0m\u001b[1;33m\u001b[0m\u001b[0m\n",
      "\u001b[1;32mC:\\Users\\SHAILA~1\\AppData\\Local\\Temp/ipykernel_2544/227400873.py\u001b[0m in \u001b[0;36mdisplay\u001b[1;34m(self)\u001b[0m\n\u001b[0;32m      5\u001b[0m         \u001b[0mself\u001b[0m\u001b[1;33m.\u001b[0m\u001b[0msalary\u001b[0m\u001b[1;33m=\u001b[0m\u001b[0msalary\u001b[0m\u001b[1;33m\u001b[0m\u001b[1;33m\u001b[0m\u001b[0m\n\u001b[0;32m      6\u001b[0m     \u001b[1;32mdef\u001b[0m \u001b[0mdisplay\u001b[0m\u001b[1;33m(\u001b[0m\u001b[0mself\u001b[0m\u001b[1;33m)\u001b[0m\u001b[1;33m:\u001b[0m\u001b[1;33m\u001b[0m\u001b[1;33m\u001b[0m\u001b[0m\n\u001b[1;32m----> 7\u001b[1;33m         \u001b[0mprint\u001b[0m\u001b[1;33m(\u001b[0m\u001b[0mself\u001b[0m\u001b[1;33m.\u001b[0m\u001b[0mid\u001b[0m\u001b[1;33m,\u001b[0m\u001b[0mself\u001b[0m\u001b[1;33m.\u001b[0m\u001b[0mname\u001b[0m\u001b[1;33m,\u001b[0m\u001b[0mself\u001b[0m\u001b[1;33m,\u001b[0m\u001b[0msalary\u001b[0m\u001b[1;33m)\u001b[0m\u001b[1;33m\u001b[0m\u001b[1;33m\u001b[0m\u001b[0m\n\u001b[0m\u001b[0;32m      8\u001b[0m \u001b[1;32mclass\u001b[0m \u001b[0mMyclass\u001b[0m\u001b[1;33m:\u001b[0m\u001b[1;33m\u001b[0m\u001b[1;33m\u001b[0m\u001b[0m\n\u001b[0;32m      9\u001b[0m     \u001b[1;33m@\u001b[0m\u001b[0mstaticmethod\u001b[0m\u001b[1;33m\u001b[0m\u001b[1;33m\u001b[0m\u001b[0m\n",
      "\u001b[1;31mNameError\u001b[0m: name 'salary' is not defined"
     ]
    }
   ],
   "source": [
    "class Emp:\n",
    "    def __init__(self,id,name,salary):\n",
    "        self.id=id\n",
    "        self.name=name\n",
    "        self.salary=salary\n",
    "    def display(self):\n",
    "        print(self.id,self.name,self,salary)\n",
    "class Myclass:\n",
    "    @staticmethod\n",
    "    def getvalues(e):\n",
    "        e.salary+=1000\n",
    "        e.display()\n",
    "        \n",
    "e=Emp(11,\"Jk\",1000)\n",
    "Myclass.getvalues(e)"
   ]
  },
  {
   "cell_type": "markdown",
   "id": "279ad443",
   "metadata": {},
   "source": [
    "# inner class and outter class"
   ]
  },
  {
   "cell_type": "code",
   "execution_count": 12,
   "id": "a01659ee",
   "metadata": {},
   "outputs": [
    {
     "name": "stdout",
     "output_type": "stream",
     "text": [
      "11 shailaja\n",
      "my dob is : 22/12/2000 \n"
     ]
    }
   ],
   "source": [
    "#inner class \n",
    "\n",
    "class Outterclass:\n",
    "    def __init__(self,Id,name):\n",
    "        self.Id=Id\n",
    "        self.name=name\n",
    "        self.ic=self.Innerclass()\n",
    "    def display(self):\n",
    "        print(self.Id,self.name)\n",
    "        \n",
    "    class Innerclass:\n",
    "        def __init__(self):\n",
    "            self.dd=22\n",
    "            self.mm=12\n",
    "            self.yyyy=2000\n",
    "        def display(self):\n",
    "            print(\"my dob is : {}/{}/{} \".format(self.dd,self.mm,self.yyyy))\n",
    "            \n",
    "o=Outterclass(11,\"shailaja\")\n",
    "o.display()\n",
    "\n",
    "i=o.ic\n",
    "i.display()"
   ]
  },
  {
   "cell_type": "code",
   "execution_count": 21,
   "id": "cf06bd16",
   "metadata": {},
   "outputs": [
    {
     "name": "stdout",
     "output_type": "stream",
     "text": [
      "this is outter class\n",
      "this is inner class\n",
      "this is inner class\n"
     ]
    }
   ],
   "source": [
    "#inner class\n",
    "\n",
    "class A:\n",
    "    def display(self):\n",
    "        print(\"this is outter class\")\n",
    "    \n",
    "    class B:\n",
    "        def display(self):\n",
    "            print(\"this is inner class\")\n",
    "            \n",
    "a=A()\n",
    "a.display()\n",
    "#A().B().display()\n",
    "\n",
    "b=A().B() #creating the B class obeject as a sub object to the A class\n",
    "b.display()\n",
    "A().B().display()\n",
    "        "
   ]
  },
  {
   "cell_type": "markdown",
   "id": "9c969172",
   "metadata": {},
   "source": [
    "# inheritance"
   ]
  },
  {
   "cell_type": "code",
   "execution_count": null,
   "id": "03beb7a5",
   "metadata": {},
   "outputs": [],
   "source": []
  },
  {
   "cell_type": "code",
   "execution_count": 26,
   "id": "d7982de8",
   "metadata": {},
   "outputs": [
    {
     "name": "stdout",
     "output_type": "stream",
     "text": [
      "Mr X\n",
      "Mr Y\n"
     ]
    }
   ],
   "source": [
    "class Person:\n",
    "  def __init__(self, fname, lname):\n",
    "    self.firstname = fname\n",
    "    self.lastname = lname\n",
    "\n",
    "  def printname(self):\n",
    "    print(self.firstname, self.lastname)\n",
    "\n",
    "#Use the Person class to create an object, and then execute the printname method:\n",
    "\n",
    "# x = Person(\"Mr\", \"X\")\n",
    "# x.printname()\n",
    "\n",
    "class Student(Person):\n",
    "  pass\n",
    "y = Student(\"Mr\", \"Y\")\n",
    "y.printname()\n"
   ]
  },
  {
   "cell_type": "code",
   "execution_count": 9,
   "id": "acae9085",
   "metadata": {},
   "outputs": [
    {
     "name": "stdout",
     "output_type": "stream",
     "text": [
      " I am g method\n",
      "23\n"
     ]
    }
   ],
   "source": [
    "class A:\n",
    "    def __init__(self,x):\n",
    "        self.x=x\n",
    "        \n",
    "    def f(self):\n",
    "        print(self.x) \n",
    "        \n",
    "    def g():\n",
    "        print(\"I am g method\")\n",
    "    g()\n",
    "        \n",
    "        \n",
    "a=A(23)\n",
    "a.f()\n"
   ]
  },
  {
   "cell_type": "code",
   "execution_count": 7,
   "id": "2cd9666b",
   "metadata": {},
   "outputs": [
    {
     "name": "stdout",
     "output_type": "stream",
     "text": [
      "hi\n"
     ]
    },
    {
     "data": {
      "text/plain": [
       "<__main__.A at 0x3410cfad00>"
      ]
     },
     "execution_count": 7,
     "metadata": {},
     "output_type": "execute_result"
    }
   ],
   "source": [
    "class A:\n",
    "    def __init__(self):\n",
    "        print(\"hi\")\n",
    "A()"
   ]
  },
  {
   "cell_type": "code",
   "execution_count": 28,
   "id": "400bcc0e",
   "metadata": {},
   "outputs": [
    {
     "ename": "AttributeError",
     "evalue": "'B' object has no attribute 'Name'",
     "output_type": "error",
     "traceback": [
      "\u001b[1;31m---------------------------------------------------------------------------\u001b[0m",
      "\u001b[1;31mAttributeError\u001b[0m                            Traceback (most recent call last)",
      "\u001b[1;32mC:\\Users\\SHAILA~1\\AppData\\Local\\Temp/ipykernel_2544/4280999754.py\u001b[0m in \u001b[0;36m<module>\u001b[1;34m\u001b[0m\n\u001b[0;32m     14\u001b[0m \u001b[1;33m\u001b[0m\u001b[0m\n\u001b[0;32m     15\u001b[0m \u001b[1;33m\u001b[0m\u001b[0m\n\u001b[1;32m---> 16\u001b[1;33m \u001b[0mB\u001b[0m\u001b[1;33m(\u001b[0m\u001b[1;33m)\u001b[0m\u001b[1;33m.\u001b[0m\u001b[0mgetDetails\u001b[0m\u001b[1;33m(\u001b[0m\u001b[1;33m)\u001b[0m\u001b[1;33m\u001b[0m\u001b[1;33m\u001b[0m\u001b[0m\n\u001b[0m",
      "\u001b[1;32mC:\\Users\\SHAILA~1\\AppData\\Local\\Temp/ipykernel_2544/4280999754.py\u001b[0m in \u001b[0;36mgetDetails\u001b[1;34m(self)\u001b[0m\n\u001b[0;32m      5\u001b[0m         \u001b[0mself\u001b[0m\u001b[1;33m.\u001b[0m\u001b[0mMarks\u001b[0m\u001b[1;33m=\u001b[0m\u001b[1;36m11\u001b[0m\u001b[1;33m\u001b[0m\u001b[1;33m\u001b[0m\u001b[0m\n\u001b[0;32m      6\u001b[0m     \u001b[1;32mdef\u001b[0m \u001b[0mgetDetails\u001b[0m\u001b[1;33m(\u001b[0m\u001b[0mself\u001b[0m\u001b[1;33m)\u001b[0m\u001b[1;33m:\u001b[0m\u001b[1;33m\u001b[0m\u001b[1;33m\u001b[0m\u001b[0m\n\u001b[1;32m----> 7\u001b[1;33m         \u001b[0mprint\u001b[0m\u001b[1;33m(\u001b[0m\u001b[1;34m\"hi {} , your Id is {}, and you got {} in this exam\"\u001b[0m\u001b[1;33m.\u001b[0m\u001b[0mformat\u001b[0m\u001b[1;33m(\u001b[0m\u001b[0mself\u001b[0m\u001b[1;33m.\u001b[0m\u001b[0mName\u001b[0m\u001b[1;33m,\u001b[0m\u001b[0mself\u001b[0m\u001b[1;33m.\u001b[0m\u001b[0mId\u001b[0m\u001b[1;33m,\u001b[0m\u001b[0mself\u001b[0m\u001b[1;33m.\u001b[0m\u001b[0mMarks\u001b[0m\u001b[1;33m)\u001b[0m\u001b[1;33m)\u001b[0m\u001b[1;33m\u001b[0m\u001b[1;33m\u001b[0m\u001b[0m\n\u001b[0m\u001b[0;32m      8\u001b[0m \u001b[1;33m\u001b[0m\u001b[0m\n\u001b[0;32m      9\u001b[0m \u001b[1;32mclass\u001b[0m \u001b[0mB\u001b[0m\u001b[1;33m(\u001b[0m\u001b[0mA\u001b[0m\u001b[1;33m)\u001b[0m\u001b[1;33m:\u001b[0m\u001b[1;33m\u001b[0m\u001b[1;33m\u001b[0m\u001b[0m\n",
      "\u001b[1;31mAttributeError\u001b[0m: 'B' object has no attribute 'Name'"
     ]
    }
   ],
   "source": [
    "class A:\n",
    "    def __init__(self):\n",
    "        self.Id=11\n",
    "        self.name='SHAILAJA'\n",
    "        self.Marks=11\n",
    "    def getDetails(self):\n",
    "        print(\"hi {} , your Id is {}, and you got {} in this exam\".format(self.Name,self.Id,self.Marks))\n",
    "        \n",
    "class B(A):\n",
    "#     def __init__(self):\n",
    "#         super().__init__()\n",
    "#         self.age=21\n",
    "    pass\n",
    "        \n",
    "\n",
    "B().getDetails()\n",
    "\n",
    "\"\"\"\n",
    "getting error...., WHY?????????????????\n",
    "\n",
    "\"\"\""
   ]
  },
  {
   "cell_type": "code",
   "execution_count": 11,
   "id": "aa7a93e9",
   "metadata": {},
   "outputs": [
    {
     "name": "stdout",
     "output_type": "stream",
     "text": [
      "CASE(1)\n",
      "hi\n",
      "*************************************\n",
      "CASE(2)\n",
      "hello\n",
      "*************************************\n",
      "CASE(3)\n",
      "hi\n",
      "hello\n"
     ]
    },
    {
     "data": {
      "text/plain": [
       "<__main__.B at 0x8a7b44f700>"
      ]
     },
     "execution_count": 11,
     "metadata": {},
     "output_type": "execute_result"
    }
   ],
   "source": [
    "\"\"\"\n",
    "CASE(1): If a sub_class does not have the constructor, then when we create a object to the sub_class,\n",
    "then the super_class constructor automatically invocked.\n",
    "\n",
    "CASE(2): but, if you have constructor in the sub_class , then when we ctreate object to the sub_class,\n",
    "then it invock the sub_class constructor only but not super class.\n",
    "\n",
    "CASE(3): In this case to access the super_class constructor when we have sub_class constructor too, we \n",
    "have to use \"super()\" method.\n",
    "\n",
    "\"\"\"\n",
    "\n",
    "print(\"CASE(1)\")\n",
    "\n",
    "class A:\n",
    "    def __init__(self):\n",
    "        print(\"hi\")\n",
    "    \n",
    "class B(A):\n",
    "    pass\n",
    "B()\n",
    "\n",
    "print(\"*************************************\")\n",
    "\n",
    "print(\"CASE(2)\")\n",
    "class A:\n",
    "    def __init__(self):\n",
    "        print(\"hi\")\n",
    "    \n",
    "class B(A):\n",
    "    def __init__(self):\n",
    "        print(\"hello\")\n",
    "        \n",
    "B()\n",
    "\n",
    "print(\"*************************************\")\n",
    "\n",
    "print(\"CASE(3)\")\n",
    "class A:\n",
    "    def __init__(self):\n",
    "        print(\"hi\")\n",
    "    \n",
    "class B(A):\n",
    "    def __init__(self):\n",
    "        super().__init__()\n",
    "        print(\"hello\")\n",
    "        \n",
    "B()"
   ]
  },
  {
   "cell_type": "code",
   "execution_count": 5,
   "id": "9930e412",
   "metadata": {},
   "outputs": [
    {
     "name": "stdout",
     "output_type": "stream",
     "text": [
      "1 2\n"
     ]
    }
   ],
   "source": [
    "#the super method\n",
    "\n",
    "class A:\n",
    "    def __init__(self,a):\n",
    "        self.a=a\n",
    "class B(A):\n",
    "    def __init__(self,a,b): # \"b\" is sub_class constructor parameter,\"a\" is super_class constructor parameter\n",
    "        super().__init__(a) #calling super class constructor\n",
    "        self.b=b #initializing the sub_class constructor parameter\n",
    "        \n",
    "    def f(self):\n",
    "        print(self.a,self.b)\n",
    "        \n",
    "b=B(1,2)\n",
    "b.f()"
   ]
  },
  {
   "cell_type": "code",
   "execution_count": 3,
   "id": "5847c9ac",
   "metadata": {},
   "outputs": [
    {
     "name": "stdout",
     "output_type": "stream",
     "text": [
      "A class\n",
      "B class\n",
      "C class\n"
     ]
    },
    {
     "data": {
      "text/plain": [
       "<__main__.C at 0x987f27dd30>"
      ]
     },
     "execution_count": 3,
     "metadata": {},
     "output_type": "execute_result"
    }
   ],
   "source": [
    "class A:\n",
    "    def __init__(self):\n",
    "        print(\"A class\")\n",
    "        super().__init__()\n",
    "\n",
    "class B:\n",
    "    def __init__(self):\n",
    "        print(\"B class\")\n",
    "    \n",
    "class C(A,B):\n",
    "    def __init__(self):\n",
    "        super().__init__()\n",
    "        print(\"C class\")\n",
    "        \n",
    "C()"
   ]
  },
  {
   "cell_type": "code",
   "execution_count": 16,
   "id": "33670f6e",
   "metadata": {},
   "outputs": [
    {
     "name": "stdout",
     "output_type": "stream",
     "text": [
      "A class\n",
      "B class\n",
      "C class\n"
     ]
    },
    {
     "data": {
      "text/plain": [
       "<__main__.C at 0xa0779f2160>"
      ]
     },
     "execution_count": 16,
     "metadata": {},
     "output_type": "execute_result"
    }
   ],
   "source": [
    "class A:\n",
    "    def __init__(self):\n",
    "        print(\"A class\")\n",
    "        super().__init__()\n",
    "\n",
    "class B:\n",
    "    def __init__(self):\n",
    "        super().__init__()\n",
    "        print(\"B class\")\n",
    "        \n",
    "    \n",
    "class C(A,B):\n",
    "    def __init__(self):\n",
    "        super().__init__()\n",
    "        print(\"C class\")\n",
    "        \n",
    "C()"
   ]
  },
  {
   "cell_type": "code",
   "execution_count": 3,
   "id": "cd43eb62",
   "metadata": {},
   "outputs": [
    {
     "ename": "IndentationError",
     "evalue": "expected an indented block (Temp/ipykernel_2184/946688991.py, line 4)",
     "output_type": "error",
     "traceback": [
      "\u001b[1;36m  File \u001b[1;32m\"C:\\Users\\SHAILA~1\\AppData\\Local\\Temp/ipykernel_2184/946688991.py\"\u001b[1;36m, line \u001b[1;32m4\u001b[0m\n\u001b[1;33m    def run(self):\u001b[0m\n\u001b[1;37m    ^\u001b[0m\n\u001b[1;31mIndentationError\u001b[0m\u001b[1;31m:\u001b[0m expected an indented block\n"
     ]
    }
   ],
   "source": [
    "class car():\n",
    "    def wheel(self):\n",
    "        self.run()\n",
    "    def run(self):\n",
    "        print(\"done\")\n",
    "        pass\n",
    "    def milege(self):\n",
    "        return str(120/0)\n",
    "c = car()\n",
    "c.wheel()"
   ]
  },
  {
   "cell_type": "code",
   "execution_count": 17,
   "id": "b0a68b72",
   "metadata": {},
   "outputs": [
    {
     "name": "stdout",
     "output_type": "stream",
     "text": [
      "D class \n",
      "A class \n",
      "B class \n",
      "C class \n"
     ]
    },
    {
     "data": {
      "text/plain": [
       "<__main__.D at 0xa077a03a00>"
      ]
     },
     "execution_count": 17,
     "metadata": {},
     "output_type": "execute_result"
    }
   ],
   "source": [
    "class A:\n",
    "    def __init__(self):\n",
    "        print(\"A class \")\n",
    "        super().__init__()\n",
    "        \n",
    "class B:\n",
    "    def __init__(self):\n",
    "        print(\"B class \")\n",
    "        super().__init__()\n",
    "    \n",
    "        \n",
    "class C:\n",
    "    def __init__(self):\n",
    "        print(\"C class \")\n",
    "\n",
    "        \n",
    "class D(A,B,C):\n",
    "    def __init__(self):\n",
    "        print(\"D class \")\n",
    "        super().__init__()\n",
    "        \n",
    "        \n",
    "        \n",
    "D()"
   ]
  },
  {
   "cell_type": "code",
   "execution_count": 21,
   "id": "8f0ab32c",
   "metadata": {},
   "outputs": [
    {
     "name": "stdout",
     "output_type": "stream",
     "text": [
      "B class\n",
      "B class\n"
     ]
    },
    {
     "data": {
      "text/plain": [
       "<__main__.B at 0xa076ef9ca0>"
      ]
     },
     "execution_count": 21,
     "metadata": {},
     "output_type": "execute_result"
    }
   ],
   "source": [
    "class A:\n",
    "    def __init__(self):\n",
    "        print(\"A class\")\n",
    "\n",
    "\n",
    "class B(A):\n",
    "    def __init__(self):\n",
    "        print(\"B class\")\n",
    "        \n",
    "    \n",
    "class C(B):\n",
    "#     def __init__(self):\n",
    "#         print(\"C class\")\n",
    "            pass\n",
    "        \n",
    "C()\n",
    "B()"
   ]
  },
  {
   "cell_type": "code",
   "execution_count": 15,
   "id": "98f45208",
   "metadata": {},
   "outputs": [
    {
     "name": "stdout",
     "output_type": "stream",
     "text": [
      "Benz objec\n",
      "BMW object\n",
      "BMW_7_series object\n",
      "Test objec\n",
      "20\n"
     ]
    }
   ],
   "source": [
    "class Car:   \n",
    "    def __init__(self):    \n",
    "        self.x=10                \n",
    "        print(\"Car object\")       \n",
    "        \n",
    "class BMW(Car):                  \n",
    "    def __init__(self):\n",
    "        self.x=20\n",
    "        print(\"BMW object\")\n",
    "        \n",
    "class BMW_3_series(BMW):      \n",
    "    pass\n",
    "\n",
    "class BMW_7_series(BMW):        \n",
    "    def __init__(self):\n",
    "        self.x=30\n",
    "        super().__init__()      \n",
    "        print(\"BMW_7_series object\")\n",
    "        \n",
    "class Benz(Car):\n",
    "    def __init__(self):\n",
    "        print(\"Benz objec\")\n",
    "        self.x=40\n",
    "        super().__init__()\n",
    "        \n",
    "class Test(Benz,BMW_7_series,BMW_3_series):\n",
    "    def __init__(self):\n",
    "        self.x=50\n",
    "        super().__init__()\n",
    "        print(\"Test objec\")\n",
    "        \n",
    "        \n",
    "t=Test()\n",
    "print(t.x)\n"
   ]
  },
  {
   "cell_type": "markdown",
   "id": "68ce6512",
   "metadata": {},
   "source": [
    "# Polymorphism\n",
    "\n",
    "we have two types of concepts in polymorphism : \n",
    "1) Method overloading ( does not supported by the python).\n",
    "2) Method overriding  ( does not supported by the python) "
   ]
  },
  {
   "cell_type": "markdown",
   "id": "3eb9766e",
   "metadata": {},
   "source": [
    "\"\"\"\n",
    "Method Overriding : -\n",
    "\n",
    "Method overriding is a concept of object oriented programming that allows us to change the implementation of a function in the child class that is defined in the parent class. It is the ability of a child class to change the implementation of any method which is already provided by one of its parent class\n",
    "\n",
    "\"\"\""
   ]
  },
  {
   "cell_type": "code",
   "execution_count": 29,
   "id": "d210887b",
   "metadata": {},
   "outputs": [
    {
     "name": "stdout",
     "output_type": "stream",
     "text": [
      " I am in child class....\n"
     ]
    }
   ],
   "source": [
    "# program to understand Method overriding\n",
    "\n",
    "class Parent:\n",
    "    def display(self): # overrided\n",
    "        print(\" I am in parent class....\")\n",
    "        \n",
    "class Child:\n",
    "    def display(self):  #overriding\n",
    "        print(\" I am in child class....\")\n",
    "        \n",
    "Child().display()"
   ]
  },
  {
   "cell_type": "code",
   "execution_count": null,
   "id": "2495ff46",
   "metadata": {},
   "outputs": [],
   "source": []
  },
  {
   "cell_type": "markdown",
   "id": "8583aac2",
   "metadata": {},
   "source": [
    "# Class"
   ]
  },
  {
   "cell_type": "code",
   "execution_count": null,
   "id": "8e02777a",
   "metadata": {},
   "outputs": [],
   "source": []
  },
  {
   "cell_type": "code",
   "execution_count": 27,
   "id": "d2ddbed0",
   "metadata": {},
   "outputs": [
    {
     "name": "stdout",
     "output_type": "stream",
     "text": [
      "1)  20\n",
      "4)  20\n",
      "2)  30\n",
      "3)  20\n",
      "5)  40\n",
      "6)  41\n"
     ]
    }
   ],
   "source": [
    "class Myclass:             # defining the class\n",
    "    x=20                   # class/static variable\n",
    "    print(\"1) \",x)\n",
    "    def f():               # defining the metho(class/static method)\n",
    "        x=30               # local variable\n",
    "        print(\"2) \",x)\n",
    "        print(\"3) \",Myclass.x)  # accessing the class variable inside the method\n",
    "    print(\"4) \",x)\n",
    "    f()                    # function  calling\n",
    "    \n",
    "    \n",
    "    def g(self):         # instance method\n",
    "        self.x=40        # instance variable\n",
    "        print(\"5) \",self.x)\n",
    "    \n",
    "    \n",
    "Myclass() # creating an object or instance(instatation)\n",
    "m=Myclass()\n",
    "m.g()\n",
    "m.x=41\n",
    "print(\"6) \",m.x)\n",
    "\n",
    "m1=Myclass()\n",
    "m2=Myclass()\n",
    "m3=Myclass()\n",
    "\n"
   ]
  },
  {
   "cell_type": "code",
   "execution_count": 30,
   "id": "ea9dccf8",
   "metadata": {
    "scrolled": true
   },
   "outputs": [
    {
     "name": "stdout",
     "output_type": "stream",
     "text": [
      "hi\n"
     ]
    }
   ],
   "source": [
    "     print(\"hi\")"
   ]
  },
  {
   "cell_type": "code",
   "execution_count": 28,
   "id": "32345b95",
   "metadata": {},
   "outputs": [
    {
     "ename": "NameError",
     "evalue": "name 'x' is not defined",
     "output_type": "error",
     "traceback": [
      "\u001b[1;31m---------------------------------------------------------------------------\u001b[0m",
      "\u001b[1;31mNameError\u001b[0m                                 Traceback (most recent call last)",
      "\u001b[1;32mC:\\Users\\SHAILA~1\\AppData\\Local\\Temp/ipykernel_3108/1353120783.py\u001b[0m in \u001b[0;36m<module>\u001b[1;34m\u001b[0m\n\u001b[1;32m----> 1\u001b[1;33m \u001b[0mprint\u001b[0m\u001b[1;33m(\u001b[0m\u001b[0mx\u001b[0m\u001b[1;33m)\u001b[0m\u001b[1;33m\u001b[0m\u001b[1;33m\u001b[0m\u001b[0m\n\u001b[0m",
      "\u001b[1;31mNameError\u001b[0m: name 'x' is not defined"
     ]
    }
   ],
   "source": []
  },
  {
   "cell_type": "code",
   "execution_count": 20,
   "id": "f9f00d43",
   "metadata": {},
   "outputs": [
    {
     "name": "stdout",
     "output_type": "stream",
     "text": [
      "I had initialized my variables\n",
      "hi Mr.X\n",
      "23\n",
      "Mr.X is  21  years old.\n"
     ]
    }
   ],
   "source": [
    "# constructor\n",
    "\n",
    "class A:\n",
    "\n",
    "    def __init__(self,name,age):   # constructor(used to construct the objects OR to initialize the variables)\n",
    "        self.name=name  \n",
    "        self.age=age\n",
    "        print(\"I had initialized my variables\")\n",
    "        \n",
    "    def f(self,x): \n",
    "        self.x=x\n",
    "        print(self.x)\n",
    "        print(self.name,\"is \",self.age,\" years old.\")\n",
    "        \n",
    "    def g(self):\n",
    "        print(\"hi\",self.name)\n",
    "        \n",
    "        \n",
    "a=A(\"Mr.X\",21)\n",
    "a.g()\n",
    "a.f(23)\n",
    "\n",
    "\n"
   ]
  },
  {
   "cell_type": "code",
   "execution_count": 18,
   "id": "17b69b2c",
   "metadata": {},
   "outputs": [
    {
     "name": "stdout",
     "output_type": "stream",
     "text": [
      "1 2\n"
     ]
    }
   ],
   "source": [
    "class A:\n",
    "    def __init__(self):\n",
    "        self.x=1\n",
    "        self.y=2\n",
    "        \n",
    "    def f(self):\n",
    "        print(self.x,self.y)\n",
    "        \n",
    "    \n",
    "a=A()\n",
    "a.f()"
   ]
  },
  {
   "cell_type": "code",
   "execution_count": 22,
   "id": "0810a3d4",
   "metadata": {},
   "outputs": [
    {
     "ename": "IndentationError",
     "evalue": "unindent does not match any outer indentation level (<tokenize>, line 12)",
     "output_type": "error",
     "traceback": [
      "\u001b[1;36m  File \u001b[1;32m\"<tokenize>\"\u001b[1;36m, line \u001b[1;32m12\u001b[0m\n\u001b[1;33m    def f(self,x):\u001b[0m\n\u001b[1;37m    ^\u001b[0m\n\u001b[1;31mIndentationError\u001b[0m\u001b[1;31m:\u001b[0m unindent does not match any outer indentation level\n"
     ]
    }
   ],
   "source": [
    "\"\"\"\n",
    "Inheritance: acquiring the propertice of the one class to another class\n",
    "\n",
    "\"\"\"\n",
    "\n",
    "class A:\n",
    "     def __init__(self):   # constructor(used to construct the objects OR to initialize the variables)\n",
    "        self.name=\"Mr.X\"  \n",
    "        self.age=21\n",
    "        print(\"I had initialized my variables\")\n",
    "        \n",
    "    \n",
    "class B(A):\n",
    "    print(self.name)\n",
    "    \n",
    "B()\n",
    "    \n",
    "\n",
    "    \n",
    "    "
   ]
  },
  {
   "cell_type": "code",
   "execution_count": 24,
   "id": "ab058b13",
   "metadata": {
    "scrolled": false
   },
   "outputs": [
    {
     "name": "stdout",
     "output_type": "stream",
     "text": [
      "x\n",
      "10\n"
     ]
    }
   ],
   "source": [
    "x=10\n",
    "print(\"x\")\n",
    "print(x)"
   ]
  },
  {
   "cell_type": "code",
   "execution_count": 15,
   "id": "ef3a8e50",
   "metadata": {},
   "outputs": [
    {
     "name": "stdout",
     "output_type": "stream",
     "text": [
      "B class\n",
      "A class\n"
     ]
    },
    {
     "data": {
      "text/plain": [
       "<__main__.B at 0x3b6cd9bee0>"
      ]
     },
     "execution_count": 15,
     "metadata": {},
     "output_type": "execute_result"
    }
   ],
   "source": [
    "class A:    # parent/super/base class\n",
    "    def __init__(self):\n",
    "        print(\"A class\")\n",
    "        \n",
    "class B(A):  # child/sub/derived class\n",
    "    def __init__(self):\n",
    "        print(\"B class\")\n",
    "        super().__init__()\n",
    "\n",
    "B()"
   ]
  },
  {
   "cell_type": "code",
   "execution_count": 1,
   "id": "3ecfee21",
   "metadata": {},
   "outputs": [
    {
     "name": "stdout",
     "output_type": "stream",
     "text": [
      "hi\n"
     ]
    },
    {
     "ename": "TypeError",
     "evalue": "__init__() takes 1 positional argument but 2 were given",
     "output_type": "error",
     "traceback": [
      "\u001b[1;31m---------------------------------------------------------------------------\u001b[0m",
      "\u001b[1;31mTypeError\u001b[0m                                 Traceback (most recent call last)",
      "\u001b[1;32mC:\\Users\\SHAILA~1\\AppData\\Local\\Temp/ipykernel_4156/3792380206.py\u001b[0m in \u001b[0;36m<module>\u001b[1;34m\u001b[0m\n\u001b[0;32m      3\u001b[0m         \u001b[0mprint\u001b[0m\u001b[1;33m(\u001b[0m\u001b[1;34m\"hi\"\u001b[0m\u001b[1;33m)\u001b[0m\u001b[1;33m\u001b[0m\u001b[1;33m\u001b[0m\u001b[0m\n\u001b[0;32m      4\u001b[0m \u001b[1;33m\u001b[0m\u001b[0m\n\u001b[1;32m----> 5\u001b[1;33m \u001b[0mA\u001b[0m\u001b[1;33m(\u001b[0m\u001b[0mA\u001b[0m\u001b[1;33m(\u001b[0m\u001b[0mA\u001b[0m\u001b[1;33m(\u001b[0m\u001b[1;33m)\u001b[0m\u001b[1;33m)\u001b[0m\u001b[1;33m)\u001b[0m\u001b[1;33m\u001b[0m\u001b[1;33m\u001b[0m\u001b[0m\n\u001b[0m",
      "\u001b[1;31mTypeError\u001b[0m: __init__() takes 1 positional argument but 2 were given"
     ]
    }
   ],
   "source": [
    "class A:\n",
    "    def __init__(self):\n",
    "        print(\"hi\")\n",
    "        \n",
    "A(A(A()))"
   ]
  },
  {
   "cell_type": "code",
   "execution_count": 2,
   "id": "dbaba6ee",
   "metadata": {},
   "outputs": [
    {
     "name": "stdout",
     "output_type": "stream",
     "text": [
      "hi\n",
      "hi\n",
      "hi\n"
     ]
    },
    {
     "data": {
      "text/plain": [
       "<__main__.A at 0x972ff4a520>"
      ]
     },
     "execution_count": 2,
     "metadata": {},
     "output_type": "execute_result"
    }
   ],
   "source": [
    "class A:\n",
    "    def __init__(self,a):\n",
    "        print(\"hi\")\n",
    "        \n",
    "A(A(A(1)))"
   ]
  },
  {
   "cell_type": "code",
   "execution_count": 3,
   "id": "85d10748",
   "metadata": {},
   "outputs": [
    {
     "name": "stdout",
     "output_type": "stream",
     "text": [
      "12\n",
      "<__main__.A object at 0x000000972FF4A550>\n",
      "<__main__.A object at 0x000000972FF4A640>\n"
     ]
    },
    {
     "data": {
      "text/plain": [
       "<__main__.A at 0x972ff4a550>"
      ]
     },
     "execution_count": 3,
     "metadata": {},
     "output_type": "execute_result"
    }
   ],
   "source": [
    "class A:\n",
    "    def __init__(self,a):\n",
    "        print(a)\n",
    "A(A(A(12)))"
   ]
  },
  {
   "cell_type": "code",
   "execution_count": 4,
   "id": "9d30ea48",
   "metadata": {},
   "outputs": [
    {
     "name": "stdout",
     "output_type": "stream",
     "text": [
      "12\n",
      "hhi\n",
      "<__main__.A object at 0x000000972FF4A6A0>\n",
      "hhi\n",
      "<__main__.A object at 0x000000972FF4ACA0>\n",
      "hhi\n"
     ]
    },
    {
     "data": {
      "text/plain": [
       "<__main__.A at 0x972ff4a6a0>"
      ]
     },
     "execution_count": 4,
     "metadata": {},
     "output_type": "execute_result"
    }
   ],
   "source": [
    "class A:\n",
    "    def __init__(self,a):\n",
    "        print(a)\n",
    "        print(\"hhi\")\n",
    "A(A(A(12)))"
   ]
  },
  {
   "cell_type": "code",
   "execution_count": 5,
   "id": "f5464752",
   "metadata": {},
   "outputs": [
    {
     "name": "stdout",
     "output_type": "stream",
     "text": [
      "12\n",
      "hi\n",
      "hi\n"
     ]
    },
    {
     "data": {
      "text/plain": [
       "<__main__.A at 0x972ff4a790>"
      ]
     },
     "execution_count": 5,
     "metadata": {},
     "output_type": "execute_result"
    }
   ],
   "source": [
    "class A:\n",
    "    def __init__(self,a):\n",
    "        print(a)\n",
    "        \n",
    "    def __str__(self):\n",
    "        return \"hi\"\n",
    "    \n",
    "A(A(A(12)))"
   ]
  },
  {
   "cell_type": "code",
   "execution_count": 6,
   "id": "139ec637",
   "metadata": {},
   "outputs": [
    {
     "name": "stdout",
     "output_type": "stream",
     "text": [
      "12\n",
      "hi\n",
      "hi\n",
      "hi\n"
     ]
    }
   ],
   "source": [
    "class A:\n",
    "    def __init__(self,a):\n",
    "        print(a)\n",
    "        \n",
    "    def __str__(self):\n",
    "        return \"hi\"\n",
    "    \n",
    "print(A(A(A(12))))"
   ]
  },
  {
   "cell_type": "code",
   "execution_count": 7,
   "id": "5f0a91c7",
   "metadata": {},
   "outputs": [
    {
     "name": "stdout",
     "output_type": "stream",
     "text": [
      "hi\n",
      "hello\n"
     ]
    }
   ],
   "source": [
    "class A:\n",
    "    def __init__(self):\n",
    "        print(\"hi\")\n",
    "        \n",
    "    def __str__(self):\n",
    "        return \"hello\"\n",
    "        \n",
    "print(A())"
   ]
  },
  {
   "cell_type": "code",
   "execution_count": null,
   "id": "b70e3058",
   "metadata": {},
   "outputs": [],
   "source": []
  },
  {
   "cell_type": "code",
   "execution_count": 3,
   "id": "5f99f0e7",
   "metadata": {},
   "outputs": [
    {
     "name": "stdout",
     "output_type": "stream",
     "text": [
      "hello\n"
     ]
    },
    {
     "data": {
      "text/plain": [
       "<__main__.A at 0xbcd5e32eb0>"
      ]
     },
     "execution_count": 3,
     "metadata": {},
     "output_type": "execute_result"
    }
   ],
   "source": [
    "class A:\n",
    "    def __init__(self):\n",
    "        self.f()\n",
    "        \n",
    "    def f(self):\n",
    "        print(\"hello\")\n",
    "\n",
    "        \n",
    "A()"
   ]
  },
  {
   "cell_type": "code",
   "execution_count": 14,
   "id": "ac890f01",
   "metadata": {},
   "outputs": [
    {
     "name": "stdout",
     "output_type": "stream",
     "text": [
      "I am g() method\n",
      "I am h() method\n"
     ]
    }
   ],
   "source": [
    "class A:\n",
    "    def f(self):\n",
    "        self.g()\n",
    "        self.h()\n",
    "        \n",
    "    def g(self):\n",
    "        print(\"I am g() method\")\n",
    "        \n",
    "    def h(self):\n",
    "        print(\"I am h() method\")\n",
    "        \n",
    "class B(A):\n",
    "    A().f()"
   ]
  },
  {
   "cell_type": "code",
   "execution_count": 16,
   "id": "774ca1ec",
   "metadata": {},
   "outputs": [
    {
     "name": "stdout",
     "output_type": "stream",
     "text": [
      "D@a@t@a\n"
     ]
    },
    {
     "data": {
      "text/plain": [
       "<__main__.A at 0xbcd4eb6af0>"
      ]
     },
     "execution_count": 16,
     "metadata": {},
     "output_type": "execute_result"
    }
   ],
   "source": [
    "class A:\n",
    "    def __init__(self):\n",
    "        print(\"@\".join(\"Data\"))\n",
    "        \n",
    "A()"
   ]
  },
  {
   "cell_type": "code",
   "execution_count": 19,
   "id": "2a5a1742",
   "metadata": {},
   "outputs": [
    {
     "ename": "TypeError",
     "evalue": "next expected at least 1 argument, got 0",
     "output_type": "error",
     "traceback": [
      "\u001b[1;31m---------------------------------------------------------------------------\u001b[0m",
      "\u001b[1;31mTypeError\u001b[0m                                 Traceback (most recent call last)",
      "\u001b[1;32mC:\\Users\\SHAILA~1\\AppData\\Local\\Temp/ipykernel_3404/1106413018.py\u001b[0m in \u001b[0;36m<module>\u001b[1;34m\u001b[0m\n\u001b[0;32m      5\u001b[0m \u001b[1;33m\u001b[0m\u001b[0m\n\u001b[0;32m      6\u001b[0m \u001b[1;32mfor\u001b[0m \u001b[0mi\u001b[0m \u001b[1;32min\u001b[0m \u001b[0mgen\u001b[0m\u001b[1;33m(\u001b[0m\u001b[1;33m)\u001b[0m\u001b[1;33m:\u001b[0m\u001b[1;33m\u001b[0m\u001b[1;33m\u001b[0m\u001b[0m\n\u001b[1;32m----> 7\u001b[1;33m     \u001b[0mprint\u001b[0m\u001b[1;33m(\u001b[0m\u001b[0mnext\u001b[0m\u001b[1;33m(\u001b[0m\u001b[1;33m)\u001b[0m\u001b[1;33m)\u001b[0m\u001b[1;33m\u001b[0m\u001b[1;33m\u001b[0m\u001b[0m\n\u001b[0m",
      "\u001b[1;31mTypeError\u001b[0m: next expected at least 1 argument, got 0"
     ]
    }
   ],
   "source": [
    "def gen():\n",
    "    yield 0\n",
    "    yield i\n",
    "    yield 3\n",
    "        \n",
    "for i in gen():\n",
    "    print(next())"
   ]
  },
  {
   "cell_type": "code",
   "execution_count": null,
   "id": "6fd2c008",
   "metadata": {},
   "outputs": [],
   "source": []
  }
 ],
 "metadata": {
  "kernelspec": {
   "display_name": "Python 3 (ipykernel)",
   "language": "python",
   "name": "python3"
  },
  "language_info": {
   "codemirror_mode": {
    "name": "ipython",
    "version": 3
   },
   "file_extension": ".py",
   "mimetype": "text/x-python",
   "name": "python",
   "nbconvert_exporter": "python",
   "pygments_lexer": "ipython3",
   "version": "3.9.7"
  }
 },
 "nbformat": 4,
 "nbformat_minor": 5
}
