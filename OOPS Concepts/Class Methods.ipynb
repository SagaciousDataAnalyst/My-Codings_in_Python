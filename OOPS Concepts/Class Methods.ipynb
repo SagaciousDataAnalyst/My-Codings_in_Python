{
 "cells": [
  {
   "cell_type": "code",
   "execution_count": null,
   "id": "4fbd8978",
   "metadata": {},
   "outputs": [],
   "source": [
    "class A:\n",
    "    x=10\n",
    "    @classmethod\n",
    "    def f(cls):\n",
    "        print(cls.x)\n",
    "A().f()\n",
    "A.f()\n",
    "class A:\n",
    "    x=10\n",
    "    @classmethod\n",
    "    def f(cls,y):\n",
    "        print(y)\n",
    "        print(cls.x)\n",
    "\n",
    "A().f(1) # this argument is taken by \"y\"\n",
    "A.f(1) "
   ]
  }
 ],
 "metadata": {
  "kernelspec": {
   "display_name": "Python 3 (ipykernel)",
   "language": "python",
   "name": "python3"
  },
  "language_info": {
   "codemirror_mode": {
    "name": "ipython",
    "version": 3
   },
   "file_extension": ".py",
   "mimetype": "text/x-python",
   "name": "python",
   "nbconvert_exporter": "python",
   "pygments_lexer": "ipython3",
   "version": "3.9.7"
  }
 },
 "nbformat": 4,
 "nbformat_minor": 5
}
