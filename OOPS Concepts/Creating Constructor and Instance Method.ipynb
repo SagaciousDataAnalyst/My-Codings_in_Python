{
 "cells": [
  {
   "cell_type": "code",
   "execution_count": 1,
   "id": "9d06129b",
   "metadata": {},
   "outputs": [
    {
     "name": "stdout",
     "output_type": "stream",
     "text": [
      "enter the no of students : 1\n",
      "enter the student name : aaa\n",
      "enter the student marks : 100\n",
      "hi  aaa\n",
      "your marks are  100\n",
      "END!!!!!!!!!!!!\n"
     ]
    }
   ],
   "source": [
    "class Students:\n",
    "    #this is constructor\n",
    "    def __init__(self,name,marks):\n",
    "        self.name=name\n",
    "        self.marks=marks\n",
    "        \n",
    "    #this is an instance method \n",
    "    def display(self):\n",
    "        print(\"hi \",self.name)\n",
    "        print(\"your marks are \",self.marks)\n",
    "        \n",
    "        \n",
    "num=int(input(\"enter the no of students : \"))\n",
    "i=0\n",
    "while(i<num):\n",
    "    name=input(\"enter the student name : \")\n",
    "    marks=int(input(\"enter the student marks : \"))\n",
    "\n",
    "    #creating instance of the class \n",
    "    s=Students(name,marks)\n",
    "    s.display()\n",
    "    i+=1\n",
    "    print(\"END!!!!!!!!!!!!\")"
   ]
  },
  {
   "cell_type": "code",
   "execution_count": null,
   "id": "3b6d6dcd",
   "metadata": {},
   "outputs": [],
   "source": []
  }
 ],
 "metadata": {
  "kernelspec": {
   "display_name": "Python 3 (ipykernel)",
   "language": "python",
   "name": "python3"
  },
  "language_info": {
   "codemirror_mode": {
    "name": "ipython",
    "version": 3
   },
   "file_extension": ".py",
   "mimetype": "text/x-python",
   "name": "python",
   "nbconvert_exporter": "python",
   "pygments_lexer": "ipython3",
   "version": "3.9.7"
  }
 },
 "nbformat": 4,
 "nbformat_minor": 5
}
