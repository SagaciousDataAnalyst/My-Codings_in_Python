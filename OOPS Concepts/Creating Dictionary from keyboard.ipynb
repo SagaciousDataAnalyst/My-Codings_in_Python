{
 "cells": [
  {
   "cell_type": "code",
   "execution_count": null,
   "id": "b32a2af3",
   "metadata": {},
   "outputs": [],
   "source": [
    "n=int(input(\"How many no of elements you want to enter : \"))\n",
    "d={}\n",
    "for i in range(n):\n",
    "    k=input(\"Enter key : \")\n",
    "    v=input(\"Enter value : \")\n",
    "    d.update({k:v})\n",
    "print(\"your dictionary is : \",d)"
   ]
  }
 ],
 "metadata": {
  "kernelspec": {
   "display_name": "Python 3 (ipykernel)",
   "language": "python",
   "name": "python3"
  },
  "language_info": {
   "codemirror_mode": {
    "name": "ipython",
    "version": 3
   },
   "file_extension": ".py",
   "mimetype": "text/x-python",
   "name": "python",
   "nbconvert_exporter": "python",
   "pygments_lexer": "ipython3",
   "version": "3.9.7"
  }
 },
 "nbformat": 4,
 "nbformat_minor": 5
}
