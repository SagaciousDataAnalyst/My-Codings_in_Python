{
 "cells": [
  {
   "cell_type": "code",
   "execution_count": 9,
   "id": "cb1d397b",
   "metadata": {},
   "outputs": [
    {
     "name": "stdout",
     "output_type": "stream",
     "text": [
      "Binary Value of 20 is 0b10100 \n",
      "Octal Value of 20 is 0o24 \n",
      "Hexadecimal Value of 20 is 0x14 \n"
     ]
    }
   ],
   "source": [
    "a=20\n",
    "print(\"Binary Value of {} is {} \".format(a,bin(a)))\n",
    "print(\"Octal Value of {} is {} \".format(a,oct(a)))\n",
    "print(\"Hexadecimal Value of {} is {} \".format(a,hex(a)))"
   ]
  },
  {
   "cell_type": "code",
   "execution_count": null,
   "id": "1b67189d",
   "metadata": {},
   "outputs": [],
   "source": []
  }
 ],
 "metadata": {
  "kernelspec": {
   "display_name": "Python 3 (ipykernel)",
   "language": "python",
   "name": "python3"
  },
  "language_info": {
   "codemirror_mode": {
    "name": "ipython",
    "version": 3
   },
   "file_extension": ".py",
   "mimetype": "text/x-python",
   "name": "python",
   "nbconvert_exporter": "python",
   "pygments_lexer": "ipython3",
   "version": "3.9.7"
  }
 },
 "nbformat": 4,
 "nbformat_minor": 5
}
