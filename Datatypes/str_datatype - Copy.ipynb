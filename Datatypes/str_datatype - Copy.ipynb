{
 "cells": [
  {
   "cell_type": "code",
   "execution_count": 18,
   "id": "f9765ada",
   "metadata": {},
   "outputs": [
    {
     "name": "stdout",
     "output_type": "stream",
     "text": [
      "Python is a dynamic programming language\n",
      "Python is a \"dynamic programming\" language\n",
      "P\n",
      "Python is a dynamic programming language\n",
      "Ph  dacrrmgaue\n",
      "P\n",
      "Python is a dynamic programming lan\n",
      "egaugnal gnimmargorp cimanyd a si nohtyP\n",
      "eaga nmagr iay  inhy\n",
      "Pto sadnmcpormiglnug\n"
     ]
    }
   ],
   "source": [
    "str1=\"Python is a dynamic programming language\"  #str1 is the string datatype variable name\n",
    "print(str1)\n",
    "\n",
    "str2=\"\"\"Python is a \"dynamic programming\" language\"\"\"  #str2 is the string datatype variable name\n",
    "print(str2)\n",
    "\n",
    "# slicing\n",
    "\n",
    "print(str1[0])\n",
    "\n",
    "print(str1[0:])\n",
    "\n",
    "print(str1[0:1000:3])\n",
    "\n",
    "print(str1[0:10:100])\n",
    "\n",
    "print(str1[0:-5])\n",
    "\n",
    "print(str1[::-1])\n",
    "\n",
    "print(str1[::-2])\n",
    "\n",
    "print(str1[::2])"
   ]
  },
  {
   "cell_type": "code",
   "execution_count": null,
   "id": "62f4c15b",
   "metadata": {},
   "outputs": [],
   "source": []
  }
 ],
 "metadata": {
  "kernelspec": {
   "display_name": "Python 3 (ipykernel)",
   "language": "python",
   "name": "python3"
  },
  "language_info": {
   "codemirror_mode": {
    "name": "ipython",
    "version": 3
   },
   "file_extension": ".py",
   "mimetype": "text/x-python",
   "name": "python",
   "nbconvert_exporter": "python",
   "pygments_lexer": "ipython3",
   "version": "3.9.7"
  }
 },
 "nbformat": 4,
 "nbformat_minor": 5
}
