{
 "cells": [
  {
   "cell_type": "code",
   "execution_count": 4,
   "id": "aee1e35e",
   "metadata": {},
   "outputs": [
    {
     "name": "stdout",
     "output_type": "stream",
     "text": [
      "1929\n",
      "1729.653\n",
      "Complex Sum :  (20-76j)\n",
      "Sum of 1929 and 1729.653 is 3658.6530000000002\n",
      "Sum of 1929 , 1729.653 and (10+2j) is (3668.6530000000002+2j)\n"
     ]
    }
   ],
   "source": [
    "# int\n",
    "n=1929\n",
    "print(n)\n",
    "\n",
    "# float\n",
    "f=1729.653\n",
    "print(f)\n",
    "\n",
    "# complex\n",
    "c1=10+2j\n",
    "c2=20-76j\n",
    "\n",
    "c3=c1+c2\n",
    "\n",
    "print(\"Complex Sum : \",c2)\n",
    "\n",
    "sum1=n+f\n",
    "\n",
    "print(\"Sum of {} and {} is {}\".format(n,f,sum1))\n",
    "\n",
    "sum2=n+f+c1\n",
    "\n",
    "print(\"Sum of {} , {} and {} is {}\".format(n,f,c1,sum2))\n"
   ]
  },
  {
   "cell_type": "code",
   "execution_count": null,
   "id": "8bf598f6",
   "metadata": {},
   "outputs": [],
   "source": []
  }
 ],
 "metadata": {
  "kernelspec": {
   "display_name": "Python 3 (ipykernel)",
   "language": "python",
   "name": "python3"
  },
  "language_info": {
   "codemirror_mode": {
    "name": "ipython",
    "version": 3
   },
   "file_extension": ".py",
   "mimetype": "text/x-python",
   "name": "python",
   "nbconvert_exporter": "python",
   "pygments_lexer": "ipython3",
   "version": "3.9.7"
  }
 },
 "nbformat": 4,
 "nbformat_minor": 5
}
