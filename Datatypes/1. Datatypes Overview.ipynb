{
 "cells": [
  {
   "cell_type": "markdown",
   "id": "1d4cfa71",
   "metadata": {},
   "source": [
    "# Datatype :-\n",
    "> A Datatype represent the type of the data stored in the variable. The stored in the variable is called literal."
   ]
  },
  {
   "cell_type": "markdown",
   "id": "f65baa78",
   "metadata": {},
   "source": [
    "> ### type() : \n",
    "This method is used to find the type of the data that we stored in the variable"
   ]
  },
  {
   "cell_type": "markdown",
   "id": "30e7343b",
   "metadata": {},
   "source": [
    "# Pre-defind datatypes"
   ]
  },
  {
   "cell_type": "markdown",
   "id": "7b4a8859",
   "metadata": {},
   "source": [
    ">1) Numeric Datatype\n"
   ]
  },
  {
   "cell_type": "markdown",
   "id": "f89cf9ea",
   "metadata": {},
   "source": [
    ">2) Sequentialn Datatype"
   ]
  },
  {
   "cell_type": "markdown",
   "id": "d6f3892f",
   "metadata": {},
   "source": [
    "> 3) set Datatype"
   ]
  },
  {
   "cell_type": "markdown",
   "id": "1638dd8e",
   "metadata": {},
   "source": [
    "## 1) Numeric datatypes"
   ]
  },
  {
   "cell_type": "markdown",
   "id": "a28fa391",
   "metadata": {},
   "source": [
    "1) int ( 1,2,3,4,...65234286524...etc)\n",
    "\n",
    "2) float ( 12.34, 6537.88762556336\n",
    "\n",
    "3) complex ( a+bj, ex: 10+5j )"
   ]
  },
  {
   "cell_type": "markdown",
   "id": "db6372f6",
   "metadata": {},
   "source": [
    "### int (Integers) : \n",
    "    This value is represented by int class. It contains positive or negative whole numbers (without fraction or decimal). In Python there is no limit to how long an integer value can be.\n"
   ]
  },
  {
   "cell_type": "code",
   "execution_count": 6,
   "id": "62d56219",
   "metadata": {},
   "outputs": [
    {
     "name": "stdout",
     "output_type": "stream",
     "text": [
      "1087257239772653738736592\n"
     ]
    }
   ],
   "source": [
    "x=1087257239772653738736572\n",
    "y=20\n",
    "sum=x+y\n",
    "print(sum)"
   ]
  },
  {
   "cell_type": "code",
   "execution_count": 4,
   "id": "fd8fd8f5",
   "metadata": {},
   "outputs": [
    {
     "name": "stdout",
     "output_type": "stream",
     "text": [
      "11\n",
      "a+b\n"
     ]
    }
   ],
   "source": [
    "a=3\n",
    "b=8\n",
    "\n",
    "print(a+b)\n",
    "print(\"a+b\")"
   ]
  },
  {
   "cell_type": "markdown",
   "id": "8fbd2cd0",
   "metadata": {},
   "source": [
    "### float :\n",
    "    This value is represented by float class. It is a real number with floating point representation. It is specified by a decimal point. Optionally, the character e or E followed by a positive or negative integer may be appended to specify scientific notation.\n"
   ]
  },
  {
   "cell_type": "code",
   "execution_count": 5,
   "id": "6b1fa3c5",
   "metadata": {},
   "outputs": [
    {
     "name": "stdout",
     "output_type": "stream",
     "text": [
      "20.122999999999998\n"
     ]
    }
   ],
   "source": [
    "f1=10.123\n",
    "f2=10.0\n",
    "sum=f1+f2\n",
    "print(sum)"
   ]
  },
  {
   "cell_type": "code",
   "execution_count": 6,
   "id": "b3682fe4",
   "metadata": {},
   "outputs": [
    {
     "name": "stdout",
     "output_type": "stream",
     "text": [
      "88.982\n"
     ]
    }
   ],
   "source": [
    "a=12\n",
    "f=76.982\n",
    "print(a+f)"
   ]
  },
  {
   "cell_type": "markdown",
   "id": "ab5e5213",
   "metadata": {},
   "source": [
    "### complex (Complex Numbers) : \n",
    "    Complex number is represented by complex class. It is specified as (real part) + (imaginary part)j. For example – 2+3j\n",
    "    1. complex_num=a+bj\n",
    "    2. a=real part\n",
    "    3. b=imaginary part"
   ]
  },
  {
   "cell_type": "code",
   "execution_count": 7,
   "id": "51e02532",
   "metadata": {},
   "outputs": [
    {
     "name": "stdout",
     "output_type": "stream",
     "text": [
      "(5.5+1j)\n",
      "(32.5+2.5j)\n",
      "(20-10j)\n"
     ]
    }
   ],
   "source": [
    "a= 30  # int\n",
    "f=17.0  # float\n",
    "c1=2.5+2.5J  # complex\n",
    "c2=3.0-1.5J  # complex\n",
    "c3=3-10j  # complex \n",
    "c=c1+c2\n",
    "print(c)\n",
    "print(a+c1)\n",
    "print(f+c3)  # 17.00+7j\n",
    "\n",
    "#Real part=2.5+3.0=5.5\n",
    "#imaginary=2.5-1.5=1"
   ]
  },
  {
   "cell_type": "code",
   "execution_count": 8,
   "id": "3eece04d",
   "metadata": {},
   "outputs": [
    {
     "name": "stdout",
     "output_type": "stream",
     "text": [
      "(4.188679245283018-1.6603773584905661j)\n"
     ]
    }
   ],
   "source": [
    "a=46+6j\n",
    "b=9+5j\n",
    "print(a/b)"
   ]
  },
  {
   "cell_type": "code",
   "execution_count": 14,
   "id": "3f56ae03",
   "metadata": {},
   "outputs": [
    {
     "name": "stdout",
     "output_type": "stream",
     "text": [
      "<class 'float'>\n",
      "10.95\n",
      "<class 'int'>\n",
      "10\n",
      "<class 'complex'>\n",
      "(10+0j)\n"
     ]
    }
   ],
   "source": [
    "a=10.95\n",
    "print(type(a))\n",
    "print(a)\n",
    "\n",
    "a=int(a)\n",
    "print(type(a))\n",
    "print(a)\n",
    "\n",
    "\n",
    "a=complex(a)\n",
    "print(type(a))\n",
    "print(a)"
   ]
  },
  {
   "cell_type": "code",
   "execution_count": 1,
   "id": "a03146e4",
   "metadata": {},
   "outputs": [
    {
     "name": "stdout",
     "output_type": "stream",
     "text": [
      "<class 'complex'>\n",
      "(9+10j)\n"
     ]
    },
    {
     "ename": "TypeError",
     "evalue": "can't convert complex to int",
     "output_type": "error",
     "traceback": [
      "\u001b[1;31m---------------------------------------------------------------------------\u001b[0m",
      "\u001b[1;31mTypeError\u001b[0m                                 Traceback (most recent call last)",
      "Input \u001b[1;32mIn [1]\u001b[0m, in \u001b[0;36m<cell line: 5>\u001b[1;34m()\u001b[0m\n\u001b[0;32m      2\u001b[0m \u001b[38;5;28mprint\u001b[39m(\u001b[38;5;28mtype\u001b[39m(a))\n\u001b[0;32m      3\u001b[0m \u001b[38;5;28mprint\u001b[39m(a)\n\u001b[1;32m----> 5\u001b[0m a\u001b[38;5;241m=\u001b[39m\u001b[38;5;28;43mint\u001b[39;49m\u001b[43m(\u001b[49m\u001b[43ma\u001b[49m\u001b[43m)\u001b[49m\n\u001b[0;32m      6\u001b[0m \u001b[38;5;28mprint\u001b[39m(\u001b[38;5;28mtype\u001b[39m(a))\n\u001b[0;32m      7\u001b[0m \u001b[38;5;28mprint\u001b[39m(a)\n",
      "\u001b[1;31mTypeError\u001b[0m: can't convert complex to int"
     ]
    }
   ],
   "source": [
    "a=9+10j\n",
    "print(type(a))\n",
    "print(a)\n",
    "\n",
    "a=int(a)   # it raise an ERROR. Because we c                                                                               \n",
    "print(type(a))\n",
    "print(a)"
   ]
  },
  {
   "cell_type": "code",
   "execution_count": null,
   "id": "f7687db6",
   "metadata": {},
   "outputs": [],
   "source": []
  },
  {
   "cell_type": "code",
   "execution_count": null,
   "id": "fa57f374",
   "metadata": {},
   "outputs": [],
   "source": [
    "\"\"\"\n",
    "\n",
    "\n",
    "\"\"\"\n",
    "name=\"python\"   # single line\n",
    "name1='python'\n",
    "name2=\"\"\"python\"\"\"\n",
    "name3='''python'''"
   ]
  },
  {
   "cell_type": "code",
   "execution_count": null,
   "id": "b726aed5",
   "metadata": {},
   "outputs": [],
   "source": []
  },
  {
   "cell_type": "markdown",
   "id": "45c4a461",
   "metadata": {},
   "source": [
    "# 2) Sequential Datatypes\n",
    "\n",
    "1) String(str) datatype\n",
    "\n",
    "2) list datatype\n",
    "\n",
    "3) tuple datatype\n",
    "\n",
    "4) dictionaray datatype"
   ]
  },
  {
   "cell_type": "markdown",
   "id": "b1898ccc",
   "metadata": {},
   "source": [
    "### 1. str (String) : \n",
    "    String is a group of characters enclosed in between single/dubble/triple quotes. ex: \"Python\" OR 'Python' OR \"\"\"Python\"\"\" OR '''Python'''"
   ]
  },
  {
   "cell_type": "code",
   "execution_count": 3,
   "id": "aac3593d",
   "metadata": {},
   "outputs": [
    {
     "name": "stdout",
     "output_type": "stream",
     "text": [
      "Python programming\n",
      "<class 'str'>\n"
     ]
    }
   ],
   "source": [
    "My_String=\"Python programming\"\n",
    "print(My_String)\n",
    "print(type(My_String))"
   ]
  },
  {
   "cell_type": "code",
   "execution_count": 21,
   "id": "e7f945fd",
   "metadata": {},
   "outputs": [
    {
     "name": "stdout",
     "output_type": "stream",
     "text": [
      "python\n",
      "name\n"
     ]
    }
   ],
   "source": [
    "name='python'\n",
    "print(name)    # There we are printing the value of the variable \"name\"\n",
    "print(\"name\")  # There we are printing the string \"name\"\n"
   ]
  },
  {
   "cell_type": "code",
   "execution_count": 23,
   "id": "6b89c66b",
   "metadata": {},
   "outputs": [
    {
     "name": "stdout",
     "output_type": "stream",
     "text": [
      "Hello World\n",
      "PythonPythonPythonPythonPythonPython\n"
     ]
    }
   ],
   "source": [
    "print(\"Hello \"+\"World\")    # concating the strings\n",
    "print(\"Python\"*6)"
   ]
  },
  {
   "cell_type": "markdown",
   "id": "f9f352da",
   "metadata": {},
   "source": [
    "####  Accessing the elements or a part of the string from the string :\n",
    "    We can access the elements of the string by using the index. and we can you the slicing operation to access the sub string."
   ]
  },
  {
   "cell_type": "code",
   "execution_count": 22,
   "id": "bacad487",
   "metadata": {},
   "outputs": [
    {
     "name": "stdout",
     "output_type": "stream",
     "text": [
      "ABCDEFGHIJKLMNOPQRSTUVWXYZ\n",
      "26\n",
      "J\n",
      "DFHJ\n",
      "ACEGIKMOQSUWY\n",
      "ABCDEFGHIJKLMNOPQRSTUVWXYZ\n",
      "ZYXWVUTSRQPONMLKJIHGFEDCBA\n",
      "KIGE\n",
      "\n"
     ]
    }
   ],
   "source": [
    "# Slicing operation on string\n",
    "\n",
    "s=\"ABCDEFGHIJKLMNOPQRSTUVWXYZ\"\n",
    "print(s)\n",
    "print(len(s))\n",
    "print(s[9])\n",
    "print(s[3:10:2])  # s[start_value : stop_value : step_value]\n",
    "print(s[::2])\n",
    "print(s[:100000])\n",
    "#print(s[2:8:0])\n",
    "print(s[::-1])\n",
    "print(s[10:2:-2])\n",
    "print(s[1:12:-2])"
   ]
  },
  {
   "cell_type": "code",
   "execution_count": 19,
   "id": "3031d986",
   "metadata": {},
   "outputs": [
    {
     "name": "stdout",
     "output_type": "stream",
     "text": [
      "ABCDEFGHIJKLMNOPQRSTUVWXYZ\n",
      "ABCDEFGHIJKLMNOPQRSTUVWXYZ\n",
      "ABCDEFGHIJ\n",
      "\n",
      "CFILO\n",
      "\n",
      "\n"
     ]
    }
   ],
   "source": [
    "s=\"ABCDEFGHIJKLMNOPQRSTUVWXYZ\"\n",
    "print(s)\n",
    "# print(s[0::1])\n",
    "# print(s[0:10:])\n",
    "# print(s[2:10:-2])\n",
    "# print(s[2:16:3])\n",
    "# print(s[-3:18:1])\n",
    "# print(s[-25:0:])\n",
    "#print(s[2:16:0])"
   ]
  },
  {
   "cell_type": "code",
   "execution_count": 23,
   "id": "8896d740",
   "metadata": {
    "scrolled": true
   },
   "outputs": [
    {
     "name": "stdout",
     "output_type": "stream",
     "text": [
      "\n",
      "Python programming\n",
      "18\n",
      "yth\n",
      "yhnporm\n",
      "oom\n",
      "hon\n",
      "n programming\n",
      "n\n",
      "i\n"
     ]
    }
   ],
   "source": [
    "s=\"Python programming\"\n",
    "print(s[-4:-1:-1]) #mg\n",
    "print(s)\n",
    "print(len(s))\n",
    "print(s[1:4])\n",
    "print(s[1:14:2])\n",
    "print(s[4:16:5])  \n",
    "print(s[3:6:1]) \n",
    "print(s[5:])\n",
    "print(s[5])\n",
    "print(s[-3])"
   ]
  },
  {
   "cell_type": "code",
   "execution_count": 26,
   "id": "6684b820",
   "metadata": {},
   "outputs": [
    {
     "name": "stdout",
     "output_type": "stream",
     "text": [
      "ABCDEFGHIJKLMNOPQRSTUVWXYZ.\n",
      "ABCDEFGHIJKLMNOPQRSTUVWXYZ.\n",
      "ACEGIKMOQSUWY.\n",
      ".ZYXWVUTSRQPONMLKJIHGFEDCBA\n",
      "AEI\n",
      "BCDEFGHIJKL\n",
      "BCDEFGHIJKL\n",
      "BEHK\n",
      ".XUROLIFC\n",
      ".XUROLI\n"
     ]
    }
   ],
   "source": [
    "s=\"ABCDEFGHIJKLMNOPQRSTUVWXYZ.\"\n",
    "print(s)\n",
    "print(s[::])\n",
    "print(s[::2])\n",
    "print(s[::-1])\n",
    "print(s[:10:4])\n",
    "print(s[1:12])\n",
    "print(s[1:12:1])\n",
    "print(s[1:12:3])\n",
    "print(s[::-3])\n",
    "print(s[:-20:-3])\n",
    "\n"
   ]
  },
  {
   "cell_type": "markdown",
   "id": "f006e7fe",
   "metadata": {},
   "source": [
    "## 2. list Datatype( Mutable )"
   ]
  },
  {
   "cell_type": "markdown",
   "id": "6f7af75a",
   "metadata": {},
   "source": [
    "### Definition:-\n",
    "\n",
    "A list is a ordered collection of elements of different datatypes,enclosed within the square brachets and separeted by the cammas\n",
    "\n",
    "1. we can access the elements from the list by using the index number"
   ]
  },
  {
   "cell_type": "code",
   "execution_count": 8,
   "id": "3134f9cd",
   "metadata": {},
   "outputs": [
    {
     "name": "stdout",
     "output_type": "stream",
     "text": [
      "['Mathematics', 1729, 9, 10, 17.34]\n",
      "<class 'list'>\n"
     ]
    }
   ],
   "source": [
    "# Defining the list \n",
    "My_list = [\"Mathematics\",1729,9,10,17.34]\n",
    "\n",
    "# Displaying the list\n",
    "print(My_list)\n",
    "\n",
    "# Displaying the datatype of My_list\n",
    "print(type(My_list))\n"
   ]
  },
  {
   "cell_type": "markdown",
   "id": "883671e8",
   "metadata": {},
   "source": [
    "> ### We can us ethe for loop to display the list elements "
   ]
  },
  {
   "cell_type": "code",
   "execution_count": 9,
   "id": "1a99a036",
   "metadata": {},
   "outputs": [
    {
     "name": "stdout",
     "output_type": "stream",
     "text": [
      "Mathematics\n",
      "1729\n",
      "9\n",
      "10\n",
      "17.34\n"
     ]
    }
   ],
   "source": [
    "My_list = [\"Mathematics\",1729,9,10,17.34]\n",
    "\n",
    "# Displaying the elements using the for loop\n",
    "for i in My_list:\n",
    "    print(i)"
   ]
  },
  {
   "cell_type": "markdown",
   "id": "9423bcd6",
   "metadata": {},
   "source": [
    "> ### We can access the list elements with indexing "
   ]
  },
  {
   "cell_type": "code",
   "execution_count": 12,
   "id": "bdcb7eb6",
   "metadata": {
    "scrolled": true
   },
   "outputs": [
    {
     "name": "stdout",
     "output_type": "stream",
     "text": [
      "Mathematics\n",
      "1729\n",
      "9\n",
      "10\n",
      "17.34\n"
     ]
    }
   ],
   "source": [
    "My_list = [\"Mathematics\",1729,9,10,17.34]\n",
    "\n",
    "# Accessing the elements with index number\n",
    "print(My_list[0])\n",
    "print(My_list[1])\n",
    "print(My_list[2])\n",
    "print(My_list[3])\n",
    "print(My_list[4])\n"
   ]
  },
  {
   "cell_type": "markdown",
   "id": "33eb845d",
   "metadata": {},
   "source": [
    "> ### If we try to access the elements from the out of the list length, then it will raise an ERROR"
   ]
  },
  {
   "cell_type": "code",
   "execution_count": 13,
   "id": "e3399d76",
   "metadata": {
    "scrolled": true
   },
   "outputs": [
    {
     "ename": "IndexError",
     "evalue": "list index out of range",
     "output_type": "error",
     "traceback": [
      "\u001b[1;31m---------------------------------------------------------------------------\u001b[0m",
      "\u001b[1;31mIndexError\u001b[0m                                Traceback (most recent call last)",
      "Input \u001b[1;32mIn [13]\u001b[0m, in \u001b[0;36m<cell line: 10>\u001b[1;34m()\u001b[0m\n\u001b[0;32m      1\u001b[0m My_list \u001b[38;5;241m=\u001b[39m [\u001b[38;5;124m\"\u001b[39m\u001b[38;5;124mMathematics\u001b[39m\u001b[38;5;124m\"\u001b[39m,\u001b[38;5;241m1729\u001b[39m,\u001b[38;5;241m9\u001b[39m,\u001b[38;5;241m10\u001b[39m,\u001b[38;5;241m17.34\u001b[39m]\n\u001b[0;32m      3\u001b[0m \u001b[38;5;124;03m\"\"\"\u001b[39;00m\n\u001b[0;32m      4\u001b[0m \n\u001b[0;32m      5\u001b[0m \u001b[38;5;124;03mIn the above list we have only 5 elements which are index from the 0 to 4.\u001b[39;00m\n\u001b[0;32m      6\u001b[0m \u001b[38;5;124;03mIf we try to access the element from the index number morethan the 4, it will raise an ERROR \u001b[39;00m\n\u001b[0;32m      7\u001b[0m \n\u001b[0;32m      8\u001b[0m \u001b[38;5;124;03m\"\"\"\u001b[39;00m\n\u001b[1;32m---> 10\u001b[0m \u001b[38;5;28mprint\u001b[39m(\u001b[43mMy_list\u001b[49m\u001b[43m[\u001b[49m\u001b[38;5;241;43m5\u001b[39;49m\u001b[43m]\u001b[49m)\n",
      "\u001b[1;31mIndexError\u001b[0m: list index out of range"
     ]
    }
   ],
   "source": [
    "My_list = [\"Mathematics\",1729,9,10,17.34]\n",
    "\n",
    "\"\"\"\n",
    "\n",
    "In the above list we have only 5 elements which are index from the 0 to 4.\n",
    "If we try to access the element from the index number morethan the 4, it will raise an ERROR \n",
    "\n",
    "\"\"\"\n",
    "\n",
    "print(My_list[5])"
   ]
  },
  {
   "cell_type": "markdown",
   "id": "e8ee4e55",
   "metadata": {},
   "source": [
    "> ### If a list contain another list then it is know as \"NESTED LIST\" "
   ]
  },
  {
   "cell_type": "code",
   "execution_count": 14,
   "id": "b93f2eae",
   "metadata": {},
   "outputs": [
    {
     "name": "stdout",
     "output_type": "stream",
     "text": [
      "[1, 2, 3, 4, 'a', 'Apple', 22.21]\n"
     ]
    }
   ],
   "source": [
    "My_list = [\"Mathematics\",1729,9,10,17.34,[1,2,3,4,\"a\",\"Apple\",22.21]]\n",
    "\n",
    "# Accesssing the nested list from main list\n",
    "print(My_list[5])   # here we just extracting the inner list "
   ]
  },
  {
   "cell_type": "markdown",
   "id": "e2c7acf5",
   "metadata": {},
   "source": [
    "    Now, if we want to extrat the \"Apple\" from the \"My_list\""
   ]
  },
  {
   "cell_type": "code",
   "execution_count": 15,
   "id": "3e3d67ba",
   "metadata": {},
   "outputs": [
    {
     "name": "stdout",
     "output_type": "stream",
     "text": [
      "Apple\n"
     ]
    }
   ],
   "source": [
    "My_list = [\"Mathematics\",1729,9,10,17.34,[1,2,3,4,\"a\",\"Apple\",22.21]]\n",
    "\n",
    "print(My_list[5][5])  "
   ]
  },
  {
   "cell_type": "markdown",
   "id": "3f10db79",
   "metadata": {},
   "source": [
    "> ### Basic list methods"
   ]
  },
  {
   "cell_type": "code",
   "execution_count": 21,
   "id": "629f5394",
   "metadata": {},
   "outputs": [
    {
     "name": "stdout",
     "output_type": "stream",
     "text": [
      "4\n",
      "[1, 2, 3, 4]\n",
      "<class 'list'>\n",
      "[1, 2, 3, 4, 'Python']\n",
      "[1, 2, 4.3, 3, 4, 'Python']\n",
      "[1, 2, 4.3, 3, 4]\n",
      "[1, 4.3, 3, 4]\n",
      "[1, 4.3, 3]\n",
      "[1, 4.3, 3, 'a', 'b', 'c', 'd']\n",
      "['a', 'b', 'c', 'd', 1, 4.3, 3, 'a', 'b', 'c', 'd']\n"
     ]
    }
   ],
   "source": [
    "l=[1,2,3,4]\n",
    "print(l)\n",
    "\n",
    "# Finding the length of the list\n",
    "print(len(l))\n",
    "\n",
    "# adding new element to the list at the end\n",
    "l.append(\"Python\")\n",
    "print(l)\n",
    "\n",
    "# adding a eliment at index\n",
    "l.insert(2,4.3)\n",
    "print(l)\n",
    "\n",
    "# deleting a specified element\n",
    "l.remove(\"Python\")\n",
    "print(l)\n",
    "\n",
    "# deleting element from a specified index\n",
    "l.pop(1)\n",
    "print(l)\n",
    "\n",
    "l.pop()  # delet the element from the last index\n",
    "print(l)\n",
    "\n",
    "m=[\"a\",\"b\",\"c\",\"d\"]\n",
    "\n",
    "l.extend(m)\n",
    "print(l)\n",
    "\n",
    "m.extend(l)\n",
    "print(m)"
   ]
  },
  {
   "cell_type": "markdown",
   "id": "c7102b4d",
   "metadata": {},
   "source": [
    "## 3. tuple datatype ( immutable )"
   ]
  },
  {
   "cell_type": "markdown",
   "id": "7345e21d",
   "metadata": {},
   "source": [
    "### Definition:-\n",
    "\n",
    "    A tuple is a ordered collection of elements of different datatypes,enclosed within the paranthesis brachets and separeted by the cammas"
   ]
  },
  {
   "cell_type": "code",
   "execution_count": 16,
   "id": "820d1b6b",
   "metadata": {},
   "outputs": [
    {
     "name": "stdout",
     "output_type": "stream",
     "text": [
      "(1, 2, 3, 4, 23.8762, 'Python')\n"
     ]
    }
   ],
   "source": [
    "t=(1,2,3,4,23.8762,\"Python\")\n",
    "print(t)"
   ]
  },
  {
   "cell_type": "code",
   "execution_count": 8,
   "id": "32b0a3b8",
   "metadata": {
    "scrolled": true
   },
   "outputs": [
    {
     "name": "stdout",
     "output_type": "stream",
     "text": [
      "6\n",
      "5\n",
      "0\n"
     ]
    },
    {
     "ename": "AttributeError",
     "evalue": "'tuple' object has no attribute 'append'",
     "output_type": "error",
     "traceback": [
      "\u001b[1;31m---------------------------------------------------------------------------\u001b[0m",
      "\u001b[1;31mAttributeError\u001b[0m                            Traceback (most recent call last)",
      "\u001b[1;32mC:\\Users\\SHAILA~1\\AppData\\Local\\Temp/ipykernel_2840/2122551359.py\u001b[0m in \u001b[0;36m<module>\u001b[1;34m\u001b[0m\n\u001b[0;32m      3\u001b[0m \u001b[0mprint\u001b[0m\u001b[1;33m(\u001b[0m\u001b[0mt\u001b[0m\u001b[1;33m.\u001b[0m\u001b[0mindex\u001b[0m\u001b[1;33m(\u001b[0m\u001b[1;34m\"Python\"\u001b[0m\u001b[1;33m)\u001b[0m\u001b[1;33m)\u001b[0m\u001b[1;33m\u001b[0m\u001b[1;33m\u001b[0m\u001b[0m\n\u001b[0;32m      4\u001b[0m \u001b[0mprint\u001b[0m\u001b[1;33m(\u001b[0m\u001b[0mt\u001b[0m\u001b[1;33m.\u001b[0m\u001b[0mcount\u001b[0m\u001b[1;33m(\u001b[0m\u001b[1;36m7\u001b[0m\u001b[1;33m)\u001b[0m\u001b[1;33m)\u001b[0m\u001b[1;33m\u001b[0m\u001b[1;33m\u001b[0m\u001b[0m\n\u001b[1;32m----> 5\u001b[1;33m \u001b[0mt\u001b[0m\u001b[1;33m.\u001b[0m\u001b[0mappend\u001b[0m\u001b[1;33m(\u001b[0m\u001b[1;36m7\u001b[0m\u001b[1;33m)\u001b[0m\u001b[1;33m\u001b[0m\u001b[1;33m\u001b[0m\u001b[0m\n\u001b[0m",
      "\u001b[1;31mAttributeError\u001b[0m: 'tuple' object has no attribute 'append'"
     ]
    }
   ],
   "source": [
    "t=(1,2,3,4,23.8762,\"Python\")\n",
    "print(len(t))\n",
    "print(t.index(\"Python\"))\n",
    "print(t.count(7))\n",
    "t.append(7)  # Error"
   ]
  },
  {
   "cell_type": "markdown",
   "id": "77fb6c70",
   "metadata": {},
   "source": [
    ">> ## The main difference between list and tuple is, list is mutable and tuple is immutable."
   ]
  },
  {
   "cell_type": "markdown",
   "id": "9654ff8a",
   "metadata": {},
   "source": [
    "## 4. Dictionary Datatype"
   ]
  },
  {
   "cell_type": "markdown",
   "id": "466c5a69",
   "metadata": {},
   "source": [
    "## Definition:-\n",
    "A Dictionary is a collection of Key and Value Pair\n",
    "\n",
    "Ex :    \n",
    "    dictionary = {key1:value1 , key2:value2 , key3:value3 .... etc}\n",
    "    \n",
    "We have to access the elements of the dictionary with key name"
   ]
  },
  {
   "cell_type": "code",
   "execution_count": 24,
   "id": "a72c487c",
   "metadata": {},
   "outputs": [
    {
     "name": "stdout",
     "output_type": "stream",
     "text": [
      "Python\n",
      "3\n",
      "a\n",
      "4\n",
      "dict_keys(['programming', 'version', 1, 2, 'c', 'list'])\n",
      "dict_values(['Python', 3, 'a', 'b', 3, [1, 2, 3, 4]])\n",
      "dict_items([('programming', 'Python'), ('version', 3), (1, 'a'), (2, 'b'), ('c', 3), ('list', [1, 2, 3, 4])])\n"
     ]
    }
   ],
   "source": [
    "# Defining th dictionary\n",
    "d={\"programming\":\"Python\",\"version\":3,1:\"a\",2:\"b\",\"c\":3,\"list\":[1,2,3,4]}\n",
    "\n",
    "# Accessing the value with key\n",
    "print(d[\"programming\"])\n",
    "print(d[\"version\"])\n",
    "print(d[1])\n",
    "print(d[\"list\"][3])\n",
    "\n",
    "# Basic dictionary methods\n",
    "print(d.keys())        # returns the key names only\n",
    "print(d.values())      # returns the values only\n",
    "print(d.items())       # return the key and values in tuples as a list"
   ]
  },
  {
   "cell_type": "code",
   "execution_count": 26,
   "id": "b682cb52",
   "metadata": {},
   "outputs": [
    {
     "name": "stdout",
     "output_type": "stream",
     "text": [
      "98\n"
     ]
    }
   ],
   "source": [
    "d={\"Mr.A\":99,\"Mr.B\":98,1:\"A\",2:3}\n",
    "print(d[\"Mr.B\"])"
   ]
  },
  {
   "cell_type": "code",
   "execution_count": 17,
   "id": "eaba3a3d",
   "metadata": {
    "scrolled": true
   },
   "outputs": [
    {
     "name": "stdout",
     "output_type": "stream",
     "text": [
      "3\n",
      "[1, 2, 3, 4, [5, 4, 3, 2]]\n",
      "{1: 'a', 2: 'b'}\n",
      "3\n",
      "b\n",
      "dict_keys(['name', 'version', 1, 'a', 'list', 'dict'])\n",
      "dict_values(['Python', 3, 1729, 1, [1, 2, 3, 4, [5, 4, 3, 2]], {1: 'a', 2: 'b'}])\n",
      "dict_items([('name', 'Python'), ('version', 3), (1, 1729), ('a', 1), ('list', [1, 2, 3, 4, [5, 4, 3, 2]]), ('dict', {1: 'a', 2: 'b'})])\n"
     ]
    }
   ],
   "source": [
    "d = {\"name\":\"Python\",\"version\":3,1:1729,\"a\":1,\"list\":[1,2,3,4,[5,4,3,2]],\"dict\":{1:\"a\",2:\"b\"}}\n",
    "#print(d)\n",
    "print(d[\"version\"])\n",
    "print(d[\"list\"])\n",
    "print(d[\"dict\"])\n",
    "print(d[\"list\"][4][2])\n",
    "\n",
    "print(d[\"dict\"][2])\n",
    "# extracting the keys from the dictionary\n",
    "print(d.keys())\n",
    "\n",
    "# extracting the values from the dictionary\n",
    "print(d.values())\n",
    "\n",
    "print(d.items())\n"
   ]
  },
  {
   "cell_type": "markdown",
   "id": "564f075f",
   "metadata": {},
   "source": [
    "> ### Displaying the dictionary with a for loop"
   ]
  },
  {
   "cell_type": "code",
   "execution_count": 18,
   "id": "9ec52857",
   "metadata": {},
   "outputs": [
    {
     "name": "stdout",
     "output_type": "stream",
     "text": [
      "name  :  Python\n",
      "version  :  3\n",
      "1  :  1729\n",
      "a  :  1\n",
      "list  :  [1, 2, 3, 4, [5, 4, 3, 2]]\n",
      "dict  :  {1: 'a', 2: 'b'}\n"
     ]
    }
   ],
   "source": [
    "d = {\"name\":\"Python\",\"version\":3,1:1729,\"a\":1,\"list\":[1,2,3,4,[5,4,3,2]],\"dict\":{1:\"a\",2:\"b\"}}\n",
    "for k,v in d.items():\n",
    "    print(k,\" : \",v)"
   ]
  },
  {
   "cell_type": "markdown",
   "id": "66c95676",
   "metadata": {},
   "source": [
    "## 3) set Datatype"
   ]
  },
  {
   "cell_type": "markdown",
   "id": "99739bfe",
   "metadata": {},
   "source": [
    "    A set is unordered collection of the elements. ( unordered elemnts in the set is not maintain the order. And, it is a mutable type."
   ]
  },
  {
   "cell_type": "markdown",
   "id": "e9219887",
   "metadata": {},
   "source": [
    "# Boolean Datatype ( True,False )"
   ]
  },
  {
   "cell_type": "markdown",
   "id": "ed2f6e27",
   "metadata": {},
   "source": [
    "    \"True\" and \"False\" is know as the Boolean datatypes. To Know the boolean value of the some object we have a method \"bool()\" it return the \"True\" OR \"False\""
   ]
  },
  {
   "cell_type": "code",
   "execution_count": 22,
   "id": "c5159451",
   "metadata": {},
   "outputs": [
    {
     "name": "stdout",
     "output_type": "stream",
     "text": [
      "False\n"
     ]
    }
   ],
   "source": [
    "print(bool(0))"
   ]
  },
  {
   "cell_type": "code",
   "execution_count": 23,
   "id": "77df5357",
   "metadata": {},
   "outputs": [
    {
     "name": "stdout",
     "output_type": "stream",
     "text": [
      "True\n"
     ]
    }
   ],
   "source": [
    "print(bool(1))"
   ]
  },
  {
   "cell_type": "code",
   "execution_count": 20,
   "id": "804cc22c",
   "metadata": {},
   "outputs": [
    {
     "name": "stdout",
     "output_type": "stream",
     "text": [
      "False\n"
     ]
    }
   ],
   "source": [
    "print(bool([]))"
   ]
  },
  {
   "cell_type": "code",
   "execution_count": 21,
   "id": "af4ac26b",
   "metadata": {},
   "outputs": [
    {
     "name": "stdout",
     "output_type": "stream",
     "text": [
      "True\n"
     ]
    }
   ],
   "source": [
    "print(bool([1,2]))"
   ]
  },
  {
   "cell_type": "code",
   "execution_count": 16,
   "id": "1d1a8c35",
   "metadata": {},
   "outputs": [
    {
     "data": {
      "text/plain": [
       "True"
      ]
     },
     "execution_count": 16,
     "metadata": {},
     "output_type": "execute_result"
    }
   ],
   "source": [
    "10<23"
   ]
  },
  {
   "cell_type": "code",
   "execution_count": 19,
   "id": "712bbc95",
   "metadata": {},
   "outputs": [
    {
     "name": "stdout",
     "output_type": "stream",
     "text": [
      "True\n"
     ]
    }
   ],
   "source": [
    "print(21>3)"
   ]
  },
  {
   "cell_type": "code",
   "execution_count": 24,
   "id": "f37b0162",
   "metadata": {},
   "outputs": [
    {
     "name": "stdout",
     "output_type": "stream",
     "text": [
      "True\n"
     ]
    }
   ],
   "source": [
    "print(bool(\" \"))"
   ]
  },
  {
   "cell_type": "code",
   "execution_count": 25,
   "id": "5597aae0",
   "metadata": {},
   "outputs": [
    {
     "name": "stdout",
     "output_type": "stream",
     "text": [
      "True\n"
     ]
    }
   ],
   "source": [
    "print(bool(\"string\"))"
   ]
  }
 ],
 "metadata": {
  "kernelspec": {
   "display_name": "Python 3 (ipykernel)",
   "language": "python",
   "name": "python3"
  },
  "language_info": {
   "codemirror_mode": {
    "name": "ipython",
    "version": 3
   },
   "file_extension": ".py",
   "mimetype": "text/x-python",
   "name": "python",
   "nbconvert_exporter": "python",
   "pygments_lexer": "ipython3",
   "version": "3.9.12"
  }
 },
 "nbformat": 4,
 "nbformat_minor": 5
}
