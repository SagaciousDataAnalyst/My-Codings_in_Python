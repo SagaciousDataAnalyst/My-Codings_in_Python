{
 "cells": [
  {
   "cell_type": "markdown",
   "id": "b67ba23a",
   "metadata": {},
   "source": [
    "# Bitwise oprators in python"
   ]
  },
  {
   "cell_type": "markdown",
   "id": "de8d10ab",
   "metadata": {},
   "source": [
    "### Bitwise NOT (Complement) Operator( ~ )"
   ]
  },
  {
   "cell_type": "code",
   "execution_count": 10,
   "id": "d66b150a",
   "metadata": {},
   "outputs": [
    {
     "name": "stdout",
     "output_type": "stream",
     "text": [
      "-12\n",
      "-13\n",
      "-14\n",
      "-1730\n"
     ]
    }
   ],
   "source": [
    "# \"~\" return the complement of the number\n",
    "\n",
    "print(~11)                           \n",
    "print( ~ 12)\n",
    "print(~13)\n",
    "print(~1729)"
   ]
  },
  {
   "cell_type": "markdown",
   "id": "70ce7490",
   "metadata": {},
   "source": [
    "### bitwise AND Operator ( & )"
   ]
  },
  {
   "cell_type": "code",
   "execution_count": 13,
   "id": "92e0a91c",
   "metadata": {},
   "outputs": [
    {
     "name": "stdout",
     "output_type": "stream",
     "text": [
      "10\n"
     ]
    }
   ],
   "source": [
    "# it peforms the AND operation on the idividual bits of the number\n",
    "\n",
    "print(10 & 11) #bin(10) = 0000 1010\n",
    "               #bin(11) = 0000 1011\n",
    "               #        = 0000 1010 = bin(10)\n",
    "\n"
   ]
  },
  {
   "cell_type": "markdown",
   "id": "e41e583a",
   "metadata": {},
   "source": [
    "### Bitewise OR Operator ( | )"
   ]
  },
  {
   "cell_type": "code",
   "execution_count": 15,
   "id": "4932b58c",
   "metadata": {},
   "outputs": [
    {
     "name": "stdout",
     "output_type": "stream",
     "text": [
      "11\n"
     ]
    }
   ],
   "source": [
    "# it peforms the OR operation on the idividual bits of the number\n",
    "\n",
    "print(10 | 11) #bin(10) = 0000 1010\n",
    "               #bin(11) = 0000 1011\n",
    "               #        = 0000 1011 = bin(11)\n",
    "\n"
   ]
  },
  {
   "cell_type": "markdown",
   "id": "6b4f9179",
   "metadata": {},
   "source": [
    "### Bitwise XOR OPerator ( ^ )"
   ]
  },
  {
   "cell_type": "markdown",
   "id": "91f492f0",
   "metadata": {},
   "source": [
    "# TRUE table for XOR :-\n",
    "\n",
    "# 0 0 = 0\n",
    "# 0 1 = 1\n",
    "# 1 0 = 1\n",
    "# 1 1 = 0"
   ]
  },
  {
   "cell_type": "code",
   "execution_count": 16,
   "id": "28e88ede",
   "metadata": {},
   "outputs": [
    {
     "name": "stdout",
     "output_type": "stream",
     "text": [
      "1\n"
     ]
    }
   ],
   "source": [
    "\"\"\"\n",
    "This operator performs exclusive (OR) XOR operation on the bits of the numbers\n",
    "\" ^ \" symbol is called cap,carat,circumflex syblom\n",
    "\n",
    "\"\"\"\n",
    "print(10 ^ 11) #bin(10) = 0000 1010\n",
    "               #bin(11) = 0000 1011\n",
    "               #        = 0000 0001 = bin(1)\n"
   ]
  },
  {
   "cell_type": "markdown",
   "id": "9b7a7a56",
   "metadata": {},
   "source": [
    "### Bitwise Left Shift Operation"
   ]
  },
  {
   "cell_type": "code",
   "execution_count": 17,
   "id": "964f20e4",
   "metadata": {},
   "outputs": [
    {
     "name": "stdout",
     "output_type": "stream",
     "text": [
      "40\n"
     ]
    }
   ],
   "source": [
    "print(10<<2)    # "
   ]
  },
  {
   "cell_type": "markdown",
   "id": "fd094d23",
   "metadata": {},
   "source": [
    "### Bitwise Right Shift Operation"
   ]
  },
  {
   "cell_type": "code",
   "execution_count": 18,
   "id": "6f51847e",
   "metadata": {},
   "outputs": [
    {
     "name": "stdout",
     "output_type": "stream",
     "text": [
      "2\n"
     ]
    }
   ],
   "source": [
    "print(10>>2)    #"
   ]
  },
  {
   "cell_type": "markdown",
   "id": "66a362d9",
   "metadata": {},
   "source": [
    "# identity operator"
   ]
  },
  {
   "cell_type": "code",
   "execution_count": 28,
   "id": "4b9eb421",
   "metadata": {},
   "outputs": [
    {
     "name": "stdout",
     "output_type": "stream",
     "text": [
      "555748321872\n",
      "555748321872\n",
      "555748321872\n",
      "555748321872\n"
     ]
    }
   ],
   "source": [
    "\"\"\"\n",
    "The memory location of the object can be seen by the id() function. this function returns the integer number, \n",
    "called identity number, that initially represent the memory location of the object.\n",
    "\n",
    "\"\"\"\n",
    "\n",
    "a = 10\n",
    "b = 10\n",
    "\n",
    "print(id(10))\n",
    "print(id(10))\n",
    "print(id(a))\n",
    "print(id(b))"
   ]
  },
  {
   "cell_type": "markdown",
   "id": "4a7fb6eb",
   "metadata": {},
   "source": [
    "#### There are 2 identity oprators\n",
    "1) is\n",
    "2) is not\n",
    "\n",
    "These operators are used to compare the memory location of the two objects. Hence, it is possible to know that,\n",
    "they are same or not."
   ]
  },
  {
   "cell_type": "code",
   "execution_count": 30,
   "id": "6c579450",
   "metadata": {},
   "outputs": [
    {
     "name": "stdout",
     "output_type": "stream",
     "text": [
      "same\n",
      "555748321872\n",
      "555748321872\n"
     ]
    }
   ],
   "source": [
    "# is \n",
    "\n",
    "a=10\n",
    "b=10\n",
    "if(a is b):\n",
    "    print(\"same\")\n",
    "else:\n",
    "    print(\"not same\")\n",
    "    \n",
    "#output is \" same\". because...., id of the a and b is same.\n",
    "print(id(a))\n",
    "print(id(b))"
   ]
  },
  {
   "cell_type": "code",
   "execution_count": 36,
   "id": "8b02b133",
   "metadata": {},
   "outputs": [
    {
     "name": "stdout",
     "output_type": "stream",
     "text": [
      "same\n",
      "555791014576\n",
      "555791014576\n"
     ]
    }
   ],
   "source": [
    "a=\"python\"\n",
    "b=\"python\"\n",
    "if(a is b):\n",
    "    print(\"same\")\n",
    "else:\n",
    "    print(\"not same\")\n",
    "    \n",
    "#output is \" not same\". because...., id of the a and b is not same.\n",
    "print(id(a))\n",
    "print(id(b))"
   ]
  },
  {
   "cell_type": "code",
   "execution_count": 31,
   "id": "0ab00a5c",
   "metadata": {},
   "outputs": [
    {
     "name": "stdout",
     "output_type": "stream",
     "text": [
      "not same\n",
      "555857253760\n",
      "555857254528\n"
     ]
    }
   ],
   "source": [
    "# is \n",
    "\n",
    "a=[1,2,3,4,5]\n",
    "b=[1,2,3,4,5]\n",
    "if(a is b):\n",
    "    print(\"same\")\n",
    "else:\n",
    "    print(\"not same\")\n",
    "    \n",
    "#output is \"not same\". because...., id of the a and b is not same.\n",
    "print(id(a))\n",
    "print(id(b))"
   ]
  },
  {
   "cell_type": "markdown",
   "id": "33ad6e56",
   "metadata": {},
   "source": [
    "#### so, if you want to compare the values of the objects, we should the \" == \""
   ]
  },
  {
   "cell_type": "code",
   "execution_count": 34,
   "id": "27e9ef76",
   "metadata": {},
   "outputs": [
    {
     "name": "stdout",
     "output_type": "stream",
     "text": [
      "same\n"
     ]
    }
   ],
   "source": [
    "a=10\n",
    "b=10\n",
    "if(a == b):\n",
    "    print(\"same\")\n",
    "else:\n",
    "    print(\"not same\")\n",
    "    \n",
    "# #output is \" same\". because...., id of the a and b is same.\n",
    "# print(id(a))\n",
    "# print(id(b))"
   ]
  },
  {
   "cell_type": "code",
   "execution_count": 37,
   "id": "7da310c4",
   "metadata": {},
   "outputs": [
    {
     "name": "stdout",
     "output_type": "stream",
     "text": [
      "same\n"
     ]
    }
   ],
   "source": [
    "a=\"python\"\n",
    "b=\"python\"\n",
    "if(a == b):\n",
    "    print(\"same\")\n",
    "else:\n",
    "    print(\"not same\")\n",
    "    "
   ]
  },
  {
   "cell_type": "code",
   "execution_count": 39,
   "id": "cc29b344",
   "metadata": {},
   "outputs": [
    {
     "name": "stdout",
     "output_type": "stream",
     "text": [
      "same\n"
     ]
    }
   ],
   "source": [
    "a=[1,2,3,4,5]\n",
    "b=[1,2,3,4,5]\n",
    "if(a == b):\n",
    "    print(\"same\")\n",
    "else:\n",
    "    print(\"not same\")\n",
    "    "
   ]
  },
  {
   "cell_type": "markdown",
   "id": "34085e2e",
   "metadata": {},
   "source": [
    "# Logical Operators"
   ]
  },
  {
   "cell_type": "markdown",
   "id": "e5554306",
   "metadata": {},
   "source": [
    "1) and   # (x and y),if x is False, it return x, otherwise it return y.\n",
    "\n",
    "2) or    # (x or y),if x is False, it return y, otherwise it return x.\n",
    "\n",
    "3) not   # (not y),if x is False,it return True,otherwise True.\n",
    "\n",
    "Logical operators are useful to construct the compound conditions. A compound condition is a combination of the more then one simple condition.\n"
   ]
  },
  {
   "cell_type": "code",
   "execution_count": 53,
   "id": "57ac6771",
   "metadata": {},
   "outputs": [
    {
     "name": "stdout",
     "output_type": "stream",
     "text": [
      "False\n",
      "False\n",
      "True\n"
     ]
    }
   ],
   "source": [
    "print(not 100)\n",
    "print(not 1)\n",
    "print(not 0)"
   ]
  },
  {
   "cell_type": "code",
   "execution_count": 55,
   "id": "feaac8a2",
   "metadata": {},
   "outputs": [
    {
     "name": "stdout",
     "output_type": "stream",
     "text": [
      "1)  200\n",
      "2)  100\n",
      "3)  False\n"
     ]
    }
   ],
   "source": [
    "x=100\n",
    "y=200\n",
    "print(\"1) \",x and y)\n",
    "print(\"2) \",x or y)\n",
    "print(\"3) \",not y)"
   ]
  },
  {
   "cell_type": "markdown",
   "id": "ea82bd2b",
   "metadata": {},
   "source": [
    "# Boolean Opeartor"
   ]
  },
  {
   "cell_type": "markdown",
   "id": "ea791936",
   "metadata": {},
   "source": [
    "There two bool type literals. They are \"True\" and \"False\". Boolean operators acts upon \"bool\" type literals and they provide \"bool\" type output. That means the result privided by the boolean operators is either \"True\" or \"False\" ."
   ]
  },
  {
   "cell_type": "code",
   "execution_count": null,
   "id": "8c18892c",
   "metadata": {},
   "outputs": [],
   "source": []
  },
  {
   "cell_type": "code",
   "execution_count": 62,
   "id": "22b11767",
   "metadata": {},
   "outputs": [
    {
     "name": "stdout",
     "output_type": "stream",
     "text": [
      "False\n",
      "False\n",
      "True\n",
      "False\n"
     ]
    }
   ],
   "source": [
    "print(True and False)\n",
    "print(False and True)\n",
    "print(True and True)\n",
    "print(False and False)"
   ]
  },
  {
   "cell_type": "code",
   "execution_count": 61,
   "id": "34338b71",
   "metadata": {},
   "outputs": [
    {
     "name": "stdout",
     "output_type": "stream",
     "text": [
      "True\n",
      "True\n",
      "True\n",
      "False\n"
     ]
    }
   ],
   "source": [
    "print(True or False)\n",
    "print(False or True)\n",
    "print(True or True)\n",
    "print(False or False)"
   ]
  },
  {
   "cell_type": "code",
   "execution_count": 64,
   "id": "82f0a610",
   "metadata": {},
   "outputs": [
    {
     "name": "stdout",
     "output_type": "stream",
     "text": [
      "False\n",
      "True\n"
     ]
    }
   ],
   "source": [
    "print(not True)\n",
    "print(not False)\n"
   ]
  },
  {
   "cell_type": "markdown",
   "id": "cf50ef37",
   "metadata": {},
   "source": [
    "# Relational Opearators ( >,<,>=,<=,==,!= )   \n"
   ]
  },
  {
   "cell_type": "markdown",
   "id": "06bbc34c",
   "metadata": {},
   "source": [
    "Used to compare two quantities\n"
   ]
  },
  {
   "cell_type": "code",
   "execution_count": 67,
   "id": "80a1dec8",
   "metadata": {},
   "outputs": [
    {
     "name": "stdout",
     "output_type": "stream",
     "text": [
      "False\n",
      "False\n",
      "True\n",
      "True\n",
      "False\n",
      "True\n",
      "_________________\n",
      "False\n",
      "True\n",
      "False\n",
      "True\n",
      "True\n",
      "False\n"
     ]
    }
   ],
   "source": [
    "x=10\n",
    "y=20\n",
    "\n",
    "print(x>y)\n",
    "print(x>=y)\n",
    "print(x<y)\n",
    "print(x<=y)\n",
    "print(x==y)\n",
    "print(x!=y)\n",
    "\n",
    "print(\"_________________\")\n",
    "\n",
    "print(x>x)\n",
    "print(x>=x)\n",
    "print(x<x)\n",
    "print(x<=x)\n",
    "print(x==x)\n",
    "print(x!=x)"
   ]
  },
  {
   "cell_type": "code",
   "execution_count": 2,
   "id": "fae75afb",
   "metadata": {},
   "outputs": [
    {
     "name": "stdout",
     "output_type": "stream",
     "text": [
      "{1, 2, 3, 4, 33}\n"
     ]
    }
   ],
   "source": [
    "a={1,2,3,33,3,3,4}\n",
    "print(a)"
   ]
  },
  {
   "cell_type": "code",
   "execution_count": 3,
   "id": "0c400a34",
   "metadata": {},
   "outputs": [
    {
     "ename": "ZeroDivisionError",
     "evalue": "division by zero",
     "output_type": "error",
     "traceback": [
      "\u001b[1;31m---------------------------------------------------------------------------\u001b[0m",
      "\u001b[1;31mZeroDivisionError\u001b[0m                         Traceback (most recent call last)",
      "\u001b[1;32mC:\\Users\\SHAILA~1\\AppData\\Local\\Temp/ipykernel_600/179726827.py\u001b[0m in \u001b[0;36m<module>\u001b[1;34m\u001b[0m\n\u001b[1;32m----> 1\u001b[1;33m \u001b[0mprint\u001b[0m\u001b[1;33m(\u001b[0m\u001b[1;36m10\u001b[0m\u001b[1;33m/\u001b[0m\u001b[1;36m0\u001b[0m\u001b[1;33m)\u001b[0m\u001b[1;33m\u001b[0m\u001b[1;33m\u001b[0m\u001b[0m\n\u001b[0m",
      "\u001b[1;31mZeroDivisionError\u001b[0m: division by zero"
     ]
    }
   ],
   "source": [
    "print(10/0)"
   ]
  },
  {
   "cell_type": "code",
   "execution_count": 9,
   "id": "30a0e881",
   "metadata": {},
   "outputs": [
    {
     "name": "stdout",
     "output_type": "stream",
     "text": [
      " ...d\n"
     ]
    }
   ],
   "source": [
    "def f(word):\n",
    "    string=\" \"\n",
    "    for i in word:\n",
    "        if(i==\" \"):\n",
    "            string+=\".\"\n",
    "    else:\n",
    "        string+=i\n",
    "    return string\n",
    "\n",
    "\n",
    "print(f(\"a s d ddd\"))\n"
   ]
  },
  {
   "cell_type": "code",
   "execution_count": 6,
   "id": "5c04d778",
   "metadata": {},
   "outputs": [],
   "source": [
    "from turtle import *\n",
    "speed(10)\n",
    "color('cyan')\n",
    "bgcolor('black')\n",
    "b=200\n",
    "while b>0:\n",
    "    left(b)\n",
    "    forward(b*3)\n",
    "    b=b-1"
   ]
  },
  {
   "cell_type": "code",
   "execution_count": null,
   "id": "ca5177ad",
   "metadata": {},
   "outputs": [],
   "source": []
  }
 ],
 "metadata": {
  "kernelspec": {
   "display_name": "Python 3 (ipykernel)",
   "language": "python",
   "name": "python3"
  },
  "language_info": {
   "codemirror_mode": {
    "name": "ipython",
    "version": 3
   },
   "file_extension": ".py",
   "mimetype": "text/x-python",
   "name": "python",
   "nbconvert_exporter": "python",
   "pygments_lexer": "ipython3",
   "version": "3.9.7"
  }
 },
 "nbformat": 4,
 "nbformat_minor": 5
}
