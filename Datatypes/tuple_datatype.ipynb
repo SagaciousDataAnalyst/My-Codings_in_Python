{
 "cells": [
  {
   "cell_type": "code",
   "execution_count": 2,
   "id": "208ada88",
   "metadata": {},
   "outputs": [
    {
     "name": "stdout",
     "output_type": "stream",
     "text": [
      "1) created list :  ('a', 'b', 'c', 'd', 1, 4.3)\n",
      "('a', 'b', 'c', 'd', 1, 4.3, 'a', 'b', 'c', 'd', 1, 4.3, 'a', 'b', 'c', 'd', 1, 4.3)\n",
      "<class 'type'>\n",
      "a\n",
      "('a', 'b', 'c', 'd', 1, 4.3)\n",
      "('a', 'c', 1)\n",
      "(4.3, 1, 'd', 'c', 'b', 'a')\n",
      "(4.3, 'd', 'b')\n",
      "('a', 'b', 'c', 'd', 1, 4.3)\n",
      "('a', 'c', 1)\n",
      "('a', 'b', 'c')\n",
      "('a', 'b', 'c', 'd', 1, 4.3)\n",
      "()\n"
     ]
    }
   ],
   "source": [
    "#creating a tuple\n",
    "tup=(\"a\",\"b\",\"c\",\"d\",1,4.3)\n",
    "print(\"1) created list : \",tup)\n",
    "\n",
    "print(tup*3)\n",
    "\n",
    "print(type(list))\n",
    "\n",
    "# Slice operation on list\n",
    "\n",
    "print(tup[0])\n",
    "\n",
    "print(tup[::])\n",
    "\n",
    "print(tup[::2])\n",
    "\n",
    "print(tup[::-1])\n",
    "\n",
    "print(tup[::-2])\n",
    "\n",
    "print(tup[0:10])\n",
    "\n",
    "print(tup[0:10:2])\n",
    "\n",
    "print(tup[0:-3])\n",
    "\n",
    "print(tup[0:])\n",
    "\n",
    "print(tup[0:0])\n",
    "\n",
    "# print(tup[0::0])  # raise error, because step can not be 0\n"
   ]
  },
  {
   "cell_type": "code",
   "execution_count": null,
   "id": "bb68e88d",
   "metadata": {},
   "outputs": [],
   "source": []
  }
 ],
 "metadata": {
  "kernelspec": {
   "display_name": "Python 3 (ipykernel)",
   "language": "python",
   "name": "python3"
  },
  "language_info": {
   "codemirror_mode": {
    "name": "ipython",
    "version": 3
   },
   "file_extension": ".py",
   "mimetype": "text/x-python",
   "name": "python",
   "nbconvert_exporter": "python",
   "pygments_lexer": "ipython3",
   "version": "3.9.7"
  }
 },
 "nbformat": 4,
 "nbformat_minor": 5
}
