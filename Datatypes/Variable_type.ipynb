{
 "cells": [
  {
   "cell_type": "code",
   "execution_count": 6,
   "id": "c04ad187",
   "metadata": {},
   "outputs": [
    {
     "name": "stdout",
     "output_type": "stream",
     "text": [
      "1929\n",
      "<class 'int'>\n",
      "1729.653\n",
      "<class 'float'>\n",
      "(10+2j)\n",
      "<class 'complex'>\n",
      "(20-76j)\n",
      "<class 'complex'>\n",
      "(30-74j)\n",
      "<class 'complex'>\n",
      "Complex Sum :  (20-76j)\n",
      "Sum of 1929 and 1729.653 is 3658.6530000000002\n",
      "<class 'float'>\n",
      "Sum of 1929 , 1729.653 and (10+2j) is (3668.6530000000002+2j)\n",
      "<class 'complex'>\n"
     ]
    }
   ],
   "source": [
    "# int\n",
    "n=1929\n",
    "print(n)\n",
    "print(type(n))\n",
    "\n",
    "# float\n",
    "f=1729.653\n",
    "print(f)\n",
    "print(type(f))\n",
    "\n",
    "# complex\n",
    "c1=10+2j\n",
    "print(c1)\n",
    "print(type(c1))\n",
    "\n",
    "c2=20-76j\n",
    "print(c2)\n",
    "print(type(c2))\n",
    "\n",
    "c3=c1+c2\n",
    "print(c3)\n",
    "print(type(c3))\n",
    "\n",
    "print(\"Complex Sum : \",c2)\n",
    "\n",
    "sum1=n+f\n",
    "print(\"Sum of {} and {} is {}\".format(n,f,sum1))\n",
    "print(type(sum1))\n",
    "\n",
    "sum2=n+f+c1\n",
    "print(\"Sum of {} , {} and {} is {}\".format(n,f,c1,sum2))\n",
    "print(type(sum2))"
   ]
  },
  {
   "cell_type": "code",
   "execution_count": null,
   "id": "517d8868",
   "metadata": {},
   "outputs": [],
   "source": []
  }
 ],
 "metadata": {
  "kernelspec": {
   "display_name": "Python 3 (ipykernel)",
   "language": "python",
   "name": "python3"
  },
  "language_info": {
   "codemirror_mode": {
    "name": "ipython",
    "version": 3
   },
   "file_extension": ".py",
   "mimetype": "text/x-python",
   "name": "python",
   "nbconvert_exporter": "python",
   "pygments_lexer": "ipython3",
   "version": "3.9.7"
  }
 },
 "nbformat": 4,
 "nbformat_minor": 5
}
