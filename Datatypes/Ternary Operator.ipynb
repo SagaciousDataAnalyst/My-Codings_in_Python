{
 "cells": [
  {
   "cell_type": "code",
   "execution_count": null,
   "id": "52661983",
   "metadata": {},
   "outputs": [],
   "source": [
    "def is_adult(agr): \n",
    "    return True if age >= 18 else False\n",
    "print(is_adult(21)) \n",
    "\n",
    "#ternary operator  a if condition else b\n",
    "def test(x,y):\n",
    "    return \"x is lessthan y\" if(x<y) else \"x is greather than y\"\n",
    "print(test(2,5))"
   ]
  }
 ],
 "metadata": {
  "kernelspec": {
   "display_name": "Python 3 (ipykernel)",
   "language": "python",
   "name": "python3"
  },
  "language_info": {
   "codemirror_mode": {
    "name": "ipython",
    "version": 3
   },
   "file_extension": ".py",
   "mimetype": "text/x-python",
   "name": "python",
   "nbconvert_exporter": "python",
   "pygments_lexer": "ipython3",
   "version": "3.9.7"
  }
 },
 "nbformat": 4,
 "nbformat_minor": 5
}
