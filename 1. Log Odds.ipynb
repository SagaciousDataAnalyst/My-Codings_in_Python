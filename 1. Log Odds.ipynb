{
 "cells": [
  {
   "cell_type": "markdown",
   "metadata": {},
   "source": [
    "$$\\large Log \\space Odds \\space = \\space Odds \\space + \\space Log$$"
   ]
  },
  {
   "cell_type": "markdown",
   "metadata": {},
   "source": [
    "    For the purposes of this explanation, let’s consider a scenario where I play 10 games of chess against an Artificially Intelligent (AI) system and 4 times I am able to beat it"
   ]
  },
  {
   "cell_type": "markdown",
   "metadata": {},
   "source": [
    "## Odds and Probability\n",
    "\n",
    "    As per our scenario, there are 4 times I am able to beat the system, so the odds of me winning the game are 4 to 6, i.e., out of total 10 games, I win 4 games and lose 6 games.\n",
    "    \n",
    "![](odds.png)    \n",
    "\n",
    "    Also, Odds as the fraction (ratio), is\n",
    "    \n",
    "$$\\frac {4} {6}$$    "
   ]
  },
  {
   "cell_type": "markdown",
   "metadata": {},
   "source": [
    "    Odds are the ratio of something happening to something not happening. In our scenario above, the odds are 4 to 6. Whereas, Probability is the ratio of something happening to everything that could happen. So in the case of our chess example, probability is 4 to 10 (as there were 10 games played in total).\n",
    "    \n",
    "![](odds2.png)    "
   ]
  },
  {
   "cell_type": "markdown",
   "metadata": {},
   "source": [
    "    Odds of winning: 4/6 = 0.6666\n",
    "    Probability of winning: 4/10 = 0.40\n",
    "    Probability of losing: 6/10 = 0.60\n",
    "    which is also equal to 1 - Probability of winning: 1 - 0.40 = 0.60\n",
    "    Given the Probability, we can also calculate the Odds as below\n",
    "    \n",
    "![](odds3.png)    "
   ]
  },
  {
   "cell_type": "markdown",
   "metadata": {},
   "source": [
    "    Now, say we increase the total number of games played from 10 to 100 and I am still able to win only 4 out of these 100 games, then\n",
    "    \n",
    "        Odds of winning: 4/96 = 0.0417\n",
    "\n",
    "    If we further increase the number of games to 500, and I still play horribly and my number of wins stay the same, the odds now become\n",
    "    \n",
    "        Odds of winning: 4/496 = 0.0081\n",
    "        \n",
    "    Basically, the worse I play, my odds of winning keep getting closer to 0. As in this case I am losing, these odds can also be considered as “odds against winning”. So basically, the odds against winning stay within the range of 0 to 4.\n",
    "    \n",
    "    \n",
    "    On the other hand, if I start beating the AI in more games, then my odds of winning start improving. Let’s say we play 100 games and the AI loses the same 6 of those while I win the rest, then\n",
    "    \n",
    "        Odds of winning: 94/6 = 15.6667\n",
    "   \n",
    "   \n",
    "    and similarly for 500 games, let’s say AI still loses 6 of those, the\n",
    "\n",
    "        Odds of winning: 494/6 = 82.3333\n",
    "\n",
    "    As in this case I am winning, these odds can also be considered as “odds in favor of winning”, which are increasing quickly as my performance gets better in beating the AI at this game. If I keep showing such improvement forever, soon the AI losses will become almost negligible as compared to my wins and the odds in favor of me winning will then be closer to infinity. So the odds in favor of me winning range between 4 and infinity.\n",
    "    \n",
    "![](odds4.png)    "
   ]
  },
  {
   "cell_type": "markdown",
   "metadata": {},
   "source": [
    "## Log odds\n",
    "\n",
    "    So now that we understand Odds and Probability, let’s try to understand Log Odds and why do we actually need them. Log Odds is nothing but log of odds, i.e., log(odds). In our scenario above the odds against me winning range between 0 and 4, whereas the odds in favor of me winning range from 4 to infinity, which is a very vast scale. This makes the magnitude of odds against look so much smaller to those in favor.\n",
    "    \n",
    "    So what can we do to make it fair? You guessed it right, take a log. Taking the log of odds make it look symmetrical.\n",
    "    \n",
    "        Odds of winning = 4/6 = 0.6666\n",
    "        log(Odds of winning) = log(0.6666) = -0.176\n",
    "        Odds of losing = 6/4 = 1.5\n",
    "        log(Odds of losing) = log(1.5) = 0.176\n",
    "        \n",
    "![](logodds.png)    \n",
    "\n",
    "    \n",
    "    Look at that, it looks so symmetrical and a fair comparison scale now. So basically using the log function helped us making the distance from origin (0) same for both odds, i.e, winning (favor) and losing (against). You can now see how important this can be. But wait…\n",
    "    \n",
    "    Did you also know that understanding all this also helps us understand the basics of a very important function, the Logit Function, which is the basis for one of the most commonly used machine learning algorithms, Logistic Regression. Let that sink in!!\n",
    "    \n",
    "![](logit.png)    "
   ]
  },
  {
   "cell_type": "code",
   "execution_count": null,
   "metadata": {},
   "outputs": [],
   "source": []
  }
 ],
 "metadata": {
  "kernelspec": {
   "display_name": "Python 3 (ipykernel)",
   "language": "python",
   "name": "python3"
  },
  "language_info": {
   "codemirror_mode": {
    "name": "ipython",
    "version": 3
   },
   "file_extension": ".py",
   "mimetype": "text/x-python",
   "name": "python",
   "nbconvert_exporter": "python",
   "pygments_lexer": "ipython3",
   "version": "3.9.12"
  }
 },
 "nbformat": 4,
 "nbformat_minor": 2
}
