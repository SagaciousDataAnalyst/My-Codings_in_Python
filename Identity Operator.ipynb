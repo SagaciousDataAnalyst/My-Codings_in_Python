{
 "cells": [
  {
   "cell_type": "code",
   "execution_count": null,
   "id": "306fa077",
   "metadata": {},
   "outputs": [],
   "source": [
    "# difference between \"is\" and \"==\"\n",
    "\n",
    "# is : compare the memory location of the objects where they stored in the memory\n",
    "\n",
    "a=[1,2,3,4,5]\n",
    "b=[1,2,3,4,5]\n",
    "if(a is b):\n",
    "    print(\"same\")\n",
    "else:\n",
    "    print(\"not same\")\n",
    "    \n",
    "#output is \"not same\". because...., id of the a and b is not same.\n",
    "print(id(a))\n",
    "print(id(b))\n",
    "\n",
    "# == : comnpare the objects in the in the list\n",
    "\n",
    "a=[1,2,3,4,5]\n",
    "b=[1,2,3,4,5]\n",
    "if(a == b):\n",
    "    print(\"same\")\n",
    "else:\n",
    "    print(\"not same\")\n",
    "    "
   ]
  }
 ],
 "metadata": {
  "kernelspec": {
   "display_name": "Python 3 (ipykernel)",
   "language": "python",
   "name": "python3"
  },
  "language_info": {
   "codemirror_mode": {
    "name": "ipython",
    "version": 3
   },
   "file_extension": ".py",
   "mimetype": "text/x-python",
   "name": "python",
   "nbconvert_exporter": "python",
   "pygments_lexer": "ipython3",
   "version": "3.9.7"
  }
 },
 "nbformat": 4,
 "nbformat_minor": 5
}
