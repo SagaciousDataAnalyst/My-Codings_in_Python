{
 "cells": [
  {
   "cell_type": "code",
   "execution_count": null,
   "id": "3a2a3af7",
   "metadata": {},
   "outputs": [],
   "source": [
    "import time\n",
    "def s(s):\n",
    "    for i in s:\n",
    "        print(i*i)\n",
    "        sleep(0.05)\n",
    "        \n",
    "def c(c):\n",
    "    for i in c:\n",
    "        print(\"*************\",i*i)\n",
    "        sleep(0.1)\n",
    "        \n",
    "initial_time=time.time()\n",
    "l=[1,2,3,4,5]\n",
    "s(l)\n",
    "c(l)\n",
    "print(\"time taken : \",time.time()-initial_time)\n"
   ]
  }
 ],
 "metadata": {
  "kernelspec": {
   "display_name": "Python 3 (ipykernel)",
   "language": "python",
   "name": "python3"
  },
  "language_info": {
   "codemirror_mode": {
    "name": "ipython",
    "version": 3
   },
   "file_extension": ".py",
   "mimetype": "text/x-python",
   "name": "python",
   "nbconvert_exporter": "python",
   "pygments_lexer": "ipython3",
   "version": "3.9.7"
  }
 },
 "nbformat": 4,
 "nbformat_minor": 5
}
