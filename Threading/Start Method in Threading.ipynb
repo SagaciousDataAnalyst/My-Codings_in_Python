{
 "cells": [
  {
   "cell_type": "code",
   "execution_count": null,
   "id": "43635e8c",
   "metadata": {},
   "outputs": [],
   "source": [
    "from threading import *\n",
    "class A(Thread):\n",
    "    def run(self):\n",
    "        for i in range(50):\n",
    "            print(\"A class\")\n",
    "class B(Thread):\n",
    "    def run(self):\n",
    "        for i in range(50):\n",
    "            print(\"B class\")\n",
    "            \n",
    "a=A()\n",
    "b=B()\n",
    "a.start()\n",
    "b.start()"
   ]
  }
 ],
 "metadata": {
  "kernelspec": {
   "display_name": "Python 3 (ipykernel)",
   "language": "python",
   "name": "python3"
  },
  "language_info": {
   "codemirror_mode": {
    "name": "ipython",
    "version": 3
   },
   "file_extension": ".py",
   "mimetype": "text/x-python",
   "name": "python",
   "nbconvert_exporter": "python",
   "pygments_lexer": "ipython3",
   "version": "3.9.7"
  }
 },
 "nbformat": 4,
 "nbformat_minor": 5
}
