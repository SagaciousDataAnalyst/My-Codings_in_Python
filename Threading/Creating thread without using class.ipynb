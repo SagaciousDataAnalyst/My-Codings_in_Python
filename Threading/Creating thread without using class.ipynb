{
 "cells": [
  {
   "cell_type": "code",
   "execution_count": null,
   "id": "f2d641c5",
   "metadata": {},
   "outputs": [],
   "source": [
    "from threading import *\n",
    "def f():\n",
    "    print(\"hello....\")\n",
    "    \n",
    "# creating the thread\n",
    "for i in range(5):\n",
    "    t=Thread(target=f)\n",
    "    t.start"
   ]
  }
 ],
 "metadata": {
  "kernelspec": {
   "display_name": "Python 3 (ipykernel)",
   "language": "python",
   "name": "python3"
  },
  "language_info": {
   "codemirror_mode": {
    "name": "ipython",
    "version": 3
   },
   "file_extension": ".py",
   "mimetype": "text/x-python",
   "name": "python",
   "nbconvert_exporter": "python",
   "pygments_lexer": "ipython3",
   "version": "3.9.7"
  }
 },
 "nbformat": 4,
 "nbformat_minor": 5
}
