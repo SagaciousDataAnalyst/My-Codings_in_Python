{
 "cells": [
  {
   "cell_type": "code",
   "execution_count": null,
   "id": "fc7995fc",
   "metadata": {},
   "outputs": [],
   "source": [
    "from threading import *\n",
    "\n",
    "# create a class as sub class to Thread class \n",
    "class MyThread(Thread):\n",
    "\n",
    "# constructor that calls Thread class constructor\n",
    "    def __init__(self, str):\n",
    "        Thread.__init__(self) \n",
    "        self.str = str\n",
    "\n",
    "    #override the run() method of Thread class\n",
    "\n",
    "    def run(self):\n",
    "        print(self.str)\n",
    "\n",
    "# create an instance of MyThread class and pass the string \n",
    "t1 = MyThread('Data Science')\n",
    "\n",
    "# start running the thread tl \n",
    "t1.start()\n",
    "\n",
    "# wait till the thread completes execution\n",
    "\n",
    "t1.join()"
   ]
  }
 ],
 "metadata": {
  "kernelspec": {
   "display_name": "Python 3 (ipykernel)",
   "language": "python",
   "name": "python3"
  },
  "language_info": {
   "codemirror_mode": {
    "name": "ipython",
    "version": 3
   },
   "file_extension": ".py",
   "mimetype": "text/x-python",
   "name": "python",
   "nbconvert_exporter": "python",
   "pygments_lexer": "ipython3",
   "version": "3.9.7"
  }
 },
 "nbformat": 4,
 "nbformat_minor": 5
}
