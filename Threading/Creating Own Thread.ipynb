{
 "cells": [
  {
   "cell_type": "code",
   "execution_count": null,
   "id": "6d6b5334",
   "metadata": {},
   "outputs": [],
   "source": [
    "#creating our own thread \n",
    "from threading import Thread\n",
    "\n",
    "# create a class as sub class to Thread class \n",
    "class MyThread (Thread):\n",
    "\n",
    "    #override the run() method of Thread class \n",
    "    def run(self): \n",
    "        for i in range (1, 6):\n",
    "            print(i)\n",
    "\n",
    "# create an instance of MyThread class \n",
    "t1 = MyThread()\n",
    "\n",
    "# start running the thread tl \n",
    "t1.start()\n",
    "\n",
    "# wait till the thread completes execution \n",
    "#t1.join()"
   ]
  }
 ],
 "metadata": {
  "kernelspec": {
   "display_name": "Python 3 (ipykernel)",
   "language": "python",
   "name": "python3"
  },
  "language_info": {
   "codemirror_mode": {
    "name": "ipython",
    "version": 3
   },
   "file_extension": ".py",
   "mimetype": "text/x-python",
   "name": "python",
   "nbconvert_exporter": "python",
   "pygments_lexer": "ipython3",
   "version": "3.9.7"
  }
 },
 "nbformat": 4,
 "nbformat_minor": 5
}
