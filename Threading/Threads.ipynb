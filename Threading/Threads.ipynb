{
 "cells": [
  {
   "cell_type": "markdown",
   "id": "be455add",
   "metadata": {},
   "source": [
    "# Thread "
   ]
  },
  {
   "cell_type": "markdown",
   "id": "b152fd6a",
   "metadata": {},
   "source": [
    "A thread represents the execution of the statements"
   ]
  },
  {
   "cell_type": "code",
   "execution_count": 3,
   "id": "992309ab",
   "metadata": {},
   "outputs": [
    {
     "name": "stdout",
     "output_type": "stream",
     "text": [
      "lets find the current tread\n",
      "currently runnig tread is : MainThread\n",
      "it is main thread\n"
     ]
    }
   ],
   "source": [
    "# Every python program is run by the main tread\n",
    "import threading\n",
    "\n",
    "print('lets find the current tread')\n",
    "\n",
    "# finding the name of the present tread \n",
    "print(\"currently runnig tread is :\",threading.current_thread().getName())\n",
    "\n",
    "# checking for whether it is main thread or not\n",
    "if threading.current_thread()==threading.main_thread():\n",
    "    print(\"it is main thread\")\n",
    "else:\n",
    "    print(\"it is not a main thread\")"
   ]
  },
  {
   "cell_type": "code",
   "execution_count": 38,
   "id": "9a32f0eb",
   "metadata": {},
   "outputs": [
    {
     "name": "stdout",
     "output_type": "stream",
     "text": [
      "hello....hello....hello....\n",
      "\n",
      "\n",
      "hello....\n",
      "hello....\n"
     ]
    }
   ],
   "source": [
    "# CREATING THE THREAD WITHOUT USING THE CLASS\n",
    "\n",
    "from threading import *\n",
    "\n",
    "def f():\n",
    "    print(\"hello....\")\n",
    "    \n",
    "# creating the thread\n",
    "for i in range(5):\n",
    "    t=Thread(target=f)\n",
    "    t.start()"
   ]
  },
  {
   "cell_type": "code",
   "execution_count": 26,
   "id": "6384fd57",
   "metadata": {},
   "outputs": [],
   "source": [
    "# CREATING THE THREAD WITHOUT USING THE CLASS\n",
    "\n"
   ]
  },
  {
   "cell_type": "code",
   "execution_count": 4,
   "id": "afb4fc1b",
   "metadata": {},
   "outputs": [
    {
     "name": "stdout",
     "output_type": "stream",
     "text": [
      "hello\n",
      "hello\n",
      "hello\n",
      "hello\n",
      "hello\n",
      "hello\n",
      "hello\n",
      "hello\n",
      "hello\n",
      "hello\n",
      "hi\n",
      "hi\n",
      "hi\n",
      "hi\n",
      "hi\n",
      "hi\n",
      "hi\n",
      "hi\n",
      "hi\n",
      "hi\n"
     ]
    }
   ],
   "source": [
    "from threading import *\n",
    "class Hello(Thread):\n",
    "    def run(self):\n",
    "        for i in range(10):\n",
    "            print(\"hello\")\n",
    "        \n",
    "class Hi(Thread):\n",
    "    def run(self):\n",
    "        for i in range(10):\n",
    "            print(\"hi\")\n",
    "        \n",
    "t1=Hello()\n",
    "t2=Hi()\n",
    "t1.run()\n",
    "t2.run()"
   ]
  },
  {
   "cell_type": "code",
   "execution_count": 7,
   "id": "0bdd9cb7",
   "metadata": {},
   "outputs": [
    {
     "name": "stdout",
     "output_type": "stream",
     "text": [
      "hello\n",
      "hello\n",
      "hello\n",
      "hello\n",
      "hello\n",
      "hello\n",
      "hello\n",
      "hello\n",
      "hello\n",
      "hello\n",
      "hi\n",
      "hi\n",
      "hi\n",
      "hi\n",
      "hi\n",
      "hi\n",
      "hi\n",
      "hi\n",
      "hi\n",
      "hi\n"
     ]
    }
   ],
   "source": [
    "from threading import *\n",
    "class Hello(Thread):\n",
    "    def run(self):\n",
    "        for i in range(10):\n",
    "            print(\"hello\")\n",
    "        \n",
    "class Hi(Thread):\n",
    "    def run(self):\n",
    "        for i in range(10):\n",
    "            print(\"hi\")\n",
    "        \n",
    "t1=Hello()\n",
    "t2=Hi()\n",
    "t1.start()\n",
    "t2.start()"
   ]
  },
  {
   "cell_type": "code",
   "execution_count": 12,
   "id": "1668d5c9",
   "metadata": {},
   "outputs": [
    {
     "name": "stderr",
     "output_type": "stream",
     "text": [
      "Exception in thread Thread-30:\n",
      "Traceback (most recent call last):\n",
      "  File \"C:\\ProgramData\\Anaconda3\\lib\\threading.py\", line 973, in _bootstrap_inner\n",
      "    self.run()\n",
      "  File \"C:\\Users\\SHAILA~1\\AppData\\Local\\Temp/ipykernel_6192/2475033543.py\", line 6, in run\n",
      "NameError: name 'sleep' is not defined\n"
     ]
    },
    {
     "name": "stdout",
     "output_type": "stream",
     "text": [
      "hello\n"
     ]
    },
    {
     "ename": "NameError",
     "evalue": "name 'sleep' is not defined",
     "output_type": "error",
     "traceback": [
      "\u001b[1;31m---------------------------------------------------------------------------\u001b[0m",
      "\u001b[1;31mNameError\u001b[0m                                 Traceback (most recent call last)",
      "\u001b[1;32mC:\\Users\\SHAILA~1\\AppData\\Local\\Temp/ipykernel_6192/2475033543.py\u001b[0m in \u001b[0;36m<module>\u001b[1;34m\u001b[0m\n\u001b[0;32m     15\u001b[0m \u001b[0mt2\u001b[0m\u001b[1;33m=\u001b[0m\u001b[0mHi\u001b[0m\u001b[1;33m(\u001b[0m\u001b[1;33m)\u001b[0m\u001b[1;33m\u001b[0m\u001b[1;33m\u001b[0m\u001b[0m\n\u001b[0;32m     16\u001b[0m \u001b[0mt1\u001b[0m\u001b[1;33m.\u001b[0m\u001b[0mstart\u001b[0m\u001b[1;33m(\u001b[0m\u001b[1;33m)\u001b[0m\u001b[1;33m\u001b[0m\u001b[1;33m\u001b[0m\u001b[0m\n\u001b[1;32m---> 17\u001b[1;33m \u001b[0msleep\u001b[0m\u001b[1;33m(\u001b[0m\u001b[1;36m2\u001b[0m\u001b[1;33m)\u001b[0m\u001b[1;33m\u001b[0m\u001b[1;33m\u001b[0m\u001b[0m\n\u001b[0m\u001b[0;32m     18\u001b[0m \u001b[0mt2\u001b[0m\u001b[1;33m.\u001b[0m\u001b[0mstart\u001b[0m\u001b[1;33m(\u001b[0m\u001b[1;33m)\u001b[0m\u001b[1;33m\u001b[0m\u001b[1;33m\u001b[0m\u001b[0m\n",
      "\u001b[1;31mNameError\u001b[0m: name 'sleep' is not defined"
     ]
    }
   ],
   "source": [
    "from threading import *\n",
    "class Hello(Thread):\n",
    "    def run(self):\n",
    "        for i in range(10):\n",
    "            print(\"hello\")\n",
    "            sleep(1)\n",
    "        \n",
    "class Hi(Thread):\n",
    "    def run(self):\n",
    "        for i in range(10):\n",
    "            print(\"hi\")\n",
    "            sleep(1)\n",
    "        \n",
    "t1=Hello()\n",
    "t2=Hi()\n",
    "t1.start()\n",
    "sleep(2)\n",
    "t2.start()"
   ]
  },
  {
   "cell_type": "code",
   "execution_count": null,
   "id": "b41b5793",
   "metadata": {},
   "outputs": [],
   "source": []
  }
 ],
 "metadata": {
  "kernelspec": {
   "display_name": "Python 3 (ipykernel)",
   "language": "python",
   "name": "python3"
  },
  "language_info": {
   "codemirror_mode": {
    "name": "ipython",
    "version": 3
   },
   "file_extension": ".py",
   "mimetype": "text/x-python",
   "name": "python",
   "nbconvert_exporter": "python",
   "pygments_lexer": "ipython3",
   "version": "3.9.7"
  }
 },
 "nbformat": 4,
 "nbformat_minor": 5
}
