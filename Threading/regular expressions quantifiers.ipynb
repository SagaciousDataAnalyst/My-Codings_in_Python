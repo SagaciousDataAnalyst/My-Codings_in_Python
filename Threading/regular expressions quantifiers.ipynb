{
 "cells": [
  {
   "cell_type": "code",
   "execution_count": null,
   "id": "b2945e4e",
   "metadata": {},
   "outputs": [],
   "source": [
    "import re\n",
    "sample=\"inform him with latest information\"\n",
    "print(re.findall(r\"i[a-z]+\",sample))\n",
    "print(re.findall(r\"h[a-z]?\",sample))\n",
    "print(re.findall(r\"h[a-z]\",sample))\n",
    "print(re.findall(r\"i[a-z]*\",sample))\n",
    "print(re.findall(r\"i.\",sample))\n",
    "print(re.findall(r\"i.+\",sample))\n",
    "print(re.findall(r\"i.*\",sample))\n",
    "print(re.findall(r\"i+\",sample))\n",
    "print(re.findall(r\"i*\",sample))"
   ]
  }
 ],
 "metadata": {
  "kernelspec": {
   "display_name": "Python 3 (ipykernel)",
   "language": "python",
   "name": "python3"
  },
  "language_info": {
   "codemirror_mode": {
    "name": "ipython",
    "version": 3
   },
   "file_extension": ".py",
   "mimetype": "text/x-python",
   "name": "python",
   "nbconvert_exporter": "python",
   "pygments_lexer": "ipython3",
   "version": "3.9.7"
  }
 },
 "nbformat": 4,
 "nbformat_minor": 5
}
