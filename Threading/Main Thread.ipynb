{
 "cells": [
  {
   "cell_type": "code",
   "execution_count": null,
   "id": "03036bf4",
   "metadata": {},
   "outputs": [],
   "source": [
    "# Every python program is run by the main tread\n",
    "import threading\n",
    "\n",
    "print('lets find the current tread')\n",
    "\n",
    "# finding the name of the present tread \n",
    "print(\"currently runnig tread is :\",threading.current_thread().getName())\n",
    "\n",
    "# checking for whether it is main thread or not\n",
    "if threading.current_thread()==threading.main_thread():\n",
    "    print(\"it is main thread\")\n",
    "else:\n",
    "    print(\"it is not a main thread\")"
   ]
  }
 ],
 "metadata": {
  "kernelspec": {
   "display_name": "Python 3 (ipykernel)",
   "language": "python",
   "name": "python3"
  },
  "language_info": {
   "codemirror_mode": {
    "name": "ipython",
    "version": 3
   },
   "file_extension": ".py",
   "mimetype": "text/x-python",
   "name": "python",
   "nbconvert_exporter": "python",
   "pygments_lexer": "ipython3",
   "version": "3.9.7"
  }
 },
 "nbformat": 4,
 "nbformat_minor": 5
}
