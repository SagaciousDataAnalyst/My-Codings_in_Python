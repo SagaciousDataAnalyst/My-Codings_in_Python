{
 "cells": [
  {
   "cell_type": "code",
   "execution_count": 7,
   "id": "1b1d086a",
   "metadata": {},
   "outputs": [
    {
     "name": "stdout",
     "output_type": "stream",
     "text": [
      "It is negative even number\n"
     ]
    }
   ],
   "source": [
    "def nested_if(num):\n",
    "    if(num>0):\n",
    "        if(num%2==0):return \"It is positive even number\"\n",
    "        else:return \"It is positive odd number\"\n",
    "    else:\n",
    "        if(num%2==0):return \"It is negative even number\"\n",
    "        else:return \"It is negative odd number\"\n",
    "print(nested_if(-1728))"
   ]
  }
 ],
 "metadata": {
  "kernelspec": {
   "display_name": "Python 3 (ipykernel)",
   "language": "python",
   "name": "python3"
  },
  "language_info": {
   "codemirror_mode": {
    "name": "ipython",
    "version": 3
   },
   "file_extension": ".py",
   "mimetype": "text/x-python",
   "name": "python",
   "nbconvert_exporter": "python",
   "pygments_lexer": "ipython3",
   "version": "3.9.7"
  }
 },
 "nbformat": 4,
 "nbformat_minor": 5
}
