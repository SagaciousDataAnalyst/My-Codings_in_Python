{
 "cells": [
  {
   "cell_type": "code",
   "execution_count": 5,
   "id": "d55b31fc",
   "metadata": {},
   "outputs": [
    {
     "name": "stdout",
     "output_type": "stream",
     "text": [
      "Given number is positive number\n",
      "Given number is zero\n",
      "Given number is nagetive number\n"
     ]
    }
   ],
   "source": [
    "def myfunction(num):\n",
    "    if(num<0):return \"Given number is nagetive number\"    \n",
    "    elif(num==0):return \"Given number is zero\"\n",
    "    else:return \"Given number is positive number\"\n",
    "print(myfunction(1729))\n",
    "print(myfunction(0))\n",
    "print(myfunction(-9))"
   ]
  }
 ],
 "metadata": {
  "kernelspec": {
   "display_name": "Python 3 (ipykernel)",
   "language": "python",
   "name": "python3"
  },
  "language_info": {
   "codemirror_mode": {
    "name": "ipython",
    "version": 3
   },
   "file_extension": ".py",
   "mimetype": "text/x-python",
   "name": "python",
   "nbconvert_exporter": "python",
   "pygments_lexer": "ipython3",
   "version": "3.9.7"
  }
 },
 "nbformat": 4,
 "nbformat_minor": 5
}
