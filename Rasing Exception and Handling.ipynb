{
 "cells": [
  {
   "cell_type": "code",
   "execution_count": null,
   "id": "3cdb4205",
   "metadata": {},
   "outputs": [],
   "source": [
    "while True:\n",
    "    try:\n",
    "        n = input(\"Please enter an integer: \")\n",
    "        n = int(n)\n",
    "        break\n",
    "    except ValueError:\n",
    "        print(\"No valid integer! Please try again ...\")\n",
    "    else:\n",
    "        print(\"hello, i am from else block\")\n",
    "print(\"Great, you successfully entered an integer!\")"
   ]
  },
  {
   "cell_type": "code",
   "execution_count": 4,
   "id": "421d03e8",
   "metadata": {},
   "outputs": [
    {
     "name": "stdout",
     "output_type": "stream",
     "text": [
      "Enter a number : [1,2]\n",
      "invalid literal for int() with base 10: '[1,2]'\n"
     ]
    }
   ],
   "source": [
    "def myfunction():\n",
    "    try:\n",
    "        int(input(\"Enter a number : \"))\n",
    "    except Exception as e:\n",
    "        print(e)\n",
    "myfunction()\n",
    "\n",
    "     "
   ]
  },
  {
   "cell_type": "code",
   "execution_count": null,
   "id": "86b87f0b",
   "metadata": {},
   "outputs": [],
   "source": []
  }
 ],
 "metadata": {
  "kernelspec": {
   "display_name": "Python 3 (ipykernel)",
   "language": "python",
   "name": "python3"
  },
  "language_info": {
   "codemirror_mode": {
    "name": "ipython",
    "version": 3
   },
   "file_extension": ".py",
   "mimetype": "text/x-python",
   "name": "python",
   "nbconvert_exporter": "python",
   "pygments_lexer": "ipython3",
   "version": "3.9.7"
  }
 },
 "nbformat": 4,
 "nbformat_minor": 5
}
