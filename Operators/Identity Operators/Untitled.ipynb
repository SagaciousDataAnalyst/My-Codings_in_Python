{
 "cells": [
  {
   "cell_type": "code",
   "execution_count": 1,
   "id": "abfee642",
   "metadata": {
    "scrolled": true
   },
   "outputs": [
    {
     "name": "stdout",
     "output_type": "stream",
     "text": [
      "10 and 20 are not same\n",
      "58292857424\n",
      "58292857744\n"
     ]
    }
   ],
   "source": [
    " def is_operation(a,b):\n",
    "    if(a is not b):\n",
    "        print(\"%s and %s are not same\"%(a,b))\n",
    "    else:\n",
    "        print(\"%s and %s are same\"%(a,b))\n",
    "\n",
    "    #output is \" same\". because...., id of the a and b is same.\n",
    "    print(id(a))\n",
    "    print(id(b))\n",
    "is_operation(10,20)"
   ]
  },
  {
   "cell_type": "code",
   "execution_count": null,
   "id": "e55d9231",
   "metadata": {},
   "outputs": [],
   "source": []
  }
 ],
 "metadata": {
  "kernelspec": {
   "display_name": "Python 3 (ipykernel)",
   "language": "python",
   "name": "python3"
  },
  "language_info": {
   "codemirror_mode": {
    "name": "ipython",
    "version": 3
   },
   "file_extension": ".py",
   "mimetype": "text/x-python",
   "name": "python",
   "nbconvert_exporter": "python",
   "pygments_lexer": "ipython3",
   "version": "3.9.7"
  }
 },
 "nbformat": 4,
 "nbformat_minor": 5
}
