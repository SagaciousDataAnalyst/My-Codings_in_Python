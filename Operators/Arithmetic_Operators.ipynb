{
 "cells": [
  {
   "cell_type": "code",
   "execution_count": 1,
   "id": "22492903",
   "metadata": {},
   "outputs": [
    {
     "name": "stdout",
     "output_type": "stream",
     "text": [
      "a+b =  13\n",
      "a-b =  7\n",
      "a*b =  30\n",
      "a/b =  3.3333333333333335\n",
      "a//b =  3\n",
      "a%b =  1\n",
      "a** =  1000\n"
     ]
    }
   ],
   "source": [
    "def arithmetic_operator(a,b):\n",
    "    print(\"a+b = \",a+b)   # return the addition of a,b\n",
    "    print(\"a-b = \",a-b)   # return the substraction of a,b\n",
    "    print(\"a*b = \",a*b)   # return the multiplication of a,b\n",
    "    print(\"a/b = \",a/b)   # return the value of  a/b(\"a\" divided by \"b\")\n",
    "    print(\"a//b = \",a//b) # return the floor value of the \"a\" divided by \"b\"\n",
    "    print(\"a%b = \",a%b)   # return the reminder of the \"a\" divided by \"b\" \n",
    "    print(\"a** = \",a**b)  # returnn the \"a\" to the power of the \"b\"\n",
    "arithmetic_operator(10,3)"
   ]
  }
 ],
 "metadata": {
  "kernelspec": {
   "display_name": "Python 3 (ipykernel)",
   "language": "python",
   "name": "python3"
  },
  "language_info": {
   "codemirror_mode": {
    "name": "ipython",
    "version": 3
   },
   "file_extension": ".py",
   "mimetype": "text/x-python",
   "name": "python",
   "nbconvert_exporter": "python",
   "pygments_lexer": "ipython3",
   "version": "3.9.7"
  }
 },
 "nbformat": 4,
 "nbformat_minor": 5
}
