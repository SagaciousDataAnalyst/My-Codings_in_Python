{
 "cells": [
  {
   "cell_type": "markdown",
   "id": "14574785",
   "metadata": {},
   "source": [
    "# 1)  Arithmetic Operaators ( +,-,*,/,//,% )"
   ]
  },
  {
   "cell_type": "code",
   "execution_count": 5,
   "id": "c1308528",
   "metadata": {},
   "outputs": [
    {
     "name": "stdout",
     "output_type": "stream",
     "text": [
      "a+b =  13\n",
      "a-b =  7\n",
      "a*b =  30\n",
      "a/b =  3.3333333333333335\n",
      "a//b =  3\n",
      "a%b =  1\n"
     ]
    }
   ],
   "source": [
    "def arithmetic(a,b):\n",
    "    print(\"a+b = \",a+b)   # return the addition of a,b\n",
    "    print(\"a-b = \",a-b)   # return the substraction of a,b\n",
    "    print(\"a*b = \",a*b)   # return the multiplication of a,b\n",
    "    print(\"a/b = \",a/b)   # return the value of  a/b(\"a\" divided by \"b\")\n",
    "    print(\"a//b = \",a//b) # return the floor value of the \"a\" divided by \"b\"\n",
    "    print(\"a%b = \",a%b)   # return the reminder of the \"a\" divided by \"b\" \n",
    "    print(\"a** = \",a**b)  # returnn the \"a\" to the power of the \"b\"\n",
    "arithmetic(10,3)"
   ]
  },
  {
   "cell_type": "markdown",
   "id": "b67ba23a",
   "metadata": {},
   "source": [
    "# 2) Bitwise oprators in python"
   ]
  },
  {
   "cell_type": "markdown",
   "id": "de8d10ab",
   "metadata": {},
   "source": [
    "### Bitwise NOT (Complement) Operator( ~ )"
   ]
  },
  {
   "cell_type": "code",
   "execution_count": 15,
   "id": "d66b150a",
   "metadata": {},
   "outputs": [
    {
     "name": "stdout",
     "output_type": "stream",
     "text": [
      "-12\n",
      "-13\n",
      "-14\n",
      "-1730\n"
     ]
    }
   ],
   "source": [
    "# \"~\" return the complement of the number\n",
    "# a compliment is -a\n",
    "\n",
    "print(~11)                           \n",
    "print( ~ 12)\n",
    "print(~13)\n",
    "print(~1729)\n"
   ]
  },
  {
   "cell_type": "markdown",
   "id": "70ce7490",
   "metadata": {},
   "source": [
    "### bitwise AND Operator ( & )"
   ]
  },
  {
   "cell_type": "markdown",
   "id": "3a411c1b",
   "metadata": {},
   "source": [
    "#### TRUE table for AND :-\n",
    "\n",
    "# 0 0 = 0\n",
    "# 0 1 = 0\n",
    "# 1 0 = 0\n",
    "# 1 1 = 1"
   ]
  },
  {
   "cell_type": "code",
   "execution_count": 13,
   "id": "92e0a91c",
   "metadata": {},
   "outputs": [
    {
     "name": "stdout",
     "output_type": "stream",
     "text": [
      "10\n"
     ]
    }
   ],
   "source": [
    "# it peforms the AND operation on the idividual bits of the number\n",
    "\n",
    "print(10 & 11) #bin(10) = 0000 1010\n",
    "               #bin(11) = 0000 1011\n",
    "               #        = 0000 1010 = bin(10)\n",
    "\n"
   ]
  },
  {
   "cell_type": "markdown",
   "id": "e41e583a",
   "metadata": {},
   "source": [
    "### Bitewise OR Operator ( | )"
   ]
  },
  {
   "cell_type": "markdown",
   "id": "a20db9e8",
   "metadata": {},
   "source": [
    "#### TRUE table for OR :-\n",
    "\n",
    "# 0 0 = 0\n",
    "# 0 1 = 1\n",
    "# 1 0 = 1\n",
    "# 1 1 = 1"
   ]
  },
  {
   "cell_type": "code",
   "execution_count": 15,
   "id": "4932b58c",
   "metadata": {},
   "outputs": [
    {
     "name": "stdout",
     "output_type": "stream",
     "text": [
      "11\n"
     ]
    }
   ],
   "source": [
    "# it peforms the OR operation on the idividual bits of the number\n",
    "\n",
    "print(10 | 11) #bin(10) = 0000 1010\n",
    "               #bin(11) = 0000 1011\n",
    "               #        = 0000 1011 = bin(11)\n",
    "\n"
   ]
  },
  {
   "cell_type": "markdown",
   "id": "6b4f9179",
   "metadata": {},
   "source": [
    "### Bitwise XOR OPerator ( ^ )"
   ]
  },
  {
   "cell_type": "markdown",
   "id": "91f492f0",
   "metadata": {},
   "source": [
    "#### TRUE table for XOR :-\n",
    "\n",
    "# 0 0 = 0\n",
    "# 0 1 = 1\n",
    "# 1 0 = 1\n",
    "# 1 1 = 0"
   ]
  },
  {
   "cell_type": "code",
   "execution_count": 16,
   "id": "28e88ede",
   "metadata": {},
   "outputs": [
    {
     "name": "stdout",
     "output_type": "stream",
     "text": [
      "1\n"
     ]
    }
   ],
   "source": [
    "\"\"\"\n",
    "This operator performs exclusive (OR) XOR operation on the bits of the numbers\n",
    "\" ^ \" symbol is called cap,carat,circumflex syblom\n",
    "\n",
    "\"\"\"\n",
    "print(10 ^ 11) #bin(10) = 0000 1010\n",
    "               #bin(11) = 0000 1011\n",
    "               #        = 0000 0001 = bin(1)\n"
   ]
  },
  {
   "cell_type": "markdown",
   "id": "9b7a7a56",
   "metadata": {},
   "source": [
    "### Bitwise Left Shift Operation"
   ]
  },
  {
   "cell_type": "code",
   "execution_count": 17,
   "id": "964f20e4",
   "metadata": {},
   "outputs": [
    {
     "name": "stdout",
     "output_type": "stream",
     "text": [
      "40\n"
     ]
    }
   ],
   "source": [
    "print(10<<2)    # "
   ]
  },
  {
   "cell_type": "markdown",
   "id": "fd094d23",
   "metadata": {},
   "source": [
    "### Bitwise Right Shift Operation"
   ]
  },
  {
   "cell_type": "code",
   "execution_count": 18,
   "id": "6f51847e",
   "metadata": {},
   "outputs": [
    {
     "name": "stdout",
     "output_type": "stream",
     "text": [
      "2\n"
     ]
    }
   ],
   "source": [
    "print(10>>2)    #"
   ]
  },
  {
   "cell_type": "markdown",
   "id": "66a362d9",
   "metadata": {},
   "source": [
    "# 3) identity operator"
   ]
  },
  {
   "cell_type": "code",
   "execution_count": 16,
   "id": "4b9eb421",
   "metadata": {},
   "outputs": [
    {
     "name": "stdout",
     "output_type": "stream",
     "text": [
      "451253660240\n",
      "451253660240\n",
      "451253660240\n",
      "451253660240\n"
     ]
    }
   ],
   "source": [
    "\"\"\"\n",
    "The memory location of the object can be seen by the id() function. this function returns the integer number, \n",
    "called identity number, that initially represent the memory location of the object.\n",
    "\n",
    "\"\"\"\n",
    "\n",
    "a = 10\n",
    "b = 10\n",
    "\n",
    "print(id(10))\n",
    "print(id(10))\n",
    "print(id(a))\n",
    "print(id(b))"
   ]
  },
  {
   "cell_type": "markdown",
   "id": "4a7fb6eb",
   "metadata": {},
   "source": [
    "#### There are 2 identity oprators\n",
    "1) is\n",
    "2) is not\n",
    "\n",
    "These operators are used to compare the memory location of the two objects. Hence, it is possible to know that,\n",
    "they are same or not."
   ]
  },
  {
   "cell_type": "code",
   "execution_count": 30,
   "id": "6c579450",
   "metadata": {},
   "outputs": [
    {
     "name": "stdout",
     "output_type": "stream",
     "text": [
      "same\n",
      "555748321872\n",
      "555748321872\n"
     ]
    }
   ],
   "source": [
    "# is \n",
    "\n",
    "a=10\n",
    "b=10\n",
    "if(a is b):\n",
    "    print(\"same\")\n",
    "else:\n",
    "    print(\"not same\")\n",
    "    \n",
    "#output is \" same\". because...., id of the a and b is same.\n",
    "print(id(a))\n",
    "print(id(b))"
   ]
  },
  {
   "cell_type": "code",
   "execution_count": 36,
   "id": "8b02b133",
   "metadata": {},
   "outputs": [
    {
     "name": "stdout",
     "output_type": "stream",
     "text": [
      "same\n",
      "555791014576\n",
      "555791014576\n"
     ]
    }
   ],
   "source": [
    "a=\"python\"\n",
    "b=\"python\"\n",
    "if(a is b):\n",
    "    print(\"same\")\n",
    "else:\n",
    "    print(\"not same\")\n",
    "    \n",
    "#output is \" not same\". because...., id of the a and b is not same.\n",
    "print(id(a))\n",
    "print(id(b))"
   ]
  },
  {
   "cell_type": "code",
   "execution_count": 31,
   "id": "0ab00a5c",
   "metadata": {},
   "outputs": [
    {
     "name": "stdout",
     "output_type": "stream",
     "text": [
      "not same\n",
      "555857253760\n",
      "555857254528\n"
     ]
    }
   ],
   "source": [
    "# is \n",
    "\n",
    "a=[1,2,3,4,5]\n",
    "b=[1,2,3,4,5]\n",
    "if(a is b):\n",
    "    print(\"same\")\n",
    "else:\n",
    "    print(\"not same\")\n",
    "    \n",
    "#output is \"not same\". because...., id of the a and b is not same.\n",
    "print(id(a))\n",
    "print(id(b))"
   ]
  },
  {
   "cell_type": "markdown",
   "id": "33ad6e56",
   "metadata": {},
   "source": [
    "#### so, if you want to compare the values of the objects, we should the \" == \""
   ]
  },
  {
   "cell_type": "code",
   "execution_count": 34,
   "id": "27e9ef76",
   "metadata": {},
   "outputs": [
    {
     "name": "stdout",
     "output_type": "stream",
     "text": [
      "same\n"
     ]
    }
   ],
   "source": [
    "a=10\n",
    "b=10\n",
    "if(a == b):\n",
    "    print(\"same\")\n",
    "else:\n",
    "    print(\"not same\")\n",
    "    \n",
    "# #output is \" same\". because...., id of the a and b is same.\n",
    "# print(id(a))\n",
    "# print(id(b))"
   ]
  },
  {
   "cell_type": "code",
   "execution_count": 37,
   "id": "7da310c4",
   "metadata": {},
   "outputs": [
    {
     "name": "stdout",
     "output_type": "stream",
     "text": [
      "same\n"
     ]
    }
   ],
   "source": [
    "a=\"python\"\n",
    "b=\"python\"\n",
    "if(a == b):\n",
    "    print(\"same\")\n",
    "else:\n",
    "    print(\"not same\")\n",
    "    "
   ]
  },
  {
   "cell_type": "code",
   "execution_count": 17,
   "id": "cc29b344",
   "metadata": {},
   "outputs": [
    {
     "name": "stdout",
     "output_type": "stream",
     "text": [
      "same\n",
      "=============\n",
      "True\n",
      "False\n"
     ]
    }
   ],
   "source": [
    "a=[1,2,3,4,5]\n",
    "b=[1,2,3,4,5]\n",
    "if(a == b):\n",
    "    print(\"same\")\n",
    "else:\n",
    "    print(\"not same\")\n",
    "    \n",
    "print(\"=============\")\n",
    "print(a==b)\n",
    "print(a is b)"
   ]
  },
  {
   "cell_type": "markdown",
   "id": "34085e2e",
   "metadata": {},
   "source": [
    "# 4) Logical Operators"
   ]
  },
  {
   "cell_type": "markdown",
   "id": "e5554306",
   "metadata": {},
   "source": [
    "1) and   # (x and y),if x is False, it return x, otherwise it return y.\n",
    "\n",
    "2) or    # (x or y),if x is False, it return y, otherwise it return x.\n",
    "\n",
    "3) not   # (not y),if x is False,it return True,otherwise True.\n",
    "\n",
    "Logical operators are useful to construct the compound conditions. A compound condition is a combination of the more then one simple condition.\n"
   ]
  },
  {
   "cell_type": "code",
   "execution_count": 53,
   "id": "57ac6771",
   "metadata": {},
   "outputs": [
    {
     "name": "stdout",
     "output_type": "stream",
     "text": [
      "False\n",
      "False\n",
      "True\n"
     ]
    }
   ],
   "source": [
    "print(not 100)\n",
    "print(not 1)\n",
    "print(not 0)"
   ]
  },
  {
   "cell_type": "code",
   "execution_count": 55,
   "id": "feaac8a2",
   "metadata": {},
   "outputs": [
    {
     "name": "stdout",
     "output_type": "stream",
     "text": [
      "1)  200\n",
      "2)  100\n",
      "3)  False\n"
     ]
    }
   ],
   "source": [
    "x=100\n",
    "y=200\n",
    "print(\"1) \",x and y)\n",
    "print(\"2) \",x or y)\n",
    "print(\"3) \",not y)"
   ]
  },
  {
   "cell_type": "markdown",
   "id": "ea82bd2b",
   "metadata": {},
   "source": [
    "# 5) Boolean Opeartor"
   ]
  },
  {
   "cell_type": "markdown",
   "id": "ea791936",
   "metadata": {},
   "source": [
    "There two bool type literals. They are \"True\" and \"False\". Boolean operators acts upon \"bool\" type literals and they provide \"bool\" type output. That means the result privided by the boolean operators is either \"True\" or \"False\" ."
   ]
  },
  {
   "cell_type": "code",
   "execution_count": null,
   "id": "8c18892c",
   "metadata": {},
   "outputs": [],
   "source": []
  },
  {
   "cell_type": "code",
   "execution_count": 62,
   "id": "22b11767",
   "metadata": {},
   "outputs": [
    {
     "name": "stdout",
     "output_type": "stream",
     "text": [
      "False\n",
      "False\n",
      "True\n",
      "False\n"
     ]
    }
   ],
   "source": [
    "print(True and False)\n",
    "print(False and True)\n",
    "print(True and True)\n",
    "print(False and False)"
   ]
  },
  {
   "cell_type": "code",
   "execution_count": 61,
   "id": "34338b71",
   "metadata": {},
   "outputs": [
    {
     "name": "stdout",
     "output_type": "stream",
     "text": [
      "True\n",
      "True\n",
      "True\n",
      "False\n"
     ]
    }
   ],
   "source": [
    "print(True or False)\n",
    "print(False or True)\n",
    "print(True or True)\n",
    "print(False or False)"
   ]
  },
  {
   "cell_type": "code",
   "execution_count": 64,
   "id": "82f0a610",
   "metadata": {},
   "outputs": [
    {
     "name": "stdout",
     "output_type": "stream",
     "text": [
      "False\n",
      "True\n"
     ]
    }
   ],
   "source": [
    "print(not True)\n",
    "print(not False)\n"
   ]
  },
  {
   "cell_type": "code",
   "execution_count": 20,
   "id": "b0332015",
   "metadata": {},
   "outputs": [
    {
     "name": "stdout",
     "output_type": "stream",
     "text": [
      "1\n",
      "2\n",
      "3\n"
     ]
    }
   ],
   "source": [
    "print(1 or 0)\n",
    "print(2 or 3)\n",
    "print(2 and 3)"
   ]
  },
  {
   "cell_type": "markdown",
   "id": "cf50ef37",
   "metadata": {},
   "source": [
    "# 6) Relational Opearators ( >,<,>=,<=,==,!= )   \n"
   ]
  },
  {
   "cell_type": "markdown",
   "id": "06bbc34c",
   "metadata": {},
   "source": [
    "Used to compare two quantities\n"
   ]
  },
  {
   "cell_type": "code",
   "execution_count": 67,
   "id": "80a1dec8",
   "metadata": {},
   "outputs": [
    {
     "name": "stdout",
     "output_type": "stream",
     "text": [
      "False\n",
      "False\n",
      "True\n",
      "True\n",
      "False\n",
      "True\n",
      "_________________\n",
      "False\n",
      "True\n",
      "False\n",
      "True\n",
      "True\n",
      "False\n"
     ]
    }
   ],
   "source": [
    "x=10\n",
    "y=20\n",
    "\n",
    "print(x>y)\n",
    "print(x>=y)\n",
    "print(x<y)\n",
    "print(x<=y)\n",
    "print(x==y)\n",
    "print(x!=y)\n",
    "\n",
    "print(\"_________________\")\n",
    "\n",
    "print(x>x)\n",
    "print(x>=x)\n",
    "print(x<x)\n",
    "print(x<=x)\n",
    "print(x==x)\n",
    "print(x!=x)"
   ]
  },
  {
   "cell_type": "markdown",
   "id": "aee3b0ee",
   "metadata": {},
   "source": [
    "# 7) Mebership Operator"
   ]
  },
  {
   "cell_type": "markdown",
   "id": "3917a565",
   "metadata": {},
   "source": [
    ">Membership operator is usufull to test the membership in the sequence such as list, tuple,dictionary and string..... etc"
   ]
  },
  {
   "cell_type": "code",
   "execution_count": 23,
   "id": "20f8cbae",
   "metadata": {},
   "outputs": [
    {
     "name": "stdout",
     "output_type": "stream",
     "text": [
      "True\n",
      "False\n"
     ]
    }
   ],
   "source": [
    "l=[1,2,3,4,5]\n",
    "print(2 in l)\n",
    "print(3 not in l)"
   ]
  },
  {
   "cell_type": "code",
   "execution_count": 32,
   "id": "2f754028",
   "metadata": {
    "scrolled": true
   },
   "outputs": [
    {
     "name": "stdout",
     "output_type": "stream",
     "text": [
      "False\n",
      "True\n",
      "True\n",
      "True\n"
     ]
    }
   ],
   "source": [
    "s=\"Data Science with python\"\n",
    "print(\"data\" in s)\n",
    "print(\"Data\" in s)\n",
    "print(\" \" in s)\n",
    "print(\"Data Science \" in s)"
   ]
  },
  {
   "cell_type": "markdown",
   "id": "d6eef82f",
   "metadata": {},
   "source": [
    "# Mathematical Functions"
   ]
  },
  {
   "cell_type": "code",
   "execution_count": 89,
   "id": "87acf0c0",
   "metadata": {
    "scrolled": false
   },
   "outputs": [
    {
     "name": "stdout",
     "output_type": "stream",
     "text": [
      "ceil of 12.34 is  13\n",
      "floor of 12.34 is  12\n",
      "degrees value of radian 12.34 is  707.0299191914359\n",
      "radians value of the degree 12 .34 is  0.21537362969610027\n",
      "sin(60) is  -0.3048106211022167\n",
      "cos(60) is  -0.9524129804151563\n",
      "tan(60) is  0.320040389379563\n",
      "e^2 is  7.38905609893065\n",
      "absolute value of the 12 is  12.0 absolute value of the -12.34 is  12.34\n",
      "factorial of the 4 is  24\n",
      "reminder for 10 divided by 4  2.0\n",
      "sum of elements in a sequence is  45.0\n",
      "55.0\n",
      "55.0\n",
      "the fraction and inter part of the float 2.56 is  (0.56, 2.0)\n",
      "square root of the 4 is  2.0\n",
      "the value of the 5 to the power of 2 is  25.0\n",
      "GCD of 25,10 is 5\n"
     ]
    }
   ],
   "source": [
    "import math as m\n",
    "\n",
    "#ceil()\n",
    "print(\"ceil of 12.34 is \",m.ceil(12.34))  # return ceil value of the 12.34\n",
    "\n",
    "#floor()\n",
    "print(\"floor of 12.34 is \",m.floor(12.34))  # return floor value of the 12.34\n",
    "\n",
    "#degree()\n",
    "print(\"degrees value of radians 12.34 is \",m.degrees(12.34))  # \n",
    "\n",
    "#degrees()\n",
    "print(\"radians value of the degree 12 .34 is \",m.radians(12.34))\n",
    "\n",
    "#sin()\n",
    "print(\"sin(60) is \",m.sin(60)) # 60 is radians value\n",
    "\n",
    "#cos()\n",
    "print(\"cos(60) is \",m.cos(60)) # 60 is radians value\n",
    "\n",
    "#tan()\n",
    "print(\"tan(60) is \",m.tan(60)) # 60 is radians value\n",
    "\n",
    "#exp()\n",
    "print(\"e^2 is \",m.exp(2)) # exponatiation of the 2\n",
    "\n",
    "#fabs()\n",
    "print(\"absolute value of the 12 is \",m.fabs(12),\"absolute value of the -12.34 is \",m.fabs(-12.34))\n",
    "\n",
    "#factorial()\n",
    "print(\"factorial of the 4 is \",m.factorial(4))\n",
    "#print(\"factorial of the 4.56 is \",m.factorial(4.56)) #value error\n",
    "#print(\"factorial of the -4 is \",m.factorial(-4)) # value error\n",
    "#print(\"factorial of the 'a' is \",m.factorial(\"a\")) # type error\n",
    "\n",
    "#fmod()\n",
    "print(\"reminder for 10 divided by 4 \",m.fmod(10,4)) # return the reminder\n",
    "\n",
    "#sum()\n",
    "print(\"sum of elements in a sequence is \",m.fsum(range(10))) # return thr sum of thr elements in the sequence\n",
    "print(m.fsum([1,2,3,4,5,6,7,8,9,10]))\n",
    "print(m.fsum((1,2,3,4,5,6,7,8,9,10)))\n",
    "\n",
    "#modf()\n",
    "print(\"the fraction and inter part of the float 2.56 is \",m.modf(2.56))  # return the fraction and inter part of the float\n",
    "\n",
    "#sqrt()\n",
    "print(\"square root of the 4 is \",m.sqrt(4))\n",
    "\n",
    "pow()\n",
    "print(\"the value of the 5 to the power of 2 is \",m.pow(5,2))\n",
    "\n",
    "#gcd()\n",
    "print(\"GCD of 25,10 is\",m.gcd(25,10))"
   ]
  },
  {
   "cell_type": "code",
   "execution_count": null,
   "id": "daa72997",
   "metadata": {},
   "outputs": [],
   "source": []
  }
 ],
 "metadata": {
  "kernelspec": {
   "display_name": "Python 3 (ipykernel)",
   "language": "python",
   "name": "python3"
  },
  "language_info": {
   "codemirror_mode": {
    "name": "ipython",
    "version": 3
   },
   "file_extension": ".py",
   "mimetype": "text/x-python",
   "name": "python",
   "nbconvert_exporter": "python",
   "pygments_lexer": "ipython3",
   "version": "3.9.7"
  }
 },
 "nbformat": 4,
 "nbformat_minor": 5
}
