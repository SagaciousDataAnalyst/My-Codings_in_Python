{
 "cells": [
  {
   "cell_type": "markdown",
   "id": "5a72497b",
   "metadata": {},
   "source": [
    "### Bitwise NOT (Complement) Operator( ~ )"
   ]
  },
  {
   "cell_type": "code",
   "execution_count": 2,
   "id": "fd072d37",
   "metadata": {},
   "outputs": [
    {
     "name": "stdout",
     "output_type": "stream",
     "text": [
      "-12\n",
      "-13\n",
      "-14\n",
      "-1730\n"
     ]
    }
   ],
   "source": [
    "# \"~\" return the complement of the number\n",
    "# a compliment is -a\n",
    "\n",
    "print(~11)                           \n",
    "print( ~ 12)\n",
    "print(~13)\n",
    "print(~1729)"
   ]
  }
 ],
 "metadata": {
  "kernelspec": {
   "display_name": "Python 3 (ipykernel)",
   "language": "python",
   "name": "python3"
  },
  "language_info": {
   "codemirror_mode": {
    "name": "ipython",
    "version": 3
   },
   "file_extension": ".py",
   "mimetype": "text/x-python",
   "name": "python",
   "nbconvert_exporter": "python",
   "pygments_lexer": "ipython3",
   "version": "3.9.7"
  }
 },
 "nbformat": 4,
 "nbformat_minor": 5
}
