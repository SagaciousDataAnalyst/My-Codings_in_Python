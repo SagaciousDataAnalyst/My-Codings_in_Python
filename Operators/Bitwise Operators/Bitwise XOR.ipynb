{
 "cells": [
  {
   "cell_type": "markdown",
   "id": "bbaeafbf",
   "metadata": {},
   "source": [
    "### Bitwise XOR OPerator ( ^ )\n",
    "TRUE table for XOR :-\n",
    "\n",
    "0 0 = 0\n",
    "\n",
    "0 1 = 1\n",
    "\n",
    "1 0 = 1\n",
    "\n",
    "1 1 = 0"
   ]
  },
  {
   "cell_type": "code",
   "execution_count": 1,
   "id": "c60b9d8c",
   "metadata": {},
   "outputs": [
    {
     "name": "stdout",
     "output_type": "stream",
     "text": [
      "1\n"
     ]
    }
   ],
   "source": [
    "\"\"\"\n",
    "This operator performs exclusive (OR) XOR operation on the bits of the numbers\n",
    "\" ^ \" symbol is called cap,carat,circumflex syblom\n",
    "\n",
    "\"\"\"\n",
    "print(10 ^ 11) #bin(10) = 0000 1010\n",
    "               #bin(11) = 0000 1011\n",
    "               #        = 0000 0001 = bin(1)\n"
   ]
  }
 ],
 "metadata": {
  "kernelspec": {
   "display_name": "Python 3 (ipykernel)",
   "language": "python",
   "name": "python3"
  },
  "language_info": {
   "codemirror_mode": {
    "name": "ipython",
    "version": 3
   },
   "file_extension": ".py",
   "mimetype": "text/x-python",
   "name": "python",
   "nbconvert_exporter": "python",
   "pygments_lexer": "ipython3",
   "version": "3.9.7"
  }
 },
 "nbformat": 4,
 "nbformat_minor": 5
}
