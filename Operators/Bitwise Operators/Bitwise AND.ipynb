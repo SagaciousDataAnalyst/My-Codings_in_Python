{
 "cells": [
  {
   "cell_type": "markdown",
   "id": "b51d30da",
   "metadata": {},
   "source": [
    "### bitwise AND Operator ( & )\n",
    "TRUE table for AND :-\n",
    "\n",
    "0 0 = 0\n",
    "\n",
    "0 1 = 0\n",
    "\n",
    "1 0 = 0\n",
    "\n",
    "1 1 = 1"
   ]
  },
  {
   "cell_type": "code",
   "execution_count": 1,
   "id": "d8ce2207",
   "metadata": {},
   "outputs": [
    {
     "name": "stdout",
     "output_type": "stream",
     "text": [
      "10\n"
     ]
    }
   ],
   "source": [
    "# it peforms the AND operation on the idividual bits of the number\n",
    "\n",
    "print(10 & 11) #bin(10) = 0000 1010\n",
    "               #bin(11) = 0000 1011\n",
    "               #        = 0000 1010 = bin(10)\n",
    "\n"
   ]
  },
  {
   "cell_type": "code",
   "execution_count": null,
   "id": "81cf2487",
   "metadata": {},
   "outputs": [],
   "source": []
  }
 ],
 "metadata": {
  "kernelspec": {
   "display_name": "Python 3 (ipykernel)",
   "language": "python",
   "name": "python3"
  },
  "language_info": {
   "codemirror_mode": {
    "name": "ipython",
    "version": 3
   },
   "file_extension": ".py",
   "mimetype": "text/x-python",
   "name": "python",
   "nbconvert_exporter": "python",
   "pygments_lexer": "ipython3",
   "version": "3.9.7"
  }
 },
 "nbformat": 4,
 "nbformat_minor": 5
}
