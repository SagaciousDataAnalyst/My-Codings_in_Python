{
 "cells": [
  {
   "cell_type": "code",
   "execution_count": null,
   "id": "0f055c6d",
   "metadata": {},
   "outputs": [],
   "source": [
    "# Bitwise left shift operation\n",
    "print(10<<2) \n",
    "\n",
    "# Bitwise right shift operation\n",
    "print(10<<2) "
   ]
  }
 ],
 "metadata": {
  "kernelspec": {
   "display_name": "Python 3 (ipykernel)",
   "language": "python",
   "name": "python3"
  },
  "language_info": {
   "codemirror_mode": {
    "name": "ipython",
    "version": 3
   },
   "file_extension": ".py",
   "mimetype": "text/x-python",
   "name": "python",
   "nbconvert_exporter": "python",
   "pygments_lexer": "ipython3",
   "version": "3.9.7"
  }
 },
 "nbformat": 4,
 "nbformat_minor": 5
}
