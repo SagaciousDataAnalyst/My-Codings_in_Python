{
 "cells": [
  {
   "cell_type": "markdown",
   "id": "9ae7e82e",
   "metadata": {},
   "source": [
    "1) and # (x and y),if x is False, it return x, otherwise it return y.\n",
    "\n",
    "2) or # (x or y),if x is False, it return y, otherwise it return x.\n",
    "\n",
    "3) not # (not y),if x is False,it return True,otherwise True.\n",
    "\n",
    "Logical operators are useful to construct the compound conditions. A compound condition is a combination of the more then one simple condition."
   ]
  },
  {
   "cell_type": "code",
   "execution_count": 14,
   "id": "fb917f77",
   "metadata": {},
   "outputs": [
    {
     "name": "stdout",
     "output_type": "stream",
     "text": [
      "200\n",
      "100\n",
      "False\n",
      "True\n",
      "\n",
      "===========\n",
      "\n",
      "3\n",
      "1\n",
      "2\n",
      "1\n"
     ]
    }
   ],
   "source": [
    "x=100\n",
    "y=200\n",
    "print(x and y)\n",
    "print(x or y)\n",
    "print(not y)\n",
    "print(not 0)\n",
    "print(\"\\n===========\\n\")\n",
    "print(1 and 2 and 3)\n",
    "print(1 or 2 or 3)\n",
    "print(1 and 2 or 3)\n",
    "print(1 or 2 and 3)"
   ]
  },
  {
   "cell_type": "code",
   "execution_count": null,
   "id": "d492522c",
   "metadata": {},
   "outputs": [],
   "source": []
  }
 ],
 "metadata": {
  "kernelspec": {
   "display_name": "Python 3 (ipykernel)",
   "language": "python",
   "name": "python3"
  },
  "language_info": {
   "codemirror_mode": {
    "name": "ipython",
    "version": 3
   },
   "file_extension": ".py",
   "mimetype": "text/x-python",
   "name": "python",
   "nbconvert_exporter": "python",
   "pygments_lexer": "ipython3",
   "version": "3.9.7"
  }
 },
 "nbformat": 4,
 "nbformat_minor": 5
}
