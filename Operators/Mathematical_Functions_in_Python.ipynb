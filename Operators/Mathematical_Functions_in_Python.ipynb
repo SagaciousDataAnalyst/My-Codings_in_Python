{
 "cells": [
  {
   "cell_type": "code",
   "execution_count": 3,
   "id": "282ebcf3",
   "metadata": {},
   "outputs": [
    {
     "name": "stdout",
     "output_type": "stream",
     "text": [
      "ceil of 12.34 is  13\n",
      "floor of 12.34 is  12\n",
      "degrees value of radian 12.34 is  707.0299191914359\n",
      "radians value of the degree 12 .34 is  0.21537362969610027\n",
      "sin(60) is  -0.3048106211022167\n",
      "cos(60) is  -0.9524129804151563\n",
      "tan(60) is  0.320040389379563\n",
      "e^2 is  7.38905609893065\n",
      "absolute value of the 12 is  12.0 absolute value of the -12.34 is  12.34\n",
      "factorial of the 4 is  24\n",
      "reminder for 10 divided by 4  2.0\n",
      "sum of elements in a sequence is  45.0\n",
      "55.0\n",
      "55.0\n",
      "the fraction and inter part of the float 2.56 is  (0.56, 2.0)\n",
      "square root of the 4 is  2.0\n",
      "the value of the 5 to the power of 2 is  25.0\n",
      "GCD of 25,10 is 5\n"
     ]
    }
   ],
   "source": [
    "import math as m\n",
    "\n",
    "#ceil()\n",
    "print(\"ceil of 12.34 is \",m.ceil(12.34))\n",
    "\n",
    "#floor()\n",
    "print(\"floor of 12.34 is \",m.floor(12.34))\n",
    "\n",
    "#degree()\n",
    "print(\"degrees value of radian 12.34 is \",m.degrees(12.34))\n",
    "\n",
    "#degrees()\n",
    "print(\"radians value of the degree 12 .34 is \",m.radians(12.34))\n",
    "\n",
    "#sin()\n",
    "print(\"sin(60) is \",m.sin(60)) # 60 is radians value\n",
    "\n",
    "#cos()\n",
    "print(\"cos(60) is \",m.cos(60)) # 60 is radians value\n",
    "\n",
    "#tan()\n",
    "print(\"tan(60) is \",m.tan(60)) # 60 is radians value\n",
    "\n",
    "#exp()\n",
    "print(\"e^2 is \",m.exp(2)) # exponatiation of the 2\n",
    "\n",
    "#fabs()\n",
    "print(\"absolute value of the 12 is \",m.fabs(12),\"absolute value of the -12.34 is \",m.fabs(-12.34))\n",
    "\n",
    "#factorial()\n",
    "print(\"factorial of the 4 is \",m.factorial(4))\n",
    "#print(\"factorial of the 4.56 is \",m.factorial(4.56)) #value error\n",
    "#print(\"factorial of the -4 is \",m.factorial(-4)) # value error\n",
    "#print(\"factorial of the 'a' is \",m.factorial(\"a\")) # type error\n",
    "\n",
    "#fmod()\n",
    "print(\"reminder for 10 divided by 4 \",m.fmod(10,4)) # return the reminder\n",
    "\n",
    "#sum()\n",
    "print(\"sum of elements in a sequence is \",m.fsum(range(10))) # return thr sum of thr elements in the sequence\n",
    "print(m.fsum([1,2,3,4,5,6,7,8,9,10]))\n",
    "print(m.fsum((1,2,3,4,5,6,7,8,9,10)))\n",
    "\n",
    "#modf()\n",
    "print(\"the fraction and inter part of the float 2.56 is \",m.modf(2.56))  # return the fraction and inter part of the float\n",
    "\n",
    "#sqrt()\n",
    "print(\"square root of the 4 is \",m.sqrt(4))\n",
    "\n",
    "#pow()\n",
    "print(\"the value of the 5 to the power of 2 is \",m.pow(5,2))\n",
    "\n",
    "#gcd()\n",
    "print(\"GCD of 25,10 is\",m.gcd(25,10))"
   ]
  },
  {
   "cell_type": "code",
   "execution_count": null,
   "id": "83c3ff34",
   "metadata": {},
   "outputs": [],
   "source": []
  }
 ],
 "metadata": {
  "kernelspec": {
   "display_name": "Python 3 (ipykernel)",
   "language": "python",
   "name": "python3"
  },
  "language_info": {
   "codemirror_mode": {
    "name": "ipython",
    "version": 3
   },
   "file_extension": ".py",
   "mimetype": "text/x-python",
   "name": "python",
   "nbconvert_exporter": "python",
   "pygments_lexer": "ipython3",
   "version": "3.9.7"
  }
 },
 "nbformat": 4,
 "nbformat_minor": 5
}
