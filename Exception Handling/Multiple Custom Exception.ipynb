{
 "cells": [
  {
   "cell_type": "code",
   "execution_count": null,
   "id": "d055455c",
   "metadata": {},
   "outputs": [],
   "source": [
    "class Error(Exception):\n",
    "    \"\"\"Base class for other exceptions\"\"\"\n",
    "    pass\n",
    "\n",
    "\n",
    "class InputTooSmallError(Error):\n",
    "    \"\"\"Raised when the entered alpahbet is smaller than the actual one\"\"\"\n",
    "    pass\n",
    "\n",
    "\n",
    "class InputTooLargeError(Error):\n",
    "    \"\"\"Raised when the entered alpahbet is larger than the actual one\"\"\"\n",
    "    pass\n",
    "\n",
    "\n",
    "# our main program\n",
    "# user guesses an alphabet until he/she gets it right\n",
    "\n",
    "# you need to guess this alphabet\n",
    "alphabet = 'm'\n",
    "\n",
    "while True:\n",
    "    try:\n",
    "        apb = input(\"Enter an alphabet: \")\n",
    "        if apb < alphabet:\n",
    "            raise InputTooSmallError\n",
    "        elif apb > alphabet:\n",
    "            raise InputTooLargeError\n",
    "\n",
    "    except InputTooSmallError:\n",
    "        print(\"The entered alphabet is too small, try again!\")\n",
    "        print('')\n",
    "    except InputTooLargeError:\n",
    "        print(\"The entered alphabet is too large, try again!\")\n",
    "        print('')\n",
    "\n"
   ]
  }
 ],
 "metadata": {
  "kernelspec": {
   "display_name": "Python 3 (ipykernel)",
   "language": "python",
   "name": "python3"
  },
  "language_info": {
   "codemirror_mode": {
    "name": "ipython",
    "version": 3
   },
   "file_extension": ".py",
   "mimetype": "text/x-python",
   "name": "python",
   "nbconvert_exporter": "python",
   "pygments_lexer": "ipython3",
   "version": "3.9.7"
  }
 },
 "nbformat": 4,
 "nbformat_minor": 5
}
