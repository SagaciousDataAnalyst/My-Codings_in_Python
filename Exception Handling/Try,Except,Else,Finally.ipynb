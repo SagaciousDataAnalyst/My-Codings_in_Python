{
 "cells": [
  {
   "cell_type": "code",
   "execution_count": null,
   "id": "81f77247",
   "metadata": {},
   "outputs": [],
   "source": [
    "class TooYoungException(Exception):\n",
    "    pass\n",
    "age = int(input(\"Enter age of the customer : \"))\n",
    "try:\n",
    "    if age < 18:\n",
    "        raise TooYoungException\n",
    "\n",
    "except TooYoungException:\n",
    "    print(\"you are not elibile to vote now\")\n",
    "else:\n",
    "    print(\"you are eligible to vote\")\n",
    "finally:\n",
    "    print(\"its a finally block\")\n",
    "print(\"end of the app\")"
   ]
  }
 ],
 "metadata": {
  "kernelspec": {
   "display_name": "Python 3 (ipykernel)",
   "language": "python",
   "name": "python3"
  },
  "language_info": {
   "codemirror_mode": {
    "name": "ipython",
    "version": 3
   },
   "file_extension": ".py",
   "mimetype": "text/x-python",
   "name": "python",
   "nbconvert_exporter": "python",
   "pygments_lexer": "ipython3",
   "version": "3.9.7"
  }
 },
 "nbformat": 4,
 "nbformat_minor": 5
}
