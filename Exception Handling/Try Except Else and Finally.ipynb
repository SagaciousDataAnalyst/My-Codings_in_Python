{
 "cells": [
  {
   "cell_type": "code",
   "execution_count": null,
   "id": "abfc0523",
   "metadata": {},
   "outputs": [],
   "source": [
    "def myfunction(num):\n",
    "    try:\n",
    "        print(10/num)   #if num=0 raise error\n",
    "    except Exception as e:\n",
    "        print(e)\n",
    "    else:\n",
    "        print(\"There is No error\")\n",
    "    finally:\n",
    "        print(\"No matter whether error raise or not..., it always executes\")\n",
    "myfunction(1)\n",
    "myfunction(0)"
   ]
  }
 ],
 "metadata": {
  "kernelspec": {
   "display_name": "Python 3 (ipykernel)",
   "language": "python",
   "name": "python3"
  },
  "language_info": {
   "codemirror_mode": {
    "name": "ipython",
    "version": 3
   },
   "file_extension": ".py",
   "mimetype": "text/x-python",
   "name": "python",
   "nbconvert_exporter": "python",
   "pygments_lexer": "ipython3",
   "version": "3.9.7"
  }
 },
 "nbformat": 4,
 "nbformat_minor": 5
}
