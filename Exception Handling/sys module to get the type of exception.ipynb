{
 "cells": [
  {
   "cell_type": "code",
   "execution_count": null,
   "id": "dadf7be2",
   "metadata": {},
   "outputs": [],
   "source": [
    "import sys\n",
    "def myfunction(n):  # \n",
    "    example_list=[1,2,'a',0,[1,2,3]]\n",
    "    for i in example_list:\n",
    "        try:\n",
    "            print(\"The value of the {}/{} is {}\".format(n,i,n/int(i)))\n",
    "        except:\n",
    "            print(\"We cannot able to peform the {}/{}. It raise an Error. And, the error is {}\".format(n,i,sys.exc_info()[0]))\n",
    "        print(\"========================================\")\n",
    "\n",
    "myfunction(2)"
   ]
  }
 ],
 "metadata": {
  "kernelspec": {
   "display_name": "Python 3 (ipykernel)",
   "language": "python",
   "name": "python3"
  },
  "language_info": {
   "codemirror_mode": {
    "name": "ipython",
    "version": 3
   },
   "file_extension": ".py",
   "mimetype": "text/x-python",
   "name": "python",
   "nbconvert_exporter": "python",
   "pygments_lexer": "ipython3",
   "version": "3.9.7"
  }
 },
 "nbformat": 4,
 "nbformat_minor": 5
}
