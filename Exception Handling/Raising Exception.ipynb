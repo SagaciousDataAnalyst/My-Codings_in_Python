{
 "cells": [
  {
   "cell_type": "code",
   "execution_count": null,
   "id": "78d626ec",
   "metadata": {},
   "outputs": [],
   "source": [
    "def myfunction(num):\n",
    "    try:\n",
    "        return 10/num  # if num=0 then it raise ZeroDivisionError\n",
    "\n",
    "    except Exception as e:\n",
    "        return e\n",
    "        \n",
    "myfunction(int(input(\"Enter any integer :\")))\n",
    "    "
   ]
  }
 ],
 "metadata": {
  "kernelspec": {
   "display_name": "Python 3 (ipykernel)",
   "language": "python",
   "name": "python3"
  },
  "language_info": {
   "codemirror_mode": {
    "name": "ipython",
    "version": 3
   },
   "file_extension": ".py",
   "mimetype": "text/x-python",
   "name": "python",
   "nbconvert_exporter": "python",
   "pygments_lexer": "ipython3",
   "version": "3.9.7"
  }
 },
 "nbformat": 4,
 "nbformat_minor": 5
}
