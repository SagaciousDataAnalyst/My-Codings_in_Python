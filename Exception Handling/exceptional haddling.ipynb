{
 "cells": [
  {
   "cell_type": "markdown",
   "id": "5a839174",
   "metadata": {},
   "source": [
    "# Exceptional Handling"
   ]
  },
  {
   "cell_type": "markdown",
   "id": "834cdbe7",
   "metadata": {},
   "source": [
    "Exception : An unwanted and unexpected evevt that disturb the normal flow of the of the program execution is called \"Exception\"\n",
    "Exception Handling : providing the alternalive way of the smooth execution of the program.\n",
    "\n",
    "If None of the methods or functions or lines are handled the exception,\n",
    "The python interpreter invokes the \"Default Exceptional Handler\" to prints the corresponding informationa on the consol.\n",
    "\n",
    "Trackback Information :-\n",
    "\n",
    "1) The lines at which the Exception raised\n",
    "2) Exception Name\n",
    "3) Exception Description\n"
   ]
  },
  {
   "cell_type": "code",
   "execution_count": 1,
   "id": "c667fc49",
   "metadata": {
    "scrolled": true
   },
   "outputs": [
    {
     "ename": "ZeroDivisionError",
     "evalue": "division by zero",
     "output_type": "error",
     "traceback": [
      "\u001b[1;31m---------------------------------------------------------------------------\u001b[0m",
      "\u001b[1;31mZeroDivisionError\u001b[0m                         Traceback (most recent call last)",
      "\u001b[1;32mC:\\Users\\SHAILA~1\\AppData\\Local\\Temp/ipykernel_364/179726827.py\u001b[0m in \u001b[0;36m<module>\u001b[1;34m\u001b[0m\n\u001b[1;32m----> 1\u001b[1;33m \u001b[0mprint\u001b[0m\u001b[1;33m(\u001b[0m\u001b[1;36m10\u001b[0m\u001b[1;33m/\u001b[0m\u001b[1;36m0\u001b[0m\u001b[1;33m)\u001b[0m\u001b[1;33m\u001b[0m\u001b[1;33m\u001b[0m\u001b[0m\n\u001b[0m",
      "\u001b[1;31mZeroDivisionError\u001b[0m: division by zero"
     ]
    }
   ],
   "source": [
    "# Program_1\n",
    "\n",
    "print(10/0)  # this statement raise an error\n"
   ]
  },
  {
   "cell_type": "code",
   "execution_count": 6,
   "id": "78d74ffa",
   "metadata": {},
   "outputs": [
    {
     "name": "stdout",
     "output_type": "stream",
     "text": [
      "handling the eror : Method-1 :-\n",
      "we are not able to divide a number by zero. \n",
      "handling the eror : Method-2 :-\n",
      "division by zero\n"
     ]
    }
   ],
   "source": [
    "# Program_2\n",
    "\n",
    "\"\"\"\n",
    "so, this is the way to hadle the above error\n",
    "\n",
    "\"\"\"\n",
    "print(\"handling the eror : Method-1 :-\")\n",
    "try:\n",
    "    print(10/0)  # raise exception\n",
    "except:\n",
    "    print(\"we are not able to divide a number by zero. \")\n",
    "    \n",
    "    \n",
    "print(\"handling the eror : Method-2 :-\")\n",
    "try:\n",
    "    print(10/0)  # raise exception\n",
    "except ZeroDivisionError as d:\n",
    "    print(d)  # this line gives the Exception Description as output. \n",
    "\n",
    "    "
   ]
  },
  {
   "cell_type": "code",
   "execution_count": 2,
   "id": "e4f63ba0",
   "metadata": {},
   "outputs": [
    {
     "name": "stdout",
     "output_type": "stream",
     "text": [
      "division by zero\n",
      "ZeroDivisionError\n",
      "finally\n"
     ]
    }
   ],
   "source": [
    "# Program_3\n",
    "\n",
    "\"\"\"\n",
    "we can use the \"try\" block through the \"except\",\"else\" and \"finally\"\n",
    "\n",
    "try : in try block, we write risky(block lets you test a block of code for errors.)\n",
    "except : in except block, we handle the error, means we provide the information about the error.\n",
    "else : if there is no error then statements inside the else block execures.\n",
    "finally : this block execute always. no matter whether there is an error or not.\n",
    "\n",
    "\"\"\"\n",
    "\n",
    "class test():\n",
    "    def maths(self):\n",
    "        try:\n",
    "            self.score()\n",
    "        except ZeroDivisionError as z :\n",
    "            print(z)\n",
    "            print(\"ZeroDivisionError\")\n",
    "        else:\n",
    "            print(\"no exception\")\n",
    "        finally:\n",
    "            print(\"finally\")\n",
    "    def score(self):\n",
    "        print(100/0)\n",
    "t=test()\n",
    "t.maths()\n"
   ]
  },
  {
   "cell_type": "code",
   "execution_count": 5,
   "id": "f33cb132",
   "metadata": {},
   "outputs": [
    {
     "ename": "SyntaxError",
     "evalue": "default 'except:' must be last (Temp/ipykernel_4968/4194824549.py, line 2)",
     "output_type": "error",
     "traceback": [
      "\u001b[1;36m  File \u001b[1;32m\"C:\\Users\\SHAILA~1\\AppData\\Local\\Temp/ipykernel_4968/4194824549.py\"\u001b[1;36m, line \u001b[1;32m2\u001b[0m\n\u001b[1;33m    print(x)\u001b[0m\n\u001b[1;37m    ^\u001b[0m\n\u001b[1;31mSyntaxError\u001b[0m\u001b[1;31m:\u001b[0m default 'except:' must be last\n"
     ]
    }
   ],
   "source": [
    "try:\n",
    "    print(x)\n",
    "except:\n",
    "    print(\"x is not defind\")\n",
    "except:\n",
    "    print(\"somrthing went wrong.......\")"
   ]
  },
  {
   "cell_type": "code",
   "execution_count": 4,
   "id": "0631f483",
   "metadata": {},
   "outputs": [
    {
     "ename": "SyntaxError",
     "evalue": "invalid syntax (Temp/ipykernel_4968/1394618511.py, line 3)",
     "output_type": "error",
     "traceback": [
      "\u001b[1;36m  File \u001b[1;32m\"C:\\Users\\SHAILA~1\\AppData\\Local\\Temp/ipykernel_4968/1394618511.py\"\u001b[1;36m, line \u001b[1;32m3\u001b[0m\n\u001b[1;33m    try:\u001b[0m\n\u001b[1;37m    ^\u001b[0m\n\u001b[1;31mSyntaxError\u001b[0m\u001b[1;31m:\u001b[0m invalid syntax\n"
     ]
    }
   ],
   "source": [
    "try:\n",
    "    print(x)\n",
    "except NameError:\n",
    "    print(\"x is not defind\")\n",
    "except:\n",
    "    print(\"somrthing went wrong.......\")"
   ]
  },
  {
   "cell_type": "code",
   "execution_count": 6,
   "id": "a6c482a0",
   "metadata": {},
   "outputs": [
    {
     "name": "stdout",
     "output_type": "stream",
     "text": [
      " file not find\n"
     ]
    }
   ],
   "source": [
    "try:\n",
    "    f=open(\"myfile.txt\")\n",
    "except:\n",
    "    print(\" file not find\")\n"
   ]
  },
  {
   "cell_type": "code",
   "execution_count": 1,
   "id": "f227b00c",
   "metadata": {},
   "outputs": [
    {
     "ename": "ZeroDivisionError",
     "evalue": "division by zero",
     "output_type": "error",
     "traceback": [
      "\u001b[1;31m---------------------------------------------------------------------------\u001b[0m",
      "\u001b[1;31mZeroDivisionError\u001b[0m                         Traceback (most recent call last)",
      "\u001b[1;32mC:\\Users\\SHAILA~1\\AppData\\Local\\Temp/ipykernel_1216/4177632065.py\u001b[0m in \u001b[0;36m<module>\u001b[1;34m\u001b[0m\n\u001b[0;32m     10\u001b[0m \u001b[1;33m\u001b[0m\u001b[0m\n\u001b[0;32m     11\u001b[0m \u001b[0mt\u001b[0m\u001b[1;33m=\u001b[0m\u001b[0mTest\u001b[0m\u001b[1;33m(\u001b[0m\u001b[1;33m)\u001b[0m\u001b[1;33m\u001b[0m\u001b[1;33m\u001b[0m\u001b[0m\n\u001b[1;32m---> 12\u001b[1;33m \u001b[0mt\u001b[0m\u001b[1;33m.\u001b[0m\u001b[0mstuff\u001b[0m\u001b[1;33m(\u001b[0m\u001b[1;33m)\u001b[0m\u001b[1;33m\u001b[0m\u001b[1;33m\u001b[0m\u001b[0m\n\u001b[0m\u001b[0;32m     13\u001b[0m \u001b[1;33m\u001b[0m\u001b[0m\n",
      "\u001b[1;32mC:\\Users\\SHAILA~1\\AppData\\Local\\Temp/ipykernel_1216/4177632065.py\u001b[0m in \u001b[0;36mstuff\u001b[1;34m(self)\u001b[0m\n\u001b[0;32m      1\u001b[0m \u001b[1;32mclass\u001b[0m \u001b[0mTest\u001b[0m\u001b[1;33m:\u001b[0m\u001b[1;33m\u001b[0m\u001b[1;33m\u001b[0m\u001b[0m\n\u001b[0;32m      2\u001b[0m     \u001b[1;32mdef\u001b[0m \u001b[0mstuff\u001b[0m\u001b[1;33m(\u001b[0m\u001b[0mself\u001b[0m\u001b[1;33m)\u001b[0m\u001b[1;33m:\u001b[0m\u001b[1;33m\u001b[0m\u001b[1;33m\u001b[0m\u001b[0m\n\u001b[1;32m----> 3\u001b[1;33m         \u001b[0mself\u001b[0m\u001b[1;33m.\u001b[0m\u001b[0mdoStuff\u001b[0m\u001b[1;33m(\u001b[0m\u001b[1;33m)\u001b[0m\u001b[1;33m\u001b[0m\u001b[1;33m\u001b[0m\u001b[0m\n\u001b[0m\u001b[0;32m      4\u001b[0m \u001b[1;33m\u001b[0m\u001b[0m\n\u001b[0;32m      5\u001b[0m     \u001b[1;32mdef\u001b[0m \u001b[0mdoStuff\u001b[0m\u001b[1;33m(\u001b[0m\u001b[0mself\u001b[0m\u001b[1;33m)\u001b[0m\u001b[1;33m:\u001b[0m\u001b[1;33m\u001b[0m\u001b[1;33m\u001b[0m\u001b[0m\n",
      "\u001b[1;32mC:\\Users\\SHAILA~1\\AppData\\Local\\Temp/ipykernel_1216/4177632065.py\u001b[0m in \u001b[0;36mdoStuff\u001b[1;34m(self)\u001b[0m\n\u001b[0;32m      4\u001b[0m \u001b[1;33m\u001b[0m\u001b[0m\n\u001b[0;32m      5\u001b[0m     \u001b[1;32mdef\u001b[0m \u001b[0mdoStuff\u001b[0m\u001b[1;33m(\u001b[0m\u001b[0mself\u001b[0m\u001b[1;33m)\u001b[0m\u001b[1;33m:\u001b[0m\u001b[1;33m\u001b[0m\u001b[1;33m\u001b[0m\u001b[0m\n\u001b[1;32m----> 6\u001b[1;33m         \u001b[0mself\u001b[0m\u001b[1;33m.\u001b[0m\u001b[0mdoMoreStuff\u001b[0m\u001b[1;33m(\u001b[0m\u001b[1;33m)\u001b[0m\u001b[1;33m\u001b[0m\u001b[1;33m\u001b[0m\u001b[0m\n\u001b[0m\u001b[0;32m      7\u001b[0m \u001b[1;33m\u001b[0m\u001b[0m\n\u001b[0;32m      8\u001b[0m     \u001b[1;32mdef\u001b[0m \u001b[0mdoMoreStuff\u001b[0m\u001b[1;33m(\u001b[0m\u001b[0mself\u001b[0m\u001b[1;33m)\u001b[0m\u001b[1;33m:\u001b[0m\u001b[1;33m\u001b[0m\u001b[1;33m\u001b[0m\u001b[0m\n",
      "\u001b[1;32mC:\\Users\\SHAILA~1\\AppData\\Local\\Temp/ipykernel_1216/4177632065.py\u001b[0m in \u001b[0;36mdoMoreStuff\u001b[1;34m(self)\u001b[0m\n\u001b[0;32m      7\u001b[0m \u001b[1;33m\u001b[0m\u001b[0m\n\u001b[0;32m      8\u001b[0m     \u001b[1;32mdef\u001b[0m \u001b[0mdoMoreStuff\u001b[0m\u001b[1;33m(\u001b[0m\u001b[0mself\u001b[0m\u001b[1;33m)\u001b[0m\u001b[1;33m:\u001b[0m\u001b[1;33m\u001b[0m\u001b[1;33m\u001b[0m\u001b[0m\n\u001b[1;32m----> 9\u001b[1;33m         \u001b[0mprint\u001b[0m\u001b[1;33m(\u001b[0m\u001b[1;36m2\u001b[0m\u001b[1;33m/\u001b[0m\u001b[1;36m0\u001b[0m\u001b[1;33m)\u001b[0m\u001b[1;33m\u001b[0m\u001b[1;33m\u001b[0m\u001b[0m\n\u001b[0m\u001b[0;32m     10\u001b[0m \u001b[1;33m\u001b[0m\u001b[0m\n\u001b[0;32m     11\u001b[0m \u001b[0mt\u001b[0m\u001b[1;33m=\u001b[0m\u001b[0mTest\u001b[0m\u001b[1;33m(\u001b[0m\u001b[1;33m)\u001b[0m\u001b[1;33m\u001b[0m\u001b[1;33m\u001b[0m\u001b[0m\n",
      "\u001b[1;31mZeroDivisionError\u001b[0m: division by zero"
     ]
    }
   ],
   "source": [
    "# Program_4\n",
    "\n",
    "\"\"\"\n",
    "raising exception \n",
    "\n",
    "\"\"\"\n",
    "\n",
    "class Test:\n",
    "    def stuff(self):\n",
    "        self.doStuff()  # ccalling the instance method \"doStuff()\"\n",
    "        \n",
    "    def doStuff(self):\n",
    "        self.doMoreStuff()   # ccalling the instance method \"doMoreStuff()\"\n",
    "        \n",
    "    def doMoreStuff(self):\n",
    "        print(2/0)      # this line raise an error\n",
    "        \n",
    "t=Test()\n",
    "t.stuff()\n",
    "        "
   ]
  },
  {
   "cell_type": "code",
   "execution_count": 5,
   "id": "e25ca392",
   "metadata": {},
   "outputs": [
    {
     "name": "stdout",
     "output_type": "stream",
     "text": [
      "error\n"
     ]
    }
   ],
   "source": [
    "# Program_5\n",
    "\n",
    "# Handling the error raised in the above program ( Program_4)\n",
    "\n",
    "class Test:\n",
    "    def stuff(self):\n",
    "        self.doStuff()\n",
    "        \n",
    "    def doStuff(self):\n",
    "        self.doMoreStuff()\n",
    "        \n",
    "    def doMoreStuff(self):\n",
    "        try:\n",
    "            print(2/0)\n",
    "        except:\n",
    "            print(\"error\")\n",
    "t=Test()http://localhost:8888/notebooks/My%20Files/exceptional%20haddling.ipynb#Customized-Error\n",
    "t.stuff()"
   ]
  },
  {
   "cell_type": "code",
   "execution_count": 3,
   "id": "715502b1",
   "metadata": {},
   "outputs": [
    {
     "name": "stdout",
     "output_type": "stream",
     "text": [
      "error\n"
     ]
    }
   ],
   "source": [
    "# another way of handling the error raised in the program_4\n",
    "\n",
    "class Test:\n",
    "    def stuff(self):\n",
    "        self.doStuff()\n",
    "        \n",
    "    def doStuff(self):\n",
    "        try:\n",
    "            self.doMoreStuff()\n",
    "        except:\n",
    "            print(\"error\")\n",
    "                \n",
    "    def doMoreStuff(self):\n",
    "        print(2/0)\n",
    "t=Test()\n",
    "t.stuff()"
   ]
  },
  {
   "cell_type": "markdown",
   "id": "61460fde",
   "metadata": {},
   "source": [
    "#### Handling Syntax Error : -"
   ]
  },
  {
   "cell_type": "code",
   "execution_count": 12,
   "id": "d4a5288d",
   "metadata": {},
   "outputs": [
    {
     "ename": "SyntaxError",
     "evalue": "unexpected EOF while parsing (Temp/ipykernel_364/2414768957.py, line 2)",
     "output_type": "error",
     "traceback": [
      "\u001b[1;36m  File \u001b[1;32m\"C:\\Users\\SHAILA~1\\AppData\\Local\\Temp/ipykernel_364/2414768957.py\"\u001b[1;36m, line \u001b[1;32m2\u001b[0m\n\u001b[1;33m    a,b,c=[int(x) for x in input(\"enter the date :\").split()]\u001b[0m\n\u001b[1;37m                                                             ^\u001b[0m\n\u001b[1;31mSyntaxError\u001b[0m\u001b[1;31m:\u001b[0m unexpected EOF while parsing\n"
     ]
    }
   ],
   "source": [
    "try:\n",
    "    a,b,c=[int(x) for x in input(\"enter the date :\").split()]"
   ]
  },
  {
   "cell_type": "markdown",
   "id": "a438fa76",
   "metadata": {},
   "source": [
    "# Customized Error"
   ]
  },
  {
   "cell_type": "markdown",
   "id": "0d43f5d9",
   "metadata": {},
   "source": [
    "Errors that are raised by the use.\n",
    "\n",
    "Question :-\n",
    "     How to raise a customized Error ????\n",
    "     \n",
    "Answer :-\n",
    "     By inheritin the Eception class"
   ]
  },
  {
   "cell_type": "code",
   "execution_count": 6,
   "id": "31d787ee",
   "metadata": {},
   "outputs": [
    {
     "name": "stdout",
     "output_type": "stream",
     "text": [
      "sorry...!! Try to enter a invalied code\n"
     ]
    },
    {
     "ename": "InvaliesCode",
     "evalue": "",
     "output_type": "error",
     "traceback": [
      "\u001b[1;31m---------------------------------------------------------------------------\u001b[0m",
      "\u001b[1;31mInvaliesCode\u001b[0m                              Traceback (most recent call last)",
      "\u001b[1;32mC:\\Users\\SHAILA~1\\AppData\\Local\\Temp/ipykernel_1216/3198522810.py\u001b[0m in \u001b[0;36m<module>\u001b[1;34m\u001b[0m\n\u001b[0;32m     12\u001b[0m \u001b[1;33m\u001b[0m\u001b[0m\n\u001b[0;32m     13\u001b[0m \u001b[0ma\u001b[0m\u001b[1;33m=\u001b[0m\u001b[0mA\u001b[0m\u001b[1;33m(\u001b[0m\u001b[1;33m)\u001b[0m\u001b[1;33m\u001b[0m\u001b[1;33m\u001b[0m\u001b[0m\n\u001b[1;32m---> 14\u001b[1;33m \u001b[0ma\u001b[0m\u001b[1;33m.\u001b[0m\u001b[0mf\u001b[0m\u001b[1;33m(\u001b[0m\u001b[1;36m234\u001b[0m\u001b[1;33m)\u001b[0m\u001b[1;33m\u001b[0m\u001b[1;33m\u001b[0m\u001b[0m\n\u001b[0m\u001b[0;32m     15\u001b[0m \u001b[1;33m\u001b[0m\u001b[0m\n",
      "\u001b[1;32mC:\\Users\\SHAILA~1\\AppData\\Local\\Temp/ipykernel_1216/3198522810.py\u001b[0m in \u001b[0;36mf\u001b[1;34m(self, code)\u001b[0m\n\u001b[0;32m      8\u001b[0m             \u001b[0mprint\u001b[0m\u001b[1;33m(\u001b[0m\u001b[1;34m\"ok!! continue the process\"\u001b[0m\u001b[1;33m)\u001b[0m\u001b[1;33m\u001b[0m\u001b[1;33m\u001b[0m\u001b[0m\n\u001b[0;32m      9\u001b[0m         \u001b[1;32melse\u001b[0m\u001b[1;33m:\u001b[0m\u001b[1;33m\u001b[0m\u001b[1;33m\u001b[0m\u001b[0m\n\u001b[1;32m---> 10\u001b[1;33m             \u001b[1;32mraise\u001b[0m \u001b[0mInvaliesCode\u001b[0m\u001b[1;33m\u001b[0m\u001b[1;33m\u001b[0m\u001b[0m\n\u001b[0m\u001b[0;32m     11\u001b[0m \u001b[1;33m\u001b[0m\u001b[0m\n\u001b[0;32m     12\u001b[0m \u001b[1;33m\u001b[0m\u001b[0m\n",
      "\u001b[1;31mInvaliesCode\u001b[0m: "
     ]
    }
   ],
   "source": [
    "class InvaliesCode(Exception):\n",
    "    def __init__(self):\n",
    "        print(\"sorry...!! Try to enter a invalied code\")\n",
    "        \n",
    "class A:\n",
    "    def f(self,code):\n",
    "        if(code==1234):\n",
    "            print(\"ok!! continue the process\")\n",
    "        else:\n",
    "            raise InvaliesCode\n",
    "\n",
    "            \n",
    "a=A()\n",
    "a.f(234)\n",
    "        "
   ]
  },
  {
   "cell_type": "code",
   "execution_count": null,
   "id": "16d013b6",
   "metadata": {},
   "outputs": [],
   "source": []
  },
  {
   "cell_type": "code",
   "execution_count": 15,
   "id": "1f1e6e6e",
   "metadata": {},
   "outputs": [
    {
     "name": "stdout",
     "output_type": "stream",
     "text": [
      "inside the if block\n",
      "You are going to get zero division error\n"
     ]
    },
    {
     "ename": "Myexception",
     "evalue": "",
     "output_type": "error",
     "traceback": [
      "\u001b[1;31m---------------------------------------------------------------------------\u001b[0m",
      "\u001b[1;31mMyexception\u001b[0m                               Traceback (most recent call last)",
      "\u001b[1;32mC:\\Users\\SHAILA~1\\AppData\\Local\\Temp/ipykernel_3172/1491609905.py\u001b[0m in \u001b[0;36m<module>\u001b[1;34m\u001b[0m\n\u001b[0;32m     17\u001b[0m \u001b[1;33m\u001b[0m\u001b[0m\n\u001b[0;32m     18\u001b[0m \u001b[1;33m\u001b[0m\u001b[0m\n\u001b[1;32m---> 19\u001b[1;33m \u001b[0mA\u001b[0m\u001b[1;33m(\u001b[0m\u001b[1;36m1\u001b[0m\u001b[1;33m,\u001b[0m\u001b[1;36m0\u001b[0m\u001b[1;33m)\u001b[0m\u001b[1;33m\u001b[0m\u001b[1;33m\u001b[0m\u001b[0m\n\u001b[0m\u001b[0;32m     20\u001b[0m \u001b[1;33m\u001b[0m\u001b[0m\n",
      "\u001b[1;32mC:\\Users\\SHAILA~1\\AppData\\Local\\Temp/ipykernel_3172/1491609905.py\u001b[0m in \u001b[0;36m__init__\u001b[1;34m(selfr, a, b)\u001b[0m\n\u001b[0;32m      7\u001b[0m         \u001b[1;32mif\u001b[0m\u001b[1;33m(\u001b[0m\u001b[0mb\u001b[0m\u001b[1;33m==\u001b[0m\u001b[1;36m0\u001b[0m\u001b[1;33m)\u001b[0m\u001b[1;33m:\u001b[0m\u001b[1;33m\u001b[0m\u001b[1;33m\u001b[0m\u001b[0m\n\u001b[0;32m      8\u001b[0m             \u001b[0mprint\u001b[0m\u001b[1;33m(\u001b[0m\u001b[1;34m\"inside the if block\"\u001b[0m\u001b[1;33m)\u001b[0m\u001b[1;33m\u001b[0m\u001b[1;33m\u001b[0m\u001b[0m\n\u001b[1;32m----> 9\u001b[1;33m             \u001b[1;32mraise\u001b[0m \u001b[0mMyexception\u001b[0m\u001b[1;33m\u001b[0m\u001b[1;33m\u001b[0m\u001b[0m\n\u001b[0m\u001b[0;32m     10\u001b[0m         \u001b[1;32melse\u001b[0m\u001b[1;33m:\u001b[0m\u001b[1;33m\u001b[0m\u001b[1;33m\u001b[0m\u001b[0m\n\u001b[0;32m     11\u001b[0m             \u001b[0mprint\u001b[0m\u001b[1;33m(\u001b[0m\u001b[0ma\u001b[0m\u001b[1;33m/\u001b[0m\u001b[0mb\u001b[0m\u001b[1;33m)\u001b[0m\u001b[1;33m\u001b[0m\u001b[1;33m\u001b[0m\u001b[0m\n",
      "\u001b[1;31mMyexception\u001b[0m: "
     ]
    }
   ],
   "source": [
    "class Myexception(Exception):\n",
    "    def __init__(self):\n",
    "        print(\"You are going to get zero division error\")\n",
    "\n",
    "class A:\n",
    "    def __init__(selfr,a,b):\n",
    "        if(b==0):\n",
    "            print(\"inside the if block\")\n",
    "            raise Myexception\n",
    "        else:\n",
    "            print\n",
    "            print(a/b)\n",
    "            \n",
    "            \n",
    "class B(A):\n",
    "    pass\n",
    "\n",
    "\n",
    "\n",
    "A(1,0)\n",
    "        "
   ]
  },
  {
   "cell_type": "code",
   "execution_count": 14,
   "id": "eeddd654",
   "metadata": {},
   "outputs": [
    {
     "name": "stdout",
     "output_type": "stream",
     "text": [
      "division by zero\n"
     ]
    }
   ],
   "source": [
    "try:\n",
    "    class A:\n",
    "        def __init__(self,x):\n",
    "            print(10/x)\n",
    "    A(0)\n",
    "              \n",
    "except Exception as e:\n",
    "    print(e)\n"
   ]
  },
  {
   "cell_type": "code",
   "execution_count": null,
   "id": "073b5507",
   "metadata": {},
   "outputs": [],
   "source": []
  },
  {
   "cell_type": "code",
   "execution_count": null,
   "id": "f78a5fd8",
   "metadata": {},
   "outputs": [],
   "source": []
  },
  {
   "cell_type": "code",
   "execution_count": null,
   "id": "6d0a5d88",
   "metadata": {},
   "outputs": [],
   "source": []
  },
  {
   "cell_type": "code",
   "execution_count": null,
   "id": "a0cb58d0",
   "metadata": {},
   "outputs": [],
   "source": []
  },
  {
   "cell_type": "code",
   "execution_count": null,
   "id": "9009328d",
   "metadata": {},
   "outputs": [],
   "source": []
  },
  {
   "cell_type": "code",
   "execution_count": null,
   "id": "602d03c6",
   "metadata": {},
   "outputs": [],
   "source": []
  }
 ],
 "metadata": {
  "kernelspec": {
   "display_name": "Python 3 (ipykernel)",
   "language": "python",
   "name": "python3"
  },
  "language_info": {
   "codemirror_mode": {
    "name": "ipython",
    "version": 3
   },
   "file_extension": ".py",
   "mimetype": "text/x-python",
   "name": "python",
   "nbconvert_exporter": "python",
   "pygments_lexer": "ipython3",
   "version": "3.9.7"
  }
 },
 "nbformat": 4,
 "nbformat_minor": 5
}
