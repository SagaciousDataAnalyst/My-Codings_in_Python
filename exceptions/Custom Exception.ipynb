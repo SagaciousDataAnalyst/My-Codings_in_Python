{
 "cells": [
  {
   "cell_type": "code",
   "execution_count": null,
   "id": "efea78b5",
   "metadata": {},
   "outputs": [],
   "source": [
    "class InvaliesCode(Exception):  # creating the costumized exception bt inheriting the Exception class\n",
    "    def __init__(self):\n",
    "        print(\"sorry...!! Try to enter a invalied code\")\n",
    "        \n",
    "class A:\n",
    "    def f(self,code):\n",
    "        if(code==1234):\n",
    "            print(\"ok!! continue the process\")\n",
    "        else:\n",
    "            raise InvaliesCode\n",
    "\n",
    "a=A()\n",
    "a.f(234)"
   ]
  }
 ],
 "metadata": {
  "kernelspec": {
   "display_name": "Python 3 (ipykernel)",
   "language": "python",
   "name": "python3"
  },
  "language_info": {
   "codemirror_mode": {
    "name": "ipython",
    "version": 3
   },
   "file_extension": ".py",
   "mimetype": "text/x-python",
   "name": "python",
   "nbconvert_exporter": "python",
   "pygments_lexer": "ipython3",
   "version": "3.9.7"
  }
 },
 "nbformat": 4,
 "nbformat_minor": 5
}
