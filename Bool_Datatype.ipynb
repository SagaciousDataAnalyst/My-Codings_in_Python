{
 "cells": [
  {
   "cell_type": "markdown",
   "id": "4b31b85d",
   "metadata": {},
   "source": [
    "# Boolean Datatypes ( True,False )"
   ]
  },
  {
   "cell_type": "code",
   "execution_count": 2,
   "id": "899d08d0",
   "metadata": {},
   "outputs": [
    {
     "name": "stdout",
     "output_type": "stream",
     "text": [
      "Hello World\n",
      "a is big\n",
      "True\n",
      "False\n"
     ]
    }
   ],
   "source": [
    "a=10>2   # a Treated as the bool type varible\n",
    "print(\"Hello World\")\n",
    "\n",
    "a=10\n",
    "b=5\n",
    "if(a>b):print(\"a is big\")\n",
    "    \n",
    "a=10>5\n",
    "print(a)\n",
    "\n",
    "a=10<5\n",
    "print(a)"
   ]
  },
  {
   "cell_type": "code",
   "execution_count": null,
   "id": "1d02b384",
   "metadata": {},
   "outputs": [],
   "source": []
  }
 ],
 "metadata": {
  "kernelspec": {
   "display_name": "Python 3 (ipykernel)",
   "language": "python",
   "name": "python3"
  },
  "language_info": {
   "codemirror_mode": {
    "name": "ipython",
    "version": 3
   },
   "file_extension": ".py",
   "mimetype": "text/x-python",
   "name": "python",
   "nbconvert_exporter": "python",
   "pygments_lexer": "ipython3",
   "version": "3.9.7"
  }
 },
 "nbformat": 4,
 "nbformat_minor": 5
}
