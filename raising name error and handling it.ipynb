{
 "cells": [
  {
   "cell_type": "code",
   "execution_count": null,
   "id": "814b2e4d",
   "metadata": {},
   "outputs": [],
   "source": [
    "try:  # This is the block that Where we put the risk code\n",
    "    print(a) # we are trying to print the undefind variable \"a\"\n",
    "except Exception as e: # If occure in the try block, then this block gives the information about the error\n",
    "    print(e)"
   ]
  }
 ],
 "metadata": {
  "kernelspec": {
   "display_name": "Python 3 (ipykernel)",
   "language": "python",
   "name": "python3"
  },
  "language_info": {
   "codemirror_mode": {
    "name": "ipython",
    "version": 3
   },
   "file_extension": ".py",
   "mimetype": "text/x-python",
   "name": "python",
   "nbconvert_exporter": "python",
   "pygments_lexer": "ipython3",
   "version": "3.9.7"
  }
 },
 "nbformat": 4,
 "nbformat_minor": 5
}
