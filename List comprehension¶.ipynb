{
 "cells": [
  {
   "cell_type": "code",
   "execution_count": 1,
   "id": "ada0d45b",
   "metadata": {},
   "outputs": [
    {
     "name": "stdout",
     "output_type": "stream",
     "text": [
      "['scince']\n"
     ]
    }
   ],
   "source": [
    "def list_comp(s):\n",
    "    p=[]\n",
    "\n",
    "    for i in s:\n",
    "        if \"i\" in i:\n",
    "            p.append(i)\n",
    "    print(p)\n",
    "list_comp([\"python\",\"data\",\"scince\",\"pydev\",\"pycham\"])"
   ]
  },
  {
   "cell_type": "code",
   "execution_count": null,
   "id": "a7900b8e",
   "metadata": {},
   "outputs": [],
   "source": [
    "print([j for j in [\"jjj\",\"sfer\",\"ksijss\"] if j in ])"
   ]
  }
 ],
 "metadata": {
  "kernelspec": {
   "display_name": "Python 3 (ipykernel)",
   "language": "python",
   "name": "python3"
  },
  "language_info": {
   "codemirror_mode": {
    "name": "ipython",
    "version": 3
   },
   "file_extension": ".py",
   "mimetype": "text/x-python",
   "name": "python",
   "nbconvert_exporter": "python",
   "pygments_lexer": "ipython3",
   "version": "3.9.12"
  }
 },
 "nbformat": 4,
 "nbformat_minor": 5
}
