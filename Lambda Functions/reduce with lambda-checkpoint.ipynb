{
 "cells": [
  {
   "cell_type": "code",
   "execution_count": null,
   "id": "4fcd1ab6",
   "metadata": {},
   "outputs": [],
   "source": [
    "from functools import *\n",
    "l=[1,2,3,4,5,6,7,8,9,10]\n",
    "print(reduce(lambda x,y:x*y,l))"
   ]
  }
 ],
 "metadata": {
  "kernelspec": {
   "display_name": "Python 3 (ipykernel)",
   "language": "python",
   "name": "python3"
  },
  "language_info": {
   "codemirror_mode": {
    "name": "ipython",
    "version": 3
   },
   "file_extension": ".py",
   "mimetype": "text/x-python",
   "name": "python",
   "nbconvert_exporter": "python",
   "pygments_lexer": "ipython3",
   "version": "3.9.7"
  }
 },
 "nbformat": 4,
 "nbformat_minor": 5
}
