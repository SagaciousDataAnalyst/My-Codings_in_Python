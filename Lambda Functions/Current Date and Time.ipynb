{
 "cells": [
  {
   "cell_type": "code",
   "execution_count": 1,
   "id": "66018ecb",
   "metadata": {},
   "outputs": [
    {
     "name": "stdout",
     "output_type": "stream",
     "text": [
      " local current time is : \n",
      "time.struct_time(tm_year=2022, tm_mon=2, tm_mday=9, tm_hour=18, tm_min=44, tm_sec=5, tm_wday=2, tm_yday=40, tm_isdst=0)\n"
     ]
    }
   ],
   "source": [
    "import time\n",
    "localtime=time.localtime(time.time())\n",
    "print(\" local current time is : \")\n",
    "print(localtime)"
   ]
  },
  {
   "cell_type": "code",
   "execution_count": null,
   "id": "f7889c8b",
   "metadata": {},
   "outputs": [],
   "source": []
  }
 ],
 "metadata": {
  "kernelspec": {
   "display_name": "Python 3 (ipykernel)",
   "language": "python",
   "name": "python3"
  },
  "language_info": {
   "codemirror_mode": {
    "name": "ipython",
    "version": 3
   },
   "file_extension": ".py",
   "mimetype": "text/x-python",
   "name": "python",
   "nbconvert_exporter": "python",
   "pygments_lexer": "ipython3",
   "version": "3.9.7"
  }
 },
 "nbformat": 4,
 "nbformat_minor": 5
}
