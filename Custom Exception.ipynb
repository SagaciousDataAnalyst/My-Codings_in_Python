{
 "cells": [
  {
   "cell_type": "code",
   "execution_count": 3,
   "id": "efea78b5",
   "metadata": {},
   "outputs": [
    {
     "name": "stdout",
     "output_type": "stream",
     "text": [
      "sorry...!! Try to enter a invalied code\n"
     ]
    },
    {
     "ename": "TypeError",
     "evalue": "exceptions must derive from BaseException",
     "output_type": "error",
     "traceback": [
      "\u001b[1;31m---------------------------------------------------------------------------\u001b[0m",
      "\u001b[1;31mTypeError\u001b[0m                                 Traceback (most recent call last)",
      "Input \u001b[1;32mIn [3]\u001b[0m, in \u001b[0;36m<cell line: 13>\u001b[1;34m()\u001b[0m\n\u001b[0;32m     10\u001b[0m             \u001b[38;5;28;01mraise\u001b[39;00m InvaliesCode()\u001b[38;5;241m.\u001b[39mf()\n\u001b[0;32m     12\u001b[0m a\u001b[38;5;241m=\u001b[39mA()\n\u001b[1;32m---> 13\u001b[0m \u001b[43ma\u001b[49m\u001b[38;5;241;43m.\u001b[39;49m\u001b[43mf\u001b[49m\u001b[43m(\u001b[49m\u001b[38;5;241;43m234\u001b[39;49m\u001b[43m)\u001b[49m\n",
      "Input \u001b[1;32mIn [3]\u001b[0m, in \u001b[0;36mA.f\u001b[1;34m(self, code)\u001b[0m\n\u001b[0;32m      8\u001b[0m     \u001b[38;5;28mprint\u001b[39m(\u001b[38;5;124m\"\u001b[39m\u001b[38;5;124mok!! continue the process\u001b[39m\u001b[38;5;124m\"\u001b[39m)\n\u001b[0;32m      9\u001b[0m \u001b[38;5;28;01melse\u001b[39;00m:\n\u001b[1;32m---> 10\u001b[0m     \u001b[38;5;28;01mraise\u001b[39;00m InvaliesCode()\u001b[38;5;241m.\u001b[39mf()\n",
      "\u001b[1;31mTypeError\u001b[0m: exceptions must derive from BaseException"
     ]
    }
   ],
   "source": [
    "class InvaliesCode(Exception):  # creating the costumized exception bt inheriting the Exception class\n",
    "    def f(self):\n",
    "        print(\"sorry...!! Try to enter a invalied code\")\n",
    "        \n",
    "class A:\n",
    "    def f(self,code):\n",
    "        if(code==1234):\n",
    "            print(\"ok!! continue the process\")\n",
    "        else:\n",
    "            raise InvaliesCode().f()\n",
    "\n",
    "a=A()\n",
    "a.f(234)"
   ]
  },
  {
   "cell_type": "code",
   "execution_count": null,
   "id": "e57c7f57",
   "metadata": {},
   "outputs": [],
   "source": []
  }
 ],
 "metadata": {
  "kernelspec": {
   "display_name": "Python 3 (ipykernel)",
   "language": "python",
   "name": "python3"
  },
  "language_info": {
   "codemirror_mode": {
    "name": "ipython",
    "version": 3
   },
   "file_extension": ".py",
   "mimetype": "text/x-python",
   "name": "python",
   "nbconvert_exporter": "python",
   "pygments_lexer": "ipython3",
   "version": "3.9.12"
  }
 },
 "nbformat": 4,
 "nbformat_minor": 5
}
