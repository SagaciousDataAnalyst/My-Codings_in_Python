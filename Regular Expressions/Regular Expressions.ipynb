{
 "cells": [
  {
   "cell_type": "raw",
   "id": "4afcdaf6",
   "metadata": {},
   "source": []
  },
  {
   "cell_type": "markdown",
   "id": "90985c3f",
   "metadata": {},
   "source": [
    "# Regular Expressions OR regeX\n",
    "\n",
    "module name : re : match,search,findall\n",
    "\n",
    "Regular Expression are used to the find the some pattern in the given string\n",
    "\n",
    "\n",
    "\n"
   ]
  },
  {
   "cell_type": "markdown",
   "id": "173ec90f",
   "metadata": {},
   "source": [
    "The following methods belong to the 're' module that are used in the regular expressions:\n",
    "\n",
    "1) The match() : method searches in the beginning of the string and if the matching string is found, it returns an object that contains the resultant string, otherwise it returns None. We can access the string from the returned object using group() method.\n",
    "\n",
    "2) The search() : method searches the string from beginning till the end and returns the first occurrence of the matching string, otherwise it returns None. We can use group() method to retrieve the string from the object returned by this method.\n",
    "\n",
    "3) The findall() : method searches the string from beginning till the end and returns all occurrences of the matching string in the form of a list object. If the matching strings are not found, then it returns an empty list. We can retrieve the resultant strings from the list using a for loop.\n",
    "\n",
    "4) The split() : method splits the string according to the regular expression and the resultant pieces are returned as a list. If there are no string pieces, then it returns an empty list. We can retrieve the resultant string pieces from the list using a for loop.\n",
    "\n",
    "5) The sub() : method substitutes (or replaces) new strings in the place of existing strings. After substitution, the main string is returned by this method."
   ]
  },
  {
   "cell_type": "markdown",
   "id": "853f91a0",
   "metadata": {},
   "source": [
    "### match()"
   ]
  },
  {
   "cell_type": "code",
   "execution_count": 10,
   "id": "676f0588",
   "metadata": {},
   "outputs": [
    {
     "name": "stdout",
     "output_type": "stream",
     "text": [
      "<re.Match object; span=(0, 3), match='inf'>\n",
      "None\n"
     ]
    }
   ],
   "source": [
    "import re\n",
    "s=\"inform him with the latest information\"\n",
    "print(re.match(\"inf\",s))\n",
    "\n",
    "\n",
    "import re\n",
    "s=\"inform him with the latest information\"\n",
    "print(re.match(\"him\",s))"
   ]
  },
  {
   "cell_type": "code",
   "execution_count": 6,
   "id": "2804735a",
   "metadata": {},
   "outputs": [
    {
     "name": "stdout",
     "output_type": "stream",
     "text": [
      "inf\n"
     ]
    }
   ],
   "source": [
    "import re\n",
    "s=\"inform him with the latest information\"\n",
    "result=re.match(\"inf\",s)\n",
    "print(result.group())"
   ]
  },
  {
   "cell_type": "code",
   "execution_count": 7,
   "id": "01649b6a",
   "metadata": {},
   "outputs": [
    {
     "name": "stdout",
     "output_type": "stream",
     "text": [
      "None\n"
     ]
    }
   ],
   "source": [
    "import re\n",
    "s=\"inform him with the latest information\"\n",
    "print(re.match(\"zoom\",s))"
   ]
  },
  {
   "cell_type": "code",
   "execution_count": 8,
   "id": "b155cb96",
   "metadata": {},
   "outputs": [
    {
     "ename": "AttributeError",
     "evalue": "'NoneType' object has no attribute 'group'",
     "output_type": "error",
     "traceback": [
      "\u001b[1;31m---------------------------------------------------------------------------\u001b[0m",
      "\u001b[1;31mAttributeError\u001b[0m                            Traceback (most recent call last)",
      "\u001b[1;32mC:\\Users\\SHAILA~1\\AppData\\Local\\Temp/ipykernel_4880/3354087652.py\u001b[0m in \u001b[0;36m<module>\u001b[1;34m\u001b[0m\n\u001b[0;32m      2\u001b[0m \u001b[0ms\u001b[0m\u001b[1;33m=\u001b[0m\u001b[1;34m\"inform him with the latest information\"\u001b[0m\u001b[1;33m\u001b[0m\u001b[1;33m\u001b[0m\u001b[0m\n\u001b[0;32m      3\u001b[0m \u001b[0mresult\u001b[0m\u001b[1;33m=\u001b[0m\u001b[0mre\u001b[0m\u001b[1;33m.\u001b[0m\u001b[0mmatch\u001b[0m\u001b[1;33m(\u001b[0m\u001b[1;34m\"zoom\"\u001b[0m\u001b[1;33m,\u001b[0m\u001b[0ms\u001b[0m\u001b[1;33m)\u001b[0m\u001b[1;33m\u001b[0m\u001b[1;33m\u001b[0m\u001b[0m\n\u001b[1;32m----> 4\u001b[1;33m \u001b[0mprint\u001b[0m\u001b[1;33m(\u001b[0m\u001b[0mresult\u001b[0m\u001b[1;33m.\u001b[0m\u001b[0mgroup\u001b[0m\u001b[1;33m(\u001b[0m\u001b[1;33m)\u001b[0m\u001b[1;33m)\u001b[0m\u001b[1;33m\u001b[0m\u001b[1;33m\u001b[0m\u001b[0m\n\u001b[0m",
      "\u001b[1;31mAttributeError\u001b[0m: 'NoneType' object has no attribute 'group'"
     ]
    }
   ],
   "source": [
    "import re\n",
    "s=\"inform him with the latest information\"\n",
    "result=re.match(\"zoom\",s)\n",
    "print(result.group())"
   ]
  },
  {
   "cell_type": "markdown",
   "id": "98b55468",
   "metadata": {},
   "source": [
    "### search()"
   ]
  },
  {
   "cell_type": "code",
   "execution_count": 18,
   "id": "8e782320",
   "metadata": {},
   "outputs": [
    {
     "name": "stdout",
     "output_type": "stream",
     "text": [
      "<re.Match object; span=(0, 3), match='inf'>\n",
      "<re.Match object; span=(7, 10), match='him'>\n",
      "<re.Match object; span=(27, 38), match='information'>\n",
      "None\n"
     ]
    }
   ],
   "source": [
    "import re\n",
    "s=\"inform him with the latest information\"\n",
    "print(re.search(\"inf\",s))\n",
    "\n",
    "\n",
    "import re\n",
    "s=\"inform him with the latest information\"\n",
    "print(re.search(\"him\",s))\n",
    "\n",
    "\n",
    "import re\n",
    "s=\"inform him with the latest information\"\n",
    "print(re.search(\"information\",s))\n",
    "\n",
    "\n",
    "import re\n",
    "s=\"inform him with the latest information\"\n",
    "print(re.search(\"zoom\",s))\n"
   ]
  },
  {
   "cell_type": "markdown",
   "id": "21f216a8",
   "metadata": {},
   "source": [
    "### findall()"
   ]
  },
  {
   "cell_type": "code",
   "execution_count": 21,
   "id": "1558bd46",
   "metadata": {},
   "outputs": [
    {
     "name": "stdout",
     "output_type": "stream",
     "text": [
      "['inform', 'inform']\n",
      "2\n"
     ]
    }
   ],
   "source": [
    "import re\n",
    "s=\"inform him with the latest information\"\n",
    "print(re.findall(\"inform\",s))\n",
    "\n",
    "print(len(re.findall(\"inform\",s)))"
   ]
  },
  {
   "cell_type": "code",
   "execution_count": 22,
   "id": "e19a5b90",
   "metadata": {},
   "outputs": [
    {
     "name": "stdout",
     "output_type": "stream",
     "text": [
      "[]\n",
      "0\n"
     ]
    }
   ],
   "source": [
    "import re\n",
    "s=\"inform him with the latest information\"\n",
    "print(re.findall(\"zoom\",s))\n",
    "\n",
    "print(len(re.findall(\"zoom\",s)))"
   ]
  },
  {
   "cell_type": "code",
   "execution_count": 26,
   "id": "3c369fe5",
   "metadata": {},
   "outputs": [
    {
     "name": "stdout",
     "output_type": "stream",
     "text": [
      "inform her with the latest information\n"
     ]
    }
   ],
   "source": [
    "import re\n",
    "s=\"inform him with the latest information\"\n",
    "print(re.sub(\"him\",\"her\",s))"
   ]
  },
  {
   "cell_type": "code",
   "execution_count": null,
   "id": "afa3abed",
   "metadata": {},
   "outputs": [],
   "source": []
  },
  {
   "cell_type": "markdown",
   "id": "a269b2bd",
   "metadata": {},
   "source": [
    "## Regex basic syntaxes : Quantifires\n"
   ]
  },
  {
   "cell_type": "markdown",
   "id": "19b37ee5",
   "metadata": {},
   "source": [
    "\n",
    ".  : Matches any one character\n",
    "\n",
    "^  : Matches from the begining of the string\n",
    "\n",
    "$  : Matches from the end of the string\n",
    "\n",
    "*  : Matches zero or more repetitions of the previous character\n",
    "\n",
    "+  : Matches one or more repetitions of the previous character\n",
    "\n",
    "?  : Matches zero or one repetitions of the previous character\n",
    "\n",
    "{m}  : Matches m repetitions of the previous character\n",
    "\n",
    "{m,n}:  Matches any number from m to n of the previous character\n",
    "\n",
    "\\  : escape character\n",
    "\n",
    "[]  : A set of characters. eg:[A-Z] will match all latters from A to Z\n",
    "\n",
    "()  : Mathes the patter specified within the prerenthesis only\n",
    "\n",
    "\n"
   ]
  },
  {
   "cell_type": "markdown",
   "id": "f94cae9d",
   "metadata": {},
   "source": [
    "## Regex special characters "
   ]
  },
  {
   "cell_type": "markdown",
   "id": "b126eb06",
   "metadata": {},
   "source": [
    "\\d  : A digit\n",
    "\n",
    "\\D  : Represents any character,but not digits ( Opposite to \\d )\n",
    "\n",
    "\\s  : Represents white space \n",
    "\n",
    "\\S  : Represents any charactor not white space\n",
    "\n",
    "\\w  : Represents any word character\n",
    "\n",
    "\\W  : Represents any word character but not word character\n",
    "\n",
    "\\b  : Represents a space around words\n",
    "\n",
    "\\A  : Matches only at the start of the sytring \n",
    "\n",
    "\\Z  : Matches only at the start of the sytring"
   ]
  },
  {
   "cell_type": "code",
   "execution_count": null,
   "id": "73f792f0",
   "metadata": {},
   "outputs": [],
   "source": []
  },
  {
   "cell_type": "code",
   "execution_count": 21,
   "id": "e93bd90c",
   "metadata": {},
   "outputs": [
    {
     "name": "stdout",
     "output_type": "stream",
     "text": [
      "['inform', 'im', 'ith', 'information']\n",
      "['hi', 'h']\n",
      "['hi']\n",
      "['inform', 'im', 'ith', 'information']\n",
      "['in', 'im', 'it', 'in', 'io']\n",
      "['inform him with latest information']\n",
      "['inform him with latest information']\n",
      "['i', 'i', 'i', 'i', 'i']\n",
      "['i', '', '', '', '', '', '', '', 'i', '', '', '', 'i', '', '', '', '', '', '', '', '', '', '', 'i', '', '', '', '', '', '', '', 'i', '', '', '']\n"
     ]
    }
   ],
   "source": [
    "import re\n",
    "sample=\"inform him with latest information\"\n",
    "print(re.findall(r\"i[a-z]+\",sample))\n",
    "print(re.findall(r\"h[a-z]?\",sample))\n",
    "print(re.findall(r\"h[a-z]\",sample))\n",
    "print(re.findall(r\"i[a-z]*\",sample))\n",
    "print(re.findall(r\"i.\",sample))\n",
    "print(re.findall(r\"i.+\",sample))\n",
    "print(re.findall(r\"i.*\",sample))\n",
    "print(re.findall(r\"i+\",sample))\n",
    "print(re.findall(r\"i*\",sample))\n",
    "\n"
   ]
  },
  {
   "cell_type": "code",
   "execution_count": null,
   "id": "70782d33",
   "metadata": {},
   "outputs": [],
   "source": []
  },
  {
   "cell_type": "code",
   "execution_count": null,
   "id": "f5d83fe1",
   "metadata": {},
   "outputs": [],
   "source": []
  },
  {
   "cell_type": "code",
   "execution_count": null,
   "id": "f35c9ecc",
   "metadata": {},
   "outputs": [],
   "source": []
  },
  {
   "cell_type": "code",
   "execution_count": 1,
   "id": "7e761fd2",
   "metadata": {},
   "outputs": [
    {
     "name": "stdout",
     "output_type": "stream",
     "text": [
      "hi\\chello\n",
      "r'this is raw\n",
      "string'\n",
      "this is raw\\nstring\n"
     ]
    }
   ],
   "source": [
    "print(\"hi\\chello\")\n",
    "print(\"r'this is raw\\nstring'\")\n",
    "p=r'this is raw\\nstring'\n",
    "print(p)"
   ]
  },
  {
   "cell_type": "code",
   "execution_count": 2,
   "id": "f637a9a4",
   "metadata": {},
   "outputs": [
    {
     "name": "stdout",
     "output_type": "stream",
     "text": [
      "mat\n",
      "mat\n"
     ]
    }
   ],
   "source": [
    "import re\n",
    "prog=re.compile(r'm\\w\\w')\n",
    "s=\"cat mat bat rat\"\n",
    "result=prog.search(s)\n",
    "print(result.group())\n",
    "\n",
    "str1=\"operating system formate\"\n",
    "result=prog.search(str1)\n",
    "print(result.group())"
   ]
  },
  {
   "cell_type": "code",
   "execution_count": 1,
   "id": "009369b6",
   "metadata": {},
   "outputs": [
    {
     "name": "stdout",
     "output_type": "stream",
     "text": [
      "<re.Match object; span=(0, 3), match='man'>\n",
      "man\n",
      "man\n"
     ]
    }
   ],
   "source": [
    "import re\n",
    "a=\"man sun mop run\"\n",
    "result=re.search(r'm\\w\\w',a)\n",
    "print(result)\n",
    "if result:\n",
    "    print(result.group())\n",
    "    \n",
    "print(result.group())"
   ]
  },
  {
   "cell_type": "code",
   "execution_count": 2,
   "id": "6f210411",
   "metadata": {},
   "outputs": [
    {
     "name": "stdout",
     "output_type": "stream",
     "text": [
      "man\n",
      "<re.Match object; span=(0, 3), match='man'>\n"
     ]
    }
   ],
   "source": [
    "import re\n",
    "a=\"man sun mop run\"\n",
    "result=re.search(r'm\\w\\w',a)\n",
    "# if result is not None:\n",
    "#     print(result.group())\n",
    "# if result:\n",
    "#     print(result.group())\n",
    "print(result.group())\n",
    "print(result)"
   ]
  },
  {
   "cell_type": "code",
   "execution_count": 16,
   "id": "5ce9186c",
   "metadata": {},
   "outputs": [
    {
     "name": "stdout",
     "output_type": "stream",
     "text": [
      "['man', 'mop']\n",
      "['man', 'mop']\n"
     ]
    }
   ],
   "source": [
    "import re\n",
    "a=\"man sun mop run\"\n",
    "result=re.findall(r'm\\w\\w',a)\n",
    "print(result)\n",
    "\n",
    "import re\n",
    "a=\"man sun mop run\"\n",
    "result=re.findall(r'm\\w\\w',a)\n",
    "for i in result:\n",
    "    print(i)\n"
   ]
  },
  {
   "cell_type": "code",
   "execution_count": 6,
   "id": "baad2d12",
   "metadata": {
    "scrolled": true
   },
   "outputs": [
    {
     "name": "stdout",
     "output_type": "stream",
     "text": [
      "man\n",
      "<re.Match object; span=(0, 3), match='man'>\n"
     ]
    }
   ],
   "source": [
    "import re\n",
    "a=\"man sun mop run\"\n",
    "result=re.match(r'm\\w\\w',a)\n",
    "print(result.group())\n",
    "\n",
    "import re\n",
    "a=\"man sun mop run\"\n",
    "result=re.match(r'm\\w\\w',a)\n",
    "print(result)"
   ]
  },
  {
   "cell_type": "code",
   "execution_count": 29,
   "id": "87c84950",
   "metadata": {
    "scrolled": false
   },
   "outputs": [
    {
     "name": "stdout",
     "output_type": "stream",
     "text": [
      "['aaa', 'bbb', 'ccc', 's', '', '', 'ddd', '']\n",
      "['aaa', 'bbb', 'ccc', 's', 'ddd', '']\n"
     ]
    }
   ],
   "source": [
    "import re\n",
    "b=\"aaa;bbb*ccc\\'s#$%ddd]\"\n",
    "result=re.split(r'\\W',b) #there is no change in the result whethere we put + or remove +\n",
    "print(result)\n",
    "\n",
    "import re\n",
    "b=\"aaa;bbb*ccc\\'s#$%ddd]\"\n",
    "result=re.split(r'\\W+',b) #there is no change in the result whethere we put + or remove +\n",
    "print(result)"
   ]
  },
  {
   "cell_type": "code",
   "execution_count": 8,
   "id": "81124873",
   "metadata": {
    "scrolled": false
   },
   "outputs": [
    {
     "name": "stdout",
     "output_type": "stream",
     "text": [
      "today is taehyung day\n"
     ]
    }
   ],
   "source": [
    "import re\n",
    "c=\"today is v day\"\n",
    "result=re.sub(\"v\",\"taehyung\",c)\n",
    "print(result)"
   ]
  },
  {
   "cell_type": "code",
   "execution_count": 34,
   "id": "2f91afbc",
   "metadata": {},
   "outputs": [
    {
     "name": "stdout",
     "output_type": "stream",
     "text": [
      "an\n",
      "an\n",
      "an\n",
      "av\n",
      "ah\n"
     ]
    }
   ],
   "source": [
    "import re \n",
    "a=\"man sun mop run an man bav trah\"\n",
    "result=re.findall(r'a[\\w]*',a)\n",
    "for i in result:\n",
    "    print(i)"
   ]
  },
  {
   "cell_type": "code",
   "execution_count": 10,
   "id": "b3d40565",
   "metadata": {},
   "outputs": [
    {
     "name": "stdout",
     "output_type": "stream",
     "text": [
      "an\n"
     ]
    }
   ],
   "source": [
    "import re \n",
    "a=\"man sun mop run an man bav trah\"\n",
    "result=re.findall(r'\\ba[\\w]*\\b',a)\n",
    "for i in result:\n",
    "    print(i)"
   ]
  },
  {
   "cell_type": "code",
   "execution_count": 64,
   "id": "3970c3dc",
   "metadata": {},
   "outputs": [
    {
     "name": "stdout",
     "output_type": "stream",
     "text": [
      "['man', 'sun', 'mop', 'run', 'man', 'bav', 'tra', '987']\n",
      "['man', 'sun', 'mop', 'run', 'man', 'bav', 'rah', '987']\n",
      "['man', 'sun', 'mop', 'run', 'man', 'bav', '987']\n",
      "['trah']\n",
      "['man', 'sun', 'mop', 'run', 'an', 'man', 'bav', 'trah', '98', '987']\n",
      "['man', 'sun', 'mop', 'run', 'an', 'man', 'bav', 'trah', '98', '987']\n",
      "['9', '0', '8', '8']\n",
      "['9', '0', '8', '8', '98', '987']\n",
      "['man sun mop run an man bav trah ', ' ', ' ', ' ', ' ', ' ']\n"
     ]
    }
   ],
   "source": [
    "import re \n",
    "a=\"man sun mop run an man bav trah 9 0 8 8 98 987\"\n",
    "result=re.findall(r'\\b\\w{3}',a)\n",
    "print(result)\n",
    "\n",
    "result=re.findall(r'\\w{3}\\b',a)\n",
    "print(result)\n",
    "\n",
    "\n",
    "result=re.findall(r'\\b\\w{3}\\b',a)\n",
    "print(result)\n",
    "\n",
    "result=re.findall(r'\\b\\w{4}\\b',a)\n",
    "print(result)\n",
    "\n",
    "result=re.findall(r'\\b\\w{2,}\\b',a)\n",
    "print(result)\n",
    "\n",
    "result=re.findall(r'\\b\\w{2,6}\\b',a)\n",
    "print(result)\n",
    "\n",
    "result=re.findall(r'\\b\\d\\b',a)\n",
    "print(result)\n",
    "\n",
    "result=re.findall(r'\\b\\d+\\b',a)\n",
    "print(result)\n",
    "\n",
    "result=re.findall(r'\\b\\D+\\b',a)\n",
    "print(result)\n"
   ]
  },
  {
   "cell_type": "code",
   "execution_count": 58,
   "id": "4a0b7eee",
   "metadata": {},
   "outputs": [
    {
     "name": "stdout",
     "output_type": "stream",
     "text": [
      "['three']\n"
     ]
    }
   ],
   "source": [
    "import re\n",
    "s=\"one two three four one two three\"\n",
    "result=re.findall(r't[\\w]*\\Z',s)\n",
    "print(result)"
   ]
  },
  {
   "cell_type": "code",
   "execution_count": 1,
   "id": "0eaf1345",
   "metadata": {},
   "outputs": [
    {
     "name": "stdout",
     "output_type": "stream",
     "text": [
      "NG\n"
     ]
    }
   ],
   "source": [
    "import re\n",
    "def abbreviate(words):\n",
    "    return \"\".join(word[0].upper() for word in re.sub(r'[_-]',' ', words).split())\n",
    "\n",
    "print (abbreviate(\"National Geography\"))"
   ]
  },
  {
   "cell_type": "code",
   "execution_count": 8,
   "id": "8be917fe",
   "metadata": {},
   "outputs": [
    {
     "name": "stdout",
     "output_type": "stream",
     "text": [
      "Hello Python, How Are You?\n"
     ]
    }
   ],
   "source": [
    "def emphasise(txt):\n",
    "    return ' '.join(w[0].upper()+w[1:].lower() for w in txt.split())\n",
    "\n",
    "\n",
    "print (emphasise(\"hello python, how aRe you?\"))"
   ]
  },
  {
   "cell_type": "code",
   "execution_count": 12,
   "id": "a4c7f75c",
   "metadata": {},
   "outputs": [
    {
     "name": "stdout",
     "output_type": "stream",
     "text": [
      "{'first_name': 'John', 'last_name': 'Doe', 'id': '123'}\n"
     ]
    }
   ],
   "source": [
    "import re\n",
    "\n",
    "def parse_code(txt):\n",
    "    first, second, _id = re.split('0+', txt)\n",
    "    return {'first_name': first, 'last_name': second, 'id': _id}\n",
    "\n",
    "\n",
    "print (parse_code(\"John000Doe000123\"))"
   ]
  },
  {
   "cell_type": "code",
   "execution_count": null,
   "id": "74309614",
   "metadata": {},
   "outputs": [],
   "source": []
  }
 ],
 "metadata": {
  "kernelspec": {
   "display_name": "Python 3 (ipykernel)",
   "language": "python",
   "name": "python3"
  },
  "language_info": {
   "codemirror_mode": {
    "name": "ipython",
    "version": 3
   },
   "file_extension": ".py",
   "mimetype": "text/x-python",
   "name": "python",
   "nbconvert_exporter": "python",
   "pygments_lexer": "ipython3",
   "version": "3.9.7"
  }
 },
 "nbformat": 4,
 "nbformat_minor": 5
}
