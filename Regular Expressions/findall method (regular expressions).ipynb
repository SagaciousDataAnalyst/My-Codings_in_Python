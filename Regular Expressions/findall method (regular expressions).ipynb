{
 "cells": [
  {
   "cell_type": "code",
   "execution_count": null,
   "id": "158e7876",
   "metadata": {},
   "outputs": [],
   "source": [
    "import re\n",
    "s=\"inform him with the latest information\"\n",
    "print(re.findall(\"inform\",s))\n",
    "print(len(re.findall(\"inform\",s)))\n",
    "print(re.findall(\"zoom\",s))"
   ]
  }
 ],
 "metadata": {
  "kernelspec": {
   "display_name": "Python 3 (ipykernel)",
   "language": "python",
   "name": "python3"
  },
  "language_info": {
   "codemirror_mode": {
    "name": "ipython",
    "version": 3
   },
   "file_extension": ".py",
   "mimetype": "text/x-python",
   "name": "python",
   "nbconvert_exporter": "python",
   "pygments_lexer": "ipython3",
   "version": "3.9.7"
  }
 },
 "nbformat": 4,
 "nbformat_minor": 5
}
