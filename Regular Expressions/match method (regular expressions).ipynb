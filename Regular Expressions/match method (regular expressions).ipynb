{
 "cells": [
  {
   "cell_type": "code",
   "execution_count": 3,
   "id": "69bba667",
   "metadata": {},
   "outputs": [
    {
     "name": "stdout",
     "output_type": "stream",
     "text": [
      "<re.Match object; span=(0, 3), match='inf'>\n",
      "None\n",
      "None\n"
     ]
    }
   ],
   "source": [
    "# match() method search for the element at the starting.\n",
    "# If it didin't find sub string at begining then return None\n",
    "\n",
    "import re\n",
    "s=\"inform him with the latest information\"\n",
    "print(re.match(\"inf\",s))\n",
    "print(re.match(\"him\",s))\n",
    "print(re.match(\"upadate\",s))"
   ]
  }
 ],
 "metadata": {
  "kernelspec": {
   "display_name": "Python 3 (ipykernel)",
   "language": "python",
   "name": "python3"
  },
  "language_info": {
   "codemirror_mode": {
    "name": "ipython",
    "version": 3
   },
   "file_extension": ".py",
   "mimetype": "text/x-python",
   "name": "python",
   "nbconvert_exporter": "python",
   "pygments_lexer": "ipython3",
   "version": "3.9.7"
  }
 },
 "nbformat": 4,
 "nbformat_minor": 5
}
