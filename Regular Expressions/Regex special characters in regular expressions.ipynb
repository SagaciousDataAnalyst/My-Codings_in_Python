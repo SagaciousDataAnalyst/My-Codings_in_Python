{
 "cells": [
  {
   "cell_type": "code",
   "execution_count": 2,
   "id": "08095866",
   "metadata": {},
   "outputs": [
    {
     "name": "stdout",
     "output_type": "stream",
     "text": [
      "['man', 'sun', 'mop', 'run', 'man', 'bav', 'tra', '987']\n",
      "['man', 'sun', 'mop', 'run', 'man', 'bav', 'rah', '987']\n",
      "['man', 'sun', 'mop', 'run', 'man', 'bav', '987']\n",
      "['trah']\n",
      "['man', 'sun', 'mop', 'run', 'an', 'man', 'bav', 'trah', '98', '987']\n",
      "['man', 'sun', 'mop', 'run', 'an', 'man', 'bav', 'trah', '98', '987']\n",
      "['9', '0', '8', '8']\n",
      "['9', '0', '8', '8', '98', '987']\n",
      "['man sun mop run an man bav trah ', ' ', ' ', ' ', ' ', ' ']\n"
     ]
    }
   ],
   "source": [
    "import re \n",
    "a=\"man sun mop run an man bav trah 9 0 8 8 98 987\"\n",
    "result=re.findall(r'\\b\\w{3}',a)\n",
    "print(result)\n",
    "\n",
    "result=re.findall(r'\\w{3}\\b',a)\n",
    "print(result)\n",
    "\n",
    "\n",
    "result=re.findall(r'\\b\\w{3}\\b',a)\n",
    "print(result)\n",
    "\n",
    "result=re.findall(r'\\b\\w{4}\\b',a)\n",
    "print(result)\n",
    "\n",
    "result=re.findall(r'\\b\\w{2,}\\b',a)\n",
    "print(result)\n",
    "\n",
    "result=re.findall(r'\\b\\w{2,6}\\b',a)\n",
    "print(result)\n",
    "\n",
    "result=re.findall(r'\\b\\d\\b',a)\n",
    "print(result)\n",
    "\n",
    "result=re.findall(r'\\b\\d+\\b',a)\n",
    "print(result)\n",
    "\n",
    "result=re.findall(r'\\b\\D+\\b',a)\n",
    "print(result)\n"
   ]
  },
  {
   "cell_type": "code",
   "execution_count": null,
   "id": "c1eedbbb",
   "metadata": {},
   "outputs": [],
   "source": []
  }
 ],
 "metadata": {
  "kernelspec": {
   "display_name": "Python 3 (ipykernel)",
   "language": "python",
   "name": "python3"
  },
  "language_info": {
   "codemirror_mode": {
    "name": "ipython",
    "version": 3
   },
   "file_extension": ".py",
   "mimetype": "text/x-python",
   "name": "python",
   "nbconvert_exporter": "python",
   "pygments_lexer": "ipython3",
   "version": "3.9.7"
  }
 },
 "nbformat": 4,
 "nbformat_minor": 5
}
