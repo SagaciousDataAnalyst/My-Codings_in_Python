{
 "cells": [
  {
   "cell_type": "markdown",
   "id": "2fcfc205",
   "metadata": {},
   "source": [
    "## frozenset\n",
    "\n",
    "    A frozenset is an unordered, un-indexed, and immutable collection of elements. It provides all the functionalities that a set offers in Python, the only difference being the fact that a frozenset is immutable, i.e. can’t be changed after it is created."
   ]
  },
  {
   "cell_type": "code",
   "execution_count": 2,
   "id": "9a7c59c7",
   "metadata": {},
   "outputs": [
    {
     "name": "stdout",
     "output_type": "stream",
     "text": [
      "{1, 4, 5, 22, 13}\n",
      "frozenset({1, 4, 5, 22, 13})\n",
      "frozenset({'h', 'o', 'l', 'e'})\n",
      "frozenset({'h', 'o', 'g', 'y', 'n', 'a', 't', ' ', 'm', 'r', 'P'})\n"
     ]
    }
   ],
   "source": [
    "s={1,22,13,4,5}\n",
    "print(s)\n",
    "\n",
    "fs=frozenset(s)\n",
    "print(fs)\n",
    "\n",
    "print(frozenset(\"hello\"))\n",
    "print(frozenset(\"Python Program\"))"
   ]
  },
  {
   "cell_type": "code",
   "execution_count": null,
   "id": "70bed4d5",
   "metadata": {},
   "outputs": [],
   "source": []
  }
 ],
 "metadata": {
  "kernelspec": {
   "display_name": "Python 3 (ipykernel)",
   "language": "python",
   "name": "python3"
  },
  "language_info": {
   "codemirror_mode": {
    "name": "ipython",
    "version": 3
   },
   "file_extension": ".py",
   "mimetype": "text/x-python",
   "name": "python",
   "nbconvert_exporter": "python",
   "pygments_lexer": "ipython3",
   "version": "3.9.12"
  }
 },
 "nbformat": 4,
 "nbformat_minor": 5
}
