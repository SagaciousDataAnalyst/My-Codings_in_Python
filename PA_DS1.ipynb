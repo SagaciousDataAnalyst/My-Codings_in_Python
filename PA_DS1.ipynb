{
 "cells": [
  {
   "cell_type": "markdown",
   "id": "beb7e009",
   "metadata": {},
   "source": [
    "# Write a Python script to concatenate following dictionaries to create a new one. \n",
    "\n",
    "## Sample Dictionary : dic1={1:10, 2:20} dic2={3:30, 4:40} dic3={5:50,6:60}"
   ]
  },
  {
   "cell_type": "code",
   "execution_count": 4,
   "id": "607e0e4c",
   "metadata": {},
   "outputs": [
    {
     "name": "stdout",
     "output_type": "stream",
     "text": [
      "{1: 10, 2: 20, 3: 30, 4: 40, 5: 50, 6: 60}\n"
     ]
    }
   ],
   "source": [
    "def Myfunction():\n",
    "    \n",
    "    dic1={1:10, 2:20} \n",
    "    dic2={3:30, 4:40} \n",
    "    dic3={5:50,6:60}\n",
    "    dic1.update(dic2)\n",
    "    dic1.update(dic3)\n",
    "    \n",
    "    return dic1\n",
    "print(Myfunction())"
   ]
  },
  {
   "cell_type": "code",
   "execution_count": null,
   "id": "09806322",
   "metadata": {},
   "outputs": [],
   "source": []
  }
 ],
 "metadata": {
  "kernelspec": {
   "display_name": "Python 3 (ipykernel)",
   "language": "python",
   "name": "python3"
  },
  "language_info": {
   "codemirror_mode": {
    "name": "ipython",
    "version": 3
   },
   "file_extension": ".py",
   "mimetype": "text/x-python",
   "name": "python",
   "nbconvert_exporter": "python",
   "pygments_lexer": "ipython3",
   "version": "3.9.12"
  }
 },
 "nbformat": 4,
 "nbformat_minor": 5
}
