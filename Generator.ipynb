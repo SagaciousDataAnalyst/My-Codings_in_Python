{
 "cells": [
  {
   "cell_type": "code",
   "execution_count": null,
   "id": "4dd63cd1",
   "metadata": {},
   "outputs": [],
   "source": [
    "def mygen(n,m):    # genator name is mygen\n",
    "    while(n<=m):\n",
    "        yield n   #  returning the n value\n",
    "        n+=1      #increasing the n value\n",
    "g=mygen(2,8)      # fill the generator object with 2 and  8\n",
    "\n",
    "#print(list(g))\n",
    "\n",
    "for i in g:\n",
    "     print(i,end=\" \")"
   ]
  }
 ],
 "metadata": {
  "kernelspec": {
   "display_name": "Python 3 (ipykernel)",
   "language": "python",
   "name": "python3"
  },
  "language_info": {
   "codemirror_mode": {
    "name": "ipython",
    "version": 3
   },
   "file_extension": ".py",
   "mimetype": "text/x-python",
   "name": "python",
   "nbconvert_exporter": "python",
   "pygments_lexer": "ipython3",
   "version": "3.9.7"
  }
 },
 "nbformat": 4,
 "nbformat_minor": 5
}
