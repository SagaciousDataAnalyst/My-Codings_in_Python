{
 "cells": [
  {
   "cell_type": "markdown",
   "id": "fea4e21e",
   "metadata": {},
   "source": [
    ">>> # List Methods"
   ]
  },
  {
   "cell_type": "markdown",
   "id": "0ee99bbf",
   "metadata": {},
   "source": [
    "# creating a list "
   ]
  },
  {
   "cell_type": "code",
   "execution_count": 1,
   "id": "25689302",
   "metadata": {},
   "outputs": [
    {
     "name": "stdout",
     "output_type": "stream",
     "text": [
      "1) created list :  ['a', 'b', 'c', 'd']\n"
     ]
    }
   ],
   "source": [
    "list=[\"a\",\"b\",\"c\",\"d\"]\n",
    "print(\"1) created list : \",list)"
   ]
  },
  {
   "cell_type": "markdown",
   "id": "9e3b7ae3",
   "metadata": {},
   "source": [
    "# append() : Append object to the end of the list."
   ]
  },
  {
   "cell_type": "code",
   "execution_count": 3,
   "id": "25c2bbec",
   "metadata": {},
   "outputs": [
    {
     "name": "stdout",
     "output_type": "stream",
     "text": [
      "1) created list :  ['a', 'b', 'c', 'd']\n",
      "2) list after append operation :  ['a', 'b', 'c', 'd', 'e']\n"
     ]
    }
   ],
   "source": [
    "#appending elements in a list\n",
    "list=[\"a\",\"b\",\"c\",\"d\"]\n",
    "print(\"1) created list : \",list)\n",
    "\n",
    "list.append(\"e\")\n",
    "print(\"2) list after append operation : \",list)"
   ]
  },
  {
   "cell_type": "markdown",
   "id": "b794ea3e",
   "metadata": {},
   "source": [
    "# insert() : Insert element based on index."
   ]
  },
  {
   "cell_type": "code",
   "execution_count": 25,
   "id": "9df6040b",
   "metadata": {},
   "outputs": [
    {
     "name": "stdout",
     "output_type": "stream",
     "text": [
      "['a', 'b', 'c', 'd']\n",
      "['a', 'A', 'b', 'c', 'd']\n"
     ]
    }
   ],
   "source": [
    "L1=[\"a\",\"b\",\"c\",\"d\"]\n",
    "print(L1)\n",
    "\n",
    "L1.insert(1,\"A\")\n",
    "print(L1)"
   ]
  },
  {
   "cell_type": "markdown",
   "id": "e95b1324",
   "metadata": {},
   "source": [
    "# accessing item"
   ]
  },
  {
   "cell_type": "code",
   "execution_count": 4,
   "id": "6cd01eac",
   "metadata": {},
   "outputs": [
    {
     "name": "stdout",
     "output_type": "stream",
     "text": [
      "1) created list :  ['a', 'b', 'c', 'd']\n",
      "2) accessing items in a list :  b\n"
     ]
    }
   ],
   "source": [
    "#accessing item in a list\n",
    "list=[\"a\",\"b\",\"c\",\"d\"]\n",
    "print(\"1) created list : \",list)\n",
    "print(\"2) accessing items in a list : \",list[1])\n"
   ]
  },
  {
   "cell_type": "markdown",
   "id": "83b31963",
   "metadata": {},
   "source": [
    "# updating item"
   ]
  },
  {
   "cell_type": "code",
   "execution_count": 21,
   "id": "971e037b",
   "metadata": {},
   "outputs": [
    {
     "name": "stdout",
     "output_type": "stream",
     "text": [
      "1) created list :  ['a', 'b', 'c', 'd']\n",
      "2) changing item in the list :  ['a', 'A', 'c', 'd']\n"
     ]
    }
   ],
   "source": [
    "list=[\"a\",\"b\",\"c\",\"d\"]\n",
    "print(\"1) created list : \",list)\n",
    "\n",
    "#changing item in a list\n",
    "list[1]=\"A\"\n",
    "print(\"2) changing item in the list : \",list)"
   ]
  },
  {
   "cell_type": "markdown",
   "id": "88889991",
   "metadata": {},
   "source": [
    "# remove() : Remove first occurrence of value."
   ]
  },
  {
   "cell_type": "code",
   "execution_count": 26,
   "id": "62a2a5d2",
   "metadata": {},
   "outputs": [
    {
     "name": "stdout",
     "output_type": "stream",
     "text": [
      "1) created list :  ['a', 'b', 'c', 'd', 'a']\n",
      "2) after removing an item :  ['b', 'c', 'd', 'a']\n"
     ]
    }
   ],
   "source": [
    "#accessing item in a list\n",
    "list=[\"a\",\"b\",\"c\",\"d\",\"a\"]\n",
    "print(\"1) created list : \",list)\n",
    "\n",
    "#removing item in a list\n",
    "list.remove(\"a\")\n",
    "print(\"2) after removing an item : \",list)"
   ]
  },
  {
   "cell_type": "markdown",
   "id": "e9b593d9",
   "metadata": {},
   "source": [
    "# pop() : Remove and return item at index (default last)."
   ]
  },
  {
   "cell_type": "code",
   "execution_count": 30,
   "id": "026975d5",
   "metadata": {},
   "outputs": [
    {
     "name": "stdout",
     "output_type": "stream",
     "text": [
      "1) created list :  ['a', 'b', 'c', 'd', 'e', 'f']\n",
      "2) Removed element is :  d\n",
      "3) List after pop : ['a', 'b', 'c', 'e', 'f']\n",
      "4) List after pop : ['a', 'b', 'c', 'e']\n"
     ]
    }
   ],
   "source": [
    "# accessing item in a list\n",
    "list=[\"a\",\"b\",\"c\",\"d\",\"e\",\"f\"]\n",
    "print(\"1) created list : \",list)\n",
    "\n",
    "#remove item in a specified index\n",
    "x = list.pop(3)\n",
    "print(\"2) Removed element is : \",x)\n",
    "print(\"3) List after pop :\",list)\n",
    "\n",
    "x = list.pop()     # its going to delete the last element\n",
    "print(\"4) List after pop :\",list)  \n",
    "\n"
   ]
  },
  {
   "cell_type": "markdown",
   "id": "05807b4e",
   "metadata": {},
   "source": [
    "# sort()"
   ]
  },
  {
   "cell_type": "code",
   "execution_count": 9,
   "id": "ed4b3755",
   "metadata": {},
   "outputs": [
    {
     "name": "stdout",
     "output_type": "stream",
     "text": [
      "Created list : [1, 2, 3, 7, 3, 9, 2, 0]\n",
      "List after sorting : [0, 1, 2, 2, 3, 3, 7, 9]\n"
     ]
    }
   ],
   "source": [
    "#sort function\n",
    "L1=[1,2,3,7,3,9,2,0]\n",
    "print(\"Created list :\",L1)\n",
    "L1.sort()\n",
    "print(\"List after sorting :\",L1)"
   ]
  },
  {
   "cell_type": "code",
   "execution_count": 41,
   "id": "984dc6f1",
   "metadata": {},
   "outputs": [
    {
     "name": "stdout",
     "output_type": "stream",
     "text": [
      "list before sort : [1, 2, 3, 7, 3, 9, 2, 0]\n",
      "Sorted list : [0, 1, 2, 2, 3, 3, 7, 9]\n",
      "List after sort : [1, 2, 3, 7, 3, 9, 2, 0]\n"
     ]
    }
   ],
   "source": [
    "L1=[1,2,3,7,3,9,2,0]\n",
    "print(\"list before sort :\",L1)\n",
    "print(\"Sorted list :\",sorted(L1))\n",
    "print(\"List after sort :\",L1)"
   ]
  },
  {
   "cell_type": "markdown",
   "id": "40750a62",
   "metadata": {},
   "source": [
    "# copy() : Return a copy of the list."
   ]
  },
  {
   "cell_type": "code",
   "execution_count": 10,
   "id": "86043b37",
   "metadata": {},
   "outputs": [
    {
     "name": "stdout",
     "output_type": "stream",
     "text": [
      "L1 list is : [1, 2, 3, 7, 3, 9, 2, 0]\n",
      "L2 list is : [1, 2, 3, 7, 3, 9, 2, 0]\n"
     ]
    }
   ],
   "source": [
    "L1=[1,2,3,7,3,9,2,0]\n",
    "print(\"L1 list is :\",L1)\n",
    "\n",
    "L2 = L1.copy()\n",
    "print(\"L2 list is :\",L2)\n"
   ]
  },
  {
   "cell_type": "markdown",
   "id": "fd6e9e40",
   "metadata": {},
   "source": [
    "# joining two list"
   ]
  },
  {
   "cell_type": "code",
   "execution_count": 11,
   "id": "ace2382d",
   "metadata": {},
   "outputs": [
    {
     "name": "stdout",
     "output_type": "stream",
     "text": [
      "[1, 2, 3, 4, 5, 6, 7, 8, 9, 10]\n"
     ]
    }
   ],
   "source": [
    "L1 = [1,2,3,4,5]\n",
    "L2 = [6,7,8,9,10]\n",
    "\n",
    "L3=L1+L2\n",
    "print(L3)"
   ]
  },
  {
   "cell_type": "markdown",
   "id": "7f7a7f8a",
   "metadata": {},
   "source": [
    "# extend() : Extend list by appending elements from the iterable."
   ]
  },
  {
   "cell_type": "code",
   "execution_count": 12,
   "id": "a0828b4b",
   "metadata": {},
   "outputs": [
    {
     "name": "stdout",
     "output_type": "stream",
     "text": [
      "[1, 2, 3, 4, 5]\n",
      "[6, 7, 8, 9, 10]\n",
      "[6, 7, 8, 9, 10, 1, 2, 3, 4, 5]\n"
     ]
    }
   ],
   "source": [
    "L1 = [1,2,3,4,5]\n",
    "print(L1)\n",
    "\n",
    "L2 = [6,7,8,9,10]\n",
    "print(L2)\n",
    "\n",
    "L2.extend(L1)\n",
    "print(L2)\n"
   ]
  },
  {
   "cell_type": "code",
   "execution_count": 32,
   "id": "601c4691",
   "metadata": {},
   "outputs": [
    {
     "name": "stdout",
     "output_type": "stream",
     "text": [
      "[1, 2, 3, 4, 5]\n",
      "[1, 2, 3, 4, 5, 6, 7, 8, 9, 10, 11, 12, 13, 14, 15, 16, 17, 18, 19]\n"
     ]
    }
   ],
   "source": [
    "L1 = [1,2,3,4,5]\n",
    "print(L1)\n",
    "\n",
    "L1.extend(range(6,20))\n",
    "print(L1)"
   ]
  },
  {
   "cell_type": "code",
   "execution_count": 34,
   "id": "e7281cd4",
   "metadata": {},
   "outputs": [
    {
     "name": "stdout",
     "output_type": "stream",
     "text": [
      "[1, 2, 3, 4, 5]\n",
      "[1, 2, 3, 4, 5, 11, 12, 13, 14]\n"
     ]
    }
   ],
   "source": [
    "L1 = [1,2,3,4,5]\n",
    "print(L1)\n",
    "\n",
    "L1.extend((11,12,13,14))\n",
    "print(L1)"
   ]
  },
  {
   "cell_type": "code",
   "execution_count": null,
   "id": "3a544631",
   "metadata": {},
   "outputs": [],
   "source": []
  },
  {
   "cell_type": "markdown",
   "id": "2e1006f8",
   "metadata": {},
   "source": [
    "# count() : Return number of occurrences of value."
   ]
  },
  {
   "cell_type": "code",
   "execution_count": 13,
   "id": "762b8fc9",
   "metadata": {},
   "outputs": [
    {
     "name": "stdout",
     "output_type": "stream",
     "text": [
      "4\n"
     ]
    }
   ],
   "source": [
    "L1 = [1,2,3,1,5,2,1,1]\n",
    "print(L1.count(1))"
   ]
  },
  {
   "cell_type": "markdown",
   "id": "1df61ff3",
   "metadata": {},
   "source": [
    "# max()"
   ]
  },
  {
   "cell_type": "code",
   "execution_count": 15,
   "id": "1986caf6",
   "metadata": {},
   "outputs": [
    {
     "name": "stdout",
     "output_type": "stream",
     "text": [
      "5\n"
     ]
    }
   ],
   "source": [
    "L1 = [1,2,3,1,5,2,1,1]\n",
    "print(max(L1))"
   ]
  },
  {
   "cell_type": "markdown",
   "id": "2518328e",
   "metadata": {},
   "source": [
    "# min()"
   ]
  },
  {
   "cell_type": "code",
   "execution_count": 17,
   "id": "f1d4bbd3",
   "metadata": {},
   "outputs": [
    {
     "name": "stdout",
     "output_type": "stream",
     "text": [
      "0\n"
     ]
    }
   ],
   "source": [
    "L1 = [1,2,3,0,5,2,11,19]\n",
    "print(min(L1))"
   ]
  },
  {
   "cell_type": "markdown",
   "id": "dfd6f077",
   "metadata": {},
   "source": [
    "# reverse()"
   ]
  },
  {
   "cell_type": "code",
   "execution_count": 36,
   "id": "07afb190",
   "metadata": {},
   "outputs": [
    {
     "name": "stdout",
     "output_type": "stream",
     "text": [
      "Created list is : [1, 2, 3, 4, 5]\n",
      "List after Reverse operation :  [5, 4, 3, 2, 1]\n"
     ]
    }
   ],
   "source": [
    "L1 = [1,2,3,4,5]\n",
    "print(\"Created list is :\",L1)\n",
    "L1.reverse()\n",
    "print(\"List after Reverse operation : \",L1)"
   ]
  },
  {
   "cell_type": "code",
   "execution_count": null,
   "id": "c55d7d00",
   "metadata": {},
   "outputs": [],
   "source": []
  },
  {
   "cell_type": "markdown",
   "id": "1ac00da5",
   "metadata": {},
   "source": [
    "# index() : Return first index of value."
   ]
  },
  {
   "cell_type": "code",
   "execution_count": 23,
   "id": "45b2dc08",
   "metadata": {},
   "outputs": [
    {
     "name": "stdout",
     "output_type": "stream",
     "text": [
      "2\n",
      "0\n"
     ]
    }
   ],
   "source": [
    "L1 = [\"abc\",1729,9,34]\n",
    "print(L1.index(9))\n",
    "print(L1.index(\"abc\"))"
   ]
  },
  {
   "cell_type": "markdown",
   "id": "54d55263",
   "metadata": {},
   "source": [
    "# clear() : Remove all items from list."
   ]
  },
  {
   "cell_type": "code",
   "execution_count": 20,
   "id": "0c08ccfa",
   "metadata": {},
   "outputs": [
    {
     "name": "stdout",
     "output_type": "stream",
     "text": [
      "[1, 2, 3, 4, 5]\n",
      "[]\n"
     ]
    }
   ],
   "source": [
    "L1 = [1,2,3,4,5]\n",
    "print(L1)\n",
    "\n",
    "L1.clear()\n",
    "print(L1)"
   ]
  },
  {
   "cell_type": "code",
   "execution_count": 1,
   "id": "79d3eb2d",
   "metadata": {},
   "outputs": [
    {
     "name": "stdout",
     "output_type": "stream",
     "text": [
      "1) created list :  ['a', 'b', 'c', 'd']\n",
      "2) list after append operation :  ['a', 'b', 'c', 'd', 'e']\n",
      "3) accessing items in a list :  b\n",
      "4) changing item in the list :  ['a', 'A', 'c', 'd', 'e']\n",
      "5) after removing an item :  ['A', 'c', 'd', 'e']\n",
      "6) after pop operation ;  e\n",
      "6.1 )  ['A', 'c', 'd']\n",
      "8) performing sort on list\n",
      "[0, 1, 2, 2, 3, 3, 7, 9]\n",
      "12) extend methon\n",
      "['A', 'c', 'd', 0, 1, 2, 2, 3, 3, 7, 9]\n",
      "1\n",
      "[9, 7, 3, 3, 2, 2, 1, 0, 'd', 'c', 'A']\n"
     ]
    }
   ],
   "source": [
    "#creating a list\n",
    "list=[\"a\",\"b\",\"c\",\"d\"]\n",
    "print(\"1) created list : \",list)\n",
    "\n",
    "#appending elements in a list\n",
    "list.append(\"e\")\n",
    "print(\"2) list after append operation : \",list)\n",
    "\n",
    "#accessing item in a list\n",
    "print(\"3) accessing items in a list : \",list[1])\n",
    "\n",
    "#changing item in a list\n",
    "list[1]=\"A\"\n",
    "print(\"4) changing item in the list : \",list)\n",
    "\n",
    "#removing item in a list\n",
    "list.remove(\"a\")\n",
    "print(\"5) after removing an item : \",list)\n",
    "\n",
    "#pop()\n",
    "#remove item in a specified index\n",
    "print(\"6) after pop operation ; \",list.pop(3))\n",
    "print(\"6.1 ) \",list)\n",
    "\n",
    "# #loop through a list\n",
    "# print(\"7) loop through list:\")\n",
    "# for i in list:\n",
    "#     print(i)\n",
    "\n",
    "#sort function\n",
    "print(\"8) performing sort on list\")\n",
    "L1=[1,2,3,7,3,9,2,0]\n",
    "L1.sort()\n",
    "print(L1)\n",
    "\n",
    "# #coping a list\n",
    "# print(\"9) coping list\")\n",
    "L2=L1.copy()\n",
    "# print(L2)\n",
    "\n",
    "# #joining two list\n",
    "# print(\"10) joining two list\")\n",
    "# L3=L1+L2\n",
    "# print(L3)\n",
    "\n",
    "# #appending one list into the other list\n",
    "# print(\"11) appending one list into the other list\")\n",
    "# for i in L2:\n",
    "#     L1.append(i)\n",
    "# print(L1)\n",
    "\n",
    "# extend()\n",
    "print(\"12) extend methon\")\n",
    "list.extend(L2)\n",
    "print(list)\n",
    "#print(L2)\n",
    "\n",
    "# #count()\n",
    "print(list.count(\"A\"))\n",
    "\n",
    "# #max()\n",
    "# print(max([1, 2, 2, 3, 3, 7, 9]))\n",
    "\n",
    "# #min()\n",
    "# print(min([1, 2, 2, 3, 3, 7, 9]))\n",
    "\n",
    "# #reverse()\n",
    "list.reverse()\n",
    "print(list)\n",
    "\n",
    "#clear()\n",
    "# list.clear()\n",
    "# print(list)"
   ]
  },
  {
   "cell_type": "code",
   "execution_count": 5,
   "id": "b2dd8eda",
   "metadata": {},
   "outputs": [
    {
     "name": "stdout",
     "output_type": "stream",
     "text": [
      "[9, 7, 3, 3, 2, 2, 1, 0, 'd']\n",
      "d\n",
      "[9, 7, 3, 3, 2, 2, 1, 0]\n"
     ]
    }
   ],
   "source": [
    "print(list)\n",
    "x=list.pop()\n",
    "print(x)\n",
    "print(list)\n"
   ]
  },
  {
   "cell_type": "code",
   "execution_count": 9,
   "id": "937df556",
   "metadata": {},
   "outputs": [
    {
     "name": "stdout",
     "output_type": "stream",
     "text": [
      "[9, 7, 3, 3, 2, 2, 1, 0, 'python']\n",
      "[9, 7, 3, 3, 2, 2, 1, 0, 'python', 'python']\n",
      "[9, 7, 3, 'Data Science', 3, 2, 2, 1, 0, 'python', 'python']\n"
     ]
    }
   ],
   "source": [
    "print(list)\n",
    "list.append(\"python\")\n",
    "print(list)\n",
    "\n",
    "list.insert(3,\"Data Science\")\n",
    "print(list)"
   ]
  },
  {
   "cell_type": "code",
   "execution_count": null,
   "id": "031b583b",
   "metadata": {},
   "outputs": [],
   "source": []
  },
  {
   "cell_type": "code",
   "execution_count": 18,
   "id": "df8887c7",
   "metadata": {
    "scrolled": true
   },
   "outputs": [
    {
     "name": "stdout",
     "output_type": "stream",
     "text": [
      "Help on list object:\n",
      "\n",
      "class list(object)\n",
      " |  list(iterable=(), /)\n",
      " |  \n",
      " |  Built-in mutable sequence.\n",
      " |  \n",
      " |  If no argument is given, the constructor creates a new empty list.\n",
      " |  The argument must be an iterable if specified.\n",
      " |  \n",
      " |  Methods defined here:\n",
      " |  \n",
      " |  __add__(self, value, /)\n",
      " |      Return self+value.\n",
      " |  \n",
      " |  __contains__(self, key, /)\n",
      " |      Return key in self.\n",
      " |  \n",
      " |  __delitem__(self, key, /)\n",
      " |      Delete self[key].\n",
      " |  \n",
      " |  __eq__(self, value, /)\n",
      " |      Return self==value.\n",
      " |  \n",
      " |  __ge__(self, value, /)\n",
      " |      Return self>=value.\n",
      " |  \n",
      " |  __getattribute__(self, name, /)\n",
      " |      Return getattr(self, name).\n",
      " |  \n",
      " |  __getitem__(...)\n",
      " |      x.__getitem__(y) <==> x[y]\n",
      " |  \n",
      " |  __gt__(self, value, /)\n",
      " |      Return self>value.\n",
      " |  \n",
      " |  __iadd__(self, value, /)\n",
      " |      Implement self+=value.\n",
      " |  \n",
      " |  __imul__(self, value, /)\n",
      " |      Implement self*=value.\n",
      " |  \n",
      " |  __init__(self, /, *args, **kwargs)\n",
      " |      Initialize self.  See help(type(self)) for accurate signature.\n",
      " |  \n",
      " |  __iter__(self, /)\n",
      " |      Implement iter(self).\n",
      " |  \n",
      " |  __le__(self, value, /)\n",
      " |      Return self<=value.\n",
      " |  \n",
      " |  __len__(self, /)\n",
      " |      Return len(self).\n",
      " |  \n",
      " |  __lt__(self, value, /)\n",
      " |      Return self<value.\n",
      " |  \n",
      " |  __mul__(self, value, /)\n",
      " |      Return self*value.\n",
      " |  \n",
      " |  __ne__(self, value, /)\n",
      " |      Return self!=value.\n",
      " |  \n",
      " |  __repr__(self, /)\n",
      " |      Return repr(self).\n",
      " |  \n",
      " |  __reversed__(self, /)\n",
      " |      Return a reverse iterator over the list.\n",
      " |  \n",
      " |  __rmul__(self, value, /)\n",
      " |      Return value*self.\n",
      " |  \n",
      " |  __setitem__(self, key, value, /)\n",
      " |      Set self[key] to value.\n",
      " |  \n",
      " |  __sizeof__(self, /)\n",
      " |      Return the size of the list in memory, in bytes.\n",
      " |  \n",
      " |  append(self, object, /)\n",
      " |      Append object to the end of the list.\n",
      " |  \n",
      " |  clear(self, /)\n",
      " |      Remove all items from list.\n",
      " |  \n",
      " |  copy(self, /)\n",
      " |      Return a shallow copy of the list.\n",
      " |  \n",
      " |  count(self, value, /)\n",
      " |      Return number of occurrences of value.\n",
      " |  \n",
      " |  extend(self, iterable, /)\n",
      " |      Extend list by appending elements from the iterable.\n",
      " |  \n",
      " |  index(self, value, start=0, stop=9223372036854775807, /)\n",
      " |      Return first index of value.\n",
      " |      \n",
      " |      Raises ValueError if the value is not present.\n",
      " |  \n",
      " |  insert(self, index, object, /)\n",
      " |      Insert object before index.\n",
      " |  \n",
      " |  pop(self, index=-1, /)\n",
      " |      Remove and return item at index (default last).\n",
      " |      \n",
      " |      Raises IndexError if list is empty or index is out of range.\n",
      " |  \n",
      " |  remove(self, value, /)\n",
      " |      Remove first occurrence of value.\n",
      " |      \n",
      " |      Raises ValueError if the value is not present.\n",
      " |  \n",
      " |  reverse(self, /)\n",
      " |      Reverse *IN PLACE*.\n",
      " |  \n",
      " |  sort(self, /, *, key=None, reverse=False)\n",
      " |      Sort the list in ascending order and return None.\n",
      " |      \n",
      " |      The sort is in-place (i.e. the list itself is modified) and stable (i.e. the\n",
      " |      order of two equal elements is maintained).\n",
      " |      \n",
      " |      If a key function is given, apply it once to each list item and sort them,\n",
      " |      ascending or descending, according to their function values.\n",
      " |      \n",
      " |      The reverse flag can be set to sort in descending order.\n",
      " |  \n",
      " |  ----------------------------------------------------------------------\n",
      " |  Class methods defined here:\n",
      " |  \n",
      " |  __class_getitem__(...) from builtins.type\n",
      " |      See PEP 585\n",
      " |  \n",
      " |  ----------------------------------------------------------------------\n",
      " |  Static methods defined here:\n",
      " |  \n",
      " |  __new__(*args, **kwargs) from builtins.type\n",
      " |      Create and return a new object.  See help(type) for accurate signature.\n",
      " |  \n",
      " |  ----------------------------------------------------------------------\n",
      " |  Data and other attributes defined here:\n",
      " |  \n",
      " |  __hash__ = None\n",
      "\n",
      "None\n"
     ]
    }
   ],
   "source": [
    "print(help(list))"
   ]
  },
  {
   "cell_type": "code",
   "execution_count": null,
   "id": "7eaf3ad0",
   "metadata": {},
   "outputs": [],
   "source": [
    "print()"
   ]
  }
 ],
 "metadata": {
  "kernelspec": {
   "display_name": "Python 3 (ipykernel)",
   "language": "python",
   "name": "python3"
  },
  "language_info": {
   "codemirror_mode": {
    "name": "ipython",
    "version": 3
   },
   "file_extension": ".py",
   "mimetype": "text/x-python",
   "name": "python",
   "nbconvert_exporter": "python",
   "pygments_lexer": "ipython3",
   "version": "3.9.12"
  }
 },
 "nbformat": 4,
 "nbformat_minor": 5
}
