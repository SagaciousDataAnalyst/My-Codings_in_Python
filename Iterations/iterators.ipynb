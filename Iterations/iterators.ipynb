{
 "cells": [
  {
   "cell_type": "code",
   "execution_count": 2,
   "id": "857dd116",
   "metadata": {},
   "outputs": [
    {
     "name": "stdout",
     "output_type": "stream",
     "text": [
      "apple\n",
      "banana\n",
      "cherry\n"
     ]
    }
   ],
   "source": [
    "mytuple = (\"apple\", \"banana\", \"cherry\")\n",
    "m = iter(mytuple)\n",
    "\n",
    "print(next(m))\n",
    "print(next(m))\n",
    "print(next(m))\n",
    "\n",
    "for i \n"
   ]
  },
  {
   "cell_type": "code",
   "execution_count": 1,
   "id": "cb85c4ed",
   "metadata": {},
   "outputs": [
    {
     "name": "stdout",
     "output_type": "stream",
     "text": [
      "b\n",
      "a\n",
      "n\n",
      "a\n",
      "n\n",
      "a\n"
     ]
    }
   ],
   "source": [
    "mystr = \"banana\"\n",
    "myit = iter(mystr)\n",
    "\n",
    "print(next(myit))\n",
    "print(next(myit))\n",
    "print(next(myit))\n",
    "print(next(myit))\n",
    "print(next(myit))\n",
    "print(next(myit))"
   ]
  },
  {
   "cell_type": "code",
   "execution_count": 17,
   "id": "ec9564e9",
   "metadata": {},
   "outputs": [
    {
     "name": "stdout",
     "output_type": "stream",
     "text": [
      "enter the a value : 12\n",
      "enter the b value : 0\n",
      "zero division\n",
      "i am in FINALLY BLOCK\n"
     ]
    }
   ],
   "source": [
    "a=int(input(\"enter the a value : \"))\n",
    "b=int(input(\"enter the b value : \"))\n",
    "try:\n",
    "    print(a/b)\n",
    "except:\n",
    "    print(\"zero division\")\n",
    "    \n",
    "else:\n",
    "    print(\"else block\")\n",
    "    \n",
    "finally:\n",
    "    print(\"i am in FINALLY BLOCK\")\n",
    "\n"
   ]
  },
  {
   "cell_type": "code",
   "execution_count": null,
   "id": "38b39f67",
   "metadata": {},
   "outputs": [],
   "source": []
  }
 ],
 "metadata": {
  "kernelspec": {
   "display_name": "Python 3 (ipykernel)",
   "language": "python",
   "name": "python3"
  },
  "language_info": {
   "codemirror_mode": {
    "name": "ipython",
    "version": 3
   },
   "file_extension": ".py",
   "mimetype": "text/x-python",
   "name": "python",
   "nbconvert_exporter": "python",
   "pygments_lexer": "ipython3",
   "version": "3.9.7"
  }
 },
 "nbformat": 4,
 "nbformat_minor": 5
}
