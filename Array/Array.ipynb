{
 "cells": [
  {
   "cell_type": "markdown",
   "id": "cdbbad44",
   "metadata": {},
   "source": [
    "# Array\n",
    "    An array is an object that stores a group of elements (or values) of same datatype. The main advantage of any array is to store and process a group of elements easily. There are two points we should remember in case of arrays in Python. \n",
    "1. Arrays can store only one type of data. It means, we can store only integer type elements or only float type elements into an array. But we cannot store one integer, one float and one character type element into the same array.\n",
    "2. The size of the array. When the elements are added, it will increase its size and when the elements are removed, it will automatically decrease its size in memory."
   ]
  },
  {
   "cell_type": "markdown",
   "id": "8673b694",
   "metadata": {},
   "source": [
    "## Advantages of Arrays\n",
    "The following are some advantages of arrays:\n",
    "1. Arrays are similar to lists. The main difference is that arrays can store only one typen of elements; whereas, lists can store different types of elements. When dealing with a huge number of elements, arrays use less memory than lists and they offer faster execution than lists. \n",
    "2. The size of the array is not fixed in Python. Hence, we need not specify how many elements we are going to store into an array in the beginning.\n",
    "3. Arrays can grow or shrink in memory dynamically (during runtime). \n",
    "4. Arrays are useful to handle a collection of elements like a group of numbers or characters.\n",
    "5. Methods that are useful to process the elements of any array are available in 'array' module."
   ]
  },
  {
   "cell_type": "markdown",
   "id": "f0815d48",
   "metadata": {},
   "source": [
    "## Creating an Arrya\n",
    "We have already discussed that arrays can hold data of same type. The type should be specified by using a type code at the time of creating the array object as: \n",
    "\n",
    "        arrayname= array(type code, [elements])\n",
    "        \n",
    "Where Type code represent the type of the data that we are going to store. For example, The type code i', represents integer type array where we can store integer numbers. If the type code is then it represents float type array where we can store numbers with decimal point."
   ]
  },
  {
   "cell_type": "markdown",
   "id": "2704edb1",
   "metadata": {},
   "source": [
    "![](ArrayTypeCode.png)"
   ]
  },
  {
   "cell_type": "markdown",
   "id": "fb37451e",
   "metadata": {},
   "source": [
    "## To know more about the array we can you \"help()\""
   ]
  },
  {
   "cell_type": "code",
   "execution_count": 2,
   "id": "9169caa1",
   "metadata": {
    "scrolled": true
   },
   "outputs": [
    {
     "name": "stdout",
     "output_type": "stream",
     "text": [
      "Help on built-in module array:\n",
      "\n",
      "NAME\n",
      "    array\n",
      "\n",
      "DESCRIPTION\n",
      "    This module defines an object type which can efficiently represent\n",
      "    an array of basic values: characters, integers, floating point\n",
      "    numbers.  Arrays are sequence types and behave very much like lists,\n",
      "    except that the type of objects stored in them is constrained.\n",
      "\n",
      "CLASSES\n",
      "    builtins.object\n",
      "        array\n",
      "    \n",
      "    ArrayType = class array(builtins.object)\n",
      "     |  array(typecode [, initializer]) -> array\n",
      "     |  \n",
      "     |  Return a new array whose items are restricted by typecode, and\n",
      "     |  initialized from the optional initializer value, which must be a list,\n",
      "     |  string or iterable over elements of the appropriate type.\n",
      "     |  \n",
      "     |  Arrays represent basic values and behave very much like lists, except\n",
      "     |  the type of objects stored in them is constrained. The type is specified\n",
      "     |  at object creation time by using a type code, which is a single character.\n",
      "     |  The following type codes are defined:\n",
      "     |  \n",
      "     |      Type code   C Type             Minimum size in bytes\n",
      "     |      'b'         signed integer     1\n",
      "     |      'B'         unsigned integer   1\n",
      "     |      'u'         Unicode character  2 (see note)\n",
      "     |      'h'         signed integer     2\n",
      "     |      'H'         unsigned integer   2\n",
      "     |      'i'         signed integer     2\n",
      "     |      'I'         unsigned integer   2\n",
      "     |      'l'         signed integer     4\n",
      "     |      'L'         unsigned integer   4\n",
      "     |      'q'         signed integer     8 (see note)\n",
      "     |      'Q'         unsigned integer   8 (see note)\n",
      "     |      'f'         floating point     4\n",
      "     |      'd'         floating point     8\n",
      "     |  \n",
      "     |  NOTE: The 'u' typecode corresponds to Python's unicode character. On\n",
      "     |  narrow builds this is 2-bytes on wide builds this is 4-bytes.\n",
      "     |  \n",
      "     |  NOTE: The 'q' and 'Q' type codes are only available if the platform\n",
      "     |  C compiler used to build Python supports 'long long', or, on Windows,\n",
      "     |  '__int64'.\n",
      "     |  \n",
      "     |  Methods:\n",
      "     |  \n",
      "     |  append() -- append a new item to the end of the array\n",
      "     |  buffer_info() -- return information giving the current memory info\n",
      "     |  byteswap() -- byteswap all the items of the array\n",
      "     |  count() -- return number of occurrences of an object\n",
      "     |  extend() -- extend array by appending multiple elements from an iterable\n",
      "     |  fromfile() -- read items from a file object\n",
      "     |  fromlist() -- append items from the list\n",
      "     |  frombytes() -- append items from the string\n",
      "     |  index() -- return index of first occurrence of an object\n",
      "     |  insert() -- insert a new item into the array at a provided position\n",
      "     |  pop() -- remove and return item (default last)\n",
      "     |  remove() -- remove first occurrence of an object\n",
      "     |  reverse() -- reverse the order of the items in the array\n",
      "     |  tofile() -- write all items to a file object\n",
      "     |  tolist() -- return the array converted to an ordinary list\n",
      "     |  tobytes() -- return the array converted to a string\n",
      "     |  \n",
      "     |  Attributes:\n",
      "     |  \n",
      "     |  typecode -- the typecode character used to create the array\n",
      "     |  itemsize -- the length in bytes of one array item\n",
      "     |  \n",
      "     |  Methods defined here:\n",
      "     |  \n",
      "     |  __add__(self, value, /)\n",
      "     |      Return self+value.\n",
      "     |  \n",
      "     |  __contains__(self, key, /)\n",
      "     |      Return key in self.\n",
      "     |  \n",
      "     |  __copy__(self, /)\n",
      "     |      Return a copy of the array.\n",
      "     |  \n",
      "     |  __deepcopy__(self, unused, /)\n",
      "     |      Return a copy of the array.\n",
      "     |  \n",
      "     |  __delitem__(self, key, /)\n",
      "     |      Delete self[key].\n",
      "     |  \n",
      "     |  __eq__(self, value, /)\n",
      "     |      Return self==value.\n",
      "     |  \n",
      "     |  __ge__(self, value, /)\n",
      "     |      Return self>=value.\n",
      "     |  \n",
      "     |  __getattribute__(self, name, /)\n",
      "     |      Return getattr(self, name).\n",
      "     |  \n",
      "     |  __getitem__(self, key, /)\n",
      "     |      Return self[key].\n",
      "     |  \n",
      "     |  __gt__(self, value, /)\n",
      "     |      Return self>value.\n",
      "     |  \n",
      "     |  __iadd__(self, value, /)\n",
      "     |      Implement self+=value.\n",
      "     |  \n",
      "     |  __imul__(self, value, /)\n",
      "     |      Implement self*=value.\n",
      "     |  \n",
      "     |  __iter__(self, /)\n",
      "     |      Implement iter(self).\n",
      "     |  \n",
      "     |  __le__(self, value, /)\n",
      "     |      Return self<=value.\n",
      "     |  \n",
      "     |  __len__(self, /)\n",
      "     |      Return len(self).\n",
      "     |  \n",
      "     |  __lt__(self, value, /)\n",
      "     |      Return self<value.\n",
      "     |  \n",
      "     |  __mul__(self, value, /)\n",
      "     |      Return self*value.\n",
      "     |  \n",
      "     |  __ne__(self, value, /)\n",
      "     |      Return self!=value.\n",
      "     |  \n",
      "     |  __reduce_ex__(self, value, /)\n",
      "     |      Return state information for pickling.\n",
      "     |  \n",
      "     |  __repr__(self, /)\n",
      "     |      Return repr(self).\n",
      "     |  \n",
      "     |  __rmul__(self, value, /)\n",
      "     |      Return value*self.\n",
      "     |  \n",
      "     |  __setitem__(self, key, value, /)\n",
      "     |      Set self[key] to value.\n",
      "     |  \n",
      "     |  __sizeof__(self, /)\n",
      "     |      Size of the array in memory, in bytes.\n",
      "     |  \n",
      "     |  append(self, v, /)\n",
      "     |      Append new value v to the end of the array.\n",
      "     |  \n",
      "     |  buffer_info(self, /)\n",
      "     |      Return a tuple (address, length) giving the current memory address and the length in items of the buffer used to hold array's contents.\n",
      "     |      \n",
      "     |      The length should be multiplied by the itemsize attribute to calculate\n",
      "     |      the buffer length in bytes.\n",
      "     |  \n",
      "     |  byteswap(self, /)\n",
      "     |      Byteswap all items of the array.\n",
      "     |      \n",
      "     |      If the items in the array are not 1, 2, 4, or 8 bytes in size, RuntimeError is\n",
      "     |      raised.\n",
      "     |  \n",
      "     |  count(self, v, /)\n",
      "     |      Return number of occurrences of v in the array.\n",
      "     |  \n",
      "     |  extend(self, bb, /)\n",
      "     |      Append items to the end of the array.\n",
      "     |  \n",
      "     |  frombytes(self, buffer, /)\n",
      "     |      Appends items from the string, interpreting it as an array of machine values, as if it had been read from a file using the fromfile() method.\n",
      "     |  \n",
      "     |  fromfile(self, f, n, /)\n",
      "     |      Read n objects from the file object f and append them to the end of the array.\n",
      "     |  \n",
      "     |  fromlist(self, list, /)\n",
      "     |      Append items to array from list.\n",
      "     |  \n",
      "     |  fromunicode(self, ustr, /)\n",
      "     |      Extends this array with data from the unicode string ustr.\n",
      "     |      \n",
      "     |      The array must be a unicode type array; otherwise a ValueError is raised.\n",
      "     |      Use array.frombytes(ustr.encode(...)) to append Unicode data to an array of\n",
      "     |      some other type.\n",
      "     |  \n",
      "     |  index(self, v, /)\n",
      "     |      Return index of first occurrence of v in the array.\n",
      "     |  \n",
      "     |  insert(self, i, v, /)\n",
      "     |      Insert a new item v into the array before position i.\n",
      "     |  \n",
      "     |  pop(self, i=-1, /)\n",
      "     |      Return the i-th element and delete it from the array.\n",
      "     |      \n",
      "     |      i defaults to -1.\n",
      "     |  \n",
      "     |  remove(self, v, /)\n",
      "     |      Remove the first occurrence of v in the array.\n",
      "     |  \n",
      "     |  reverse(self, /)\n",
      "     |      Reverse the order of the items in the array.\n",
      "     |  \n",
      "     |  tobytes(self, /)\n",
      "     |      Convert the array to an array of machine values and return the bytes representation.\n",
      "     |  \n",
      "     |  tofile(self, f, /)\n",
      "     |      Write all items (as machine values) to the file object f.\n",
      "     |  \n",
      "     |  tolist(self, /)\n",
      "     |      Convert array to an ordinary list with the same items.\n",
      "     |  \n",
      "     |  tounicode(self, /)\n",
      "     |      Extends this array with data from the unicode string ustr.\n",
      "     |      \n",
      "     |      Convert the array to a unicode string.  The array must be a unicode type array;\n",
      "     |      otherwise a ValueError is raised.  Use array.tobytes().decode() to obtain a\n",
      "     |      unicode string from an array of some other type.\n",
      "     |  \n",
      "     |  ----------------------------------------------------------------------\n",
      "     |  Static methods defined here:\n",
      "     |  \n",
      "     |  __new__(*args, **kwargs) from builtins.type\n",
      "     |      Create and return a new object.  See help(type) for accurate signature.\n",
      "     |  \n",
      "     |  ----------------------------------------------------------------------\n",
      "     |  Data descriptors defined here:\n",
      "     |  \n",
      "     |  itemsize\n",
      "     |      the size, in bytes, of one array item\n",
      "     |  \n",
      "     |  typecode\n",
      "     |      the typecode character used to create the array\n",
      "     |  \n",
      "     |  ----------------------------------------------------------------------\n",
      "     |  Data and other attributes defined here:\n",
      "     |  \n",
      "     |  __hash__ = None\n",
      "    \n",
      "    class array(builtins.object)\n",
      "     |  array(typecode [, initializer]) -> array\n",
      "     |  \n",
      "     |  Return a new array whose items are restricted by typecode, and\n",
      "     |  initialized from the optional initializer value, which must be a list,\n",
      "     |  string or iterable over elements of the appropriate type.\n",
      "     |  \n",
      "     |  Arrays represent basic values and behave very much like lists, except\n",
      "     |  the type of objects stored in them is constrained. The type is specified\n",
      "     |  at object creation time by using a type code, which is a single character.\n",
      "     |  The following type codes are defined:\n",
      "     |  \n",
      "     |      Type code   C Type             Minimum size in bytes\n",
      "     |      'b'         signed integer     1\n",
      "     |      'B'         unsigned integer   1\n",
      "     |      'u'         Unicode character  2 (see note)\n",
      "     |      'h'         signed integer     2\n",
      "     |      'H'         unsigned integer   2\n",
      "     |      'i'         signed integer     2\n",
      "     |      'I'         unsigned integer   2\n",
      "     |      'l'         signed integer     4\n",
      "     |      'L'         unsigned integer   4\n",
      "     |      'q'         signed integer     8 (see note)\n",
      "     |      'Q'         unsigned integer   8 (see note)\n",
      "     |      'f'         floating point     4\n",
      "     |      'd'         floating point     8\n",
      "     |  \n",
      "     |  NOTE: The 'u' typecode corresponds to Python's unicode character. On\n",
      "     |  narrow builds this is 2-bytes on wide builds this is 4-bytes.\n",
      "     |  \n",
      "     |  NOTE: The 'q' and 'Q' type codes are only available if the platform\n",
      "     |  C compiler used to build Python supports 'long long', or, on Windows,\n",
      "     |  '__int64'.\n",
      "     |  \n",
      "     |  Methods:\n",
      "     |  \n",
      "     |  append() -- append a new item to the end of the array\n",
      "     |  buffer_info() -- return information giving the current memory info\n",
      "     |  byteswap() -- byteswap all the items of the array\n",
      "     |  count() -- return number of occurrences of an object\n",
      "     |  extend() -- extend array by appending multiple elements from an iterable\n",
      "     |  fromfile() -- read items from a file object\n",
      "     |  fromlist() -- append items from the list\n",
      "     |  frombytes() -- append items from the string\n",
      "     |  index() -- return index of first occurrence of an object\n",
      "     |  insert() -- insert a new item into the array at a provided position\n",
      "     |  pop() -- remove and return item (default last)\n",
      "     |  remove() -- remove first occurrence of an object\n",
      "     |  reverse() -- reverse the order of the items in the array\n",
      "     |  tofile() -- write all items to a file object\n",
      "     |  tolist() -- return the array converted to an ordinary list\n",
      "     |  tobytes() -- return the array converted to a string\n",
      "     |  \n",
      "     |  Attributes:\n",
      "     |  \n",
      "     |  typecode -- the typecode character used to create the array\n",
      "     |  itemsize -- the length in bytes of one array item\n",
      "     |  \n",
      "     |  Methods defined here:\n",
      "     |  \n",
      "     |  __add__(self, value, /)\n",
      "     |      Return self+value.\n",
      "     |  \n",
      "     |  __contains__(self, key, /)\n",
      "     |      Return key in self.\n",
      "     |  \n",
      "     |  __copy__(self, /)\n",
      "     |      Return a copy of the array.\n",
      "     |  \n",
      "     |  __deepcopy__(self, unused, /)\n",
      "     |      Return a copy of the array.\n",
      "     |  \n",
      "     |  __delitem__(self, key, /)\n",
      "     |      Delete self[key].\n",
      "     |  \n",
      "     |  __eq__(self, value, /)\n",
      "     |      Return self==value.\n",
      "     |  \n",
      "     |  __ge__(self, value, /)\n",
      "     |      Return self>=value.\n",
      "     |  \n",
      "     |  __getattribute__(self, name, /)\n",
      "     |      Return getattr(self, name).\n",
      "     |  \n",
      "     |  __getitem__(self, key, /)\n",
      "     |      Return self[key].\n",
      "     |  \n",
      "     |  __gt__(self, value, /)\n",
      "     |      Return self>value.\n",
      "     |  \n",
      "     |  __iadd__(self, value, /)\n",
      "     |      Implement self+=value.\n",
      "     |  \n",
      "     |  __imul__(self, value, /)\n",
      "     |      Implement self*=value.\n",
      "     |  \n",
      "     |  __iter__(self, /)\n",
      "     |      Implement iter(self).\n",
      "     |  \n",
      "     |  __le__(self, value, /)\n",
      "     |      Return self<=value.\n",
      "     |  \n",
      "     |  __len__(self, /)\n",
      "     |      Return len(self).\n",
      "     |  \n",
      "     |  __lt__(self, value, /)\n",
      "     |      Return self<value.\n",
      "     |  \n",
      "     |  __mul__(self, value, /)\n",
      "     |      Return self*value.\n",
      "     |  \n",
      "     |  __ne__(self, value, /)\n",
      "     |      Return self!=value.\n",
      "     |  \n",
      "     |  __reduce_ex__(self, value, /)\n",
      "     |      Return state information for pickling.\n",
      "     |  \n",
      "     |  __repr__(self, /)\n",
      "     |      Return repr(self).\n",
      "     |  \n",
      "     |  __rmul__(self, value, /)\n",
      "     |      Return value*self.\n",
      "     |  \n",
      "     |  __setitem__(self, key, value, /)\n",
      "     |      Set self[key] to value.\n",
      "     |  \n",
      "     |  __sizeof__(self, /)\n",
      "     |      Size of the array in memory, in bytes.\n",
      "     |  \n",
      "     |  append(self, v, /)\n",
      "     |      Append new value v to the end of the array.\n",
      "     |  \n",
      "     |  buffer_info(self, /)\n",
      "     |      Return a tuple (address, length) giving the current memory address and the length in items of the buffer used to hold array's contents.\n",
      "     |      \n",
      "     |      The length should be multiplied by the itemsize attribute to calculate\n",
      "     |      the buffer length in bytes.\n",
      "     |  \n",
      "     |  byteswap(self, /)\n",
      "     |      Byteswap all items of the array.\n",
      "     |      \n",
      "     |      If the items in the array are not 1, 2, 4, or 8 bytes in size, RuntimeError is\n",
      "     |      raised.\n",
      "     |  \n",
      "     |  count(self, v, /)\n",
      "     |      Return number of occurrences of v in the array.\n",
      "     |  \n",
      "     |  extend(self, bb, /)\n",
      "     |      Append items to the end of the array.\n",
      "     |  \n",
      "     |  frombytes(self, buffer, /)\n",
      "     |      Appends items from the string, interpreting it as an array of machine values, as if it had been read from a file using the fromfile() method.\n",
      "     |  \n",
      "     |  fromfile(self, f, n, /)\n",
      "     |      Read n objects from the file object f and append them to the end of the array.\n",
      "     |  \n",
      "     |  fromlist(self, list, /)\n",
      "     |      Append items to array from list.\n",
      "     |  \n",
      "     |  fromunicode(self, ustr, /)\n",
      "     |      Extends this array with data from the unicode string ustr.\n",
      "     |      \n",
      "     |      The array must be a unicode type array; otherwise a ValueError is raised.\n",
      "     |      Use array.frombytes(ustr.encode(...)) to append Unicode data to an array of\n",
      "     |      some other type.\n",
      "     |  \n",
      "     |  index(self, v, /)\n",
      "     |      Return index of first occurrence of v in the array.\n",
      "     |  \n",
      "     |  insert(self, i, v, /)\n",
      "     |      Insert a new item v into the array before position i.\n",
      "     |  \n",
      "     |  pop(self, i=-1, /)\n",
      "     |      Return the i-th element and delete it from the array.\n",
      "     |      \n",
      "     |      i defaults to -1.\n",
      "     |  \n",
      "     |  remove(self, v, /)\n",
      "     |      Remove the first occurrence of v in the array.\n",
      "     |  \n",
      "     |  reverse(self, /)\n",
      "     |      Reverse the order of the items in the array.\n",
      "     |  \n",
      "     |  tobytes(self, /)\n",
      "     |      Convert the array to an array of machine values and return the bytes representation.\n",
      "     |  \n",
      "     |  tofile(self, f, /)\n",
      "     |      Write all items (as machine values) to the file object f.\n",
      "     |  \n",
      "     |  tolist(self, /)\n",
      "     |      Convert array to an ordinary list with the same items.\n",
      "     |  \n",
      "     |  tounicode(self, /)\n",
      "     |      Extends this array with data from the unicode string ustr.\n",
      "     |      \n",
      "     |      Convert the array to a unicode string.  The array must be a unicode type array;\n",
      "     |      otherwise a ValueError is raised.  Use array.tobytes().decode() to obtain a\n",
      "     |      unicode string from an array of some other type.\n",
      "     |  \n",
      "     |  ----------------------------------------------------------------------\n",
      "     |  Static methods defined here:\n",
      "     |  \n",
      "     |  __new__(*args, **kwargs) from builtins.type\n",
      "     |      Create and return a new object.  See help(type) for accurate signature.\n",
      "     |  \n",
      "     |  ----------------------------------------------------------------------\n",
      "     |  Data descriptors defined here:\n",
      "     |  \n",
      "     |  itemsize\n",
      "     |      the size, in bytes, of one array item\n",
      "     |  \n",
      "     |  typecode\n",
      "     |      the typecode character used to create the array\n",
      "     |  \n",
      "     |  ----------------------------------------------------------------------\n",
      "     |  Data and other attributes defined here:\n",
      "     |  \n",
      "     |  __hash__ = None\n",
      "\n",
      "DATA\n",
      "    typecodes = 'bBuhHiIlLqQfd'\n",
      "\n",
      "FILE\n",
      "    (built-in)\n",
      "\n",
      "\n"
     ]
    }
   ],
   "source": [
    "help(\"array\")"
   ]
  },
  {
   "cell_type": "markdown",
   "id": "051840ac",
   "metadata": {},
   "source": [
    "> # Creating an Array\n",
    "To create an array we need to import  the \"array\" module"
   ]
  },
  {
   "cell_type": "code",
   "execution_count": 4,
   "id": "90bf16f7",
   "metadata": {},
   "outputs": [],
   "source": [
    "import array"
   ]
  },
  {
   "cell_type": "markdown",
   "id": "b41891cc",
   "metadata": {},
   "source": [
    "When we import the array module, we are able to get the 'array' class of that module that helps us to create an array. See the following example:"
   ]
  },
  {
   "cell_type": "code",
   "execution_count": 6,
   "id": "fa68681f",
   "metadata": {},
   "outputs": [],
   "source": [
    "a=array.array(\"i\",[1,2,3,4])"
   ]
  },
  {
   "cell_type": "markdown",
   "id": "0659aa8c",
   "metadata": {},
   "source": [
    "Here, the first 'array' represents the module name and the next 'array' represents the class name for which the object is created. We should understand that we are creating our array as an object of array class.\n",
    "\n",
    "The second way of importing the array module is to give it an alias name, as:"
   ]
  },
  {
   "cell_type": "code",
   "execution_count": 7,
   "id": "14abd36d",
   "metadata": {},
   "outputs": [],
   "source": [
    "import array as ar"
   ]
  },
  {
   "cell_type": "markdown",
   "id": "1b769bc8",
   "metadata": {},
   "source": [
    "Here, the array is imported with an alternate name 'ar'. Hence we can refer to the array\n",
    "class of 'ar' module as:\n"
   ]
  },
  {
   "cell_type": "code",
   "execution_count": 9,
   "id": "77203618",
   "metadata": {},
   "outputs": [],
   "source": [
    "a=ar.array('i', [1,2,3,4,5])"
   ]
  },
  {
   "cell_type": "markdown",
   "id": "7d8db2cf",
   "metadata": {},
   "source": [
    "The third way of importing the array module is to write:"
   ]
  },
  {
   "cell_type": "code",
   "execution_count": 10,
   "id": "8bf6992b",
   "metadata": {},
   "outputs": [],
   "source": [
    "from array import *"
   ]
  },
  {
   "cell_type": "markdown",
   "id": "fb731227",
   "metadata": {},
   "source": [
    "Observe the * symbol that represents 'all'. The meaning of this statement is, import all (classes, objects, variables etc) from the array module into our program. That means we are specifically importing the 'array' class (because of symbol) of 'array' module. So, * there is no need to mention the module name before our array name while creating it. We can create the array as:"
   ]
  },
  {
   "cell_type": "code",
   "execution_count": 11,
   "id": "32c36ad3",
   "metadata": {},
   "outputs": [],
   "source": [
    "a=array('i', [1,2,3,4,5,6])"
   ]
  },
  {
   "cell_type": "markdown",
   "id": "ccd6695e",
   "metadata": {},
   "source": [
    "> ### Creating and accessing the elements from the array"
   ]
  },
  {
   "cell_type": "code",
   "execution_count": 7,
   "id": "26187d5f",
   "metadata": {},
   "outputs": [
    {
     "name": "stdout",
     "output_type": "stream",
     "text": [
      "===========: Printing an array by using for loop :===========\n",
      "10\n",
      "20\n",
      "30\n",
      "40\n",
      "50\n",
      "===========: Printing an array using index numbers :===========\n",
      "10\n",
      "20\n",
      "30\n",
      "40\n",
      "50\n",
      "===========: printing array nornally :===========\n",
      "array('i', [10, 20, 30, 40, 50])\n"
     ]
    }
   ],
   "source": [
    "# importing the array module \n",
    "from array import *\n",
    "\n",
    "# creating an array named array1\n",
    "array1 = array('i', [10,20,30,40,50])\n",
    "\n",
    "# printing an array\n",
    "print(\"===========: Printing an array by using for loop :===========\")\n",
    "for x in array1:\n",
    "    print(x)\n",
    "\n",
    "print(\"===========: Printing an array using index numbers :===========\")\n",
    "print (array1[0])   # This is indexing\n",
    "print (array1[1])\n",
    "print (array1[2])\n",
    "print (array1[3])\n",
    "print (array1[4])\n",
    "\n",
    "print(\"===========: printing array nornally :===========\")\n",
    "print(array1)"
   ]
  },
  {
   "cell_type": "markdown",
   "id": "ba309c84",
   "metadata": {},
   "source": [
    "> ### Array Methods"
   ]
  },
  {
   "cell_type": "code",
   "execution_count": 18,
   "id": "4f5fa276",
   "metadata": {},
   "outputs": [
    {
     "name": "stdout",
     "output_type": "stream",
     "text": [
      "==========: Array before modification :==========\n",
      "array('i', [10, 20, 30, 40, 50])\n"
     ]
    }
   ],
   "source": [
    "\n",
    "from array import *\n",
    "\n",
    "# Creating an array of integers\n",
    "array1 = array('i', [10,20,30,40,50])\n",
    "# Printing an array\n",
    "print(\"==========: Array before modification :==========\")\n",
    "print(array1)"
   ]
  },
  {
   "cell_type": "markdown",
   "id": "6e2bf0b6",
   "metadata": {},
   "source": [
    "## append() : append a new item to the end of the array"
   ]
  },
  {
   "cell_type": "code",
   "execution_count": 19,
   "id": "2bdd5384",
   "metadata": {},
   "outputs": [
    {
     "name": "stdout",
     "output_type": "stream",
     "text": [
      "\n",
      "==========: Array after inserting new element :==========\n",
      "array('i', [10, 20, 30, 40, 50, 60])\n"
     ]
    }
   ],
   "source": [
    "\n",
    "from array import *\n",
    "\n",
    "# Creating an array of integers\n",
    "array1 = array('i', [10,20,30,40,50])\n",
    "\n",
    "# Inserting an element at the end of the array1\n",
    "array1.append(60)\n",
    "# Printing array after inserting new element\n",
    "print(\"\\n==========: Array after inserting new element :==========\")\n",
    "print(array1)"
   ]
  },
  {
   "cell_type": "markdown",
   "id": "30cb2e4a",
   "metadata": {},
   "source": [
    "## insert() : insert a new item into the array at a provided position"
   ]
  },
  {
   "cell_type": "code",
   "execution_count": 20,
   "id": "ddd6d160",
   "metadata": {},
   "outputs": [
    {
     "name": "stdout",
     "output_type": "stream",
     "text": [
      "\n",
      "==========: Array after inserting another new element :==========\n",
      "array('i', [10, 70, 20, 30, 40, 50])\n"
     ]
    }
   ],
   "source": [
    "from array import *\n",
    "\n",
    "# Creating an array of integers\n",
    "array1 = array('i', [10,20,30,40,50])\n",
    "\n",
    "# Inserting an element at a specified position\n",
    "array1.insert(1,70)   # Inserting 70 at a 1 th index\n",
    "print(\"\\n==========: Array after inserting another new element :==========\")\n",
    "print(array1)"
   ]
  },
  {
   "cell_type": "markdown",
   "id": "70fecd6e",
   "metadata": {},
   "source": [
    "## remove() : remove first occurrence of an object"
   ]
  },
  {
   "cell_type": "code",
   "execution_count": 21,
   "id": "a412778c",
   "metadata": {},
   "outputs": [
    {
     "name": "stdout",
     "output_type": "stream",
     "text": [
      "\n",
      "==========: Array after removing an element :==========\n",
      "array('i', [10, 20, 30, 50])\n"
     ]
    }
   ],
   "source": [
    "# Creating an array of integers\n",
    "array1 = array('i', [10,20,30,40,50])\n",
    "\n",
    "#removing an existing element from the array\n",
    "array1.remove(40)\n",
    "print(\"\\n==========: Array after removing an element :==========\")\n",
    "print(array1)"
   ]
  },
  {
   "cell_type": "markdown",
   "id": "3aafc781",
   "metadata": {},
   "source": [
    "## pop() : remove and return item (default last)"
   ]
  },
  {
   "cell_type": "code",
   "execution_count": 22,
   "id": "dc63fa20",
   "metadata": {},
   "outputs": [
    {
     "name": "stdout",
     "output_type": "stream",
     "text": [
      "\n",
      "==========: Array after deleting  the element from the index 1 :==========\n",
      "array('i', [10, 30, 40, 50])\n"
     ]
    }
   ],
   "source": [
    "# Creating an array of integers\n",
    "array1 = array('i', [10,20,30,40,50])\n",
    "\n",
    "#deletig the element from the array by using the index number\n",
    "array1.pop(1)\n",
    "print(\"\\n==========: Array after deleting  the element from the index 1 :==========\")\n",
    "print(array1)"
   ]
  },
  {
   "cell_type": "code",
   "execution_count": 23,
   "id": "d38964fb",
   "metadata": {},
   "outputs": [
    {
     "name": "stdout",
     "output_type": "stream",
     "text": [
      "\n",
      "==========: Array after deleting  the element at end of the array :==========\n",
      "array('i', [10, 20, 30, 40])\n"
     ]
    }
   ],
   "source": [
    "from array import *\n",
    "\n",
    "# Creating an array of integers\n",
    "array1 = array('i', [10,20,30,40,50])\n",
    "\n",
    "array1.pop()   # if we didn't give any index number its going to delete the element from the last index\n",
    "print(\"\\n==========: Array after deleting  the element at end of the array :==========\")\n",
    "print(array1)"
   ]
  },
  {
   "cell_type": "markdown",
   "id": "eb8c485e",
   "metadata": {},
   "source": [
    "## extend() : extend array by appending multiple elements from an iterable"
   ]
  },
  {
   "cell_type": "code",
   "execution_count": 24,
   "id": "3ed91f42",
   "metadata": {},
   "outputs": [
    {
     "name": "stdout",
     "output_type": "stream",
     "text": [
      "\n",
      "==========: Array after Extending with range :==========\n",
      "array('i', [10, 20, 30, 40, 50, 1, 2, 3, 4, 5])\n"
     ]
    }
   ],
   "source": [
    "from array import *\n",
    "\n",
    "# Creating an array of integers\n",
    "array1 = array('i', [10,20,30,40,50])\n",
    "\n",
    "# Extending the array with the another array or with the iterable object\n",
    "array1.extend(range(1,6))\n",
    "print(\"\\n==========: Array after Extending with range :==========\")\n",
    "print(array1)"
   ]
  },
  {
   "cell_type": "code",
   "execution_count": 25,
   "id": "d443c25b",
   "metadata": {},
   "outputs": [
    {
     "name": "stdout",
     "output_type": "stream",
     "text": [
      "\n",
      "==========: Array after Extending with array2 :==========\n",
      "array('i', [10, 20, 30, 40, 50, 11, 22, 33, 44, 55])\n"
     ]
    }
   ],
   "source": [
    "from array import *\n",
    "\n",
    "# Creating an array of integers\n",
    "array1 = array('i', [10,20,30,40,50])\n",
    "array2 = array('i', [11,22,33,44,55])\n",
    "\n",
    "# Extending the array with the another array or with the iterable object\n",
    "array1.extend(array2)\n",
    "print(\"\\n==========: Array after Extending with array2 :==========\")\n",
    "print(array1)"
   ]
  },
  {
   "cell_type": "markdown",
   "id": "35fa5b54",
   "metadata": {},
   "source": [
    "## index() : return index of first occurrence of an object"
   ]
  },
  {
   "cell_type": "code",
   "execution_count": 26,
   "id": "be070dec",
   "metadata": {},
   "outputs": [
    {
     "name": "stdout",
     "output_type": "stream",
     "text": [
      "2\n"
     ]
    }
   ],
   "source": [
    "from array import *\n",
    "\n",
    "# Creating an array of integers\n",
    "array1 = array('i', [10,20,30,40,50])\n",
    "\n",
    "# getting the index number of the element\n",
    "print (array1.index(30))"
   ]
  },
  {
   "cell_type": "markdown",
   "id": "03bb381e",
   "metadata": {},
   "source": [
    "## update()"
   ]
  },
  {
   "cell_type": "code",
   "execution_count": 28,
   "id": "7f80aa94",
   "metadata": {},
   "outputs": [
    {
     "name": "stdout",
     "output_type": "stream",
     "text": [
      "\n",
      "==========: Array after updating an an element :==========\n",
      "array('i', [10, 20, 80, 40, 50])\n"
     ]
    }
   ],
   "source": [
    "from array import *\n",
    "\n",
    "# Creating an array of integers\n",
    "array1 = array('i', [10,20,30,40,50])\n",
    "\n",
    "# updating the elements in array\n",
    "array1[2] = 80\n",
    "print(\"\\n==========: Array after updating an an element :==========\")\n",
    "print(array1)\n"
   ]
  },
  {
   "cell_type": "markdown",
   "id": "b722e0ac",
   "metadata": {},
   "source": [
    "## count() : return number of occurrences of an object"
   ]
  },
  {
   "cell_type": "code",
   "execution_count": 33,
   "id": "b97aa35a",
   "metadata": {},
   "outputs": [
    {
     "name": "stdout",
     "output_type": "stream",
     "text": [
      "The number of occurrance of 10 : 3\n"
     ]
    }
   ],
   "source": [
    "from array import *\n",
    "\n",
    "# Creating an array of integers\n",
    "array1 = array('i', [10,20,30,40,50,10,55,23,10])\n",
    "\n",
    "# Counting the number of occurrances of 10\n",
    "print(\"The number of occurrance of 10 :\",array1.count(10))\n"
   ]
  },
  {
   "cell_type": "markdown",
   "id": "7675cf1f",
   "metadata": {},
   "source": [
    "## fromlist : append items from the list"
   ]
  },
  {
   "cell_type": "code",
   "execution_count": 39,
   "id": "391ee41e",
   "metadata": {},
   "outputs": [
    {
     "name": "stdout",
     "output_type": "stream",
     "text": [
      "==========: Array before extending with list elements :==========\n",
      "array('i', [10, 20, 30, 40, 50, 10, 55, 23, 10])\n",
      "\n",
      "==========: Array after extending with list elements :==========\n",
      "array('i', [10, 20, 30, 40, 50, 10, 55, 23, 10, 1, 2, 3, 4])\n"
     ]
    }
   ],
   "source": [
    "# Creating an array of integers\n",
    "array1 = array('i', [10,20,30,40,50,10,55,23,10])    # Array\n",
    "l=[1,2,3,4]                                          # List\n",
    "\n",
    "print(\"==========: Array before extending with list elements :==========\")\n",
    "print(array1)\n",
    "\n",
    "\n",
    "array1.fromlist(l)\n",
    "print(\"\\n==========: Array after extending with list elements :==========\")\n",
    "print(array1)"
   ]
  }
 ],
 "metadata": {
  "kernelspec": {
   "display_name": "Python 3 (ipykernel)",
   "language": "python",
   "name": "python3"
  },
  "language_info": {
   "codemirror_mode": {
    "name": "ipython",
    "version": 3
   },
   "file_extension": ".py",
   "mimetype": "text/x-python",
   "name": "python",
   "nbconvert_exporter": "python",
   "pygments_lexer": "ipython3",
   "version": "3.9.12"
  }
 },
 "nbformat": 4,
 "nbformat_minor": 5
}
