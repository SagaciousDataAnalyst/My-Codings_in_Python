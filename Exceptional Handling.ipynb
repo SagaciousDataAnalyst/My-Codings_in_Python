{
 "cells": [
  {
   "cell_type": "code",
   "execution_count": 5,
   "id": "29492403",
   "metadata": {},
   "outputs": [
    {
     "name": "stdout",
     "output_type": "stream",
     "text": [
      "Error Occured\n"
     ]
    }
   ],
   "source": [
    "def ex(a,b):\n",
    "    try:\n",
    "        print(a/b)\n",
    "    except:\n",
    "        print(\"Error Occured\")\n",
    "ex(1,0)"
   ]
  },
  {
   "cell_type": "code",
   "execution_count": 4,
   "id": "6e362806",
   "metadata": {},
   "outputs": [
    {
     "name": "stdout",
     "output_type": "stream",
     "text": [
      "division by zero\n"
     ]
    }
   ],
   "source": [
    "def ex(a,b):\n",
    "    try:\n",
    "        print(a/b)\n",
    "    except Exception as e:\n",
    "        print(e)\n",
    "ex(1,0)"
   ]
  },
  {
   "cell_type": "code",
   "execution_count": 7,
   "id": "d282b97a",
   "metadata": {
    "scrolled": true
   },
   "outputs": [
    {
     "name": "stdout",
     "output_type": "stream",
     "text": [
      "Entry is the : 1\n",
      "2.0\n",
      "========================================\n",
      "Entry is the : 2\n",
      "1.0\n",
      "========================================\n",
      "Entry is the : a\n",
      "invalid literal for int() with base 10: 'a'\n",
      "========================================\n",
      "Entry is the : 0\n",
      "division by zero\n",
      "========================================\n",
      "Entry is the : [1, 2, 3]\n",
      "int() argument must be a string, a bytes-like object or a number, not 'list'\n",
      "========================================\n"
     ]
    }
   ],
   "source": [
    "l=[1,2,'a',0,[1,2,3]]\n",
    "for i in l:\n",
    "    try:\n",
    "        print(\"Entry is the :\",i)\n",
    "        print(2/int(i))\n",
    "    except Exception as e:\n",
    "        print(e)\n",
    "    print(\"========================================\")"
   ]
  },
  {
   "cell_type": "code",
   "execution_count": 8,
   "id": "ca8ebf15",
   "metadata": {},
   "outputs": [
    {
     "name": "stdout",
     "output_type": "stream",
     "text": [
      "Entry is the : 1\n",
      "2.0\n",
      "========================================\n",
      "Entry is the : 2\n",
      "1.0\n",
      "========================================\n",
      "Entry is the : a\n",
      "invalid literal for int() with base 10: 'a'\n",
      "========================================\n",
      "Entry is the : 0\n",
      "division by zero\n",
      "========================================\n",
      "Entry is the : [1, 2, 3]\n",
      "int() argument must be a string, a bytes-like object or a number, not 'list'\n",
      "========================================\n"
     ]
    }
   ],
   "source": [
    "import sys\n",
    "l=[1,2,'a',0,[1,2,3]]\n",
    "for i in l:\n",
    "    try:\n",
    "        print(\"Entry is the :\",i)\n",
    "        print(2/int(i))\n",
    "    except:\n",
    "        print(sys.exc_info()[1])\n",
    "    print(\"========================================\")"
   ]
  },
  {
   "cell_type": "code",
   "execution_count": 5,
   "id": "ee2be58a",
   "metadata": {},
   "outputs": [
    {
     "name": "stdout",
     "output_type": "stream",
     "text": [
      "division by zero\n",
      "finally \n",
      "None\n",
      "==========================\n",
      "0.5\n",
      "Else\n",
      "finally \n",
      "None\n",
      "==========================\n",
      "0.0\n",
      "Else\n",
      "finally \n",
      "None\n"
     ]
    }
   ],
   "source": [
    "def f(a,b):\n",
    "    try:                    # Risky block\n",
    "        print(a/b)\n",
    "    except Exception as e:  # handling the xeception\n",
    "        print(e)\n",
    "    else:                   # If error not raise\n",
    "        print(\"Else\")  \n",
    "    finally:                # Executes everytime no matter whether try \n",
    "        print(\"finally \")\n",
    "\n",
    "print(f(1,0))\n",
    "print(\"==========================\")\n",
    "print(f(1,2))\n",
    "print(\"==========================\")\n",
    "print(f(0,1))"
   ]
  },
  {
   "cell_type": "code",
   "execution_count": null,
   "id": "79189eb5",
   "metadata": {},
   "outputs": [],
   "source": []
  }
 ],
 "metadata": {
  "kernelspec": {
   "display_name": "Python 3 (ipykernel)",
   "language": "python",
   "name": "python3"
  },
  "language_info": {
   "codemirror_mode": {
    "name": "ipython",
    "version": 3
   },
   "file_extension": ".py",
   "mimetype": "text/x-python",
   "name": "python",
   "nbconvert_exporter": "python",
   "pygments_lexer": "ipython3",
   "version": "3.9.7"
  }
 },
 "nbformat": 4,
 "nbformat_minor": 5
}
