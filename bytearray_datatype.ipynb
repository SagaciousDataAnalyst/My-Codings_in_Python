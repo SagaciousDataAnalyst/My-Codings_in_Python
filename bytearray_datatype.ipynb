{
 "cells": [
  {
   "cell_type": "code",
   "execution_count": 7,
   "id": "a70f4588",
   "metadata": {},
   "outputs": [
    {
     "name": "stdout",
     "output_type": "stream",
     "text": [
      "1\n",
      "Before Modification\n",
      "1\n",
      "2\n",
      "3\n",
      "4\n",
      "5\n",
      "Modifing 0th index\n",
      "11\n",
      "After Modification\n",
      "11\n",
      "2\n",
      "3\n",
      "4\n",
      "5\n"
     ]
    }
   ],
   "source": [
    "# Creating the list of the byte numbers\n",
    "\n",
    "data=[1,2,3,4,5]\n",
    "\n",
    "# Converting into bytearray datatype\n",
    "\n",
    "x=bytearray(data)\n",
    "\n",
    "# accesssing 0th index element\n",
    "print(x[0])\n",
    "\n",
    "print(\"Before Modification\")\n",
    "for i in x:print(i)\n",
    "\n",
    "print(\"Modifing 0th index\")\n",
    "x[0]=11\n",
    "\n",
    "print(x[0])\n",
    "\n",
    "print(\"After Modification\")\n",
    "for i in x:print(i)"
   ]
  },
  {
   "cell_type": "code",
   "execution_count": null,
   "id": "72591cb6",
   "metadata": {},
   "outputs": [],
   "source": []
  }
 ],
 "metadata": {
  "kernelspec": {
   "display_name": "Python 3 (ipykernel)",
   "language": "python",
   "name": "python3"
  },
  "language_info": {
   "codemirror_mode": {
    "name": "ipython",
    "version": 3
   },
   "file_extension": ".py",
   "mimetype": "text/x-python",
   "name": "python",
   "nbconvert_exporter": "python",
   "pygments_lexer": "ipython3",
   "version": "3.9.7"
  }
 },
 "nbformat": 4,
 "nbformat_minor": 5
}
