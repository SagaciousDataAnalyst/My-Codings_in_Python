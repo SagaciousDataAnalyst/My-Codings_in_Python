{
 "cells": [
  {
   "cell_type": "code",
   "execution_count": null,
   "id": "4704a0b1",
   "metadata": {},
   "outputs": [],
   "source": [
    "def invert(d):\n",
    "    return {v: k for k, v in d.items()}\n",
    "print (invert({1: 'a', 2:'b'}))"
   ]
  }
 ],
 "metadata": {
  "kernelspec": {
   "display_name": "Python 3 (ipykernel)",
   "language": "python",
   "name": "python3"
  },
  "language_info": {
   "codemirror_mode": {
    "name": "ipython",
    "version": 3
   },
   "file_extension": ".py",
   "mimetype": "text/x-python",
   "name": "python",
   "nbconvert_exporter": "python",
   "pygments_lexer": "ipython3",
   "version": "3.9.7"
  }
 },
 "nbformat": 4,
 "nbformat_minor": 5
}
