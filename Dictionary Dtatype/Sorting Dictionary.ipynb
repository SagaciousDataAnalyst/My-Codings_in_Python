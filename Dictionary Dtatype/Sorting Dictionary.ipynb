{
 "cells": [
  {
   "cell_type": "code",
   "execution_count": null,
   "id": "27f1d871",
   "metadata": {},
   "outputs": [],
   "source": [
    "def sort_dict():\n",
    "    Dict = {'Tim': 18,'Charlie':12,'Tiffany':22,'Robert':25}\n",
    "    Boys = {'Tim': 18,'Charlie':12,'Robert':25}\n",
    "    Girls = {'Tiffany':22}\n",
    "    Students = list(Dict.keys())\n",
    "    Students.sort()\n",
    "    for S in Students:\n",
    "          print(\":\".join((S,str(Dict[S]))))\n",
    "\n",
    "    #print(Students)\n",
    "    Students.sort()\n",
    "    Students\n",
    "sort_dict()"
   ]
  }
 ],
 "metadata": {
  "kernelspec": {
   "display_name": "Python 3 (ipykernel)",
   "language": "python",
   "name": "python3"
  },
  "language_info": {
   "codemirror_mode": {
    "name": "ipython",
    "version": 3
   },
   "file_extension": ".py",
   "mimetype": "text/x-python",
   "name": "python",
   "nbconvert_exporter": "python",
   "pygments_lexer": "ipython3",
   "version": "3.9.7"
  }
 },
 "nbformat": 4,
 "nbformat_minor": 5
}
