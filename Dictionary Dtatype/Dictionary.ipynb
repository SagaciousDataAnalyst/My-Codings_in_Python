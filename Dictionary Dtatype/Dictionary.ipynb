{
 "cells": [
  {
   "cell_type": "code",
   "execution_count": null,
   "id": "cf669ed5",
   "metadata": {},
   "outputs": [],
   "source": [
    "n=int(input(\"How many students are there : \"))\n",
    "students={}\n",
    "for i in range(n):\n",
    "    k=int(input(\"Enter student id : \"))\n",
    "    v=input(\"Enter student name : \")\n",
    "    students.update({k:v})\n",
    "print(students)\n",
    "\n",
    "# finding the student name corresponding to the id\n",
    "id_=int(input(\"Enter student id : \"))\n",
    "print(\"Corresponding student name is : \",students.get(id_))"
   ]
  }
 ],
 "metadata": {
  "kernelspec": {
   "display_name": "Python 3 (ipykernel)",
   "language": "python",
   "name": "python3"
  },
  "language_info": {
   "codemirror_mode": {
    "name": "ipython",
    "version": 3
   },
   "file_extension": ".py",
   "mimetype": "text/x-python",
   "name": "python",
   "nbconvert_exporter": "python",
   "pygments_lexer": "ipython3",
   "version": "3.9.7"
  }
 },
 "nbformat": 4,
 "nbformat_minor": 5
}
