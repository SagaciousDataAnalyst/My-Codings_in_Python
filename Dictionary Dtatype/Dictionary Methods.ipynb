{
 "cells": [
  {
   "cell_type": "code",
   "execution_count": null,
   "id": "555203ae",
   "metadata": {},
   "outputs": [],
   "source": [
    "d={1:\"fatima\",2:\"fayeem\",3:\"reshmi\",4:\"varam\"}\n",
    "print(d)\n",
    "print(len(d))\n",
    "\n",
    "# copy()\n",
    "d1=d.copy()\n",
    "print(d1)\n",
    "\n",
    "# clear\n",
    "d1.clear()\n",
    "print(d1)\n",
    "\n",
    "# keya()\n",
    "print(\"Keys in the dictionary : \",d.keys())\n",
    "\n",
    "# values()\n",
    "print(\"Values in the dictionary : \",d.values())\n",
    "\n",
    "# items()\n",
    "print(\"Items in the dictionary : \",d.items())\n",
    "for k,v in d.items():\n",
    "    print(\"{} : {}\".format(k,v))\n",
    " \n",
    "# get()\n",
    "print(d.get(1))"
   ]
  }
 ],
 "metadata": {
  "kernelspec": {
   "display_name": "Python 3 (ipykernel)",
   "language": "python",
   "name": "python3"
  },
  "language_info": {
   "codemirror_mode": {
    "name": "ipython",
    "version": 3
   },
   "file_extension": ".py",
   "mimetype": "text/x-python",
   "name": "python",
   "nbconvert_exporter": "python",
   "pygments_lexer": "ipython3",
   "version": "3.9.7"
  }
 },
 "nbformat": 4,
 "nbformat_minor": 5
}
