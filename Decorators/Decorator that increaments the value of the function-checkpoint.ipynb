{
 "cells": [
  {
   "cell_type": "code",
   "execution_count": null,
   "id": "e5daf34c",
   "metadata": {},
   "outputs": [],
   "source": [
    "# A decorator that increaments the value of the function by 2\n",
    "def decor(f):     # This is the decorator function\n",
    "    def inner():  # this is the inner function that modifies\n",
    "        value=f()\n",
    "        return value+2\n",
    "    return inner  # return the inner function\n",
    "\n",
    "# Take a function to which decorators should be applied\n",
    "\n",
    "\n",
    "@decor\n",
    "@decor\n",
    "@decor\n",
    "def num(): # Apply decor to the below function\n",
    "    return 12\n",
    "\n",
    "#call num() function and display its result\n",
    "print(num())"
   ]
  }
 ],
 "metadata": {
  "kernelspec": {
   "display_name": "Python 3 (ipykernel)",
   "language": "python",
   "name": "python3"
  },
  "language_info": {
   "codemirror_mode": {
    "name": "ipython",
    "version": 3
   },
   "file_extension": ".py",
   "mimetype": "text/x-python",
   "name": "python",
   "nbconvert_exporter": "python",
   "pygments_lexer": "ipython3",
   "version": "3.9.7"
  }
 },
 "nbformat": 4,
 "nbformat_minor": 5
}
