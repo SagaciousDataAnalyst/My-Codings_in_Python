{
 "cells": [
  {
   "cell_type": "code",
   "execution_count": null,
   "id": "31cde927",
   "metadata": {},
   "outputs": [],
   "source": [
    "class A:\n",
    "    def run(self):\n",
    "        for i in range(5):\n",
    "            print(\"A class\")\n",
    "class B:\n",
    "    def run(self):\n",
    "        for i in range(5):\n",
    "            print(\"B class\")\n",
    "a=A()\n",
    "b=B()\n",
    "a.run()\n",
    "b.run()"
   ]
  },
  {
   "cell_type": "code",
   "execution_count": null,
   "id": "87391828",
   "metadata": {},
   "outputs": [],
   "source": [
    "from threading import *\n",
    "class A(Thread):\n",
    "    def run(self):\n",
    "        for i in range(5):\n",
    "            print(\"A class\")\n",
    "class B(Thread):\n",
    "    def run(self):\n",
    "        for i in range(5):\n",
    "            print(\"B class\")\n",
    "            \n",
    "a=A()\n",
    "b=B()\n",
    "a.run()\n",
    "b.run()"
   ]
  }
 ],
 "metadata": {
  "kernelspec": {
   "display_name": "Python 3 (ipykernel)",
   "language": "python",
   "name": "python3"
  },
  "language_info": {
   "codemirror_mode": {
    "name": "ipython",
    "version": 3
   },
   "file_extension": ".py",
   "mimetype": "text/x-python",
   "name": "python",
   "nbconvert_exporter": "python",
   "pygments_lexer": "ipython3",
   "version": "3.9.7"
  }
 },
 "nbformat": 4,
 "nbformat_minor": 5
}
