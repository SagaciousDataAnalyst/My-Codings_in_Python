{
 "cells": [
  {
   "cell_type": "code",
   "execution_count": null,
   "id": "b8f975bc",
   "metadata": {},
   "outputs": [],
   "source": [
    "a=1_000_000_000\n",
    "print(a)\n",
    "b=3_877_939_098\n",
    "print(b)\n",
    "\n",
    "x=12_23_34_45\n",
    "print(x)"
   ]
  }
 ],
 "metadata": {
  "kernelspec": {
   "display_name": "Python 3 (ipykernel)",
   "language": "python",
   "name": "python3"
  },
  "language_info": {
   "codemirror_mode": {
    "name": "ipython",
    "version": 3
   },
   "file_extension": ".py",
   "mimetype": "text/x-python",
   "name": "python",
   "nbconvert_exporter": "python",
   "pygments_lexer": "ipython3",
   "version": "3.9.7"
  }
 },
 "nbformat": 4,
 "nbformat_minor": 5
}
