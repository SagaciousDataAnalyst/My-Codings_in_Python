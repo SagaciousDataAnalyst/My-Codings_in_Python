{
 "cells": [
  {
   "cell_type": "code",
   "execution_count": null,
   "id": "e2564747",
   "metadata": {},
   "outputs": [],
   "source": [
    "# for loop\n",
    "print(\"for loop by using underscore as a variable\")\n",
    "for _ in range(5):\n",
    "    print(_)\n",
    "    \n",
    "print(\"while loop by using underscore as a variable\")\n",
    "    \n",
    "while(_<10):\n",
    "    print(_)\n",
    "    _+=1\n",
    "    \n",
    "print(\"other example: \")\n",
    "for _ in [\"hi\",\"hello\",\"how are you?\"]:\n",
    "    print(_)\n"
   ]
  }
 ],
 "metadata": {
  "kernelspec": {
   "display_name": "Python 3 (ipykernel)",
   "language": "python",
   "name": "python3"
  },
  "language_info": {
   "codemirror_mode": {
    "name": "ipython",
    "version": 3
   },
   "file_extension": ".py",
   "mimetype": "text/x-python",
   "name": "python",
   "nbconvert_exporter": "python",
   "pygments_lexer": "ipython3",
   "version": "3.9.7"
  }
 },
 "nbformat": 4,
 "nbformat_minor": 5
}
