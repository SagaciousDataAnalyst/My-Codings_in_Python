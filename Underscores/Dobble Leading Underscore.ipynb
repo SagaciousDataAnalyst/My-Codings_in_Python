{
 "cells": [
  {
   "cell_type": "code",
   "execution_count": null,
   "id": "3d257a17",
   "metadata": {},
   "outputs": [],
   "source": [
    "## class A:\n",
    "    def f(self):\n",
    "        self.__x=10  # now __x is the private variable you can't access it outside the class \n",
    "a=A()\n",
    "a.f()\n",
    "print(a.__x) # it gives error, because __x is private variable we can't able to access outside the class"
   ]
  }
 ],
 "metadata": {
  "kernelspec": {
   "display_name": "Python 3 (ipykernel)",
   "language": "python",
   "name": "python3"
  },
  "language_info": {
   "codemirror_mode": {
    "name": "ipython",
    "version": 3
   },
   "file_extension": ".py",
   "mimetype": "text/x-python",
   "name": "python",
   "nbconvert_exporter": "python",
   "pygments_lexer": "ipython3",
   "version": "3.9.7"
  }
 },
 "nbformat": 4,
 "nbformat_minor": 5
}
