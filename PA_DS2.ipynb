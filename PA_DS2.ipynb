{
 "cells": [
  {
   "cell_type": "markdown",
   "id": "0ec8a097",
   "metadata": {},
   "source": [
    "# Write a python program to insert a new item before the second element in an existing array"
   ]
  },
  {
   "cell_type": "code",
   "execution_count": 7,
   "id": "f78ff67f",
   "metadata": {},
   "outputs": [
    {
     "name": "stdout",
     "output_type": "stream",
     "text": [
      "array('i', [1, 2, 3, 4, 5, 6])\n",
      "array('i', [1, 11, 2, 3, 4, 5, 6])\n"
     ]
    }
   ],
   "source": [
    "# Importing the array module\n",
    "import array as a\n",
    "\n",
    "def My_function():\n",
    "    \"\"\"\n",
    "    Function to insert the new element in an array before the second element in array\n",
    "    \n",
    "    \"\"\"\n",
    "    my_array = a.array(\"i\",[1,2,3,4,5,6])   # Defining the array\n",
    "    print(my_array)                         # Printing the array before modification\n",
    "    my_array.insert(1,11)                   # Inserting the new element \n",
    "    \n",
    "    return my_array                         # Returning the modified array\n",
    "    \n",
    "print(My_function())                        # Calling the function"
   ]
  }
 ],
 "metadata": {
  "kernelspec": {
   "display_name": "Python 3 (ipykernel)",
   "language": "python",
   "name": "python3"
  },
  "language_info": {
   "codemirror_mode": {
    "name": "ipython",
    "version": 3
   },
   "file_extension": ".py",
   "mimetype": "text/x-python",
   "name": "python",
   "nbconvert_exporter": "python",
   "pygments_lexer": "ipython3",
   "version": "3.9.12"
  }
 },
 "nbformat": 4,
 "nbformat_minor": 5
}
