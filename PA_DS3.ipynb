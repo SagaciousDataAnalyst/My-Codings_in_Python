{
 "cells": [
  {
   "cell_type": "markdown",
   "id": "e4c7845c",
   "metadata": {},
   "source": [
    "# Given a Python list. Turn every item of a list into its square aList = [1, 2, 3, 4, 5, 6, 7]"
   ]
  },
  {
   "cell_type": "code",
   "execution_count": 3,
   "id": "1a58c1ac",
   "metadata": {},
   "outputs": [
    {
     "name": "stdout",
     "output_type": "stream",
     "text": [
      "Original List : [1, 2, 3, 4, 5, 6, 7]\n",
      "new list with squared elements : [1, 4, 9, 16, 25, 36, 49]\n"
     ]
    }
   ],
   "source": [
    "List = [1, 2, 3, 4, 5, 6, 7]\n",
    "print(\"Original List :\",List)\n",
    "\n",
    "def My_function():\n",
    "    New_List = []\n",
    "    for i in List:\n",
    "        New_List.append(i**2)\n",
    "        \n",
    "    return New_List\n",
    "\n",
    "print(\"new list with squared elements :\",My_function())\n",
    "\n",
    "    "
   ]
  }
 ],
 "metadata": {
  "kernelspec": {
   "display_name": "Python 3 (ipykernel)",
   "language": "python",
   "name": "python3"
  },
  "language_info": {
   "codemirror_mode": {
    "name": "ipython",
    "version": 3
   },
   "file_extension": ".py",
   "mimetype": "text/x-python",
   "name": "python",
   "nbconvert_exporter": "python",
   "pygments_lexer": "ipython3",
   "version": "3.9.12"
  }
 },
 "nbformat": 4,
 "nbformat_minor": 5
}
