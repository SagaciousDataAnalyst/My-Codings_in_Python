{
 "cells": [
  {
   "cell_type": "code",
   "execution_count": null,
   "id": "770f4c0c",
   "metadata": {},
   "outputs": [],
   "source": [
    "def info_(name, age):\n",
    "    return name,age\n",
    "print(info_(age=45, name=\"aaa\"))\n",
    "\n",
    "def info1_(name, age=34):\n",
    "    return name,age\n",
    "print(info1_(name=\"bbb\", age=56))"
   ]
  }
 ],
 "metadata": {
  "kernelspec": {
   "display_name": "Python 3 (ipykernel)",
   "language": "python",
   "name": "python3"
  },
  "language_info": {
   "codemirror_mode": {
    "name": "ipython",
    "version": 3
   },
   "file_extension": ".py",
   "mimetype": "text/x-python",
   "name": "python",
   "nbconvert_exporter": "python",
   "pygments_lexer": "ipython3",
   "version": "3.9.7"
  }
 },
 "nbformat": 4,
 "nbformat_minor": 5
}
