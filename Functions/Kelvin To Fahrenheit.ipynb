{
 "cells": [
  {
   "cell_type": "code",
   "execution_count": null,
   "id": "36c01c1c",
   "metadata": {},
   "outputs": [],
   "source": [
    "def KelvinToFahrenheit(Temperature):  # defining the method\n",
    "    assert(Temperature>=0),\"colder then absolute zero!\"\n",
    "    return((Temperature-273)*1.8)+32\n",
    "print(KelvinToFahrenheit(273))\n",
    "print(int(KelvinToFahrenheit(585.78)))\n",
    "print(KelvinToFahrenheit(-5)) # raise error"
   ]
  }
 ],
 "metadata": {
  "kernelspec": {
   "display_name": "Python 3 (ipykernel)",
   "language": "python",
   "name": "python3"
  },
  "language_info": {
   "codemirror_mode": {
    "name": "ipython",
    "version": 3
   },
   "file_extension": ".py",
   "mimetype": "text/x-python",
   "name": "python",
   "nbconvert_exporter": "python",
   "pygments_lexer": "ipython3",
   "version": "3.9.7"
  }
 },
 "nbformat": 4,
 "nbformat_minor": 5
}
