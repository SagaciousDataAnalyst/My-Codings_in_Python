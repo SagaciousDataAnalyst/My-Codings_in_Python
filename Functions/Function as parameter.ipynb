{
 "cells": [
  {
   "cell_type": "code",
   "execution_count": 4,
   "id": "9750249b",
   "metadata": {},
   "outputs": [
    {
     "name": "stdout",
     "output_type": "stream",
     "text": [
      "Data Science\n"
     ]
    }
   ],
   "source": [
    "def myfunction_1(string):\n",
    "    return \"Data \"+string\n",
    "def myfunction_2():\n",
    "    return \"Science\"\n",
    "\n",
    "print(myfunction_1(myfunction_2()))"
   ]
  },
  {
   "cell_type": "code",
   "execution_count": null,
   "id": "53d1f79e",
   "metadata": {},
   "outputs": [],
   "source": []
  }
 ],
 "metadata": {
  "kernelspec": {
   "display_name": "Python 3 (ipykernel)",
   "language": "python",
   "name": "python3"
  },
  "language_info": {
   "codemirror_mode": {
    "name": "ipython",
    "version": 3
   },
   "file_extension": ".py",
   "mimetype": "text/x-python",
   "name": "python",
   "nbconvert_exporter": "python",
   "pygments_lexer": "ipython3",
   "version": "3.9.7"
  }
 },
 "nbformat": 4,
 "nbformat_minor": 5
}
