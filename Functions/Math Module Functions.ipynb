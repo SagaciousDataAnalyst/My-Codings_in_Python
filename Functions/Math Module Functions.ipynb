{
 "cells": [
  {
   "cell_type": "code",
   "execution_count": null,
   "id": "7a2cb528",
   "metadata": {},
   "outputs": [],
   "source": [
    "# import module\n",
    "import math\n",
    "print(math.factorial(4))  # return the factorial of 4\n",
    "print(math.ceil(1729.1726543))   # return the \n",
    "print(math.fabs(22/7))   # rounds a number UP to the nearest next integer\n",
    "print(math.floor(1729.276356))  # return the floor of the given number\n",
    "print(math.fsum([12,3,4,5,6,7,8,9,10]))  # return the sum of the elements in the given list\n",
    "print(math.pow(12,3)) # return the 12 power 3 value\n",
    "print(int(math.pi)) \n",
    "print(math.pi)"
   ]
  }
 ],
 "metadata": {
  "kernelspec": {
   "display_name": "Python 3 (ipykernel)",
   "language": "python",
   "name": "python3"
  },
  "language_info": {
   "codemirror_mode": {
    "name": "ipython",
    "version": 3
   },
   "file_extension": ".py",
   "mimetype": "text/x-python",
   "name": "python",
   "nbconvert_exporter": "python",
   "pygments_lexer": "ipython3",
   "version": "3.9.7"
  }
 },
 "nbformat": 4,
 "nbformat_minor": 5
}
