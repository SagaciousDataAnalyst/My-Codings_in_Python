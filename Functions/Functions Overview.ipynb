{
 "cells": [
  {
   "cell_type": "markdown",
   "id": "e455b081",
   "metadata": {},
   "source": [
    "# Functions in Python\n",
    "\n",
    "    A function is similar to a program that consists of a group of statements that are intended to perform a specific task. The main purpose of a function is to perform a specific task or work. Thus when there are several tasks to be performed, the programmer will write several functions. There are several 'built-in' functions in Python to perform various tasks. For example, to display output, Python has print() function. Similarly, to calculate square root value, there is sqrt() function and to calculate power value, there is power() function. Similar to these functions, a programmer can also create his own functions which are called 'user-defined' functions. The following are the advantages of functions:\n",
    "\n",
    "1. Functions are important in programming because they are used to process data, make calculations or perform any task which is required in the software development.\n",
    "\n",
    "2. Once a function is written, it can be reused as and when required. So functions are also called reusable code. Because of this reusability, the programmer can avoid code redundancy. It means it is possible to avoid writing the same code again and again.\n",
    "\n",
    "3. Functions provide modularity for programming. A module represents a part of the program. Usually, a programmer divides the main task into smaller sub tasks called modules. To represent each module, the programmer will develop a separate function. Then these functions are called from a main program to accomplish the complete task. Modular programming makes programming easy.\n",
    "\n",
    "4. Code maintenance will become easy because of functions. When a new feature has to be added to the existing software, a new function can be written and integrated into the software. Similarly, when a particular feature is no more needed by the user, the corresponding function can be deleted or put into comments.\n",
    "\n",
    "5. When there is an error in the software, the corresponding function can be modified without disturbing the other functions in the software. Thus code debugging will become easy.\n",
    "\n",
    "6. The use of functions in a program will reduce the length of the program.\n",
    "\n"
   ]
  },
  {
   "cell_type": "markdown",
   "id": "d68d5d58",
   "metadata": {},
   "source": [
    "## Defining a Function\n",
    "    We can define a function using the keyword def followed by function name. After the function name, we should write parentheses () which may contain parameters. Consider the syntax of function,\n",
    "    \n",
    "![](functions_1.png)"
   ]
  },
  {
   "cell_type": "markdown",
   "id": "885e9169",
   "metadata": {},
   "source": [
    "Here parameter are optional.\n",
    "\n",
    "for example, we can write a function to add two numbers."
   ]
  },
  {
   "cell_type": "code",
   "execution_count": 3,
   "id": "e738097d",
   "metadata": {},
   "outputs": [],
   "source": [
    "def sum_(a,b):\n",
    "    c=a+b\n",
    "    print(c)"
   ]
  },
  {
   "cell_type": "markdown",
   "id": "e60bd479",
   "metadata": {},
   "source": [
    "## Calling a Function\n",
    "\n",
    "A function cannot run on its own. It runs only when we call it. So, the next step is to call the function using its name. While calling the function, we should pass the necessary values to the function in the parentheses as:"
   ]
  },
  {
   "cell_type": "code",
   "execution_count": 4,
   "id": "4fbaa294",
   "metadata": {},
   "outputs": [
    {
     "name": "stdout",
     "output_type": "stream",
     "text": [
      "30\n"
     ]
    }
   ],
   "source": [
    "sum_(10,20)"
   ]
  },
  {
   "cell_type": "markdown",
   "id": "b0af606f",
   "metadata": {},
   "source": [
    "## Returning the result from the function :\n",
    "We can return the result or output from the function using a\"return\" statement in the boby of the function. For example,"
   ]
  },
  {
   "cell_type": "code",
   "execution_count": 10,
   "id": "4f6a585f",
   "metadata": {},
   "outputs": [
    {
     "name": "stdout",
     "output_type": "stream",
     "text": [
      "8959\n"
     ]
    }
   ],
   "source": [
    "def sum(a,b):\n",
    "    c=a+b\n",
    "    return c\n",
    "\n",
    "print(sum(87,8872))"
   ]
  },
  {
   "cell_type": "markdown",
   "id": "13f093a8",
   "metadata": {},
   "source": [
    "## Returning the multiple values from the function :\n",
    "\n"
   ]
  },
  {
   "cell_type": "code",
   "execution_count": 9,
   "id": "fa587603",
   "metadata": {},
   "outputs": [
    {
     "name": "stdout",
     "output_type": "stream",
     "text": [
      "(30, 10, 200, 2.0)\n"
     ]
    }
   ],
   "source": [
    "def operators(a,b):\n",
    "    add=a+b\n",
    "    sub=a-b\n",
    "    mul=a*b\n",
    "    div=a/b\n",
    "    \n",
    "    return add,sub,mul,div\n",
    "print(operators(20,10))"
   ]
  },
  {
   "cell_type": "markdown",
   "id": "5d3edf3e",
   "metadata": {},
   "source": [
    "## Functions are First Class Objects\n",
    "\n",
    "    In Python, functions are considered as first class objects. It means we can use functions as perfect objects. In fact when we create a function, the Python interpreter internally creates an object. Since functions are objects, we can pass a function to another function just like we pass an object (or value) to a function. Also, it is possible to return a function from another function. This is similar to returning an object (or value) from a function. The following possibilities are noteworthy:\n",
    "\n",
    "1. It is possible to assign a function to a variable.\n",
    "\n",
    "2. It is possible to define one function inside another function.\n",
    "\n",
    "3. It is possible to pass a function as a parameter to a another function.\n",
    "\n",
    "4. It is that a function can return the another function.\n",
    "\n",
    "Now, let us try to proof this 4 points with an example programs....."
   ]
  },
  {
   "cell_type": "code",
   "execution_count": 13,
   "id": "599b72b4",
   "metadata": {},
   "outputs": [
    {
     "name": "stdout",
     "output_type": "stream",
     "text": [
      "Hi Prithvi\n"
     ]
    }
   ],
   "source": [
    "# 1. assign a function to a variable.\n",
    "\n",
    "def display(s):\n",
    "    return \"Hi \"+s\n",
    "\n",
    "x=display(\"Prithvi\")  # assigning a function to a variable \"x\"\n",
    "print(x)\n"
   ]
  },
  {
   "cell_type": "code",
   "execution_count": 14,
   "id": "258d9e0a",
   "metadata": {},
   "outputs": [
    {
     "name": "stdout",
     "output_type": "stream",
     "text": [
      "Hi Prithvi\n"
     ]
    }
   ],
   "source": [
    "# 2.define one function inside another function.\n",
    "\n",
    "def f():\n",
    "    def display(s):   # inner function\n",
    "        return \"Hi \"+s\n",
    "\n",
    "    x=display(\"Prithvi\") \n",
    "    return x\n",
    "\n",
    "print(f())\n",
    "\n",
    "    "
   ]
  },
  {
   "cell_type": "code",
   "execution_count": 20,
   "id": "7bacb49a",
   "metadata": {
    "scrolled": false
   },
   "outputs": [
    {
     "name": "stdout",
     "output_type": "stream",
     "text": [
      "Hi Prithvi\n",
      "===============\n",
      "Hi Prithvi\n"
     ]
    }
   ],
   "source": [
    "# 3. pass a function as a parameter to a another function.\n",
    "\n",
    "def f(name):\n",
    "    return \"Hi \"+name\n",
    "def g():\n",
    "    return \"Prithvi\"\n",
    "\n",
    "print(f(g()))\n",
    "\n",
    "print(\"===============\")\n",
    "\n",
    "def f(name):\n",
    "    return \"Hi \"+name()\n",
    "\n",
    "def g():\n",
    "    return \"Prithvi\"\n",
    "\n",
    "\n",
    "print(f(g))"
   ]
  },
  {
   "cell_type": "code",
   "execution_count": 16,
   "id": "0275d662",
   "metadata": {},
   "outputs": [
    {
     "name": "stdout",
     "output_type": "stream",
     "text": [
      "Hi Prithvi\n"
     ]
    }
   ],
   "source": [
    "def g():\n",
    "    return \"Prithvi\"\n",
    "\n",
    "def f():\n",
    "    return \"Hi \"+g()\n",
    "\n",
    "print(f())\n",
    "\n"
   ]
  },
  {
   "cell_type": "code",
   "execution_count": 22,
   "id": "ca1c20db",
   "metadata": {},
   "outputs": [
    {
     "name": "stdout",
     "output_type": "stream",
     "text": [
      "Hi Prithvi\n"
     ]
    }
   ],
   "source": [
    "# 4. function can return the another function.\n",
    "\n",
    "def f():   def hello():\n",
    "        return \"Hi Prithvi\"\n",
    "    return hello()\n",
    "\n",
    "print(f())\n",
    " \n",
    "    "
   ]
  },
  {
   "cell_type": "code",
   "execution_count": 23,
   "id": "266f1674",
   "metadata": {},
   "outputs": [
    {
     "name": "stdout",
     "output_type": "stream",
     "text": [
      "<function f.<locals>.hello at 0x00000035BF8F9550>\n"
     ]
    }
   ],
   "source": [
    "def f():\n",
    "    def hello():\n",
    "        return \"Hi Prithvi\"\n",
    "    return hello\n",
    "\n",
    "print(f())"
   ]
  },
  {
   "cell_type": "code",
   "execution_count": null,
   "id": "93a27052",
   "metadata": {},
   "outputs": [],
   "source": []
  }
 ],
 "metadata": {
  "kernelspec": {
   "display_name": "Python 3 (ipykernel)",
   "language": "python",
   "name": "python3"
  },
  "language_info": {
   "codemirror_mode": {
    "name": "ipython",
    "version": 3
   },
   "file_extension": ".py",
   "mimetype": "text/x-python",
   "name": "python",
   "nbconvert_exporter": "python",
   "pygments_lexer": "ipython3",
   "version": "3.9.12"
  }
 },
 "nbformat": 4,
 "nbformat_minor": 5
}
