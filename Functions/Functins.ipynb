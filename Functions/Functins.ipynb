{
 "cells": [
  {
   "cell_type": "code",
   "execution_count": 1,
   "id": "047ba207",
   "metadata": {},
   "outputs": [
    {
     "name": "stdout",
     "output_type": "stream",
     "text": [
      "Result One\n"
     ]
    }
   ],
   "source": [
    "Var1 = 1\n",
    "Var2 = 0\n",
    "def function():\n",
    "    global Var1\n",
    "    if Var2 == 0 and Var1 > 0:\n",
    "        print(\"Result One\")\n",
    "    elif Var2 == 1 and Var1 > 0:\n",
    "        print(\"Result Two\")\n",
    "    elif Var1 < 1:\n",
    "        print(\"Result Three\")\n",
    "    Var1 =- 1\n",
    "function()"
   ]
  },
  {
   "cell_type": "code",
   "execution_count": null,
   "id": "3200cdda",
   "metadata": {},
   "outputs": [],
   "source": [
    "print(\"hello\")"
   ]
  },
  {
   "cell_type": "code",
   "execution_count": 1,
   "id": "1669cde7",
   "metadata": {},
   "outputs": [
    {
     "name": "stdout",
     "output_type": "stream",
     "text": [
      "3\n"
     ]
    }
   ],
   "source": [
    "#defining the function\n",
    "\n",
    "def f(a,b):      # defining the function and , a & b are the parameters\n",
    "    return a+b   # return statement\n",
    "f(1,2)# calling the function and, 1 & 2 are the arguments that are passed to the parameters a & b\n",
    "print(f(1,2))"
   ]
  },
  {
   "cell_type": "code",
   "execution_count": 2,
   "id": "91146176",
   "metadata": {},
   "outputs": [
    {
     "name": "stdout",
     "output_type": "stream",
     "text": [
      "10\n"
     ]
    },
    {
     "data": {
      "text/plain": [
       "10"
      ]
     },
     "execution_count": 2,
     "metadata": {},
     "output_type": "execute_result"
    }
   ],
   "source": [
    "def f1(x):\n",
    "    return x;\n",
    "\n",
    "print (f1(10))\n",
    "f1(10)"
   ]
  },
  {
   "cell_type": "code",
   "execution_count": 10,
   "id": "808556f9",
   "metadata": {},
   "outputs": [
    {
     "name": "stdout",
     "output_type": "stream",
     "text": [
      "3\n"
     ]
    }
   ],
   "source": [
    "def f(a,b):\n",
    "    return a+b\n",
    "print(f(1,2))"
   ]
  },
  {
   "cell_type": "code",
   "execution_count": 11,
   "id": "1a9776c1",
   "metadata": {},
   "outputs": [
    {
     "name": "stdout",
     "output_type": "stream",
     "text": [
      "3\n"
     ]
    }
   ],
   "source": [
    "def f(a,b):\n",
    "    return a+b\n",
    "x=f(1,2) # assigning the function to the variable\n",
    "print(x)"
   ]
  },
  {
   "cell_type": "code",
   "execution_count": 1,
   "id": "63d33e30",
   "metadata": {},
   "outputs": [
    {
     "name": "stdout",
     "output_type": "stream",
     "text": [
      "enter your number to chech whether it is even or odd : 1729\n",
      "1729 is the odd number\n",
      "None\n"
     ]
    }
   ],
   "source": [
    "#program to chech whether the given number is even or odd\n",
    "\n",
    "def even_odd(n):\n",
    "    if(n%2==0):\n",
    "        print(n, \"is the even number\")\n",
    "    else:\n",
    "        print(n, \"is the odd number\")\n",
    "        \n",
    "n=int(input(\"enter your number to chech whether it is even or odd : \"))\n",
    "print(even_odd(n))"
   ]
  },
  {
   "cell_type": "code",
   "execution_count": 10,
   "id": "eb6b7e4c",
   "metadata": {},
   "outputs": [
    {
     "name": "stdout",
     "output_type": "stream",
     "text": [
      "enter the numbre to find the fact  : 12\n",
      "479001600\n"
     ]
    }
   ],
   "source": [
    "# A program to find the factorial of the given number\n",
    "\n",
    "def f(n):\n",
    "    fact=1\n",
    "    while(n>=1):\n",
    "        fact*=n\n",
    "        n-=1\n",
    "    return fact\n",
    "\n",
    "print(f(int(input(\"enter the numbre to find the fact  : \"))))\n",
    "\n",
    "    \n",
    "    \n",
    "    "
   ]
  },
  {
   "cell_type": "code",
   "execution_count": 12,
   "id": "28763ce4",
   "metadata": {},
   "outputs": [
    {
     "name": "stdout",
     "output_type": "stream",
     "text": [
      "enter your range : 12\n",
      "factorial of the 0 is 1\n",
      "factorial of the 1 is 1\n",
      "factorial of the 2 is 2\n",
      "factorial of the 3 is 6\n",
      "factorial of the 4 is 24\n",
      "factorial of the 5 is 120\n",
      "factorial of the 6 is 720\n",
      "factorial of the 7 is 5040\n",
      "factorial of the 8 is 40320\n",
      "factorial of the 9 is 362880\n",
      "factorial of the 10 is 3628800\n",
      "factorial of the 11 is 39916800\n"
     ]
    }
   ],
   "source": [
    "def factorial(n):\n",
    "    fact=1\n",
    "    while(n>=1):\n",
    "        fact*=n\n",
    "        n-=1\n",
    "    return fact\n",
    "\n",
    "for i in range(int(input(\"enter your range : \"))):\n",
    "    print(\"factorial of the {} is {}\".format(i,factorial(i)))"
   ]
  },
  {
   "cell_type": "code",
   "execution_count": 18,
   "id": "a4fcaa12",
   "metadata": {},
   "outputs": [
    {
     "name": "stdout",
     "output_type": "stream",
     "text": [
      "enter the number :13\n",
      "12 prime number\n"
     ]
    }
   ],
   "source": [
    "# program to check whether the given number is prime is nbot\n",
    "\n",
    "def prime(n):\n",
    "    flag=1    \n",
    "    for i in range(2,n):\n",
    "        if(n%i==0):\n",
    "            flag=0\n",
    "            break\n",
    "        else:\n",
    "            flag=1\n",
    "    return flag\n",
    "\n",
    "\n",
    "\n",
    "num=int(input(\"enter the number :\"))\n",
    "x=prime(num)\n",
    "if x==1:\n",
    "    print(n,\"prime number\")\n",
    "    \n",
    "else:\n",
    "    print(n,\" is not a prime number\")\n",
    "            \n",
    "            \n",
    "            "
   ]
  },
  {
   "cell_type": "code",
   "execution_count": 1,
   "id": "b03d38e5",
   "metadata": {},
   "outputs": [
    {
     "name": "stdout",
     "output_type": "stream",
     "text": [
      "how many primes you want : 3\n",
      "2 3 5 "
     ]
    }
   ],
   "source": [
    "def prime(n):\n",
    "    flag=1    \n",
    "    for i in range(2,n):\n",
    "        if(n%i==0):\n",
    "            flag=0\n",
    "            break\n",
    "        else:\n",
    "            flag=1\n",
    "    return flag\n",
    "\n",
    "num=int(input(\"how many primes you want : \"))\n",
    "i=2\n",
    "c=1\n",
    "while True:\n",
    "    if prime(i):\n",
    "        print(i,end=\" \")\n",
    "        c+=1\n",
    "    i+=1\n",
    "    if c>num:\n",
    "        break\n",
    "        \n",
    "    \n",
    "\n"
   ]
  },
  {
   "cell_type": "code",
   "execution_count": 2,
   "id": "b87f6d18",
   "metadata": {},
   "outputs": [
    {
     "name": "stdout",
     "output_type": "stream",
     "text": [
      "(4, 9, 16)\n"
     ]
    }
   ],
   "source": [
    "# retuning two or more values by the return statement\n",
    "\n",
    "def f(n):\n",
    "    return 2**n,3**n,4**n   # returning more then one variable\n",
    "print(f(2))\n",
    "    "
   ]
  },
  {
   "cell_type": "code",
   "execution_count": 3,
   "id": "a4f476be",
   "metadata": {},
   "outputs": [
    {
     "name": "stdout",
     "output_type": "stream",
     "text": [
      "DataScince\n"
     ]
    }
   ],
   "source": [
    "# program to assign the function to the variable\n",
    "\n",
    "def f(n):\n",
    "    return \"Data\" + n\n",
    "print(f(\"Scince\"))\n"
   ]
  },
  {
   "cell_type": "code",
   "execution_count": 5,
   "id": "9a04f5ff",
   "metadata": {},
   "outputs": [
    {
     "data": {
      "text/plain": [
       "805593180752"
      ]
     },
     "execution_count": 5,
     "metadata": {},
     "output_type": "execute_result"
    }
   ],
   "source": [
    "x=10\n",
    "id(x) # it gives the identity number of the object(where object store in the memory)"
   ]
  },
  {
   "cell_type": "code",
   "execution_count": 9,
   "id": "fb155d86",
   "metadata": {},
   "outputs": [
    {
     "name": "stdout",
     "output_type": "stream",
     "text": [
      "15 890651765488\n",
      "10 890651765328\n"
     ]
    }
   ],
   "source": [
    "# A function to understand the call by vlue methos \n",
    "\"\"\"\n",
    "inter objects are immutable\n",
    "\n",
    "\"\"\"\n",
    "def f(x):\n",
    "    x=15\n",
    "    print(x,id(x))\n",
    "x=10\n",
    "f(x)\n",
    "print(x,id(x))\n"
   ]
  },
  {
   "cell_type": "code",
   "execution_count": 7,
   "id": "47d29bcc",
   "metadata": {},
   "outputs": [
    {
     "name": "stdout",
     "output_type": "stream",
     "text": [
      "[1, 2, 3, 4, 5, 1729] 890761539392\n",
      "[1, 2, 3, 4, 5, 1729] 890761539392\n"
     ]
    }
   ],
   "source": [
    "\"\"\"\n",
    "list objects are the mutable\n",
    "\n",
    "\"\"\"\n",
    "\n",
    "def f(x):\n",
    "    x.append(1729)\n",
    "    print(x,id(x))\n",
    "    \n",
    "x=[1,2,3,4,5]\n",
    "f(x)\n",
    "print(x,id(x))"
   ]
  },
  {
   "cell_type": "code",
   "execution_count": 10,
   "id": "7b715b53",
   "metadata": {},
   "outputs": [
    {
     "name": "stdout",
     "output_type": "stream",
     "text": [
      "[1, 2, 3, 4] 890731713280\n",
      "[6, 7, 8, 9] 890761538112\n"
     ]
    }
   ],
   "source": [
    "def f(l):\n",
    "    l=[1,2,3,4]\n",
    "    print(l,id(l))\n",
    "    \n",
    "l=[6,7,8,9]\n",
    "f(l)\n",
    "print(l,id(l))"
   ]
  },
  {
   "cell_type": "code",
   "execution_count": 13,
   "id": "4c541496",
   "metadata": {},
   "outputs": [
    {
     "name": "stdout",
     "output_type": "stream",
     "text": [
      "10 20\n"
     ]
    }
   ],
   "source": [
    "# formal or actual arguments\n",
    "\n",
    "def f(a,b):  # a & B are the fomal arguments\n",
    "    print(a,b)\n",
    "    \n",
    "x,y=10,20\n",
    "f(x,y)  #x & y are called actual arguments"
   ]
  },
  {
   "cell_type": "markdown",
   "id": "a5fde10d",
   "metadata": {},
   "source": [
    "# arguments (actual arguments used in the function call)"
   ]
  },
  {
   "cell_type": "markdown",
   "id": "d0490f8f",
   "metadata": {},
   "source": [
    "positional arguments \n",
    "keyworld arguments\n",
    "default arguments\n",
    "variable length arguments"
   ]
  },
  {
   "cell_type": "code",
   "execution_count": 14,
   "id": "57e2dc23",
   "metadata": {},
   "outputs": [
    {
     "name": "stdout",
     "output_type": "stream",
     "text": [
      "positional arguments example : \n",
      "10 20\n"
     ]
    }
   ],
   "source": [
    "\"\"\"\n",
    "Positional arguments : these are the arguments passed to a function in correct positional order\n",
    "Here, the no of the arguments and the positions in function defination should be macth with the number and the position in the function call\n",
    "\n",
    "\"\"\"\n",
    "\n",
    "print(\"positional arguments example : \")\n",
    "\n",
    "def f (x,y):\n",
    "    print(x,y)\n",
    "    \n",
    "f(10,20)  # positional arguments\n",
    "\n"
   ]
  },
  {
   "cell_type": "code",
   "execution_count": 8,
   "id": "0a534eaf",
   "metadata": {},
   "outputs": [
    {
     "name": "stdout",
     "output_type": "stream",
     "text": [
      "keyworld arguments example : \n",
      "10 20\n",
      "50 60\n"
     ]
    },
    {
     "ename": "NameError",
     "evalue": "name 'x' is not defined",
     "output_type": "error",
     "traceback": [
      "\u001b[1;31m---------------------------------------------------------------------------\u001b[0m",
      "\u001b[1;31mNameError\u001b[0m                                 Traceback (most recent call last)",
      "\u001b[1;32mC:\\Users\\SHAILA~1\\AppData\\Local\\Temp/ipykernel_1932/3717968485.py\u001b[0m in \u001b[0;36m<module>\u001b[1;34m\u001b[0m\n\u001b[0;32m     11\u001b[0m \u001b[0mf\u001b[0m\u001b[1;33m(\u001b[0m\u001b[0my\u001b[0m\u001b[1;33m=\u001b[0m\u001b[1;36m20\u001b[0m\u001b[1;33m,\u001b[0m\u001b[0mx\u001b[0m\u001b[1;33m=\u001b[0m\u001b[1;36m10\u001b[0m\u001b[1;33m)\u001b[0m\u001b[1;33m\u001b[0m\u001b[1;33m\u001b[0m\u001b[0m\n\u001b[0;32m     12\u001b[0m \u001b[0mf\u001b[0m\u001b[1;33m(\u001b[0m\u001b[0mx\u001b[0m\u001b[1;33m=\u001b[0m\u001b[1;36m50\u001b[0m\u001b[1;33m,\u001b[0m\u001b[0my\u001b[0m\u001b[1;33m=\u001b[0m\u001b[1;36m60\u001b[0m\u001b[1;33m)\u001b[0m\u001b[1;33m\u001b[0m\u001b[1;33m\u001b[0m\u001b[0m\n\u001b[1;32m---> 13\u001b[1;33m \u001b[0mf\u001b[0m\u001b[1;33m(\u001b[0m\u001b[0mx\u001b[0m\u001b[1;33m,\u001b[0m\u001b[0my\u001b[0m\u001b[1;33m=\u001b[0m\u001b[1;36m30\u001b[0m\u001b[1;33m)\u001b[0m\u001b[1;33m\u001b[0m\u001b[1;33m\u001b[0m\u001b[0m\n\u001b[0m\u001b[0;32m     14\u001b[0m \u001b[0mf\u001b[0m\u001b[1;33m(\u001b[0m\u001b[0my\u001b[0m\u001b[1;33m,\u001b[0m\u001b[0mx\u001b[0m\u001b[1;33m)\u001b[0m\u001b[1;33m\u001b[0m\u001b[1;33m\u001b[0m\u001b[0m\n\u001b[0;32m     15\u001b[0m \u001b[1;31m#f(x=40,y)  # error(positional arguments follows keyword arguments)\u001b[0m\u001b[1;33m\u001b[0m\u001b[1;33m\u001b[0m\u001b[0m\n",
      "\u001b[1;31mNameError\u001b[0m: name 'x' is not defined"
     ]
    }
   ],
   "source": [
    "\"\"\"\n",
    "Keyworld arguments : keyword arguments are the arguments that are identify by the name\n",
    "\n",
    "\"\"\"\n",
    "\n",
    "print(\"keyworld arguments example : \")\n",
    "\n",
    "def f(x=1,y=2):\n",
    "    print(x,y)\n",
    "    \n",
    "f(y=20,x=10)\n",
    "f(x=50,y=60)\n",
    "f(x,y=30)\n",
    "f(y,x)\n",
    "#f(x=40,y)  # error(positional arguments follows keyword arguments)\n"
   ]
  },
  {
   "cell_type": "code",
   "execution_count": 7,
   "id": "7e496693",
   "metadata": {},
   "outputs": [],
   "source": [
    "def new_func(a:int, b:str) -> str : return a, b;"
   ]
  },
  {
   "cell_type": "code",
   "execution_count": 41,
   "id": "9dcb21dd",
   "metadata": {},
   "outputs": [
    {
     "name": "stdout",
     "output_type": "stream",
     "text": [
      " default arguments example : \n",
      "10 10\n",
      "1 10\n",
      "2 20\n"
     ]
    }
   ],
   "source": [
    "\"\"\"\n",
    "Default arguments : default arguments are the arguments for which we can mention some default values for the function parameters\n",
    "in the definition.\n",
    "\n",
    "\"\"\"\n",
    "\n",
    "print(\" default arguments example : \")\n",
    "\n",
    "def f(x,y=10):   #y is default argument\n",
    "    print(x,y)\n",
    "    \n",
    "f(x)\n",
    "f(x=1)\n",
    "f(x=2,y=20)"
   ]
  },
  {
   "cell_type": "code",
   "execution_count": 51,
   "id": "c7df7fde",
   "metadata": {},
   "outputs": [
    {
     "ename": "SyntaxError",
     "evalue": "invalid syntax (Temp/ipykernel_2976/3103740160.py, line 11)",
     "output_type": "error",
     "traceback": [
      "\u001b[1;36m  File \u001b[1;32m\"C:\\Users\\SHAILA~1\\AppData\\Local\\Temp/ipykernel_2976/3103740160.py\"\u001b[1;36m, line \u001b[1;32m11\u001b[0m\n\u001b[1;33m    f(1,2,3,4)\u001b[0m\n\u001b[1;37m    ^\u001b[0m\n\u001b[1;31mSyntaxError\u001b[0m\u001b[1;31m:\u001b[0m invalid syntax\n"
     ]
    }
   ],
   "source": [
    "import math\n",
    "\n",
    "\"\"\"\n",
    "variable length arguments : variable length arguments are the variable that takes zero or more values\n",
    "\n",
    "\"\"\"\n",
    "\n",
    "def f(l):\n",
    "    n=len(l)\n",
    "    sum=0\n",
    "    \n",
    "    \n",
    "    \n",
    "    "
   ]
  },
  {
   "cell_type": "code",
   "execution_count": 58,
   "id": "03e2af4e",
   "metadata": {},
   "outputs": [
    {
     "name": "stdout",
     "output_type": "stream",
     "text": [
      "1 2 3 4 5 6 7\n"
     ]
    },
    {
     "ename": "AttributeError",
     "evalue": "'str' object has no attribute 'splite'",
     "output_type": "error",
     "traceback": [
      "\u001b[1;31m---------------------------------------------------------------------------\u001b[0m",
      "\u001b[1;31mAttributeError\u001b[0m                            Traceback (most recent call last)",
      "\u001b[1;32mC:\\Users\\SHAILA~1\\AppData\\Local\\Temp/ipykernel_2976/1790824015.py\u001b[0m in \u001b[0;36m<module>\u001b[1;34m\u001b[0m\n\u001b[1;32m----> 1\u001b[1;33m \u001b[0ml\u001b[0m\u001b[1;33m=\u001b[0m\u001b[1;33m[\u001b[0m\u001b[0mx\u001b[0m \u001b[1;32mfor\u001b[0m \u001b[0mx\u001b[0m \u001b[1;32min\u001b[0m \u001b[0minput\u001b[0m\u001b[1;33m(\u001b[0m\u001b[1;33m)\u001b[0m\u001b[1;33m.\u001b[0m\u001b[0msplite\u001b[0m\u001b[1;33m(\u001b[0m\u001b[1;33m)\u001b[0m\u001b[1;33m]\u001b[0m\u001b[1;33m\u001b[0m\u001b[1;33m\u001b[0m\u001b[0m\n\u001b[0m",
      "\u001b[1;31mAttributeError\u001b[0m: 'str' object has no attribute 'splite'"
     ]
    }
   ],
   "source": [
    "\n",
    "\n",
    "\n",
    "l=[x for x in input().splite()]"
   ]
  },
  {
   "cell_type": "markdown",
   "id": "90139622",
   "metadata": {},
   "source": [
    "# Anonymous function OR Lambdas"
   ]
  },
  {
   "cell_type": "markdown",
   "id": "7f7a3c06",
   "metadata": {},
   "source": [
    "*A function without name is called Anonymous function. \n",
    "*To define a function we have to use \"def\" keyword.\n",
    "*But,anonymous function not defind by using the \"def\" keyword,they are defind by using the \" lambda\" keyword hence they are called \"lambdas\" .\n"
   ]
  },
  {
   "cell_type": "code",
   "execution_count": 6,
   "id": "12c80b9b",
   "metadata": {},
   "outputs": [
    {
     "name": "stdout",
     "output_type": "stream",
     "text": [
      "3\n"
     ]
    }
   ],
   "source": [
    "#lambda function\n",
    "x=lambda a,b:a+b\n",
    "y=x(1,2)\n",
    "print(y)"
   ]
  },
  {
   "cell_type": "code",
   "execution_count": 10,
   "id": "ae33aab9",
   "metadata": {},
   "outputs": [
    {
     "name": "stdout",
     "output_type": "stream",
     "text": [
      "big one is :  2\n"
     ]
    }
   ],
   "source": [
    "x=lambda a,b:a if a>b else b\n",
    "#a,b=[int(n) for n in input(\"enter any 2 numbers : \").split(\",\")]\n",
    "print(\"big one is : \",x(1,2))"
   ]
  },
  {
   "cell_type": "code",
   "execution_count": 20,
   "id": "b023311c",
   "metadata": {},
   "outputs": [
    {
     "name": "stdout",
     "output_type": "stream",
     "text": [
      "(2, 4, 6)\n"
     ]
    }
   ],
   "source": [
    "#### filter()\n",
    "\n",
    "\"\"\"\n",
    "a filter() function is useful to extrac elements from the sequence depending on the result of the function.\n",
    "\n",
    "\"\"\"\n",
    "\n",
    "def even(x):\n",
    "    return True if x%2==0 else False\n",
    "l=[1,2,3,4,5,6]\n",
    "print(tuple(filter(even,l)))\n"
   ]
  },
  {
   "cell_type": "code",
   "execution_count": 64,
   "id": "23745412",
   "metadata": {},
   "outputs": [
    {
     "name": "stdout",
     "output_type": "stream",
     "text": [
      "[0, 2, 4, 6, 8]\n"
     ]
    }
   ],
   "source": [
    "\n",
    "print(list(filter(lambda x:x%2==0,range(10))))"
   ]
  },
  {
   "cell_type": "code",
   "execution_count": null,
   "id": "82c0221b",
   "metadata": {},
   "outputs": [],
   "source": []
  },
  {
   "cell_type": "code",
   "execution_count": 27,
   "id": "42d1068c",
   "metadata": {},
   "outputs": [
    {
     "name": "stdout",
     "output_type": "stream",
     "text": [
      "[1, 256, 19683, 1048576]\n"
     ]
    }
   ],
   "source": [
    "#map with lambda\n",
    "\n",
    "l=[7,8,9,10]\n",
    "m=[1,2,3,4]\n",
    "print(list(map(lambda x,y:x**y,m,l)))"
   ]
  },
  {
   "cell_type": "code",
   "execution_count": 1,
   "id": "e1a06c38",
   "metadata": {},
   "outputs": [
    {
     "name": "stdout",
     "output_type": "stream",
     "text": [
      "[6, 6, 6, 6]\n"
     ]
    }
   ],
   "source": [
    "\n",
    "\n",
    "l=[7,8,9,10]\n",
    "m=[1,2,3,4]\n",
    "print(list(map(lambda x,y:abs(x-y),m,l)))"
   ]
  },
  {
   "cell_type": "code",
   "execution_count": 7,
   "id": "e7a0ff64",
   "metadata": {},
   "outputs": [
    {
     "name": "stdout",
     "output_type": "stream",
     "text": [
      "[5, 8, 9, 8, 5]\n"
     ]
    }
   ],
   "source": [
    "#map() with lambda\n",
    "\n",
    "l1=[1,2,3,4,5]\n",
    "l2=[5,4,3,2,1]\n",
    "print(list(map(lambda x,y:x*y ,l1,l2)))"
   ]
  },
  {
   "cell_type": "code",
   "execution_count": 28,
   "id": "b7e9bf35",
   "metadata": {},
   "outputs": [
    {
     "name": "stdout",
     "output_type": "stream",
     "text": [
      "3628800\n"
     ]
    }
   ],
   "source": [
    "# reduce()\n",
    "\n",
    "\"\"\"\n",
    "reduce() reduce a sequence of the  elements into a singe element by processing the elements according to the function supplied\n",
    "\n",
    "\"\"\"\n",
    "\n",
    "from functools import *\n",
    "l=[1,2,3,4,5,6,7,8,9,10]\n",
    "print(reduce(lambda x,y:x*y,l))\n"
   ]
  },
  {
   "cell_type": "code",
   "execution_count": 29,
   "id": "f5637e22",
   "metadata": {},
   "outputs": [
    {
     "name": "stdout",
     "output_type": "stream",
     "text": [
      "0\n"
     ]
    }
   ],
   "source": [
    "print(reduce(lambda x,y:x*y,range(11)))"
   ]
  },
  {
   "cell_type": "code",
   "execution_count": 59,
   "id": "c71d17da",
   "metadata": {},
   "outputs": [
    {
     "name": "stdout",
     "output_type": "stream",
     "text": [
      "1 string\n"
     ]
    }
   ],
   "source": [
    "def f(x,y):\n",
    "    print(x,y)\n",
    "f(1,\"string\")"
   ]
  },
  {
   "cell_type": "markdown",
   "id": "f2fce189",
   "metadata": {},
   "source": [
    "# Function Generators"
   ]
  },
  {
   "cell_type": "markdown",
   "id": "6bad215f",
   "metadata": {},
   "source": [
    "generators are the functions that returns the sequence of the values.\n",
    "A generator is like a ordinary function, but uses the \"yield\" keyword.\n"
   ]
  },
  {
   "cell_type": "markdown",
   "id": "91cc79f6",
   "metadata": {},
   "source": [
    "Python provides a generator to create your own iterator function. A generator is a special type of function which does not return a single value, instead, it returns an iterator object with a sequence of values. In a generator function, a yield statement is used rather than a return statement. The following is a simple generator function.\n",
    "\n"
   ]
  },
  {
   "cell_type": "code",
   "execution_count": 68,
   "id": "08ad6ac8",
   "metadata": {},
   "outputs": [
    {
     "name": "stdout",
     "output_type": "stream",
     "text": [
      "First item\n",
      "10\n",
      "Second item\n",
      "20\n",
      "Last item\n",
      "30\n"
     ]
    },
    {
     "ename": "StopIteration",
     "evalue": "",
     "output_type": "error",
     "traceback": [
      "\u001b[1;31m---------------------------------------------------------------------------\u001b[0m",
      "\u001b[1;31mStopIteration\u001b[0m                             Traceback (most recent call last)",
      "\u001b[1;32mC:\\Users\\SHAILA~1\\AppData\\Local\\Temp/ipykernel_3540/2550026871.py\u001b[0m in \u001b[0;36m<module>\u001b[1;34m\u001b[0m\n\u001b[0;32m     13\u001b[0m \u001b[0mprint\u001b[0m\u001b[1;33m(\u001b[0m\u001b[0mnext\u001b[0m\u001b[1;33m(\u001b[0m\u001b[0mg\u001b[0m\u001b[1;33m)\u001b[0m\u001b[1;33m)\u001b[0m\u001b[1;33m\u001b[0m\u001b[1;33m\u001b[0m\u001b[0m\n\u001b[0;32m     14\u001b[0m \u001b[0mprint\u001b[0m\u001b[1;33m(\u001b[0m\u001b[0mnext\u001b[0m\u001b[1;33m(\u001b[0m\u001b[0mg\u001b[0m\u001b[1;33m)\u001b[0m\u001b[1;33m)\u001b[0m\u001b[1;33m\u001b[0m\u001b[1;33m\u001b[0m\u001b[0m\n\u001b[1;32m---> 15\u001b[1;33m \u001b[0mprint\u001b[0m\u001b[1;33m(\u001b[0m\u001b[0mnext\u001b[0m\u001b[1;33m(\u001b[0m\u001b[0mg\u001b[0m\u001b[1;33m)\u001b[0m\u001b[1;33m)\u001b[0m\u001b[1;33m\u001b[0m\u001b[1;33m\u001b[0m\u001b[0m\n\u001b[0m",
      "\u001b[1;31mStopIteration\u001b[0m: "
     ]
    }
   ],
   "source": [
    "def mygenerator():\n",
    "    print('First item')\n",
    "    yield 10\n",
    "\n",
    "    print('Second item')\n",
    "    yield 20\n",
    "\n",
    "    print('Last item')\n",
    "    yield 30\n",
    "    \n",
    "g=mygenerator()\n",
    "print(next(g))\n",
    "print(next(g))\n",
    "print(next(g))\n",
    "print(next(g))\n"
   ]
  },
  {
   "cell_type": "markdown",
   "id": "775e5414",
   "metadata": {},
   "source": [
    "In the above example, the mygenerator() function is a generator function. It uses yield instead of return keyword. So, this will return the value against the yield keyword each time it is called. However, you need to create an iterator for this function, as shown below.\n",
    "\n",
    "The generator function cannot include the return keyword. If you include it, then it will terminate the function. The difference between yield and return is that yield returns a value and pauses the execution while maintaining the internal states, whereas the return statement returns a value and terminates the execution of the function."
   ]
  },
  {
   "cell_type": "code",
   "execution_count": 75,
   "id": "1725b370",
   "metadata": {},
   "outputs": [
    {
     "name": "stdout",
     "output_type": "stream",
     "text": [
      "0\n",
      "1\n",
      "4\n",
      "9\n",
      "16\n",
      "25\n",
      "36\n",
      "49\n",
      "64\n",
      "81\n",
      "100\n",
      "121\n",
      "144\n",
      "169\n",
      "196\n",
      "225\n",
      "256\n",
      "289\n",
      "324\n",
      "361\n",
      "400\n",
      "441\n",
      "484\n",
      "529\n",
      "576\n",
      "625\n",
      "676\n",
      "729\n",
      "784\n",
      "841\n",
      "900\n",
      "961\n",
      "1024\n",
      "1089\n",
      "1156\n",
      "1225\n",
      "1296\n",
      "1369\n",
      "1444\n",
      "1521\n",
      "1600\n",
      "1681\n",
      "1764\n",
      "1849\n",
      "1936\n",
      "2025\n",
      "2116\n",
      "2209\n",
      "2304\n",
      "2401\n",
      "2500\n",
      "2601\n",
      "2704\n",
      "2809\n",
      "2916\n",
      "3025\n",
      "3136\n",
      "3249\n",
      "3364\n",
      "3481\n",
      "3600\n",
      "3721\n",
      "3844\n",
      "3969\n",
      "4096\n",
      "4225\n",
      "4356\n",
      "4489\n",
      "4624\n",
      "4761\n",
      "4900\n",
      "5041\n",
      "5184\n",
      "5329\n",
      "5476\n",
      "5625\n",
      "5776\n",
      "5929\n",
      "6084\n",
      "6241\n",
      "6400\n",
      "6561\n",
      "6724\n",
      "6889\n",
      "7056\n",
      "7225\n",
      "7396\n",
      "7569\n",
      "7744\n",
      "7921\n",
      "8100\n",
      "8281\n",
      "8464\n",
      "8649\n",
      "8836\n",
      "9025\n",
      "9216\n",
      "9409\n",
      "9604\n",
      "9801\n",
      "10000\n",
      "10201\n",
      "10404\n",
      "10609\n",
      "10816\n",
      "11025\n",
      "11236\n",
      "11449\n",
      "11664\n",
      "11881\n",
      "12100\n",
      "12321\n",
      "12544\n",
      "12769\n",
      "12996\n",
      "13225\n",
      "13456\n",
      "13689\n",
      "13924\n",
      "14161\n",
      "14400\n",
      "14641\n",
      "14884\n",
      "15129\n",
      "15376\n",
      "15625\n",
      "15876\n",
      "16129\n",
      "16384\n",
      "16641\n",
      "16900\n",
      "17161\n",
      "17424\n",
      "17689\n",
      "17956\n",
      "18225\n",
      "18496\n",
      "18769\n",
      "19044\n",
      "19321\n",
      "19600\n",
      "19881\n",
      "20164\n",
      "20449\n",
      "20736\n",
      "21025\n",
      "21316\n",
      "21609\n",
      "21904\n",
      "22201\n",
      "22500\n",
      "22801\n",
      "23104\n",
      "23409\n",
      "23716\n",
      "24025\n",
      "24336\n",
      "24649\n",
      "24964\n",
      "25281\n",
      "25600\n",
      "25921\n",
      "26244\n",
      "26569\n",
      "26896\n",
      "27225\n",
      "27556\n",
      "27889\n",
      "28224\n",
      "28561\n",
      "28900\n",
      "29241\n",
      "29584\n",
      "29929\n",
      "30276\n",
      "30625\n",
      "30976\n",
      "31329\n",
      "31684\n",
      "32041\n",
      "32400\n",
      "32761\n",
      "33124\n",
      "33489\n",
      "33856\n",
      "34225\n",
      "34596\n",
      "34969\n",
      "35344\n",
      "35721\n",
      "36100\n",
      "36481\n",
      "36864\n",
      "37249\n",
      "37636\n",
      "38025\n",
      "38416\n",
      "38809\n",
      "39204\n",
      "39601\n",
      "40000\n",
      "40401\n",
      "40804\n",
      "41209\n",
      "41616\n",
      "42025\n",
      "42436\n",
      "42849\n",
      "43264\n",
      "43681\n",
      "44100\n",
      "44521\n",
      "44944\n",
      "45369\n",
      "45796\n",
      "46225\n",
      "46656\n",
      "47089\n",
      "47524\n",
      "47961\n",
      "48400\n",
      "48841\n",
      "49284\n",
      "49729\n",
      "50176\n",
      "50625\n",
      "51076\n",
      "51529\n",
      "51984\n",
      "52441\n",
      "52900\n",
      "53361\n",
      "53824\n",
      "54289\n",
      "54756\n",
      "55225\n",
      "55696\n",
      "56169\n",
      "56644\n",
      "57121\n",
      "57600\n",
      "58081\n",
      "58564\n",
      "59049\n",
      "59536\n",
      "60025\n",
      "60516\n",
      "61009\n",
      "61504\n",
      "62001\n",
      "62500\n",
      "63001\n",
      "63504\n",
      "64009\n",
      "64516\n",
      "65025\n",
      "65536\n",
      "66049\n",
      "66564\n",
      "67081\n",
      "67600\n",
      "68121\n",
      "68644\n",
      "69169\n",
      "69696\n",
      "70225\n",
      "70756\n",
      "71289\n",
      "71824\n",
      "72361\n",
      "72900\n",
      "73441\n",
      "73984\n",
      "74529\n",
      "75076\n",
      "75625\n",
      "76176\n",
      "76729\n",
      "77284\n",
      "77841\n",
      "78400\n",
      "78961\n",
      "79524\n",
      "80089\n",
      "80656\n",
      "81225\n",
      "81796\n",
      "82369\n",
      "82944\n",
      "83521\n",
      "84100\n",
      "84681\n",
      "85264\n",
      "85849\n",
      "86436\n",
      "87025\n",
      "87616\n",
      "88209\n",
      "88804\n",
      "89401\n",
      "90000\n",
      "90601\n",
      "91204\n",
      "91809\n",
      "92416\n",
      "93025\n",
      "93636\n",
      "94249\n",
      "94864\n",
      "95481\n",
      "96100\n",
      "96721\n",
      "97344\n",
      "97969\n",
      "98596\n",
      "99225\n",
      "99856\n",
      "100489\n",
      "101124\n",
      "101761\n",
      "102400\n",
      "103041\n",
      "103684\n",
      "104329\n",
      "104976\n",
      "105625\n",
      "106276\n",
      "106929\n",
      "107584\n",
      "108241\n",
      "108900\n",
      "109561\n",
      "110224\n",
      "110889\n",
      "111556\n",
      "112225\n",
      "112896\n",
      "113569\n",
      "114244\n",
      "114921\n",
      "115600\n",
      "116281\n",
      "116964\n",
      "117649\n",
      "118336\n",
      "119025\n",
      "119716\n",
      "120409\n",
      "121104\n",
      "121801\n",
      "122500\n",
      "123201\n",
      "123904\n",
      "124609\n",
      "125316\n",
      "126025\n",
      "126736\n",
      "127449\n",
      "128164\n",
      "128881\n",
      "129600\n",
      "130321\n",
      "131044\n",
      "131769\n",
      "132496\n",
      "133225\n",
      "133956\n",
      "134689\n",
      "135424\n",
      "136161\n",
      "136900\n",
      "137641\n",
      "138384\n",
      "139129\n",
      "139876\n",
      "140625\n",
      "141376\n",
      "142129\n",
      "142884\n",
      "143641\n",
      "144400\n",
      "145161\n",
      "145924\n",
      "146689\n",
      "147456\n",
      "148225\n",
      "148996\n",
      "149769\n",
      "150544\n",
      "151321\n",
      "152100\n",
      "152881\n",
      "153664\n",
      "154449\n",
      "155236\n",
      "156025\n",
      "156816\n",
      "157609\n",
      "158404\n",
      "159201\n",
      "160000\n",
      "160801\n",
      "161604\n",
      "162409\n",
      "163216\n",
      "164025\n",
      "164836\n",
      "165649\n",
      "166464\n",
      "167281\n",
      "168100\n",
      "168921\n",
      "169744\n",
      "170569\n",
      "171396\n",
      "172225\n",
      "173056\n",
      "173889\n",
      "174724\n",
      "175561\n",
      "176400\n",
      "177241\n",
      "178084\n",
      "178929\n",
      "179776\n",
      "180625\n",
      "181476\n",
      "182329\n",
      "183184\n",
      "184041\n",
      "184900\n",
      "185761\n",
      "186624\n",
      "187489\n",
      "188356\n",
      "189225\n",
      "190096\n",
      "190969\n",
      "191844\n",
      "192721\n",
      "193600\n",
      "194481\n",
      "195364\n",
      "196249\n",
      "197136\n",
      "198025\n",
      "198916\n",
      "199809\n",
      "200704\n",
      "201601\n",
      "202500\n",
      "203401\n",
      "204304\n",
      "205209\n",
      "206116\n",
      "207025\n",
      "207936\n",
      "208849\n",
      "209764\n",
      "210681\n",
      "211600\n",
      "212521\n",
      "213444\n",
      "214369\n",
      "215296\n",
      "216225\n",
      "217156\n",
      "218089\n",
      "219024\n",
      "219961\n",
      "220900\n",
      "221841\n",
      "222784\n",
      "223729\n",
      "224676\n",
      "225625\n",
      "226576\n",
      "227529\n",
      "228484\n",
      "229441\n",
      "230400\n",
      "231361\n",
      "232324\n",
      "233289\n",
      "234256\n",
      "235225\n",
      "236196\n",
      "237169\n",
      "238144\n",
      "239121\n",
      "240100\n",
      "241081\n",
      "242064\n",
      "243049\n",
      "244036\n",
      "245025\n",
      "246016\n",
      "247009\n",
      "248004\n",
      "249001\n",
      "250000\n",
      "251001\n",
      "252004\n",
      "253009\n",
      "254016\n",
      "255025\n",
      "256036\n",
      "257049\n",
      "258064\n",
      "259081\n",
      "260100\n",
      "261121\n",
      "262144\n",
      "263169\n",
      "264196\n",
      "265225\n",
      "266256\n",
      "267289\n",
      "268324\n",
      "269361\n",
      "270400\n",
      "271441\n",
      "272484\n",
      "273529\n",
      "274576\n",
      "275625\n",
      "276676\n",
      "277729\n",
      "278784\n",
      "279841\n",
      "280900\n",
      "281961\n",
      "283024\n",
      "284089\n",
      "285156\n",
      "286225\n",
      "287296\n",
      "288369\n",
      "289444\n",
      "290521\n",
      "291600\n",
      "292681\n",
      "293764\n",
      "294849\n",
      "295936\n",
      "297025\n",
      "298116\n",
      "299209\n",
      "300304\n",
      "301401\n",
      "302500\n",
      "303601\n",
      "304704\n",
      "305809\n",
      "306916\n",
      "308025\n",
      "309136\n",
      "310249\n",
      "311364\n",
      "312481\n",
      "313600\n",
      "314721\n",
      "315844\n",
      "316969\n",
      "318096\n",
      "319225\n",
      "320356\n",
      "321489\n",
      "322624\n",
      "323761\n",
      "324900\n",
      "326041\n",
      "327184\n",
      "328329\n",
      "329476\n",
      "330625\n",
      "331776\n",
      "332929\n",
      "334084\n",
      "335241\n",
      "336400\n",
      "337561\n",
      "338724\n",
      "339889\n",
      "341056\n",
      "342225\n",
      "343396\n",
      "344569\n",
      "345744\n",
      "346921\n",
      "348100\n",
      "349281\n",
      "350464\n",
      "351649\n",
      "352836\n",
      "354025\n",
      "355216\n",
      "356409\n",
      "357604\n",
      "358801\n",
      "360000\n",
      "361201\n",
      "362404\n",
      "363609\n",
      "364816\n",
      "366025\n",
      "367236\n",
      "368449\n",
      "369664\n",
      "370881\n",
      "372100\n",
      "373321\n",
      "374544\n",
      "375769\n",
      "376996\n",
      "378225\n",
      "379456\n",
      "380689\n",
      "381924\n",
      "383161\n",
      "384400\n",
      "385641\n",
      "386884\n",
      "388129\n",
      "389376\n",
      "390625\n",
      "391876\n",
      "393129\n",
      "394384\n",
      "395641\n",
      "396900\n",
      "398161\n",
      "399424\n",
      "400689\n",
      "401956\n",
      "403225\n",
      "404496\n",
      "405769\n",
      "407044\n",
      "408321\n",
      "409600\n",
      "410881\n",
      "412164\n",
      "413449\n",
      "414736\n",
      "416025\n",
      "417316\n",
      "418609\n",
      "419904\n",
      "421201\n",
      "422500\n",
      "423801\n",
      "425104\n",
      "426409\n",
      "427716\n",
      "429025\n",
      "430336\n",
      "431649\n",
      "432964\n",
      "434281\n",
      "435600\n",
      "436921\n",
      "438244\n",
      "439569\n",
      "440896\n",
      "442225\n",
      "443556\n",
      "444889\n",
      "446224\n",
      "447561\n",
      "448900\n",
      "450241\n",
      "451584\n",
      "452929\n",
      "454276\n",
      "455625\n",
      "456976\n",
      "458329\n",
      "459684\n",
      "461041\n",
      "462400\n",
      "463761\n",
      "465124\n",
      "466489\n",
      "467856\n",
      "469225\n",
      "470596\n",
      "471969\n",
      "473344\n",
      "474721\n",
      "476100\n",
      "477481\n",
      "478864\n",
      "480249\n",
      "481636\n",
      "483025\n",
      "484416\n",
      "485809\n",
      "487204\n",
      "488601\n",
      "490000\n",
      "491401\n",
      "492804\n",
      "494209\n",
      "495616\n",
      "497025\n",
      "498436\n",
      "499849\n",
      "501264\n",
      "502681\n",
      "504100\n",
      "505521\n",
      "506944\n",
      "508369\n",
      "509796\n",
      "511225\n",
      "512656\n",
      "514089\n",
      "515524\n",
      "516961\n",
      "518400\n",
      "519841\n",
      "521284\n",
      "522729\n",
      "524176\n",
      "525625\n",
      "527076\n",
      "528529\n",
      "529984\n",
      "531441\n",
      "532900\n",
      "534361\n",
      "535824\n",
      "537289\n",
      "538756\n",
      "540225\n",
      "541696\n",
      "543169\n",
      "544644\n",
      "546121\n",
      "547600\n",
      "549081\n",
      "550564\n",
      "552049\n",
      "553536\n",
      "555025\n",
      "556516\n",
      "558009\n",
      "559504\n",
      "561001\n",
      "562500\n",
      "564001\n",
      "565504\n",
      "567009\n",
      "568516\n",
      "570025\n",
      "571536\n",
      "573049\n",
      "574564\n",
      "576081\n",
      "577600\n",
      "579121\n",
      "580644\n",
      "582169\n",
      "583696\n",
      "585225\n",
      "586756\n",
      "588289\n",
      "589824\n",
      "591361\n",
      "592900\n",
      "594441\n",
      "595984\n",
      "597529\n",
      "599076\n",
      "600625\n",
      "602176\n",
      "603729\n",
      "605284\n",
      "606841\n",
      "608400\n",
      "609961\n",
      "611524\n",
      "613089\n",
      "614656\n",
      "616225\n",
      "617796\n",
      "619369\n",
      "620944\n",
      "622521\n",
      "624100\n",
      "625681\n",
      "627264\n",
      "628849\n",
      "630436\n",
      "632025\n",
      "633616\n",
      "635209\n",
      "636804\n",
      "638401\n",
      "640000\n",
      "641601\n",
      "643204\n",
      "644809\n",
      "646416\n",
      "648025\n",
      "649636\n",
      "651249\n",
      "652864\n",
      "654481\n",
      "656100\n",
      "657721\n",
      "659344\n",
      "660969\n",
      "662596\n",
      "664225\n",
      "665856\n",
      "667489\n",
      "669124\n",
      "670761\n",
      "672400\n",
      "674041\n",
      "675684\n",
      "677329\n",
      "678976\n",
      "680625\n",
      "682276\n",
      "683929\n",
      "685584\n",
      "687241\n",
      "688900\n",
      "690561\n",
      "692224\n",
      "693889\n",
      "695556\n",
      "697225\n",
      "698896\n",
      "700569\n",
      "702244\n",
      "703921\n",
      "705600\n",
      "707281\n",
      "708964\n",
      "710649\n",
      "712336\n",
      "714025\n",
      "715716\n",
      "717409\n",
      "719104\n",
      "720801\n",
      "722500\n",
      "724201\n",
      "725904\n",
      "727609\n",
      "729316\n",
      "731025\n",
      "732736\n",
      "734449\n",
      "736164\n",
      "737881\n",
      "739600\n",
      "741321\n",
      "743044\n",
      "744769\n",
      "746496\n",
      "748225\n",
      "749956\n",
      "751689\n",
      "753424\n",
      "755161\n",
      "756900\n",
      "758641\n",
      "760384\n",
      "762129\n",
      "763876\n",
      "765625\n",
      "767376\n",
      "769129\n",
      "770884\n",
      "772641\n",
      "774400\n",
      "776161\n",
      "777924\n",
      "779689\n",
      "781456\n",
      "783225\n",
      "784996\n",
      "786769\n",
      "788544\n",
      "790321\n",
      "792100\n",
      "793881\n",
      "795664\n",
      "797449\n",
      "799236\n",
      "801025\n",
      "802816\n",
      "804609\n",
      "806404\n",
      "808201\n",
      "810000\n",
      "811801\n",
      "813604\n",
      "815409\n",
      "817216\n",
      "819025\n",
      "820836\n",
      "822649\n",
      "824464\n",
      "826281\n",
      "828100\n",
      "829921\n",
      "831744\n",
      "833569\n",
      "835396\n",
      "837225\n",
      "839056\n",
      "840889\n",
      "842724\n",
      "844561\n",
      "846400\n",
      "848241\n",
      "850084\n",
      "851929\n",
      "853776\n",
      "855625\n",
      "857476\n",
      "859329\n",
      "861184\n",
      "863041\n",
      "864900\n",
      "866761\n",
      "868624\n",
      "870489\n",
      "872356\n",
      "874225\n",
      "876096\n",
      "877969\n",
      "879844\n",
      "881721\n",
      "883600\n",
      "885481\n",
      "887364\n",
      "889249\n",
      "891136\n",
      "893025\n",
      "894916\n",
      "896809\n",
      "898704\n",
      "900601\n",
      "902500\n",
      "904401\n",
      "906304\n",
      "908209\n",
      "910116\n",
      "912025\n",
      "913936\n",
      "915849\n",
      "917764\n",
      "919681\n",
      "921600\n",
      "923521\n",
      "925444\n",
      "927369\n",
      "929296\n",
      "931225\n",
      "933156\n",
      "935089\n",
      "937024\n",
      "938961\n",
      "940900\n",
      "942841\n",
      "944784\n",
      "946729\n",
      "948676\n",
      "950625\n",
      "952576\n",
      "954529\n",
      "956484\n",
      "958441\n",
      "960400\n",
      "962361\n",
      "964324\n",
      "966289\n",
      "968256\n",
      "970225\n",
      "972196\n",
      "974169\n",
      "976144\n",
      "978121\n",
      "980100\n",
      "982081\n",
      "984064\n",
      "986049\n",
      "988036\n",
      "990025\n",
      "992016\n",
      "994009\n",
      "996004\n",
      "998001\n"
     ]
    }
   ],
   "source": [
    "# hadling the stopIteration error\n",
    "\n",
    "\n",
    "def square_of_sequence():\n",
    "    for i in range(1000):\n",
    "        yield i*i\n",
    "        \n",
    "gen=square_of_sequence()\n",
    "while True:\n",
    "    try:\n",
    "        print (next(gen))\n",
    "    except StopIteration:         \n",
    "        break"
   ]
  },
  {
   "cell_type": "markdown",
   "id": "648e291d",
   "metadata": {},
   "source": [
    "Generator Expression :-\n",
    "Python also provides a generator expression, which is a shorter way of defining simple generator functions. The generator expression is an anonymous generator function. The following is a generator expression for the square of sequence function."
   ]
  },
  {
   "cell_type": "code",
   "execution_count": 46,
   "id": "74e24306",
   "metadata": {},
   "outputs": [
    {
     "name": "stdout",
     "output_type": "stream",
     "text": [
      "0\n",
      "1\n"
     ]
    }
   ],
   "source": [
    "squres = (x*x for x in range(5))\n",
    "print(next(squres))\n",
    "print(next(squres))"
   ]
  },
  {
   "cell_type": "code",
   "execution_count": 69,
   "id": "b558bcd6",
   "metadata": {},
   "outputs": [
    {
     "name": "stdout",
     "output_type": "stream",
     "text": [
      "1\n",
      "2\n",
      "3\n"
     ]
    }
   ],
   "source": [
    "# A generator function that yields 1 for first time,2 second time and 3 third time\n",
    "\n",
    "def simpleGeneratorFun():\n",
    "    yield 1            \n",
    "    yield 2            \n",
    "    yield 3            \n",
    "    \n",
    "# Driver code to check above generator function\n",
    "for value in simpleGeneratorFun(): \n",
    "    print(value)"
   ]
  },
  {
   "cell_type": "code",
   "execution_count": 79,
   "id": "f4f2adbf",
   "metadata": {},
   "outputs": [
    {
     "name": "stdout",
     "output_type": "stream",
     "text": [
      "1\n",
      "7\n",
      "2\n",
      "9\n",
      "by using next()\n",
      "1\n",
      "7\n"
     ]
    }
   ],
   "source": [
    "def f():\n",
    "    yield 1\n",
    "    yield 7\n",
    "    yield 2\n",
    "    yield 9\n",
    "    \n",
    "for i in f():\n",
    "    print(i)\n",
    "    \n",
    "print(\"by using next()\")\n",
    "\n",
    "a=f()\n",
    "print(next(a))\n",
    "print(next(a))\n",
    "    "
   ]
  },
  {
   "cell_type": "code",
   "execution_count": 1,
   "id": "04a9d947",
   "metadata": {},
   "outputs": [
    {
     "name": "stdout",
     "output_type": "stream",
     "text": [
      "1\n",
      "2\n"
     ]
    }
   ],
   "source": [
    "# A Python program to demonstrate use of  generator object with next() \n",
    "  \n",
    "# A generator function\n",
    "def simpleGeneratorFun():\n",
    "    yield 1\n",
    "    yield 2\n",
    "    yield 3\n",
    "    \n",
    "# x is a generator object\n",
    "x = simpleGeneratorFun()\n",
    "  \n",
    "# Iterating over the generator object using next\n",
    "print(next(x)) \n",
    "print(next(x))"
   ]
  },
  {
   "cell_type": "code",
   "execution_count": 17,
   "id": "25ee0465",
   "metadata": {},
   "outputs": [
    {
     "name": "stdout",
     "output_type": "stream",
     "text": [
      "2 3 4 5 6 7 8 "
     ]
    }
   ],
   "source": [
    "def mygen(n,m):    # genator name is mygen\n",
    "    while(n<=m):\n",
    "        yield n   #  returning the n value\n",
    "        n+=1      #increasing the n value\n",
    "g=mygen(2,8)      # fill the generator object with 2 and  8\n",
    "\n",
    "#print(list(g))\n",
    "\n",
    "for i in g:\n",
    "     print(i,end=\" \")\n"
   ]
  },
  {
   "cell_type": "code",
   "execution_count": 18,
   "id": "397fc7f9",
   "metadata": {},
   "outputs": [
    {
     "name": "stdout",
     "output_type": "stream",
     "text": [
      "1\n",
      "2\n",
      "3\n"
     ]
    },
    {
     "ename": "StopIteration",
     "evalue": "",
     "output_type": "error",
     "traceback": [
      "\u001b[1;31m---------------------------------------------------------------------------\u001b[0m",
      "\u001b[1;31mStopIteration\u001b[0m                             Traceback (most recent call last)",
      "\u001b[1;32mC:\\Users\\SHAILA~1\\AppData\\Local\\Temp/ipykernel_1624/1069969274.py\u001b[0m in \u001b[0;36m<module>\u001b[1;34m\u001b[0m\n\u001b[0;32m      8\u001b[0m \u001b[0mprint\u001b[0m\u001b[1;33m(\u001b[0m\u001b[0mnext\u001b[0m\u001b[1;33m(\u001b[0m\u001b[0mg\u001b[0m\u001b[1;33m)\u001b[0m\u001b[1;33m)\u001b[0m\u001b[1;33m\u001b[0m\u001b[1;33m\u001b[0m\u001b[0m\n\u001b[0;32m      9\u001b[0m \u001b[0mprint\u001b[0m\u001b[1;33m(\u001b[0m\u001b[0mnext\u001b[0m\u001b[1;33m(\u001b[0m\u001b[0mg\u001b[0m\u001b[1;33m)\u001b[0m\u001b[1;33m)\u001b[0m\u001b[1;33m\u001b[0m\u001b[1;33m\u001b[0m\u001b[0m\n\u001b[1;32m---> 10\u001b[1;33m \u001b[0mprint\u001b[0m\u001b[1;33m(\u001b[0m\u001b[0mnext\u001b[0m\u001b[1;33m(\u001b[0m\u001b[0mg\u001b[0m\u001b[1;33m)\u001b[0m\u001b[1;33m)\u001b[0m  \u001b[1;31m#error\u001b[0m\u001b[1;33m\u001b[0m\u001b[1;33m\u001b[0m\u001b[0m\n\u001b[0m",
      "\u001b[1;31mStopIteration\u001b[0m: "
     ]
    }
   ],
   "source": [
    "def mygen():\n",
    "    yield 1\n",
    "    yield 2\n",
    "    yield 3\n",
    "    \n",
    "g=mygen()\n",
    "print(next(g))\n",
    "print(next(g))\n",
    "print(next(g))\n",
    "print(next(g))  #error\n"
   ]
  },
  {
   "cell_type": "code",
   "execution_count": 19,
   "id": "1a2b168f",
   "metadata": {},
   "outputs": [
    {
     "name": "stdout",
     "output_type": "stream",
     "text": [
      "1\n",
      "2\n",
      "3\n"
     ]
    }
   ],
   "source": [
    "def f():\n",
    "    yield 1\n",
    "    yield 2\n",
    "    yield 3\n",
    "for i in f():\n",
    "    print(i)\n",
    "    "
   ]
  },
  {
   "cell_type": "code",
   "execution_count": 82,
   "id": "066efa3e",
   "metadata": {},
   "outputs": [
    {
     "name": "stdout",
     "output_type": "stream",
     "text": [
      "10\n",
      "20\n",
      "30\n",
      "1\n"
     ]
    }
   ],
   "source": [
    "def function(x,y,z):\n",
    "    yield x\n",
    "    yield y\n",
    "    yield z\n",
    "\n",
    "for i in function(10,20,30):\n",
    "    print(i)\n",
    "f=function(1,2,3)\n",
    "print(next(f))"
   ]
  },
  {
   "cell_type": "code",
   "execution_count": 9,
   "id": "f7054096",
   "metadata": {},
   "outputs": [
    {
     "name": "stdout",
     "output_type": "stream",
     "text": [
      "12\n",
      "23\n",
      "12\n",
      "23\n"
     ]
    },
    {
     "ename": "StopIteration",
     "evalue": "",
     "output_type": "error",
     "traceback": [
      "\u001b[1;31m---------------------------------------------------------------------------\u001b[0m",
      "\u001b[1;31mStopIteration\u001b[0m                             Traceback (most recent call last)",
      "\u001b[1;32mC:\\Users\\SHAILA~1\\AppData\\Local\\Temp/ipykernel_6720/249095301.py\u001b[0m in \u001b[0;36m<module>\u001b[1;34m\u001b[0m\n\u001b[0;32m      9\u001b[0m \u001b[0mprint\u001b[0m\u001b[1;33m(\u001b[0m\u001b[0mnext\u001b[0m\u001b[1;33m(\u001b[0m\u001b[0mf\u001b[0m\u001b[1;33m)\u001b[0m\u001b[1;33m)\u001b[0m\u001b[1;33m\u001b[0m\u001b[1;33m\u001b[0m\u001b[0m\n\u001b[0;32m     10\u001b[0m \u001b[0mprint\u001b[0m\u001b[1;33m(\u001b[0m\u001b[0mnext\u001b[0m\u001b[1;33m(\u001b[0m\u001b[0mf\u001b[0m\u001b[1;33m)\u001b[0m\u001b[1;33m)\u001b[0m\u001b[1;33m\u001b[0m\u001b[1;33m\u001b[0m\u001b[0m\n\u001b[1;32m---> 11\u001b[1;33m \u001b[0mprint\u001b[0m\u001b[1;33m(\u001b[0m\u001b[0mnext\u001b[0m\u001b[1;33m(\u001b[0m\u001b[0mf\u001b[0m\u001b[1;33m)\u001b[0m\u001b[1;33m)\u001b[0m\u001b[1;33m\u001b[0m\u001b[1;33m\u001b[0m\u001b[0m\n\u001b[0m",
      "\u001b[1;31mStopIteration\u001b[0m: "
     ]
    }
   ],
   "source": [
    "def f():\n",
    "    yield 12\n",
    "    yield 23\n",
    "    \n",
    "for i in f():\n",
    "    print(i)\n",
    "    \n",
    "f=f()\n",
    "print(next(f))\n",
    "print(next(f))\n",
    "print(next(f))"
   ]
  },
  {
   "cell_type": "markdown",
   "id": "315500f9",
   "metadata": {},
   "source": [
    "# Generator Expressions\n"
   ]
  },
  {
   "cell_type": "code",
   "execution_count": 5,
   "id": "785d4980",
   "metadata": {},
   "outputs": [
    {
     "name": "stdout",
     "output_type": "stream",
     "text": [
      "[1, 9, 36, 100]\n",
      "<generator object <genexpr> at 0x0000002BD71D0660>\n",
      "1\n",
      "9\n",
      "36\n",
      "100\n"
     ]
    }
   ],
   "source": [
    "# Initialize the list\n",
    "my_list = [1, 3, 6, 10]\n",
    "\n",
    "# square each term using list comprehension\n",
    "list_ = [x**2 for x in my_list]\n",
    "\n",
    "# same thing can be done using a generator expression\n",
    "# generator expressions are surrounded by parenthesis ()\n",
    "generator = (x**2 for x in my_list)\n",
    "\n",
    "print(list_)\n",
    "print(generator)\n",
    "print(next(generator))\n",
    "print(next(generator))\n",
    "print(next(generator))\n",
    "print(next(generator))"
   ]
  },
  {
   "cell_type": "markdown",
   "id": "b1e46dbf",
   "metadata": {},
   "source": [
    "# Function Decorators"
   ]
  },
  {
   "cell_type": "raw",
   "id": "c113cc63",
   "metadata": {},
   "source": [
    "1) A decoratore is a function that takes the function as a parameter and it returns a function.\n",
    "2) A decorator takes the result of the function , modify it and return it."
   ]
  },
  {
   "cell_type": "code",
   "execution_count": 3,
   "id": "de93d505",
   "metadata": {},
   "outputs": [
    {
     "data": {
      "text/plain": [
       "12"
      ]
     },
     "execution_count": 3,
     "metadata": {},
     "output_type": "execute_result"
    }
   ],
   "source": [
    "def decor(f):     # This is the decorator function\n",
    "    def inner():  # this is the inner function that modifies\n",
    "        value=f()\n",
    "        return value+2\n",
    "    return inner  # return the inner function\n",
    "\n",
    "def num():\n",
    "    return 10\n",
    "\n",
    "num = decor(num)\n",
    "num()"
   ]
  },
  {
   "cell_type": "code",
   "execution_count": 21,
   "id": "4369a3ab",
   "metadata": {},
   "outputs": [
    {
     "name": "stdout",
     "output_type": "stream",
     "text": [
      "14\n"
     ]
    }
   ],
   "source": [
    "# A decorator that increaments the value of the function by 2\n",
    "def decor(f):     # This is the decorator function\n",
    "    def inner():  # this is the inner function that modifies\n",
    "        value=f()\n",
    "        return value+2\n",
    "    return inner  # return the inner function\n",
    "\n",
    "# Take a function to which decorators should be applied\n",
    "\n",
    "@decor\n",
    "def num(): # Apply decor to the below function\n",
    "    return 12\n",
    "\n",
    "#call num() function and display its result\n",
    "print(num())"
   ]
  },
  {
   "cell_type": "code",
   "execution_count": 22,
   "id": "51471b65",
   "metadata": {},
   "outputs": [
    {
     "name": "stdout",
     "output_type": "stream",
     "text": [
      "18\n"
     ]
    }
   ],
   "source": [
    "# A decorator that increaments the value of the function by 2\n",
    "def decor(f):     # This is the decorator function\n",
    "    def inner():  # this is the inner function that modifies\n",
    "        value=f()\n",
    "        return value+2\n",
    "    return inner  # return the inner function\n",
    "\n",
    "# Take a function to which decorators should be applied\n",
    "\n",
    "\n",
    "@decor\n",
    "@decor\n",
    "@decor\n",
    "def num(): # Apply decor to the below function\n",
    "    return 12\n",
    "\n",
    "#call num() function and display its result\n",
    "print(num())"
   ]
  },
  {
   "cell_type": "code",
   "execution_count": 28,
   "id": "91bf94dc",
   "metadata": {},
   "outputs": [
    {
     "name": "stdout",
     "output_type": "stream",
     "text": [
      "22\n"
     ]
    }
   ],
   "source": [
    "# A decorator that increaments the value of the function by 2\n",
    "def decor(f):     # This is the decorator function\n",
    "    def inner():  # this is the inner function that modifies\n",
    "        value=f()\n",
    "        return value+2\n",
    "    return inner  # return the inner function\n",
    "\n",
    "def decor1(f):     # This is the decorator function\n",
    "    def inner():  # this is the inner function that modifies\n",
    "        value=f()\n",
    "        return value*2\n",
    "    return inner  # return the inner function\n",
    "\n",
    "\n",
    "# Take a function to which decorators should be applied\n",
    "@decor\n",
    "@decor1\n",
    "def num():\n",
    "    return 10\n",
    "\n",
    "print(num())"
   ]
  },
  {
   "cell_type": "code",
   "execution_count": 57,
   "id": "d9a50fd2",
   "metadata": {},
   "outputs": [
    {
     "name": "stdout",
     "output_type": "stream",
     "text": [
      "None\n"
     ]
    }
   ],
   "source": [
    "a=10\n",
    "\n",
    "def f():\n",
    "    a=20 \n",
    "    return\n",
    "\n",
    "print(f())     "
   ]
  },
  {
   "cell_type": "code",
   "execution_count": 1,
   "id": "ebb74f1f",
   "metadata": {},
   "outputs": [
    {
     "name": "stdout",
     "output_type": "stream",
     "text": [
      "60\n"
     ]
    }
   ],
   "source": [
    "x=10\n",
    "def f(num):\n",
    "    x=5\n",
    "    for i in num:\n",
    "        x*=i\n",
    "    return x\n",
    "print(f((-2,-1,1,2,3)))"
   ]
  },
  {
   "cell_type": "code",
   "execution_count": null,
   "id": "21319557",
   "metadata": {},
   "outputs": [],
   "source": []
  }
 ],
 "metadata": {
  "kernelspec": {
   "display_name": "Python 3 (ipykernel)",
   "language": "python",
   "name": "python3"
  },
  "language_info": {
   "codemirror_mode": {
    "name": "ipython",
    "version": 3
   },
   "file_extension": ".py",
   "mimetype": "text/x-python",
   "name": "python",
   "nbconvert_exporter": "python",
   "pygments_lexer": "ipython3",
   "version": "3.9.7"
  }
 },
 "nbformat": 4,
 "nbformat_minor": 5
}
