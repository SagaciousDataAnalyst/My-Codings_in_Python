{
 "cells": [
  {
   "cell_type": "markdown",
   "id": "a17e85da",
   "metadata": {},
   "source": [
    ">>> # Underscose"
   ]
  },
  {
   "cell_type": "markdown",
   "id": "115443c8",
   "metadata": {},
   "source": [
    "# 1.Single Underscore"
   ]
  },
  {
   "cell_type": "code",
   "execution_count": 15,
   "id": "76298f56",
   "metadata": {},
   "outputs": [
    {
     "data": {
      "text/plain": [
       "200"
      ]
     },
     "execution_count": 15,
     "metadata": {},
     "output_type": "execute_result"
    }
   ],
   "source": [
    "# If the user wants to store the value of last expression in the interpreter.\n",
    "a=10\n",
    "b=20\n",
    "a*b\n",
    "# if we say \"_\", its going to print the recently executed statement result\n",
    "_"
   ]
  },
  {
   "cell_type": "markdown",
   "id": "395a75ca",
   "metadata": {},
   "source": [
    "### to ignoring the value\n",
    "    Underscore() is also used to ignore the values. If you don't want to use specific values while unpacking, just assign that value to underscore().\n",
    "\n",
    "    Ignoring means assigning the values to special variable underscore(). We're assigning the values to underscore() given not using that in future code"
   ]
  },
  {
   "cell_type": "code",
   "execution_count": 40,
   "id": "62af09da",
   "metadata": {},
   "outputs": [
    {
     "name": "stdout",
     "output_type": "stream",
     "text": [
      "1 3\n",
      "7 1\n"
     ]
    }
   ],
   "source": [
    "## ignoring a value\n",
    "a, _, b = 1, 2, 3 # a = 1, b = 3\n",
    "print(a, b)\n",
    "\n",
    "## ignoring multiple values\n",
    "## *(variable) used to assign multiple value to a variable as list while unpacking\n",
    "## it's called \"Extended Unpacking\", only available in Python 3.x\n",
    "a,*_, b = (7, 6, 5, 4, 3, 2, 1)\n",
    "print(a, b)"
   ]
  },
  {
   "cell_type": "code",
   "execution_count": 18,
   "id": "59f70077",
   "metadata": {},
   "outputs": [
    {
     "name": "stdout",
     "output_type": "stream",
     "text": [
      "0\n",
      "1\n",
      "2\n",
      "3\n",
      "4\n",
      "5\n",
      "6\n",
      "7\n",
      "8\n",
      "9\n"
     ]
    }
   ],
   "source": [
    "\n",
    "# Ignore a value of specific location/index\n",
    "for _ in range(10):\n",
    "    print ()\n",
    "    \n",
    "# Ignore a value when unpacking\n",
    "#a,b,_,_ = my_method(var1)"
   ]
  },
  {
   "cell_type": "markdown",
   "id": "6b4f72e1",
   "metadata": {},
   "source": [
    "### Separating Digits Of Numbers\n",
    "If you have a long digits number, you can separate the group of digits as you like for better understanding."
   ]
  },
  {
   "cell_type": "code",
   "execution_count": 43,
   "id": "38219b0f",
   "metadata": {},
   "outputs": [
    {
     "name": "stdout",
     "output_type": "stream",
     "text": [
      "2\n",
      "52\n",
      "9131\n"
     ]
    }
   ],
   "source": [
    "# you can also use underscore(_) to separate the binary, octal or hex parts of numbers.\n",
    "\n",
    "\n",
    "binary = 0b_0010\n",
    "octa = 0o_64\n",
    "hexa = 0x_23_ab\n",
    "\n",
    "print(binary)\n",
    "print(octa)\n",
    "print(hexa)"
   ]
  },
  {
   "cell_type": "code",
   "execution_count": 42,
   "id": "04b5d154",
   "metadata": {},
   "outputs": [
    {
     "name": "stdout",
     "output_type": "stream",
     "text": [
      "900000000.0\n",
      "7498\n"
     ]
    }
   ],
   "source": [
    "\n",
    "# grouping decimal for easy readability of long literals\n",
    "amount = 900_000_000.0 \n",
    "print(amount)\n",
    " \n",
    "# grouping bits  for easy readability of long literals\n",
    "flags = 0b_0001_1101_0100_1010\n",
    "print(flags)"
   ]
  },
  {
   "cell_type": "markdown",
   "id": "c5d0d90e",
   "metadata": {},
   "source": [
    "### Using in the loop\n",
    "you can use underscore as a variable in loops"
   ]
  },
  {
   "cell_type": "code",
   "execution_count": 41,
   "id": "d91f8159",
   "metadata": {
    "scrolled": true
   },
   "outputs": [
    {
     "name": "stdout",
     "output_type": "stream",
     "text": [
      "for loop by using underscore as a variable\n",
      "0\n",
      "1\n",
      "2\n",
      "3\n",
      "4\n",
      "while loop by using underscore as a variable\n",
      "4\n",
      "5\n",
      "6\n",
      "7\n",
      "8\n",
      "9\n",
      "other example: \n",
      "hi\n",
      "hello\n",
      "how are you?\n"
     ]
    }
   ],
   "source": [
    "# for loop\n",
    "print(\"for loop by using underscore as a variable\")\n",
    "for _ in range(5):\n",
    "    print(_)\n",
    "    \n",
    "print(\"while loop by using underscore as a variable\")\n",
    "    \n",
    "while(_<10):\n",
    "    print(_)\n",
    "    _+=1\n",
    "    \n",
    "print(\"other example: \")\n",
    "for _ in [\"hi\",\"hello\",\"how are you?\"]:\n",
    "    print(_)\n"
   ]
  },
  {
   "cell_type": "markdown",
   "id": "390e26f1",
   "metadata": {},
   "source": [
    "> ## Single Trailing Underscore"
   ]
  },
  {
   "cell_type": "markdown",
   "id": "822e0aad",
   "metadata": {},
   "source": [
    "### Python has theirs by default keywords which we can not use as the variable name. To avoid such conflict between python keyword and variable we use underscore after the name "
   ]
  },
  {
   "cell_type": "code",
   "execution_count": 28,
   "id": "3e82bea2",
   "metadata": {},
   "outputs": [
    {
     "name": "stdout",
     "output_type": "stream",
     "text": [
      "Student name is :  Isha\n",
      "Student id is :  1729\n"
     ]
    }
   ],
   "source": [
    "# Defining a function\n",
    "class Person:   \n",
    "    \n",
    "    # Constructor\n",
    "    def __init__(self,name,id_):  # Here id is the keyword, but defining it like \"id_\" we can us it as a keyword\n",
    "        \n",
    "        # Defining a instance variables\n",
    "        self.name=name\n",
    "        self.id_=id_\n",
    "    \n",
    "    # Defining a instance method to access the instance variables\n",
    "    def display(self):\n",
    "        print(\"Student name is : \",self.name)\n",
    "        print(\"Student id is : \",self.id_)\n",
    "        \n",
    "\n",
    "# Creating the instance to access the instance methods\n",
    "p=Person(\"Isha\",1729)  \n",
    "\n",
    "# Calling the instance method to display the details\n",
    "p.display()    \n",
    "              \n",
    "\n",
    "        "
   ]
  },
  {
   "cell_type": "markdown",
   "id": "d9616077",
   "metadata": {},
   "source": [
    "> ## Single Leading Underscore"
   ]
  },
  {
   "cell_type": "markdown",
   "id": "fb8c369c",
   "metadata": {},
   "source": [
    "### Leading Underscore before variable /function /method name indicates to the programmer that It is for internal use only, that can be modified whenever the class wants."
   ]
  },
  {
   "cell_type": "code",
   "execution_count": 31,
   "id": "62009cba",
   "metadata": {},
   "outputs": [
    {
     "name": "stdout",
     "output_type": "stream",
     "text": [
      "10\n",
      "20\n"
     ]
    }
   ],
   "source": [
    "# Defining a class\n",
    "class Myclass:\n",
    "    \n",
    "    # Defining the constructor\n",
    "    def __init__(self):\n",
    "        \n",
    "        # Defining the instance variables\n",
    "        self.value1=10\n",
    "        self._value2=20\n",
    "\n",
    "# Defining the object for the class        \n",
    "m=Myclass()\n",
    "print(m.value1)\n",
    "print(m._value2)\n"
   ]
  },
  {
   "cell_type": "markdown",
   "id": "b8e6e8ec",
   "metadata": {},
   "source": [
    "# 1.Dobble Underscore"
   ]
  },
  {
   "cell_type": "markdown",
   "id": "cba828fe",
   "metadata": {},
   "source": [
    "> ## Dobble Leading Underscore\n",
    "    The leading double underscore tells the Python interpreter to rewrite the name in order to avoid conflict in a subclass. Interpreter changes variable name with class extension and that feature known as the Mangling. \n",
    "    The Python interpreter modifies the variable name with ___. So Multiple times It uses as a Private member because another class can not access that variable directly. The main purpose for __ is to use variable /method in class only If you want to use it outside of the class you can make it public."
   ]
  },
  {
   "cell_type": "code",
   "execution_count": 48,
   "id": "6c7e6305",
   "metadata": {},
   "outputs": [
    {
     "name": "stdout",
     "output_type": "stream",
     "text": [
      "Programming name is : Python\n",
      "Programming version : 3.7\n"
     ]
    },
    {
     "ename": "AttributeError",
     "evalue": "'Programming' object has no attribute '__version'",
     "output_type": "error",
     "traceback": [
      "\u001b[1;31m---------------------------------------------------------------------------\u001b[0m",
      "\u001b[1;31mAttributeError\u001b[0m                            Traceback (most recent call last)",
      "Input \u001b[1;32mIn [48]\u001b[0m, in \u001b[0;36m<cell line: 23>\u001b[1;34m()\u001b[0m\n\u001b[0;32m     20\u001b[0m p\u001b[38;5;241m.\u001b[39mdisplay()\n\u001b[0;32m     22\u001b[0m \u001b[38;5;66;03m# Accessing the private variable\u001b[39;00m\n\u001b[1;32m---> 23\u001b[0m \u001b[38;5;28mprint\u001b[39m(\u001b[43mp\u001b[49m\u001b[38;5;241;43m.\u001b[39;49m\u001b[43m__version\u001b[49m)\n",
      "\u001b[1;31mAttributeError\u001b[0m: 'Programming' object has no attribute '__version'"
     ]
    }
   ],
   "source": [
    "# Defining the class\n",
    "class Programming:\n",
    "    \n",
    "    # Defining the Constructor\n",
    "    def __init__(self,name,version):\n",
    "        \n",
    "        # Defining the instance variables\n",
    "        self.name=name\n",
    "        self.__version=version    # Defining the private variable\n",
    "    \n",
    "    # Defining instance method\n",
    "    def display(self):\n",
    "        print(\"Programming name is : {}\".format(self.name))\n",
    "        print(\"Programming version : {}\".format(self.__version))\n",
    "\n",
    "# Creating the object to the class\n",
    "p=Programming(\"Python\",3.7)\n",
    "\n",
    "# Calling the instance method\n",
    "p.display()\n",
    "\n",
    "# Accessing the private variable\n",
    "print(p.__version)  # Raise an error, because we can not access private variable "
   ]
  },
  {
   "cell_type": "markdown",
   "id": "3d203c6f",
   "metadata": {},
   "source": [
    "> ## Double underscore before and after a name\n",
    "    The name starts with __ and ends with the same considering special methods in Python. Python provides these methods to use as the operator overloading depending on the user. Python provides this convention to differentiate between the user-defined function with the module’s function"
   ]
  },
  {
   "cell_type": "code",
   "execution_count": 50,
   "id": "0cd25cff",
   "metadata": {},
   "outputs": [
    {
     "name": "stdout",
     "output_type": "stream",
     "text": [
      "This is the special method called 'constructor'\n"
     ]
    },
    {
     "data": {
      "text/plain": [
       "<__main__.Myclass at 0x1e304bfbdc0>"
      ]
     },
     "execution_count": 50,
     "metadata": {},
     "output_type": "execute_result"
    }
   ],
   "source": [
    "class Myclass:\n",
    "    \n",
    "    # Constructor\n",
    "    def __init__(self):     \n",
    "        print(\"This is the special method called 'constructor'\")\n",
    "        \n",
    "Myclass()"
   ]
  },
  {
   "cell_type": "code",
   "execution_count": null,
   "id": "659f2206",
   "metadata": {},
   "outputs": [],
   "source": []
  }
 ],
 "metadata": {
  "kernelspec": {
   "display_name": "Python 3 (ipykernel)",
   "language": "python",
   "name": "python3"
  },
  "language_info": {
   "codemirror_mode": {
    "name": "ipython",
    "version": 3
   },
   "file_extension": ".py",
   "mimetype": "text/x-python",
   "name": "python",
   "nbconvert_exporter": "python",
   "pygments_lexer": "ipython3",
   "version": "3.9.12"
  }
 },
 "nbformat": 4,
 "nbformat_minor": 5
}
