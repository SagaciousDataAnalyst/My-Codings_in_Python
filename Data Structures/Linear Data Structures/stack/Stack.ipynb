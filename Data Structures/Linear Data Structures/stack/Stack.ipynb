{
 "cells": [
  {
   "cell_type": "markdown",
   "id": "e2fc81b8",
   "metadata": {},
   "source": [
    "> # Stacks\n",
    "\n",
    "A stack represents a group of elements stored in LIFO (Last In First Out) order. This means that the element which is stored as a last element into the stack will be the first element to be removed from the stack. Inserting elements (objects) into stack is called push operation and removing elements from stack is called 'pop operation. Searching for an element and returning it without removing it from the stack is called 'peep operation\". Insertion and deletion of elements take place only from one side of the stack, called top' of the stack. The other side of the stack is called \"bottom\" of the stack which is closed and thus does not allow any operations.\n",
    "![](stack_1.png)"
   ]
  },
  {
   "cell_type": "markdown",
   "id": "650d0e81",
   "metadata": {},
   "source": [
    "\n",
    "Stacks must strictly follow LIFO order where the last element pushed on to the top of the stack should be popped first. Let's take a hotel where a pile of plates are made available to the customers in a counter. These plates are accessible in such a way that the last washed plate will be available to the first customer. If the customer takes the top plate (the 3rd plate) from the pile, the weight on the spring will be lessened and the next plate (2nd one) will come up.If the elements are stored in memory in this model, then it is called a stack.\n",
    "\n",
    "Similarly, a Compact Disk holder where the CDs are arranged such that the last CD is available first is also an example of a stack. If the elements are arranged in memory as CDs are in the holder, it is called a stack."
   ]
  },
  {
   "cell_type": "markdown",
   "id": "bd9a6c25",
   "metadata": {},
   "source": [
    "A stack is internally used by the operating system to save the program execution environment. It means that when the program is running, the state of the variables and information about the execution status are stored in a stack. Another use of stack is in expression evaluation. While evaluating expressions like ax + by * 5, they are converted into postfix or prefix notations using a stack and stored into the stack. Later, they are retrieved from the stack and evaluated according to certain rules.\n",
    "\n",
    "Python provides list data types that can be used to create stacks. We should first create a Stack class with the following general operations:\n",
    "\n",
    "### Push operation:-\n",
    "    It means inserting element at the top of the stack. This can be done with the help of append() method of the list.\n",
    "### Pop operation:- \n",
    "    It means removing the topmost element from the stack. This can be performed using pop() method of the list. This method returns the removed element that can be displayed.\n",
    "### Peep operation:- \n",
    "    It means returning the topmost element without deleting it from the stack. Peep is also known as 'peek' operation. This is done by returning stack[n-1] element where 'n' is the number of elements (or size) of the stack. So, if the stack has 5 elements, the topmost element position will be 4 since the elements are referred from Oth to 4th positions.\n",
    "### Searching operation:- \n",
    "    It means knowing the position of an element in the stack from the top of the stack. For this purpose, the list's index() method can be used as: stack.index(element) which returns the position number 'n' of the element from the beginning (or bottom) of the stack. Once this is known, we can get its position from the top of the stack as: size of the stack - n.\n",
    "### Empty stack or not:- \n",
    "    This can be judged by simply testing whether the list 'stack' is empty or not. We can use an expression as: 'return stack == []' that returns True if 'staack' is empty else False.\n"
   ]
  },
  {
   "cell_type": "code",
   "execution_count": 4,
   "id": "f5476231",
   "metadata": {},
   "outputs": [
    {
     "name": "stdout",
     "output_type": "stream",
     "text": [
      "<class '__main__.Stack'>\n",
      "2097317623568\n"
     ]
    }
   ],
   "source": [
    "class Stack: \n",
    "    def _init__(self): \n",
    "        self.st = []\n",
    "\n",
    "    def isempty(self): \n",
    "        return self.st == []\n",
    "    \n",
    "    def push (self, element): \n",
    "        self.st.append(element)\n",
    "        \n",
    "    def pop(self): \n",
    "        if self.isempty(): \n",
    "            return -1\n",
    "        else:\n",
    "            return self.st.pop()\n",
    "        \n",
    "    def peep(self): \n",
    "        n = Ten(self.st) \n",
    "        return self.st [n-1]\n",
    "    \n",
    "    def search (self, element): \n",
    "        if self.isempty(): \n",
    "            return -1\n",
    "        else:\n",
    "            try:\n",
    "                n = self.st.index (element) \n",
    "                return len(self.st)-n \n",
    "            except valueError: \n",
    "                return -2\n",
    "            \n",
    "    def display(self): \n",
    "        return self.st\n",
    "    \n",
    "print(Stack)\n",
    "print(id(Stack))"
   ]
  },
  {
   "cell_type": "code",
   "execution_count": 8,
   "id": "4694f909",
   "metadata": {},
   "outputs": [
    {
     "name": "stdout",
     "output_type": "stream",
     "text": [
      "Tue\n",
      "Thu\n"
     ]
    }
   ],
   "source": [
    "#PUSH into a Stack\n",
    "class Stack:\n",
    "    def __init__(self):\n",
    "        self.stack = []\n",
    "\n",
    "    def add(self, dataval):\n",
    "# Use list append method to add element\n",
    "        if dataval not in self.stack:\n",
    "            self.stack.append(dataval)\n",
    "            return True\n",
    "        else:\n",
    "            return False\n",
    "# Use peek to look at the top of the stack\n",
    "    def peek(self):     \n",
    "\t    return self.stack[-1]\n",
    "\n",
    "AStack = Stack()\n",
    "AStack.add(\"Mon\")\n",
    "AStack.add(\"Tue\")\n",
    "AStack.peek()\n",
    "print(AStack.peek())\n",
    "AStack.add(\"Wed\")\n",
    "AStack.add(\"Thu\")\n",
    "print(AStack.peek())\n"
   ]
  },
  {
   "cell_type": "code",
   "execution_count": null,
   "id": "c5772c43",
   "metadata": {},
   "outputs": [],
   "source": [
    "#POP from a Stack\n",
    "class Stack:\n",
    "    def __init__(self):\n",
    "        self.stack = []\n",
    "\n",
    "    def add(self, dataval):\n",
    "# Use list append method to add element\n",
    "        if dataval not in self.stack:\n",
    "            self.stack.append(dataval)\n",
    "            return True\n",
    "        else:\n",
    "            return False\n",
    "        \n",
    "# Use list pop method to remove element\n",
    "    def remove(self):\n",
    "        if len(self.stack) <= 0:\n",
    "            return (\"No element in the Stack\")\n",
    "        else:\n",
    "            return self.stack.pop()\n",
    "   \n",
    "AStack = Stack()\n",
    "AStack.add(\"Mon\")\n",
    "AStack.add(\"Tue\")\n",
    "AStack.add(\"Wed\")\n",
    "AStack.add(\"Thu\")\n",
    "\n",
    "print(AStack.remove())\n",
    "print(AStack.remove())\n"
   ]
  },
  {
   "cell_type": "code",
   "execution_count": 1,
   "id": "5d675b86",
   "metadata": {},
   "outputs": [
    {
     "name": "stdout",
     "output_type": "stream",
     "text": [
      "[10]\n"
     ]
    }
   ],
   "source": [
    "\n",
    "#STACK\n",
    "\n",
    "stack=[]\n",
    "stack.append(10)\n",
    "print(stack)"
   ]
  },
  {
   "cell_type": "code",
   "execution_count": 2,
   "id": "7d095dfb",
   "metadata": {},
   "outputs": [
    {
     "name": "stdout",
     "output_type": "stream",
     "text": [
      "[10, 20, 30, 40]\n"
     ]
    }
   ],
   "source": [
    "#add\n",
    "\n",
    "stack=[]\n",
    "stack.append(10)\n",
    "stack.append(20)\n",
    "stack.append(30)\n",
    "stack.append(40)\n",
    "print(stack)"
   ]
  },
  {
   "cell_type": "code",
   "execution_count": 3,
   "id": "85cd841e",
   "metadata": {},
   "outputs": [
    {
     "name": "stdout",
     "output_type": "stream",
     "text": [
      "[10, 20, 30, 40]\n",
      "40\n",
      "30\n",
      "[10, 20]\n"
     ]
    }
   ],
   "source": [
    "#PUSH AND POP\n",
    "stack=[]\n",
    "stack.append(10)\n",
    "stack.append(20)\n",
    "stack.append(30)\n",
    "stack.append(40)\n",
    "print(stack)\n",
    "e=stack.pop()\n",
    "e1=stack.pop()\n",
    "\n",
    "print(e)\n",
    "print(e1)\n",
    "print(stack)"
   ]
  },
  {
   "cell_type": "code",
   "execution_count": 4,
   "id": "7483e9db",
   "metadata": {},
   "outputs": [
    {
     "name": "stdout",
     "output_type": "stream",
     "text": [
      "select the operation 1.push,2.pop,3.quit\n",
      "\n",
      "56\n",
      "enter the correct operation\n",
      "\n",
      "select the operation 1.push,2.pop,3.quit\n",
      "\n",
      "1\n",
      "enterthe element to push67\n",
      "['67']\n",
      "select the operation 1.push,2.pop,3.quit\n",
      "\n",
      "3\n"
     ]
    }
   ],
   "source": [
    "#EXAMPLE\n",
    "\n",
    "stack=[]\n",
    "def push():\n",
    "    element=input (\"enterthe element to push\")\n",
    "    stack.append(element)\n",
    "    print(stack)\n",
    "def pop():\n",
    "    if not stack:\n",
    "        print(\"stack is empty\")\n",
    "    else:\n",
    "        e=stack.pop()\n",
    "        print(\"removed element:\",e)\n",
    "        print(stack)\n",
    "while True:\n",
    "    print(\"select the operation 1.push,2.pop,3.quit\\n\")\n",
    "    choice=int(input())\n",
    "    if choice==1:\n",
    "        push()\n",
    "    elif choice==2:\n",
    "        pop()\n",
    "    elif choice==3:\n",
    "        break\n",
    "    else:\n",
    "        print(\"enter the correct operation\\n\")"
   ]
  },
  {
   "cell_type": "code",
   "execution_count": null,
   "id": "6bdb55f2",
   "metadata": {},
   "outputs": [],
   "source": []
  }
 ],
 "metadata": {
  "kernelspec": {
   "display_name": "Python 3 (ipykernel)",
   "language": "python",
   "name": "python3"
  },
  "language_info": {
   "codemirror_mode": {
    "name": "ipython",
    "version": 3
   },
   "file_extension": ".py",
   "mimetype": "text/x-python",
   "name": "python",
   "nbconvert_exporter": "python",
   "pygments_lexer": "ipython3",
   "version": "3.9.12"
  }
 },
 "nbformat": 4,
 "nbformat_minor": 5
}
