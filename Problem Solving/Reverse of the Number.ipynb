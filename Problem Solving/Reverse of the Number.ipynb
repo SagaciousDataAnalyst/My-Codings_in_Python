{
 "cells": [
  {
   "cell_type": "code",
   "execution_count": null,
   "id": "351d6733",
   "metadata": {},
   "outputs": [],
   "source": [
    "def revere(number):\n",
    "    rev = 0\n",
    "    while(number!=0):\n",
    "        digit = number%10\n",
    "        rev = (rev*10)+digit\n",
    "        number = number//10\n",
    "    print(rev)\n",
    "revere(1729)\n",
    "\n",
    "def reverse(number):\n",
    "    print(str(number)[::-1])\n",
    "reverse(1729)\n"
   ]
  }
 ],
 "metadata": {
  "kernelspec": {
   "display_name": "Python 3 (ipykernel)",
   "language": "python",
   "name": "python3"
  },
  "language_info": {
   "codemirror_mode": {
    "name": "ipython",
    "version": 3
   },
   "file_extension": ".py",
   "mimetype": "text/x-python",
   "name": "python",
   "nbconvert_exporter": "python",
   "pygments_lexer": "ipython3",
   "version": "3.9.7"
  }
 },
 "nbformat": 4,
 "nbformat_minor": 5
}
