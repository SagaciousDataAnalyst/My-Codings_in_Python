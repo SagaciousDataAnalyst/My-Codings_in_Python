{
 "cells": [
  {
   "cell_type": "markdown",
   "id": "2de7e0e3",
   "metadata": {},
   "source": [
    "# Write a program to reverse an integer in Python"
   ]
  },
  {
   "cell_type": "code",
   "execution_count": 3,
   "id": "af20add2",
   "metadata": {},
   "outputs": [
    {
     "data": {
      "text/plain": [
       "'Actuall number is 1729 and reverse of the number is 9271'"
      ]
     },
     "execution_count": 3,
     "metadata": {},
     "output_type": "execute_result"
    }
   ],
   "source": [
    "def reverse_of_number(n): # defining the function\n",
    "    original=n # coping the original number\n",
    "    reverse=0\n",
    "    while(n>0):\n",
    "        reverse=reverse*10+n%10 \n",
    "        n=n//10\n",
    "    return \"Actuall number is {} and reverse of the number is {}\".format(original,reverse)\n",
    "\n",
    "reverse_of_number(1729)        "
   ]
  },
  {
   "cell_type": "code",
   "execution_count": 4,
   "id": "d73d46f1",
   "metadata": {},
   "outputs": [
    {
     "data": {
      "text/plain": [
       "'Revese of the given numver 1729 is 9271'"
      ]
     },
     "execution_count": 4,
     "metadata": {},
     "output_type": "execute_result"
    }
   ],
   "source": [
    "# Reverse of a number by using the slice operator\n",
    "\n",
    "def my_function(n):\n",
    "    return \"Revese of the given numver {} is {}\".format(n,str(n)[::-1])\n",
    "my_function(1729)"
   ]
  }
 ],
 "metadata": {
  "kernelspec": {
   "display_name": "Python 3 (ipykernel)",
   "language": "python",
   "name": "python3"
  },
  "language_info": {
   "codemirror_mode": {
    "name": "ipython",
    "version": 3
   },
   "file_extension": ".py",
   "mimetype": "text/x-python",
   "name": "python",
   "nbconvert_exporter": "python",
   "pygments_lexer": "ipython3",
   "version": "3.9.7"
  }
 },
 "nbformat": 4,
 "nbformat_minor": 5
}
