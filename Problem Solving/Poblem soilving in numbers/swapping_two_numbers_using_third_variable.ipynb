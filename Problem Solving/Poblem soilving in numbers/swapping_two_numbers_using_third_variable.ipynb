{
 "cells": [
  {
   "cell_type": "markdown",
   "id": "cc60f8f9",
   "metadata": {},
   "source": [
    "# Write a program in Python to swap two numbers using third variable?"
   ]
  },
  {
   "cell_type": "code",
   "execution_count": 1,
   "id": "bf088bd8",
   "metadata": {},
   "outputs": [
    {
     "name": "stdout",
     "output_type": "stream",
     "text": [
      "Before swap a = 1 and b = 2\n",
      "After swap a = 2 and b = 1\n"
     ]
    }
   ],
   "source": [
    "def swap_two_numbers(a,b):\n",
    "    print(\"Before swap a = {} and b = {}\".format(a,b))\n",
    "    temp=b\n",
    "    b=a\n",
    "    a=temp\n",
    "    \n",
    "    print(\"After swap a = {} and b = {}\".format(a,b))\n",
    "swap_two_numbers(1,2)"
   ]
  }
 ],
 "metadata": {
  "kernelspec": {
   "display_name": "Python 3 (ipykernel)",
   "language": "python",
   "name": "python3"
  },
  "language_info": {
   "codemirror_mode": {
    "name": "ipython",
    "version": 3
   },
   "file_extension": ".py",
   "mimetype": "text/x-python",
   "name": "python",
   "nbconvert_exporter": "python",
   "pygments_lexer": "ipython3",
   "version": "3.9.7"
  }
 },
 "nbformat": 4,
 "nbformat_minor": 5
}
