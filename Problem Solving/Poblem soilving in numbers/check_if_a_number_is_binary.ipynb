{
 "cells": [
  {
   "cell_type": "markdown",
   "id": "cd3d7912",
   "metadata": {},
   "source": [
    "# Write a program in Python to check if a number is binary?"
   ]
  },
  {
   "cell_type": "code",
   "execution_count": 1,
   "id": "63888718",
   "metadata": {},
   "outputs": [
    {
     "name": "stdout",
     "output_type": "stream",
     "text": [
      "No,it is not a binary number\n",
      "Yes, it a binary number\n"
     ]
    }
   ],
   "source": [
    "def isbinary(num):\n",
    "    if(str(0) in str(num) and str(1) in str(num)):\n",
    "        return \"Yes, it a binary number\"\n",
    "    else:\n",
    "        return \"No,it is not a binary number\"\n",
    "print(isbinary(1729))\n",
    "print(isbinary(10010))"
   ]
  },
  {
   "cell_type": "code",
   "execution_count": null,
   "id": "234d4aa5",
   "metadata": {},
   "outputs": [],
   "source": []
  }
 ],
 "metadata": {
  "kernelspec": {
   "display_name": "Python 3 (ipykernel)",
   "language": "python",
   "name": "python3"
  },
  "language_info": {
   "codemirror_mode": {
    "name": "ipython",
    "version": 3
   },
   "file_extension": ".py",
   "mimetype": "text/x-python",
   "name": "python",
   "nbconvert_exporter": "python",
   "pygments_lexer": "ipython3",
   "version": "3.9.7"
  }
 },
 "nbformat": 4,
 "nbformat_minor": 5
}
