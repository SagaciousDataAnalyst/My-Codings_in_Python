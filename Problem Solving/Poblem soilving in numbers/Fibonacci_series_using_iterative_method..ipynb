{
 "cells": [
  {
   "cell_type": "markdown",
   "id": "505f786c",
   "metadata": {},
   "source": [
    "#  Write a program in Python to print the Fibonacci series using iterative method."
   ]
  },
  {
   "cell_type": "code",
   "execution_count": 15,
   "id": "dde1784f",
   "metadata": {},
   "outputs": [
    {
     "name": "stdout",
     "output_type": "stream",
     "text": [
      "How many numbers you want in the fibonacci series except first two? : 5\n",
      "0\n",
      "1\n",
      "1\n",
      "2\n",
      "3\n"
     ]
    }
   ],
   "source": [
    "def fib():\n",
    "    n=int(input(\"How many numbers you want in the fibonacci series except first two? : \"))\n",
    "    a,b=0,1\n",
    "    for i in range(5):\n",
    "        if(i<=1):\n",
    "            res=i\n",
    "        else:\n",
    "            res=a+b\n",
    "            a=b\n",
    "            b=res\n",
    "        print(res)\n",
    "    \n",
    "fib()"
   ]
  }
 ],
 "metadata": {
  "kernelspec": {
   "display_name": "Python 3 (ipykernel)",
   "language": "python",
   "name": "python3"
  },
  "language_info": {
   "codemirror_mode": {
    "name": "ipython",
    "version": 3
   },
   "file_extension": ".py",
   "mimetype": "text/x-python",
   "name": "python",
   "nbconvert_exporter": "python",
   "pygments_lexer": "ipython3",
   "version": "3.9.7"
  }
 },
 "nbformat": 4,
 "nbformat_minor": 5
}
