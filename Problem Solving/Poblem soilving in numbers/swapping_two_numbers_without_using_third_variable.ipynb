{
 "cells": [
  {
   "cell_type": "markdown",
   "id": "c9abf286",
   "metadata": {},
   "source": [
    "# Write a program in Python to swap two numbers without using third variable?"
   ]
  },
  {
   "cell_type": "code",
   "execution_count": 3,
   "id": "ca951217",
   "metadata": {},
   "outputs": [
    {
     "name": "stdout",
     "output_type": "stream",
     "text": [
      "Before swap a = 1 and b = 2\n",
      "After swap a = 2 and b = 1\n"
     ]
    }
   ],
   "source": [
    "def swap_two_numbers(a,b):\n",
    "    print(\"Before swap a = {} and b = {}\".format(a,b))\n",
    "    a,b=b,a\n",
    "    print(\"After swap a = {} and b = {}\".format(a,b))\n",
    "swap_two_numbers(1,2)"
   ]
  }
 ],
 "metadata": {
  "kernelspec": {
   "display_name": "Python 3 (ipykernel)",
   "language": "python",
   "name": "python3"
  },
  "language_info": {
   "codemirror_mode": {
    "name": "ipython",
    "version": 3
   },
   "file_extension": ".py",
   "mimetype": "text/x-python",
   "name": "python",
   "nbconvert_exporter": "python",
   "pygments_lexer": "ipython3",
   "version": "3.9.7"
  }
 },
 "nbformat": 4,
 "nbformat_minor": 5
}
