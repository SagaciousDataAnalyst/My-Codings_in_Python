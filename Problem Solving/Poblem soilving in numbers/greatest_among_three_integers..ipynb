{
 "cells": [
  {
   "cell_type": "markdown",
   "id": "dcfc190b",
   "metadata": {},
   "source": [
    "# Write a program in Python to find greatest among three integers."
   ]
  },
  {
   "cell_type": "code",
   "execution_count": null,
   "id": "1c666ce2",
   "metadata": {},
   "outputs": [],
   "source": [
    "def islarge(a,b,c):\n",
    "    if(a>b and a>c):\n",
    "        return \"a is big\"\n",
    "    elif(b>a and b>c):\n",
    "        return \"b is big\"\n",
    "    else:\n",
    "        return \"c is big\"\n",
    "print(islarge(1,2,3))\n",
    "print(islarge(1,7,2))"
   ]
  }
 ],
 "metadata": {
  "kernelspec": {
   "display_name": "Python 3 (ipykernel)",
   "language": "python",
   "name": "python3"
  },
  "language_info": {
   "codemirror_mode": {
    "name": "ipython",
    "version": 3
   },
   "file_extension": ".py",
   "mimetype": "text/x-python",
   "name": "python",
   "nbconvert_exporter": "python",
   "pygments_lexer": "ipython3",
   "version": "3.9.7"
  }
 },
 "nbformat": 4,
 "nbformat_minor": 5
}
