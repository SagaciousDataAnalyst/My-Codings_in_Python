{
 "cells": [
  {
   "cell_type": "markdown",
   "id": "233b11a2",
   "metadata": {},
   "source": [
    "# Write a program in Python to find sum of digits of a number using recursion?"
   ]
  },
  {
   "cell_type": "code",
   "execution_count": 3,
   "id": "60cf4e4c",
   "metadata": {},
   "outputs": [
    {
     "name": "stdout",
     "output_type": "stream",
     "text": [
      "Sum of digits in 12345 is 15\n"
     ]
    }
   ],
   "source": [
    "def sum_of_digits( num ):\n",
    "    if num == 0:\n",
    "        return 0\n",
    "    return (num % 10 + sum_of_digits(int(num / 10)))\n",
    "\n",
    "n = 12345\n",
    "result = sum_of_digits(n)\n",
    "print(\"Sum of digits in\",n,\"is\", result)"
   ]
  }
 ],
 "metadata": {
  "kernelspec": {
   "display_name": "Python 3 (ipykernel)",
   "language": "python",
   "name": "python3"
  },
  "language_info": {
   "codemirror_mode": {
    "name": "ipython",
    "version": 3
   },
   "file_extension": ".py",
   "mimetype": "text/x-python",
   "name": "python",
   "nbconvert_exporter": "python",
   "pygments_lexer": "ipython3",
   "version": "3.9.7"
  }
 },
 "nbformat": 4,
 "nbformat_minor": 5
}
