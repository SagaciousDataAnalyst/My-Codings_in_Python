{
 "cells": [
  {
   "cell_type": "markdown",
   "id": "e1cfeb74",
   "metadata": {},
   "source": [
    "# Write a program in Python to print the fibonacci series using recursive method."
   ]
  },
  {
   "cell_type": "code",
   "execution_count": 15,
   "id": "0a63d9f6",
   "metadata": {},
   "outputs": [
    {
     "name": "stdout",
     "output_type": "stream",
     "text": [
      "How many numbers you want in the fibonacci series except first two? : 4\n",
      "The required fibonacci serie is : \n",
      "0\n",
      "1\n",
      "1\n",
      "2\n"
     ]
    }
   ],
   "source": [
    "a,b=0,1\n",
    "n=int(input(\"How many numbers you want in the fibonacci series except first two? : \"))\n",
    "def fib(n):\n",
    "    if(n<=1):\n",
    "        return n\n",
    "    else:\n",
    "        return fib(n-1)+fib(n-2)\n",
    "    \n",
    "print(\"The required fibonacci serie is : \")\n",
    "for i in range(n):\n",
    "    print(fib(i))"
   ]
  }
 ],
 "metadata": {
  "kernelspec": {
   "display_name": "Python 3 (ipykernel)",
   "language": "python",
   "name": "python3"
  },
  "language_info": {
   "codemirror_mode": {
    "name": "ipython",
    "version": 3
   },
   "file_extension": ".py",
   "mimetype": "text/x-python",
   "name": "python",
   "nbconvert_exporter": "python",
   "pygments_lexer": "ipython3",
   "version": "3.9.7"
  }
 },
 "nbformat": 4,
 "nbformat_minor": 5
}
