{
 "cells": [
  {
   "cell_type": "markdown",
   "id": "258fdf3a",
   "metadata": {},
   "source": [
    "# Write a program in Python to check given number is prime or not."
   ]
  },
  {
   "cell_type": "code",
   "execution_count": 15,
   "id": "cc6666ff",
   "metadata": {},
   "outputs": [
    {
     "name": "stdout",
     "output_type": "stream",
     "text": [
      "Yes.., Given number is a Prime Number\n",
      "No..., Given number is not a prime number\n"
     ]
    }
   ],
   "source": [
    "def is_prime(n):\n",
    "    flag=0\n",
    "    for i in range(2,n):\n",
    "        if(n%i==0):\n",
    "            flag=1\n",
    "            break\n",
    "    if flag==0: return \"Yes.., Given number is a Prime Number\"\n",
    "    else: return \"No..., Given number is not a prime number\"\n",
    "print(is_prime(2))\n",
    "print(is_prime(4))\n"
   ]
  }
 ],
 "metadata": {
  "kernelspec": {
   "display_name": "Python 3 (ipykernel)",
   "language": "python",
   "name": "python3"
  },
  "language_info": {
   "codemirror_mode": {
    "name": "ipython",
    "version": 3
   },
   "file_extension": ".py",
   "mimetype": "text/x-python",
   "name": "python",
   "nbconvert_exporter": "python",
   "pygments_lexer": "ipython3",
   "version": "3.9.7"
  }
 },
 "nbformat": 4,
 "nbformat_minor": 5
}
