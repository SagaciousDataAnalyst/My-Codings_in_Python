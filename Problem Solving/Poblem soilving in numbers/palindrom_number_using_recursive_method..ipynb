{
 "cells": [
  {
   "cell_type": "markdown",
   "id": "d31b9d1c",
   "metadata": {},
   "source": [
    "# Write a program in Python to check whether a number is palindrom or not using recursive method."
   ]
  },
  {
   "cell_type": "code",
   "execution_count": null,
   "id": "c7aef908",
   "metadata": {},
   "outputs": [],
   "source": [
    "def rev(num): # Function to reverse the number\n",
    "    if(num<10):\n",
    "        return num\n",
    "    else:\n",
    "        return int(str(num%10) + str(rev(num//10)))\n",
    "def polindrome(num):  # Function to check the polindrome of the number\n",
    "    if(num==rev(num)):\n",
    "        return \"Yes\"\n",
    "    else:\n",
    "        return \"No\"\n",
    "print(polindrome(1729))\n",
    "print(polindrome(121))\n",
    "print(polindrome(1111))"
   ]
  }
 ],
 "metadata": {
  "kernelspec": {
   "display_name": "Python 3 (ipykernel)",
   "language": "python",
   "name": "python3"
  },
  "language_info": {
   "codemirror_mode": {
    "name": "ipython",
    "version": 3
   },
   "file_extension": ".py",
   "mimetype": "text/x-python",
   "name": "python",
   "nbconvert_exporter": "python",
   "pygments_lexer": "ipython3",
   "version": "3.9.7"
  }
 },
 "nbformat": 4,
 "nbformat_minor": 5
}
