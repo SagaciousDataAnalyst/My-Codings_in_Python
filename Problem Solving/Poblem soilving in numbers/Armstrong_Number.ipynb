{
 "cells": [
  {
   "cell_type": "markdown",
   "id": "bdae813d",
   "metadata": {},
   "source": [
    "# Write a program in Python to check whether an integer is Armstrong number or not.\n",
    "\n",
    "\n",
    "Armstrong Number : It is a number which is equal to the sum of cube of its digits.\n",
    "\n",
    "ex: 153, 370"
   ]
  },
  {
   "cell_type": "code",
   "execution_count": 20,
   "id": "305e9272",
   "metadata": {},
   "outputs": [
    {
     "name": "stdout",
     "output_type": "stream",
     "text": [
      "Given number is not a Armstrong Number\n",
      "Given number is a Armstrong Number\n",
      "Given number is not a Armstrong Number\n"
     ]
    }
   ],
   "source": [
    "def Armstrong_Number(n):\n",
    "    sum=0\n",
    "    for i in str(n):\n",
    "        sum=sum+int(i)**3\n",
    "    if n==sum: return \"Given number is a Armstrong Number\"\n",
    "    else: return \"Given number is not a Armstrong Number\"\n",
    "print(Armstrong_Number(1729))\n",
    "print(Armstrong_Number(153))\n",
    "print(Armstrong_Number(17))\n"
   ]
  },
  {
   "cell_type": "code",
   "execution_count": null,
   "id": "1b9f9c47",
   "metadata": {},
   "outputs": [],
   "source": []
  }
 ],
 "metadata": {
  "kernelspec": {
   "display_name": "Python 3 (ipykernel)",
   "language": "python",
   "name": "python3"
  },
  "language_info": {
   "codemirror_mode": {
    "name": "ipython",
    "version": 3
   },
   "file_extension": ".py",
   "mimetype": "text/x-python",
   "name": "python",
   "nbconvert_exporter": "python",
   "pygments_lexer": "ipython3",
   "version": "3.9.7"
  }
 },
 "nbformat": 4,
 "nbformat_minor": 5
}
