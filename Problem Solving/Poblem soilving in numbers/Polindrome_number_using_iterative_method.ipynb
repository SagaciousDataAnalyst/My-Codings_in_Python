{
 "cells": [
  {
   "cell_type": "markdown",
   "id": "296502dc",
   "metadata": {},
   "source": [
    "# Write a program in Python to check whether a number is palindrome or not using iterative method."
   ]
  },
  {
   "cell_type": "code",
   "execution_count": 1,
   "id": "b1734923",
   "metadata": {},
   "outputs": [
    {
     "name": "stdout",
     "output_type": "stream",
     "text": [
      "Given number is not a polindrome\n",
      "Given number is a polindrome\n"
     ]
    }
   ],
   "source": [
    "def polindrome(n):\n",
    "    reverse,original=0,n\n",
    "    while(n>0):\n",
    "        reverse=reverse*10+n%10\n",
    "        n=n//10\n",
    "    if(reverse==original): return\"Given number is a polindrome\"\n",
    "    else: return\"Given number is not a polindrome\"\n",
    "print(polindrome(1729))\n",
    "print(polindrome(171))"
   ]
  }
 ],
 "metadata": {
  "kernelspec": {
   "display_name": "Python 3 (ipykernel)",
   "language": "python",
   "name": "python3"
  },
  "language_info": {
   "codemirror_mode": {
    "name": "ipython",
    "version": 3
   },
   "file_extension": ".py",
   "mimetype": "text/x-python",
   "name": "python",
   "nbconvert_exporter": "python",
   "pygments_lexer": "ipython3",
   "version": "3.9.7"
  }
 },
 "nbformat": 4,
 "nbformat_minor": 5
}
