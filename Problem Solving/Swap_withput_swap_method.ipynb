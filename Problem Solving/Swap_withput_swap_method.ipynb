{
 "cells": [
  {
   "cell_type": "code",
   "execution_count": 5,
   "id": "842cdc94",
   "metadata": {
    "scrolled": true
   },
   "outputs": [
    {
     "name": "stdout",
     "output_type": "stream",
     "text": [
      "Before the swapping value of the a=1, and b=2\n",
      "After the swapping value of the a=2, and b=1\n"
     ]
    }
   ],
   "source": [
    "a,b=1,2\n",
    "print(\"Before the swapping value of the a={}, and b={}\".format(a,b))\n",
    "\n",
    "#swapping\n",
    "a,b=b,a\n",
    "print(\"After the swapping value of the a={}, and b={}\".format(a,b))"
   ]
  }
 ],
 "metadata": {
  "kernelspec": {
   "display_name": "Python 3 (ipykernel)",
   "language": "python",
   "name": "python3"
  },
  "language_info": {
   "codemirror_mode": {
    "name": "ipython",
    "version": 3
   },
   "file_extension": ".py",
   "mimetype": "text/x-python",
   "name": "python",
   "nbconvert_exporter": "python",
   "pygments_lexer": "ipython3",
   "version": "3.9.7"
  }
 },
 "nbformat": 4,
 "nbformat_minor": 5
}
