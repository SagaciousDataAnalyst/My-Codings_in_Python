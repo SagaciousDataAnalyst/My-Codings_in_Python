{
 "cells": [
  {
   "cell_type": "code",
   "execution_count": null,
   "id": "de0d6e9f",
   "metadata": {},
   "outputs": [],
   "source": [
    "def geometric_mean():\n",
    "    count=0\n",
    "    product=1\n",
    "    total=int(input(\"enter the no of the elements : \"))\n",
    "    for i in range(total):\n",
    "        num=float(input())\n",
    "        count+=1\n",
    "        product*=num\n",
    "    print(\"geometric mean : \",pow(product,1/count))\n",
    "\n",
    "geometric_mean()  \n",
    "    "
   ]
  }
 ],
 "metadata": {
  "kernelspec": {
   "display_name": "Python 3 (ipykernel)",
   "language": "python",
   "name": "python3"
  },
  "language_info": {
   "codemirror_mode": {
    "name": "ipython",
    "version": 3
   },
   "file_extension": ".py",
   "mimetype": "text/x-python",
   "name": "python",
   "nbconvert_exporter": "python",
   "pygments_lexer": "ipython3",
   "version": "3.9.7"
  }
 },
 "nbformat": 4,
 "nbformat_minor": 5
}
