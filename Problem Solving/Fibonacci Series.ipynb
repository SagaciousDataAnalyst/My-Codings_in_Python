{
 "cells": [
  {
   "cell_type": "code",
   "execution_count": null,
   "id": "0c55352a",
   "metadata": {},
   "outputs": [],
   "source": [
    "def display(n):\n",
    "    a,b=0,1\n",
    "    print(a)\n",
    "    print(b)\n",
    "    for i in range(n):\n",
    "        c=a+b\n",
    "        print(c)\n",
    "        a,b=b,c\n",
    "        i=i+1\n",
    "display(7)"
   ]
  }
 ],
 "metadata": {
  "kernelspec": {
   "display_name": "Python 3 (ipykernel)",
   "language": "python",
   "name": "python3"
  },
  "language_info": {
   "codemirror_mode": {
    "name": "ipython",
    "version": 3
   },
   "file_extension": ".py",
   "mimetype": "text/x-python",
   "name": "python",
   "nbconvert_exporter": "python",
   "pygments_lexer": "ipython3",
   "version": "3.9.7"
  }
 },
 "nbformat": 4,
 "nbformat_minor": 5
}
