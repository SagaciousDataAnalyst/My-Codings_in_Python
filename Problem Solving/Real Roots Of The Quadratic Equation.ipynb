{
 "cells": [
  {
   "cell_type": "code",
   "execution_count": null,
   "id": "8d59fe4a",
   "metadata": {},
   "outputs": [],
   "source": [
    "# import module\n",
    "import math\n",
    "def real_roots(a,b,c):\n",
    "    d=b*b-4*a*c\n",
    "    if d<0:\n",
    "        print(\"there is no real roots\")\n",
    "    elif d==0:\n",
    "        x=(-b)/2*a\n",
    "        print(\"equation have unique root: \",x)\n",
    "    else:\n",
    "        dd=math.sqrt(d)\n",
    "        x1=(-b+dd)/2*a\n",
    "        x2=(-b-dd)/2*a\n",
    "        print(\"roots of given equetion:\",x1,x2)\n",
    "        \n",
    "real_roots(1,2,4)\n",
    "real_roots(1,-7,5)"
   ]
  }
 ],
 "metadata": {
  "kernelspec": {
   "display_name": "Python 3 (ipykernel)",
   "language": "python",
   "name": "python3"
  },
  "language_info": {
   "codemirror_mode": {
    "name": "ipython",
    "version": 3
   },
   "file_extension": ".py",
   "mimetype": "text/x-python",
   "name": "python",
   "nbconvert_exporter": "python",
   "pygments_lexer": "ipython3",
   "version": "3.9.7"
  }
 },
 "nbformat": 4,
 "nbformat_minor": 5
}
