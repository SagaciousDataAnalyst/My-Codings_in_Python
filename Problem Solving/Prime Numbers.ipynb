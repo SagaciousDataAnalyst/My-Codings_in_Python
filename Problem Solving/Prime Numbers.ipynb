{
 "cells": [
  {
   "cell_type": "code",
   "execution_count": null,
   "id": "eddc0ce4",
   "metadata": {},
   "outputs": [],
   "source": [
    "def prime(n):\n",
    "    flag=1    \n",
    "    for i in range(2,n):\n",
    "        if(n%i==0):\n",
    "            flag=0\n",
    "            break\n",
    "        else:\n",
    "            flag=1\n",
    "    return flag\n",
    "\n",
    "num=int(input(\"how many primes you want : \"))\n",
    "i=2\n",
    "c=1\n",
    "while True:\n",
    "    if prime(i):\n",
    "        print(i,end=\" \")\n",
    "        c+=1\n",
    "    i+=1\n",
    "    if c>num:\n",
    "        break"
   ]
  }
 ],
 "metadata": {
  "kernelspec": {
   "display_name": "Python 3 (ipykernel)",
   "language": "python",
   "name": "python3"
  },
  "language_info": {
   "codemirror_mode": {
    "name": "ipython",
    "version": 3
   },
   "file_extension": ".py",
   "mimetype": "text/x-python",
   "name": "python",
   "nbconvert_exporter": "python",
   "pygments_lexer": "ipython3",
   "version": "3.9.7"
  }
 },
 "nbformat": 4,
 "nbformat_minor": 5
}
