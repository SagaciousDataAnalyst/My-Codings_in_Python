{
 "cells": [
  {
   "cell_type": "code",
   "execution_count": 11,
   "id": "2d348e6f",
   "metadata": {},
   "outputs": [
    {
     "name": "stdout",
     "output_type": "stream",
     "text": [
      "9271\n",
      "Given number is not palindrom\n",
      "171\n",
      "Given number is palindrom\n"
     ]
    }
   ],
   "source": [
    "def palindrom(n):\n",
    "    original=n\n",
    "    rev=0\n",
    "    while n!=0:\n",
    "        rev=rev*10+n%10\n",
    "        n=n//10\n",
    "    print(rev)\n",
    "    if(original==rev):\n",
    "        return \"Given number is palindrom\"\n",
    "    else:\n",
    "        return \"Given number is not palindrom\"\n",
    "print(palindrom(1729))\n",
    "print(palindrom(171))"
   ]
  },
  {
   "cell_type": "code",
   "execution_count": null,
   "id": "65fc9b39",
   "metadata": {},
   "outputs": [],
   "source": []
  }
 ],
 "metadata": {
  "kernelspec": {
   "display_name": "Python 3 (ipykernel)",
   "language": "python",
   "name": "python3"
  },
  "language_info": {
   "codemirror_mode": {
    "name": "ipython",
    "version": 3
   },
   "file_extension": ".py",
   "mimetype": "text/x-python",
   "name": "python",
   "nbconvert_exporter": "python",
   "pygments_lexer": "ipython3",
   "version": "3.9.7"
  }
 },
 "nbformat": 4,
 "nbformat_minor": 5
}
