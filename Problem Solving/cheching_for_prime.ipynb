{
 "cells": [
  {
   "cell_type": "code",
   "execution_count": 3,
   "id": "7c6241ac",
   "metadata": {},
   "outputs": [
    {
     "name": "stdout",
     "output_type": "stream",
     "text": [
      "please give a number : 23\n"
     ]
    },
    {
     "data": {
      "text/plain": [
       "'given number is prime'"
      ]
     },
     "execution_count": 3,
     "metadata": {},
     "output_type": "execute_result"
    }
   ],
   "source": [
    "def isprime():\n",
    "    temp=0\n",
    "    n = int(input(\"please give a number : \"))\n",
    "    for i in range(2,n//2):\n",
    "        if n%i == 0:\n",
    "            temp=1\n",
    "            break\n",
    "    if temp == 1:\n",
    "        return \"given number is not prime\"\n",
    "    else:\n",
    "        return \"given number is prime\" \n",
    "isprime()"
   ]
  },
  {
   "cell_type": "code",
   "execution_count": null,
   "id": "a10b3ad1",
   "metadata": {},
   "outputs": [],
   "source": []
  }
 ],
 "metadata": {
  "kernelspec": {
   "display_name": "Python 3 (ipykernel)",
   "language": "python",
   "name": "python3"
  },
  "language_info": {
   "codemirror_mode": {
    "name": "ipython",
    "version": 3
   },
   "file_extension": ".py",
   "mimetype": "text/x-python",
   "name": "python",
   "nbconvert_exporter": "python",
   "pygments_lexer": "ipython3",
   "version": "3.9.7"
  }
 },
 "nbformat": 4,
 "nbformat_minor": 5
}
