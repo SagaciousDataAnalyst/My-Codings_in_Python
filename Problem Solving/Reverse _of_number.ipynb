{
 "cells": [
  {
   "cell_type": "code",
   "execution_count": 18,
   "id": "34e932ce",
   "metadata": {},
   "outputs": [
    {
     "name": "stdout",
     "output_type": "stream",
     "text": [
      "('Reverse of the given number is ', 9271)\n"
     ]
    }
   ],
   "source": [
    "# Finding the reverse of the numbers\n",
    "\n",
    "def f(n):\n",
    "    reverse=0  \n",
    "    while n!=0:\n",
    "        reverse=reverse*10+n%10\n",
    "        n=n//10\n",
    "    return \"Reverse of the given number is \",reverse\n",
    "print(f(1729))"
   ]
  },
  {
   "cell_type": "code",
   "execution_count": 12,
   "id": "a890ce81",
   "metadata": {},
   "outputs": [
    {
     "name": "stdout",
     "output_type": "stream",
     "text": [
      "9271\n"
     ]
    }
   ],
   "source": [
    "# Finding the reverse of the numbers by coverting into \n",
    "\n",
    "s=1729\n",
    "print(str(s)[::-1])"
   ]
  },
  {
   "cell_type": "code",
   "execution_count": null,
   "id": "1a7cc0da",
   "metadata": {},
   "outputs": [],
   "source": []
  }
 ],
 "metadata": {
  "kernelspec": {
   "display_name": "Python 3 (ipykernel)",
   "language": "python",
   "name": "python3"
  },
  "language_info": {
   "codemirror_mode": {
    "name": "ipython",
    "version": 3
   },
   "file_extension": ".py",
   "mimetype": "text/x-python",
   "name": "python",
   "nbconvert_exporter": "python",
   "pygments_lexer": "ipython3",
   "version": "3.9.7"
  }
 },
 "nbformat": 4,
 "nbformat_minor": 5
}
