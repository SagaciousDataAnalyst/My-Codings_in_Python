{
 "cells": [
  {
   "cell_type": "code",
   "execution_count": null,
   "id": "568eca5c",
   "metadata": {},
   "outputs": [],
   "source": [
    "def display():\n",
    "    num=int(input(\" which table you want to print...????\"))\n",
    "    m=int(input(\" how many value you want to print the table...????\")) \n",
    "    for i in range(m+1):\n",
    "        print(\"%dX%d=%d\"%(num,i,num*i))\n",
    "display()"
   ]
  }
 ],
 "metadata": {
  "kernelspec": {
   "display_name": "Python 3 (ipykernel)",
   "language": "python",
   "name": "python3"
  },
  "language_info": {
   "codemirror_mode": {
    "name": "ipython",
    "version": 3
   },
   "file_extension": ".py",
   "mimetype": "text/x-python",
   "name": "python",
   "nbconvert_exporter": "python",
   "pygments_lexer": "ipython3",
   "version": "3.9.7"
  }
 },
 "nbformat": 4,
 "nbformat_minor": 5
}
