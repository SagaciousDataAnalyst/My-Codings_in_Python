{
 "cells": [
  {
   "cell_type": "code",
   "execution_count": null,
   "id": "6eee859f",
   "metadata": {},
   "outputs": [],
   "source": [
    "import random\n",
    "def diceSum():\n",
    "    sum1=0\n",
    "    sum2=0\n",
    "    sum3=0\n",
    "    x=int(input(\"how many no of times you want to throw the dice : \"))\n",
    "    for i in range(x):\n",
    "        n=random.randint(1,6)\n",
    "        m=random.randint(1,6)\n",
    "        \n",
    "        sum1+=n\n",
    "        sum2+=m\n",
    "        sum3+=(n+m)\n",
    "        print(\"value on dice_1 is \",n)\n",
    "        print(\"value on dice_2 is \",m)\n",
    "        print(\"sum of the values appear on the both the dice is \",n+m)\n",
    "    \n",
    "        print(\"*******************************************************\")\n",
    "    print(\"sum of the values that are appear on dice_1 in \",x,\" no of throws is \",sum1)\n",
    "    print(\"sum of the values that are appear on dice_2 in \",x,\" no of throws is \",sum2)\n",
    "    print(\"sum of the values that are appear on dice_1 and dice_2 in \",x,\" no of throws is \",sum3)\n",
    "diceSum()"
   ]
  }
 ],
 "metadata": {
  "kernelspec": {
   "display_name": "Python 3 (ipykernel)",
   "language": "python",
   "name": "python3"
  },
  "language_info": {
   "codemirror_mode": {
    "name": "ipython",
    "version": 3
   },
   "file_extension": ".py",
   "mimetype": "text/x-python",
   "name": "python",
   "nbconvert_exporter": "python",
   "pygments_lexer": "ipython3",
   "version": "3.10.1"
  }
 },
 "nbformat": 4,
 "nbformat_minor": 5
}
