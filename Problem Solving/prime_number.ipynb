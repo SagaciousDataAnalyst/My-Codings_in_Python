{
 "cells": [
  {
   "cell_type": "code",
   "execution_count": 5,
   "id": "8a2f1083",
   "metadata": {},
   "outputs": [
    {
     "name": "stdout",
     "output_type": "stream",
     "text": [
      "Enter your number : 23\n"
     ]
    },
    {
     "data": {
      "text/plain": [
       "(23, 'is prime')"
      ]
     },
     "execution_count": 5,
     "metadata": {},
     "output_type": "execute_result"
    }
   ],
   "source": [
    "def prime(n):\n",
    "    temp=0\n",
    "    for i in range(2,n//2):\n",
    "        if(n%i==0):\n",
    "            temp=1\n",
    "            break\n",
    "    if(temp==0):\n",
    "        return n,\"is a prime number\"\n",
    "    else:\n",
    "        return n,\"is not a prime number\"\n",
    "prime(int(input(\"Enter your number : \")))"
   ]
  },
  {
   "cell_type": "code",
   "execution_count": null,
   "id": "e23b0918",
   "metadata": {},
   "outputs": [],
   "source": []
  }
 ],
 "metadata": {
  "kernelspec": {
   "display_name": "Python 3 (ipykernel)",
   "language": "python",
   "name": "python3"
  },
  "language_info": {
   "codemirror_mode": {
    "name": "ipython",
    "version": 3
   },
   "file_extension": ".py",
   "mimetype": "text/x-python",
   "name": "python",
   "nbconvert_exporter": "python",
   "pygments_lexer": "ipython3",
   "version": "3.9.7"
  }
 },
 "nbformat": 4,
 "nbformat_minor": 5
}
