{
 "cells": [
  {
   "cell_type": "code",
   "execution_count": 5,
   "id": "a18423fc",
   "metadata": {
    "scrolled": true
   },
   "outputs": [
    {
     "name": "stdout",
     "output_type": "stream",
     "text": [
      "[1, 9, 25]\n",
      "{1: 1, 3: 9, 5: 25}\n"
     ]
    }
   ],
   "source": [
    "mylist = [1,2,3,4,5]\n",
    "squared_list = [x**2 for x in mylist if x%2 != 0]    # list comprehension\n",
    "print(squared_list)\n",
    "squared_dict = {x:x**2 for x in mylist if x%2 != 0}    # dict comprehension\n",
    "print(squared_dict)"
   ]
  }
 ],
 "metadata": {
  "kernelspec": {
   "display_name": "Python 3 (ipykernel)",
   "language": "python",
   "name": "python3"
  },
  "language_info": {
   "codemirror_mode": {
    "name": "ipython",
    "version": 3
   },
   "file_extension": ".py",
   "mimetype": "text/x-python",
   "name": "python",
   "nbconvert_exporter": "python",
   "pygments_lexer": "ipython3",
   "version": "3.9.12"
  }
 },
 "nbformat": 4,
 "nbformat_minor": 5
}
