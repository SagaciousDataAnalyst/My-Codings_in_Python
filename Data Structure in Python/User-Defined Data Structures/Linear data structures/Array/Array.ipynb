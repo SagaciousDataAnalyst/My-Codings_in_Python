{
 "cells": [
  {
   "cell_type": "code",
   "execution_count": 7,
   "id": "26187d5f",
   "metadata": {},
   "outputs": [
    {
     "name": "stdout",
     "output_type": "stream",
     "text": [
      "===========: Printing an array by using for loop :===========\n",
      "10\n",
      "20\n",
      "30\n",
      "40\n",
      "50\n",
      "===========: Printing an array using index numbers :===========\n",
      "10\n",
      "20\n",
      "30\n",
      "40\n",
      "50\n",
      "===========: printing array nornally :===========\n",
      "array('i', [10, 20, 30, 40, 50])\n"
     ]
    }
   ],
   "source": [
    "# importing the array module \n",
    "from array import *\n",
    "\n",
    "# creating an array named array1\n",
    "array1 = array('i', [10,20,30,40,50])\n",
    "\n",
    "# printing an array\n",
    "print(\"===========: Printing an array by using for loop :===========\")\n",
    "for x in array1:\n",
    "    print(x)\n",
    "\n",
    "print(\"===========: Printing an array using index numbers :===========\")\n",
    "print (array1[0])\n",
    "print (array1[1])\n",
    "print (array1[2])\n",
    "print (array1[3])\n",
    "print (array1[4])\n",
    "\n",
    "print(\"===========: printing array nornally :===========\")\n",
    "print(array1)"
   ]
  },
  {
   "cell_type": "code",
   "execution_count": 20,
   "id": "7f80aa94",
   "metadata": {},
   "outputs": [
    {
     "name": "stdout",
     "output_type": "stream",
     "text": [
      "==========: Array before modification :==========\n",
      "array('i', [10, 20, 30, 40, 50])\n",
      "\n",
      "==========: Array after inserting new element :==========\n",
      "array('i', [10, 20, 30, 40, 50, 60])\n",
      "\n",
      "==========: Array after inserting another new element :==========\n",
      "array('i', [10, 70, 20, 30, 40, 50, 60])\n",
      "\n",
      "==========: Array after removing an element :==========\n",
      "array('i', [10, 70, 20, 30, 50, 60])\n",
      "3\n",
      "\n",
      "==========: Array after updating an an element :==========\n",
      "array('i', [10, 70, 80, 30, 50, 60])\n"
     ]
    }
   ],
   "source": [
    "#insert one or more data elements into an array\n",
    "from array import *\n",
    "\n",
    "# Creating an array of integers\n",
    "array1 = array('i', [10,20,30,40,50])\n",
    "\n",
    "# Printing an array\n",
    "print(\"==========: Array before modification :==========\")\n",
    "print(array1)\n",
    "\n",
    "# Inserting an element at the end of the array1\n",
    "array1.append(60)\n",
    "\n",
    "# Printing array after inserting new element\n",
    "print(\"\\n==========: Array after inserting new element :==========\")\n",
    "print(array1)\n",
    "\n",
    "# Inserting an element at a specified position\n",
    "array1.insert(1,70)   # Inserting 70 at a 1 th index\n",
    "\n",
    "print(\"\\n==========: Array after inserting another new element :==========\")\n",
    "print(array1)\n",
    "\n",
    "#removing an existing element from the array\n",
    "array1.remove(40)\n",
    "\n",
    "print(\"\\n==========: Array after removing an element :==========\")\n",
    "print(array1)\n",
    "\n",
    "# getting the index number of the element\n",
    "print (array1.index(30))\n",
    "\n",
    "# updating the elements in array\n",
    "array1[2] = 80\n",
    "\n",
    "print(\"\\n==========: Array after updating an an element :==========\")\n",
    "print(array1)"
   ]
  }
 ],
 "metadata": {
  "kernelspec": {
   "display_name": "Python 3 (ipykernel)",
   "language": "python",
   "name": "python3"
  },
  "language_info": {
   "codemirror_mode": {
    "name": "ipython",
    "version": 3
   },
   "file_extension": ".py",
   "mimetype": "text/x-python",
   "name": "python",
   "nbconvert_exporter": "python",
   "pygments_lexer": "ipython3",
   "version": "3.9.12"
  }
 },
 "nbformat": 4,
 "nbformat_minor": 5
}
