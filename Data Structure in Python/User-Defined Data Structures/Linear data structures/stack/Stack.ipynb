{
 "cells": [
  {
   "cell_type": "code",
   "execution_count": 8,
   "id": "4694f909",
   "metadata": {},
   "outputs": [
    {
     "name": "stdout",
     "output_type": "stream",
     "text": [
      "Tue\n",
      "Thu\n"
     ]
    }
   ],
   "source": [
    "#PUSH into a Stack\n",
    "class Stack:\n",
    "    def __init__(self):\n",
    "        self.stack = []\n",
    "\n",
    "    def add(self, dataval):\n",
    "# Use list append method to add element\n",
    "        if dataval not in self.stack:\n",
    "            self.stack.append(dataval)\n",
    "            return True\n",
    "        else:\n",
    "            return False\n",
    "# Use peek to look at the top of the stack\n",
    "    def peek(self):     \n",
    "\t    return self.stack[-1]\n",
    "\n",
    "AStack = Stack()\n",
    "AStack.add(\"Mon\")\n",
    "AStack.add(\"Tue\")\n",
    "AStack.peek()\n",
    "print(AStack.peek())\n",
    "AStack.add(\"Wed\")\n",
    "AStack.add(\"Thu\")\n",
    "print(AStack.peek())\n"
   ]
  },
  {
   "cell_type": "code",
   "execution_count": null,
   "id": "c5772c43",
   "metadata": {},
   "outputs": [],
   "source": [
    "#POP from a Stack\n",
    "class Stack:\n",
    "    def __init__(self):\n",
    "        self.stack = []\n",
    "\n",
    "    def add(self, dataval):\n",
    "# Use list append method to add element\n",
    "        if dataval not in self.stack:\n",
    "            self.stack.append(dataval)\n",
    "            return True\n",
    "        else:\n",
    "            return False\n",
    "        \n",
    "# Use list pop method to remove element\n",
    "    def remove(self):\n",
    "        if len(self.stack) <= 0:\n",
    "            return (\"No element in the Stack\")\n",
    "        else:\n",
    "            return self.stack.pop()\n",
    "   \n",
    "AStack = Stack()\n",
    "AStack.add(\"Mon\")\n",
    "AStack.add(\"Tue\")\n",
    "AStack.add(\"Wed\")\n",
    "AStack.add(\"Thu\")\n",
    "\n",
    "print(AStack.remove())\n",
    "print(AStack.remove())\n"
   ]
  },
  {
   "cell_type": "code",
   "execution_count": 1,
   "id": "5d675b86",
   "metadata": {},
   "outputs": [
    {
     "name": "stdout",
     "output_type": "stream",
     "text": [
      "[10]\n"
     ]
    }
   ],
   "source": [
    "\n",
    "#STACK\n",
    "\n",
    "stack=[]\n",
    "stack.append(10)\n",
    "print(stack)"
   ]
  },
  {
   "cell_type": "code",
   "execution_count": 2,
   "id": "7d095dfb",
   "metadata": {},
   "outputs": [
    {
     "name": "stdout",
     "output_type": "stream",
     "text": [
      "[10, 20, 30, 40]\n"
     ]
    }
   ],
   "source": [
    "#add\n",
    "\n",
    "stack=[]\n",
    "stack.append(10)\n",
    "stack.append(20)\n",
    "stack.append(30)\n",
    "stack.append(40)\n",
    "print(stack)"
   ]
  },
  {
   "cell_type": "code",
   "execution_count": 3,
   "id": "85cd841e",
   "metadata": {},
   "outputs": [
    {
     "name": "stdout",
     "output_type": "stream",
     "text": [
      "[10, 20, 30, 40]\n",
      "40\n",
      "30\n",
      "[10, 20]\n"
     ]
    }
   ],
   "source": [
    "#PUSH AND POP\n",
    "stack=[]\n",
    "stack.append(10)\n",
    "stack.append(20)\n",
    "stack.append(30)\n",
    "stack.append(40)\n",
    "print(stack)\n",
    "e=stack.pop()\n",
    "e1=stack.pop()\n",
    "\n",
    "print(e)\n",
    "print(e1)\n",
    "print(stack)"
   ]
  },
  {
   "cell_type": "code",
   "execution_count": 4,
   "id": "7483e9db",
   "metadata": {},
   "outputs": [
    {
     "name": "stdout",
     "output_type": "stream",
     "text": [
      "select the operation 1.push,2.pop,3.quit\n",
      "\n",
      "56\n",
      "enter the correct operation\n",
      "\n",
      "select the operation 1.push,2.pop,3.quit\n",
      "\n",
      "1\n",
      "enterthe element to push67\n",
      "['67']\n",
      "select the operation 1.push,2.pop,3.quit\n",
      "\n",
      "3\n"
     ]
    }
   ],
   "source": [
    "#EXAMPLE\n",
    "\n",
    "stack=[]\n",
    "def push():\n",
    "    element=input (\"enterthe element to push\")\n",
    "    stack.append(element)\n",
    "    print(stack)\n",
    "def pop():\n",
    "    if not stack:\n",
    "        print(\"stack is empty\")\n",
    "    else:\n",
    "        e=stack.pop()\n",
    "        print(\"removed element:\",e)\n",
    "        print(stack)\n",
    "while True:\n",
    "    print(\"select the operation 1.push,2.pop,3.quit\\n\")\n",
    "    choice=int(input())\n",
    "    if choice==1:\n",
    "        push()\n",
    "    elif choice==2:\n",
    "        pop()\n",
    "    elif choice==3:\n",
    "        break\n",
    "    else:\n",
    "        print(\"enter the correct operation\\n\")"
   ]
  },
  {
   "cell_type": "code",
   "execution_count": null,
   "id": "6bdb55f2",
   "metadata": {},
   "outputs": [],
   "source": []
  }
 ],
 "metadata": {
  "kernelspec": {
   "display_name": "Python 3 (ipykernel)",
   "language": "python",
   "name": "python3"
  },
  "language_info": {
   "codemirror_mode": {
    "name": "ipython",
    "version": 3
   },
   "file_extension": ".py",
   "mimetype": "text/x-python",
   "name": "python",
   "nbconvert_exporter": "python",
   "pygments_lexer": "ipython3",
   "version": "3.9.12"
  }
 },
 "nbformat": 4,
 "nbformat_minor": 5
}
