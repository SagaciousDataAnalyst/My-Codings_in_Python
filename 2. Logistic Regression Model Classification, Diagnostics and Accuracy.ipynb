{
 "cells": [
  {
   "cell_type": "code",
   "execution_count": 1,
   "metadata": {},
   "outputs": [],
   "source": [
    "import pandas as pd\n",
    "import statsmodels.formula.api as smf\n",
    "import numpy as np"
   ]
  },
  {
   "cell_type": "code",
   "execution_count": 2,
   "metadata": {},
   "outputs": [
    {
     "name": "stdout",
     "output_type": "stream",
     "text": [
      "  checkin_acc  duration credit_history  amount savings_acc present_emp_since  \\\n",
      "0         A11         6            A34    1169         A65               A75   \n",
      "1         A12        48            A32    5951         A61               A73   \n",
      "2         A14        12            A34    2096         A61               A74   \n",
      "3         A11        42            A32    7882         A61               A74   \n",
      "4         A11        24            A33    4870         A61               A73   \n",
      "\n",
      "   inst_rate personal_status  residing_since  age inst_plans  num_credits  \\\n",
      "0          4             A93               4   67       A143            2   \n",
      "1          2             A92               2   22       A143            1   \n",
      "2          2             A93               3   49       A143            1   \n",
      "3          2             A93               4   45       A143            1   \n",
      "4          3             A93               4   53       A143            2   \n",
      "\n",
      "    job  status  \n",
      "0  A173       0  \n",
      "1  A173       1  \n",
      "2  A172       0  \n",
      "3  A173       0  \n",
      "4  A173       1  \n",
      "<class 'pandas.core.frame.DataFrame'>\n",
      "RangeIndex: 1000 entries, 0 to 999\n",
      "Data columns (total 14 columns):\n",
      " #   Column             Non-Null Count  Dtype \n",
      "---  ------             --------------  ----- \n",
      " 0   checkin_acc        1000 non-null   object\n",
      " 1   duration           1000 non-null   int64 \n",
      " 2   credit_history     1000 non-null   object\n",
      " 3   amount             1000 non-null   int64 \n",
      " 4   savings_acc        1000 non-null   object\n",
      " 5   present_emp_since  1000 non-null   object\n",
      " 6   inst_rate          1000 non-null   int64 \n",
      " 7   personal_status    1000 non-null   object\n",
      " 8   residing_since     1000 non-null   int64 \n",
      " 9   age                1000 non-null   int64 \n",
      " 10  inst_plans         1000 non-null   object\n",
      " 11  num_credits        1000 non-null   int64 \n",
      " 12  job                1000 non-null   object\n",
      " 13  status             1000 non-null   int64 \n",
      "dtypes: int64(7), object(7)\n",
      "memory usage: 109.5+ KB\n",
      "None\n"
     ]
    }
   ],
   "source": [
    "credit_df = pd.read_csv(\"German Credit Data.csv\")\n",
    "print (credit_df.head())\n",
    "\n",
    "print (credit_df.info())"
   ]
  },
  {
   "cell_type": "markdown",
   "metadata": {},
   "source": [
    "    The dataset contains 1000 records and 14 columns. "
   ]
  },
  {
   "cell_type": "code",
   "execution_count": 3,
   "metadata": {},
   "outputs": [
    {
     "data": {
      "text/html": [
       "<div>\n",
       "<style scoped>\n",
       "    .dataframe tbody tr th:only-of-type {\n",
       "        vertical-align: middle;\n",
       "    }\n",
       "\n",
       "    .dataframe tbody tr th {\n",
       "        vertical-align: top;\n",
       "    }\n",
       "\n",
       "    .dataframe thead th {\n",
       "        text-align: right;\n",
       "    }\n",
       "</style>\n",
       "<table border=\"1\" class=\"dataframe\">\n",
       "  <thead>\n",
       "    <tr style=\"text-align: right;\">\n",
       "      <th></th>\n",
       "      <th>duration</th>\n",
       "      <th>credit_history</th>\n",
       "      <th>amount</th>\n",
       "      <th>savings_acc</th>\n",
       "      <th>present_emp_since</th>\n",
       "      <th>inst_rate</th>\n",
       "    </tr>\n",
       "  </thead>\n",
       "  <tbody>\n",
       "    <tr>\n",
       "      <th>0</th>\n",
       "      <td>6</td>\n",
       "      <td>A34</td>\n",
       "      <td>1169</td>\n",
       "      <td>A65</td>\n",
       "      <td>A75</td>\n",
       "      <td>4</td>\n",
       "    </tr>\n",
       "    <tr>\n",
       "      <th>1</th>\n",
       "      <td>48</td>\n",
       "      <td>A32</td>\n",
       "      <td>5951</td>\n",
       "      <td>A61</td>\n",
       "      <td>A73</td>\n",
       "      <td>2</td>\n",
       "    </tr>\n",
       "    <tr>\n",
       "      <th>2</th>\n",
       "      <td>12</td>\n",
       "      <td>A34</td>\n",
       "      <td>2096</td>\n",
       "      <td>A61</td>\n",
       "      <td>A74</td>\n",
       "      <td>2</td>\n",
       "    </tr>\n",
       "    <tr>\n",
       "      <th>3</th>\n",
       "      <td>42</td>\n",
       "      <td>A32</td>\n",
       "      <td>7882</td>\n",
       "      <td>A61</td>\n",
       "      <td>A74</td>\n",
       "      <td>2</td>\n",
       "    </tr>\n",
       "    <tr>\n",
       "      <th>4</th>\n",
       "      <td>24</td>\n",
       "      <td>A33</td>\n",
       "      <td>4870</td>\n",
       "      <td>A61</td>\n",
       "      <td>A73</td>\n",
       "      <td>3</td>\n",
       "    </tr>\n",
       "  </tbody>\n",
       "</table>\n",
       "</div>"
      ],
      "text/plain": [
       "   duration credit_history  amount savings_acc present_emp_since  inst_rate\n",
       "0         6            A34    1169         A65               A75          4\n",
       "1        48            A32    5951         A61               A73          2\n",
       "2        12            A34    2096         A61               A74          2\n",
       "3        42            A32    7882         A61               A74          2\n",
       "4        24            A33    4870         A61               A73          3"
      ]
     },
     "execution_count": 3,
     "metadata": {},
     "output_type": "execute_result"
    }
   ],
   "source": [
    "credit_df.iloc[0:5, 1:7]"
   ]
  },
  {
   "cell_type": "code",
   "execution_count": 4,
   "metadata": {},
   "outputs": [
    {
     "data": {
      "text/html": [
       "<div>\n",
       "<style scoped>\n",
       "    .dataframe tbody tr th:only-of-type {\n",
       "        vertical-align: middle;\n",
       "    }\n",
       "\n",
       "    .dataframe tbody tr th {\n",
       "        vertical-align: top;\n",
       "    }\n",
       "\n",
       "    .dataframe thead th {\n",
       "        text-align: right;\n",
       "    }\n",
       "</style>\n",
       "<table border=\"1\" class=\"dataframe\">\n",
       "  <thead>\n",
       "    <tr style=\"text-align: right;\">\n",
       "      <th></th>\n",
       "      <th>residing_since</th>\n",
       "      <th>age</th>\n",
       "      <th>inst_plans</th>\n",
       "      <th>num_credits</th>\n",
       "      <th>job</th>\n",
       "      <th>status</th>\n",
       "    </tr>\n",
       "  </thead>\n",
       "  <tbody>\n",
       "    <tr>\n",
       "      <th>0</th>\n",
       "      <td>4</td>\n",
       "      <td>67</td>\n",
       "      <td>A143</td>\n",
       "      <td>2</td>\n",
       "      <td>A173</td>\n",
       "      <td>0</td>\n",
       "    </tr>\n",
       "    <tr>\n",
       "      <th>1</th>\n",
       "      <td>2</td>\n",
       "      <td>22</td>\n",
       "      <td>A143</td>\n",
       "      <td>1</td>\n",
       "      <td>A173</td>\n",
       "      <td>1</td>\n",
       "    </tr>\n",
       "    <tr>\n",
       "      <th>2</th>\n",
       "      <td>3</td>\n",
       "      <td>49</td>\n",
       "      <td>A143</td>\n",
       "      <td>1</td>\n",
       "      <td>A172</td>\n",
       "      <td>0</td>\n",
       "    </tr>\n",
       "    <tr>\n",
       "      <th>3</th>\n",
       "      <td>4</td>\n",
       "      <td>45</td>\n",
       "      <td>A143</td>\n",
       "      <td>1</td>\n",
       "      <td>A173</td>\n",
       "      <td>0</td>\n",
       "    </tr>\n",
       "    <tr>\n",
       "      <th>4</th>\n",
       "      <td>4</td>\n",
       "      <td>53</td>\n",
       "      <td>A143</td>\n",
       "      <td>2</td>\n",
       "      <td>A173</td>\n",
       "      <td>1</td>\n",
       "    </tr>\n",
       "  </tbody>\n",
       "</table>\n",
       "</div>"
      ],
      "text/plain": [
       "   residing_since  age inst_plans  num_credits   job  status\n",
       "0               4   67       A143            2  A173       0\n",
       "1               2   22       A143            1  A173       1\n",
       "2               3   49       A143            1  A172       0\n",
       "3               4   45       A143            1  A173       0\n",
       "4               4   53       A143            2  A173       1"
      ]
     },
     "execution_count": 4,
     "metadata": {},
     "output_type": "execute_result"
    }
   ],
   "source": [
    "credit_df.iloc[0:5, 8:]"
   ]
  },
  {
   "cell_type": "markdown",
   "metadata": {},
   "source": [
    "    As observed, there are few columns are categorical. Those need to be transformed using pd.get_dummies() later."
   ]
  },
  {
   "cell_type": "code",
   "execution_count": 5,
   "metadata": {},
   "outputs": [
    {
     "data": {
      "text/plain": [
       "0    700\n",
       "1    300\n",
       "Name: status, dtype: int64"
      ]
     },
     "execution_count": 5,
     "metadata": {},
     "output_type": "execute_result"
    }
   ],
   "source": [
    "credit_df.status.value_counts()"
   ]
  },
  {
   "cell_type": "markdown",
   "metadata": {},
   "source": [
    "    0: Good Credit and 1: Bad Credit as per info() information. There are more Good credit information than Bad credit."
   ]
  },
  {
   "cell_type": "markdown",
   "metadata": {},
   "source": [
    "    For  building a classification model, the status column will be used as the dependent variable, while the remaining columns will be independent variables or features. We will create a list named X_features and store the names of all independent variables for future use. "
   ]
  },
  {
   "cell_type": "code",
   "execution_count": 6,
   "metadata": {},
   "outputs": [
    {
     "data": {
      "text/plain": [
       "['checkin_acc',\n",
       " 'duration',\n",
       " 'credit_history',\n",
       " 'amount',\n",
       " 'savings_acc',\n",
       " 'present_emp_since',\n",
       " 'inst_rate',\n",
       " 'personal_status',\n",
       " 'residing_since',\n",
       " 'age',\n",
       " 'inst_plans',\n",
       " 'num_credits',\n",
       " 'job']"
      ]
     },
     "execution_count": 6,
     "metadata": {},
     "output_type": "execute_result"
    }
   ],
   "source": [
    "X_features = list(credit_df.columns)\n",
    "X_features.remove('status')\n",
    "X_features"
   ]
  },
  {
   "cell_type": "markdown",
   "metadata": {},
   "source": [
    "### Encoding Categorical Features\n",
    "    \n",
    "    There are several categorical features in the data which need to be binary encoded (using dummy variables). Also this process know as One Hot Encoding (OHE). "
   ]
  },
  {
   "cell_type": "code",
   "execution_count": 7,
   "metadata": {},
   "outputs": [],
   "source": [
    "encoded_credit_df = pd.get_dummies(credit_df[X_features], drop_first = True)"
   ]
  },
  {
   "cell_type": "code",
   "execution_count": 8,
   "metadata": {},
   "outputs": [
    {
     "data": {
      "text/plain": [
       "['duration',\n",
       " 'amount',\n",
       " 'inst_rate',\n",
       " 'residing_since',\n",
       " 'age',\n",
       " 'num_credits',\n",
       " 'checkin_acc_A12',\n",
       " 'checkin_acc_A13',\n",
       " 'checkin_acc_A14',\n",
       " 'credit_history_A31',\n",
       " 'credit_history_A32',\n",
       " 'credit_history_A33',\n",
       " 'credit_history_A34',\n",
       " 'savings_acc_A62',\n",
       " 'savings_acc_A63',\n",
       " 'savings_acc_A64',\n",
       " 'savings_acc_A65',\n",
       " 'present_emp_since_A72',\n",
       " 'present_emp_since_A73',\n",
       " 'present_emp_since_A74',\n",
       " 'present_emp_since_A75',\n",
       " 'personal_status_A92',\n",
       " 'personal_status_A93',\n",
       " 'personal_status_A94',\n",
       " 'inst_plans_A142',\n",
       " 'inst_plans_A143',\n",
       " 'job_A172',\n",
       " 'job_A173',\n",
       " 'job_A174']"
      ]
     },
     "execution_count": 8,
     "metadata": {},
     "output_type": "execute_result"
    }
   ],
   "source": [
    "list(encoded_credit_df.columns)"
   ]
  },
  {
   "cell_type": "markdown",
   "metadata": {},
   "source": [
    "    For example, checkin_acc variable is encoded into the following three dummy variables and the base category. \n",
    "    \n",
    "    checkin_acc_A11 is dropped. If all the following three variables value are set to 0, it indicates that the account type is checkin_acc_A11."
   ]
  },
  {
   "cell_type": "code",
   "execution_count": 9,
   "metadata": {},
   "outputs": [
    {
     "data": {
      "text/html": [
       "<div>\n",
       "<style scoped>\n",
       "    .dataframe tbody tr th:only-of-type {\n",
       "        vertical-align: middle;\n",
       "    }\n",
       "\n",
       "    .dataframe tbody tr th {\n",
       "        vertical-align: top;\n",
       "    }\n",
       "\n",
       "    .dataframe thead th {\n",
       "        text-align: right;\n",
       "    }\n",
       "</style>\n",
       "<table border=\"1\" class=\"dataframe\">\n",
       "  <thead>\n",
       "    <tr style=\"text-align: right;\">\n",
       "      <th></th>\n",
       "      <th>checkin_acc_A12</th>\n",
       "      <th>checkin_acc_A13</th>\n",
       "      <th>checkin_acc_A14</th>\n",
       "    </tr>\n",
       "  </thead>\n",
       "  <tbody>\n",
       "    <tr>\n",
       "      <th>0</th>\n",
       "      <td>0</td>\n",
       "      <td>0</td>\n",
       "      <td>0</td>\n",
       "    </tr>\n",
       "    <tr>\n",
       "      <th>1</th>\n",
       "      <td>1</td>\n",
       "      <td>0</td>\n",
       "      <td>0</td>\n",
       "    </tr>\n",
       "    <tr>\n",
       "      <th>2</th>\n",
       "      <td>0</td>\n",
       "      <td>0</td>\n",
       "      <td>1</td>\n",
       "    </tr>\n",
       "    <tr>\n",
       "      <th>3</th>\n",
       "      <td>0</td>\n",
       "      <td>0</td>\n",
       "      <td>0</td>\n",
       "    </tr>\n",
       "    <tr>\n",
       "      <th>4</th>\n",
       "      <td>0</td>\n",
       "      <td>0</td>\n",
       "      <td>0</td>\n",
       "    </tr>\n",
       "  </tbody>\n",
       "</table>\n",
       "</div>"
      ],
      "text/plain": [
       "   checkin_acc_A12  checkin_acc_A13  checkin_acc_A14\n",
       "0                0                0                0\n",
       "1                1                0                0\n",
       "2                0                0                1\n",
       "3                0                0                0\n",
       "4                0                0                0"
      ]
     },
     "execution_count": 9,
     "metadata": {},
     "output_type": "execute_result"
    }
   ],
   "source": [
    "encoded_credit_df[['checkin_acc_A12', 'checkin_acc_A13', 'checkin_acc_A14']].head()"
   ]
  },
  {
   "cell_type": "markdown",
   "metadata": {},
   "source": [
    "    The first record has all the dummy variable values set to 0, indicating it is checkin account type checkin_acc_A11, which is the base category.  The account type in second observation is checkin_acc_A12 and so on. "
   ]
  },
  {
   "cell_type": "code",
   "execution_count": 10,
   "metadata": {},
   "outputs": [
    {
     "name": "stderr",
     "output_type": "stream",
     "text": [
      "H:\\Anaconda3\\lib\\site-packages\\numpy\\core\\fromnumeric.py:2389: FutureWarning: Method .ptp is deprecated and will be removed in a future version. Use numpy.ptp instead.\n",
      "  return ptp(axis=axis, out=out, **kwargs)\n"
     ]
    }
   ],
   "source": [
    "import statsmodels.api as sm\n",
    "\n",
    "\n",
    "Y = credit_df.status\n",
    "X = sm.add_constant(encoded_credit_df)"
   ]
  },
  {
   "cell_type": "markdown",
   "metadata": {},
   "source": [
    "### Splitting Dataset into Training and Test sets"
   ]
  },
  {
   "cell_type": "code",
   "execution_count": 11,
   "metadata": {},
   "outputs": [],
   "source": [
    "from sklearn.model_selection import train_test_split\n",
    "\n",
    "X_train, X_test, y_train, y_test = train_test_split(X, Y, test_size = 0.3, random_state = 42)"
   ]
  },
  {
   "cell_type": "markdown",
   "metadata": {},
   "source": [
    "### Building Logistic Regression Model\n"
   ]
  },
  {
   "cell_type": "code",
   "execution_count": 12,
   "metadata": {},
   "outputs": [
    {
     "name": "stdout",
     "output_type": "stream",
     "text": [
      "Optimization terminated successfully.\n",
      "         Current function value: 0.488938\n",
      "         Iterations 6\n"
     ]
    }
   ],
   "source": [
    "logit = sm.Logit(y_train, X_train)\n",
    "\n",
    "logit_model = logit.fit()"
   ]
  },
  {
   "cell_type": "code",
   "execution_count": 13,
   "metadata": {},
   "outputs": [
    {
     "data": {
      "text/html": [
       "<table class=\"simpletable\">\n",
       "<caption>Logit Regression Results</caption>\n",
       "<tr>\n",
       "  <th>Dep. Variable:</th>      <td>status</td>      <th>  No. Observations:  </th>  <td>   700</td>  \n",
       "</tr>\n",
       "<tr>\n",
       "  <th>Model:</th>               <td>Logit</td>      <th>  Df Residuals:      </th>  <td>   670</td>  \n",
       "</tr>\n",
       "<tr>\n",
       "  <th>Method:</th>               <td>MLE</td>       <th>  Df Model:          </th>  <td>    29</td>  \n",
       "</tr>\n",
       "<tr>\n",
       "  <th>Date:</th>          <td>Tue, 23 Jun 2020</td> <th>  Pseudo R-squ.:     </th>  <td>0.1980</td>  \n",
       "</tr>\n",
       "<tr>\n",
       "  <th>Time:</th>              <td>08:11:30</td>     <th>  Log-Likelihood:    </th> <td> -342.26</td> \n",
       "</tr>\n",
       "<tr>\n",
       "  <th>converged:</th>           <td>True</td>       <th>  LL-Null:           </th> <td> -426.75</td> \n",
       "</tr>\n",
       "<tr>\n",
       "  <th> </th>                      <td> </td>        <th>  LLR p-value:       </th> <td>1.063e-21</td>\n",
       "</tr>\n",
       "</table>\n",
       "<table class=\"simpletable\">\n",
       "<tr>\n",
       "            <td></td>               <th>coef</th>     <th>std err</th>      <th>z</th>      <th>P>|z|</th>  <th>[0.025</th>    <th>0.975]</th>  \n",
       "</tr>\n",
       "<tr>\n",
       "  <th>const</th>                 <td>   -0.1511</td> <td>    1.135</td> <td>   -0.133</td> <td> 0.894</td> <td>   -2.375</td> <td>    2.073</td>\n",
       "</tr>\n",
       "<tr>\n",
       "  <th>duration</th>              <td>    0.0206</td> <td>    0.010</td> <td>    1.993</td> <td> 0.046</td> <td>    0.000</td> <td>    0.041</td>\n",
       "</tr>\n",
       "<tr>\n",
       "  <th>amount</th>                <td>    0.0001</td> <td> 4.65e-05</td> <td>    2.377</td> <td> 0.017</td> <td> 1.93e-05</td> <td>    0.000</td>\n",
       "</tr>\n",
       "<tr>\n",
       "  <th>inst_rate</th>             <td>    0.3064</td> <td>    0.099</td> <td>    3.108</td> <td> 0.002</td> <td>    0.113</td> <td>    0.500</td>\n",
       "</tr>\n",
       "<tr>\n",
       "  <th>residing_since</th>        <td>    0.0967</td> <td>    0.092</td> <td>    1.051</td> <td> 0.293</td> <td>   -0.084</td> <td>    0.277</td>\n",
       "</tr>\n",
       "<tr>\n",
       "  <th>age</th>                   <td>   -0.0227</td> <td>    0.010</td> <td>   -2.213</td> <td> 0.027</td> <td>   -0.043</td> <td>   -0.003</td>\n",
       "</tr>\n",
       "<tr>\n",
       "  <th>num_credits</th>           <td>    0.2854</td> <td>    0.214</td> <td>    1.334</td> <td> 0.182</td> <td>   -0.134</td> <td>    0.705</td>\n",
       "</tr>\n",
       "<tr>\n",
       "  <th>checkin_acc_A12</th>       <td>   -0.4126</td> <td>    0.239</td> <td>   -1.726</td> <td> 0.084</td> <td>   -0.881</td> <td>    0.056</td>\n",
       "</tr>\n",
       "<tr>\n",
       "  <th>checkin_acc_A13</th>       <td>   -0.9053</td> <td>    0.434</td> <td>   -2.087</td> <td> 0.037</td> <td>   -1.756</td> <td>   -0.055</td>\n",
       "</tr>\n",
       "<tr>\n",
       "  <th>checkin_acc_A14</th>       <td>   -1.6052</td> <td>    0.259</td> <td>   -6.207</td> <td> 0.000</td> <td>   -2.112</td> <td>   -1.098</td>\n",
       "</tr>\n",
       "<tr>\n",
       "  <th>credit_history_A31</th>    <td>    0.1532</td> <td>    0.580</td> <td>    0.264</td> <td> 0.792</td> <td>   -0.983</td> <td>    1.289</td>\n",
       "</tr>\n",
       "<tr>\n",
       "  <th>credit_history_A32</th>    <td>   -0.4960</td> <td>    0.441</td> <td>   -1.124</td> <td> 0.261</td> <td>   -1.360</td> <td>    0.369</td>\n",
       "</tr>\n",
       "<tr>\n",
       "  <th>credit_history_A33</th>    <td>   -0.8881</td> <td>    0.502</td> <td>   -1.768</td> <td> 0.077</td> <td>   -1.872</td> <td>    0.096</td>\n",
       "</tr>\n",
       "<tr>\n",
       "  <th>credit_history_A34</th>    <td>   -1.4124</td> <td>    0.453</td> <td>   -3.119</td> <td> 0.002</td> <td>   -2.300</td> <td>   -0.525</td>\n",
       "</tr>\n",
       "<tr>\n",
       "  <th>savings_acc_A62</th>       <td>   -0.0496</td> <td>    0.321</td> <td>   -0.155</td> <td> 0.877</td> <td>   -0.678</td> <td>    0.579</td>\n",
       "</tr>\n",
       "<tr>\n",
       "  <th>savings_acc_A63</th>       <td>   -0.6640</td> <td>    0.482</td> <td>   -1.378</td> <td> 0.168</td> <td>   -1.608</td> <td>    0.280</td>\n",
       "</tr>\n",
       "<tr>\n",
       "  <th>savings_acc_A64</th>       <td>   -1.1099</td> <td>    0.602</td> <td>   -1.844</td> <td> 0.065</td> <td>   -2.290</td> <td>    0.070</td>\n",
       "</tr>\n",
       "<tr>\n",
       "  <th>savings_acc_A65</th>       <td>   -0.6061</td> <td>    0.275</td> <td>   -2.208</td> <td> 0.027</td> <td>   -1.144</td> <td>   -0.068</td>\n",
       "</tr>\n",
       "<tr>\n",
       "  <th>present_emp_since_A72</th> <td>    0.0855</td> <td>    0.472</td> <td>    0.181</td> <td> 0.856</td> <td>   -0.840</td> <td>    1.011</td>\n",
       "</tr>\n",
       "<tr>\n",
       "  <th>present_emp_since_A73</th> <td>   -0.0339</td> <td>    0.449</td> <td>   -0.075</td> <td> 0.940</td> <td>   -0.914</td> <td>    0.846</td>\n",
       "</tr>\n",
       "<tr>\n",
       "  <th>present_emp_since_A74</th> <td>   -0.3789</td> <td>    0.479</td> <td>   -0.791</td> <td> 0.429</td> <td>   -1.318</td> <td>    0.560</td>\n",
       "</tr>\n",
       "<tr>\n",
       "  <th>present_emp_since_A75</th> <td>   -0.2605</td> <td>    0.455</td> <td>   -0.572</td> <td> 0.567</td> <td>   -1.153</td> <td>    0.632</td>\n",
       "</tr>\n",
       "<tr>\n",
       "  <th>personal_status_A92</th>   <td>   -0.0069</td> <td>    0.484</td> <td>   -0.014</td> <td> 0.989</td> <td>   -0.956</td> <td>    0.942</td>\n",
       "</tr>\n",
       "<tr>\n",
       "  <th>personal_status_A93</th>   <td>   -0.4426</td> <td>    0.476</td> <td>   -0.929</td> <td> 0.353</td> <td>   -1.376</td> <td>    0.491</td>\n",
       "</tr>\n",
       "<tr>\n",
       "  <th>personal_status_A94</th>   <td>   -0.3080</td> <td>    0.555</td> <td>   -0.555</td> <td> 0.579</td> <td>   -1.397</td> <td>    0.781</td>\n",
       "</tr>\n",
       "<tr>\n",
       "  <th>inst_plans_A142</th>       <td>   -0.2976</td> <td>    0.516</td> <td>   -0.577</td> <td> 0.564</td> <td>   -1.308</td> <td>    0.713</td>\n",
       "</tr>\n",
       "<tr>\n",
       "  <th>inst_plans_A143</th>       <td>   -0.4458</td> <td>    0.277</td> <td>   -1.609</td> <td> 0.108</td> <td>   -0.989</td> <td>    0.097</td>\n",
       "</tr>\n",
       "<tr>\n",
       "  <th>job_A172</th>              <td>   -0.0955</td> <td>    0.768</td> <td>   -0.124</td> <td> 0.901</td> <td>   -1.601</td> <td>    1.410</td>\n",
       "</tr>\n",
       "<tr>\n",
       "  <th>job_A173</th>              <td>   -0.0198</td> <td>    0.738</td> <td>   -0.027</td> <td> 0.979</td> <td>   -1.466</td> <td>    1.426</td>\n",
       "</tr>\n",
       "<tr>\n",
       "  <th>job_A174</th>              <td>   -0.0428</td> <td>    0.737</td> <td>   -0.058</td> <td> 0.954</td> <td>   -1.488</td> <td>    1.402</td>\n",
       "</tr>\n",
       "</table>"
      ],
      "text/plain": [
       "<class 'statsmodels.iolib.summary.Summary'>\n",
       "\"\"\"\n",
       "                           Logit Regression Results                           \n",
       "==============================================================================\n",
       "Dep. Variable:                 status   No. Observations:                  700\n",
       "Model:                          Logit   Df Residuals:                      670\n",
       "Method:                           MLE   Df Model:                           29\n",
       "Date:                Tue, 23 Jun 2020   Pseudo R-squ.:                  0.1980\n",
       "Time:                        08:11:30   Log-Likelihood:                -342.26\n",
       "converged:                       True   LL-Null:                       -426.75\n",
       "                                        LLR p-value:                 1.063e-21\n",
       "=========================================================================================\n",
       "                            coef    std err          z      P>|z|      [0.025      0.975]\n",
       "-----------------------------------------------------------------------------------------\n",
       "const                    -0.1511      1.135     -0.133      0.894      -2.375       2.073\n",
       "duration                  0.0206      0.010      1.993      0.046       0.000       0.041\n",
       "amount                    0.0001   4.65e-05      2.377      0.017    1.93e-05       0.000\n",
       "inst_rate                 0.3064      0.099      3.108      0.002       0.113       0.500\n",
       "residing_since            0.0967      0.092      1.051      0.293      -0.084       0.277\n",
       "age                      -0.0227      0.010     -2.213      0.027      -0.043      -0.003\n",
       "num_credits               0.2854      0.214      1.334      0.182      -0.134       0.705\n",
       "checkin_acc_A12          -0.4126      0.239     -1.726      0.084      -0.881       0.056\n",
       "checkin_acc_A13          -0.9053      0.434     -2.087      0.037      -1.756      -0.055\n",
       "checkin_acc_A14          -1.6052      0.259     -6.207      0.000      -2.112      -1.098\n",
       "credit_history_A31        0.1532      0.580      0.264      0.792      -0.983       1.289\n",
       "credit_history_A32       -0.4960      0.441     -1.124      0.261      -1.360       0.369\n",
       "credit_history_A33       -0.8881      0.502     -1.768      0.077      -1.872       0.096\n",
       "credit_history_A34       -1.4124      0.453     -3.119      0.002      -2.300      -0.525\n",
       "savings_acc_A62          -0.0496      0.321     -0.155      0.877      -0.678       0.579\n",
       "savings_acc_A63          -0.6640      0.482     -1.378      0.168      -1.608       0.280\n",
       "savings_acc_A64          -1.1099      0.602     -1.844      0.065      -2.290       0.070\n",
       "savings_acc_A65          -0.6061      0.275     -2.208      0.027      -1.144      -0.068\n",
       "present_emp_since_A72     0.0855      0.472      0.181      0.856      -0.840       1.011\n",
       "present_emp_since_A73    -0.0339      0.449     -0.075      0.940      -0.914       0.846\n",
       "present_emp_since_A74    -0.3789      0.479     -0.791      0.429      -1.318       0.560\n",
       "present_emp_since_A75    -0.2605      0.455     -0.572      0.567      -1.153       0.632\n",
       "personal_status_A92      -0.0069      0.484     -0.014      0.989      -0.956       0.942\n",
       "personal_status_A93      -0.4426      0.476     -0.929      0.353      -1.376       0.491\n",
       "personal_status_A94      -0.3080      0.555     -0.555      0.579      -1.397       0.781\n",
       "inst_plans_A142          -0.2976      0.516     -0.577      0.564      -1.308       0.713\n",
       "inst_plans_A143          -0.4458      0.277     -1.609      0.108      -0.989       0.097\n",
       "job_A172                 -0.0955      0.768     -0.124      0.901      -1.601       1.410\n",
       "job_A173                 -0.0198      0.738     -0.027      0.979      -1.466       1.426\n",
       "job_A174                 -0.0428      0.737     -0.058      0.954      -1.488       1.402\n",
       "=========================================================================================\n",
       "\"\"\""
      ]
     },
     "execution_count": 13,
     "metadata": {},
     "output_type": "execute_result"
    }
   ],
   "source": [
    "logit_model.summary()"
   ]
  },
  {
   "cell_type": "markdown",
   "metadata": {},
   "source": [
    "### Model Diagnostics\n",
    "\n",
    "    It is important to validate the logistic regression modelto ensure its validity and goodness of fit before it can be used for practical applications. The following measures are used to validate a logistic regression model. \n",
    "    \n",
    "    1. Wald's test (is a Chi-square test) for checking the staticical significant of individual predictor variables. This is equivalent to t-test in the MLR (multiple linear regression) model. \n",
    "    \n",
    "    2. Likelihood ratio test for checking the statistical significance of the overall model (LLR p-value is reported in the output). Likelihood ratio test is also used for variable selection.\n",
    "    \n",
    "    3. Pseudo R-square: it is a measure of goodness of the model. It is called pseudo R-square it does not have the same interpretation of R-square as in the MLR model.\n",
    "    \n",
    "    \n",
    "\n",
    "    The model summary suggests that as per Wald's test, only 8 features are statistically significant at 0.05 level of significant. as p-values are less than 0.05, p-value for likelihood ratio test (almost 0.00) indicates that the overall model is statistically significant. \n",
    "    \n",
    "    "
   ]
  },
  {
   "cell_type": "code",
   "execution_count": 14,
   "metadata": {},
   "outputs": [],
   "source": [
    "def get_significant_vars( lm ):\n",
    "    var_p_vals_df = pd.DataFrame( lm.pvalues )\n",
    "    var_p_vals_df['vars'] = var_p_vals_df.index\n",
    "    var_p_vals_df.columns = ['pvals', 'vars']\n",
    "    return list( var_p_vals_df[var_p_vals_df.pvals <= 0.05]['vars'])"
   ]
  },
  {
   "cell_type": "code",
   "execution_count": 15,
   "metadata": {},
   "outputs": [
    {
     "data": {
      "text/plain": [
       "['duration',\n",
       " 'amount',\n",
       " 'inst_rate',\n",
       " 'age',\n",
       " 'checkin_acc_A13',\n",
       " 'checkin_acc_A14',\n",
       " 'credit_history_A34',\n",
       " 'savings_acc_A65']"
      ]
     },
     "execution_count": 15,
     "metadata": {},
     "output_type": "execute_result"
    }
   ],
   "source": [
    "significant_vars = get_significant_vars( logit_model ) \n",
    "significant_vars"
   ]
  },
  {
   "cell_type": "code",
   "execution_count": 16,
   "metadata": {},
   "outputs": [
    {
     "name": "stdout",
     "output_type": "stream",
     "text": [
      "Optimization terminated successfully.\n",
      "         Current function value: 0.511350\n",
      "         Iterations 6\n"
     ]
    },
    {
     "name": "stderr",
     "output_type": "stream",
     "text": [
      "H:\\Anaconda3\\lib\\site-packages\\numpy\\core\\fromnumeric.py:2389: FutureWarning: Method .ptp is deprecated and will be removed in a future version. Use numpy.ptp instead.\n",
      "  return ptp(axis=axis, out=out, **kwargs)\n"
     ]
    }
   ],
   "source": [
    "final_logit = sm.Logit( y_train, sm.add_constant( X_train[significant_vars] ) ).fit() "
   ]
  },
  {
   "cell_type": "code",
   "execution_count": 17,
   "metadata": {
    "scrolled": true
   },
   "outputs": [
    {
     "data": {
      "text/html": [
       "<table class=\"simpletable\">\n",
       "<tr>\n",
       "        <td>Model:</td>              <td>Logit</td>      <td>Pseudo R-squared:</td>    <td>0.161</td>  \n",
       "</tr>\n",
       "<tr>\n",
       "  <td>Dependent Variable:</td>      <td>status</td>            <td>AIC:</td>         <td>733.8898</td> \n",
       "</tr>\n",
       "<tr>\n",
       "         <td>Date:</td>        <td>2020-06-23 08:11</td>       <td>BIC:</td>         <td>774.8495</td> \n",
       "</tr>\n",
       "<tr>\n",
       "   <td>No. Observations:</td>         <td>700</td>        <td>Log-Likelihood:</td>    <td>-357.94</td> \n",
       "</tr>\n",
       "<tr>\n",
       "       <td>Df Model:</td>              <td>8</td>            <td>LL-Null:</td>        <td>-426.75</td> \n",
       "</tr>\n",
       "<tr>\n",
       "     <td>Df Residuals:</td>           <td>691</td>         <td>LLR p-value:</td>    <td>7.4185e-26</td>\n",
       "</tr>\n",
       "<tr>\n",
       "      <td>Converged:</td>           <td>1.0000</td>           <td>Scale:</td>         <td>1.0000</td>  \n",
       "</tr>\n",
       "<tr>\n",
       "    <td>No. Iterations:</td>        <td>6.0000</td>              <td></td>               <td></td>     \n",
       "</tr>\n",
       "</table>\n",
       "<table class=\"simpletable\">\n",
       "<tr>\n",
       "           <td></td>           <th>Coef.</th>  <th>Std.Err.</th>    <th>z</th>     <th>P>|z|</th> <th>[0.025</th>  <th>0.975]</th> \n",
       "</tr>\n",
       "<tr>\n",
       "  <th>const</th>              <td>-0.8969</td>  <td>0.4364</td>  <td>-2.0551</td> <td>0.0399</td> <td>-1.7523</td> <td>-0.0415</td>\n",
       "</tr>\n",
       "<tr>\n",
       "  <th>duration</th>           <td>0.0197</td>   <td>0.0098</td>  <td>2.0033</td>  <td>0.0451</td> <td>0.0004</td>  <td>0.0390</td> \n",
       "</tr>\n",
       "<tr>\n",
       "  <th>amount</th>             <td>0.0001</td>   <td>0.0000</td>  <td>2.3205</td>  <td>0.0203</td> <td>0.0000</td>  <td>0.0002</td> \n",
       "</tr>\n",
       "<tr>\n",
       "  <th>inst_rate</th>          <td>0.2811</td>   <td>0.0929</td>  <td>3.0264</td>  <td>0.0025</td> <td>0.0991</td>  <td>0.4632</td> \n",
       "</tr>\n",
       "<tr>\n",
       "  <th>age</th>                <td>-0.0216</td>  <td>0.0089</td>  <td>-2.4207</td> <td>0.0155</td> <td>-0.0392</td> <td>-0.0041</td>\n",
       "</tr>\n",
       "<tr>\n",
       "  <th>checkin_acc_A13</th>    <td>-0.8038</td>  <td>0.4081</td>  <td>-1.9697</td> <td>0.0489</td> <td>-1.6037</td> <td>-0.0040</td>\n",
       "</tr>\n",
       "<tr>\n",
       "  <th>checkin_acc_A14</th>    <td>-1.5452</td>  <td>0.2187</td>  <td>-7.0649</td> <td>0.0000</td> <td>-1.9738</td> <td>-1.1165</td>\n",
       "</tr>\n",
       "<tr>\n",
       "  <th>credit_history_A34</th> <td>-0.8781</td>  <td>0.2319</td>  <td>-3.7858</td> <td>0.0002</td> <td>-1.3327</td> <td>-0.4235</td>\n",
       "</tr>\n",
       "<tr>\n",
       "  <th>savings_acc_A65</th>    <td>-0.5448</td>  <td>0.2581</td>  <td>-2.1108</td> <td>0.0348</td> <td>-1.0507</td> <td>-0.0389</td>\n",
       "</tr>\n",
       "</table>"
      ],
      "text/plain": [
       "<class 'statsmodels.iolib.summary2.Summary'>\n",
       "\"\"\"\n",
       "                          Results: Logit\n",
       "==================================================================\n",
       "Model:               Logit            Pseudo R-squared: 0.161     \n",
       "Dependent Variable:  status           AIC:              733.8898  \n",
       "Date:                2020-06-23 08:11 BIC:              774.8495  \n",
       "No. Observations:    700              Log-Likelihood:   -357.94   \n",
       "Df Model:            8                LL-Null:          -426.75   \n",
       "Df Residuals:        691              LLR p-value:      7.4185e-26\n",
       "Converged:           1.0000           Scale:            1.0000    \n",
       "No. Iterations:      6.0000                                       \n",
       "------------------------------------------------------------------\n",
       "                    Coef.  Std.Err.    z    P>|z|   [0.025  0.975]\n",
       "------------------------------------------------------------------\n",
       "const              -0.8969   0.4364 -2.0551 0.0399 -1.7523 -0.0415\n",
       "duration            0.0197   0.0098  2.0033 0.0451  0.0004  0.0390\n",
       "amount              0.0001   0.0000  2.3205 0.0203  0.0000  0.0002\n",
       "inst_rate           0.2811   0.0929  3.0264 0.0025  0.0991  0.4632\n",
       "age                -0.0216   0.0089 -2.4207 0.0155 -0.0392 -0.0041\n",
       "checkin_acc_A13    -0.8038   0.4081 -1.9697 0.0489 -1.6037 -0.0040\n",
       "checkin_acc_A14    -1.5452   0.2187 -7.0649 0.0000 -1.9738 -1.1165\n",
       "credit_history_A34 -0.8781   0.2319 -3.7858 0.0002 -1.3327 -0.4235\n",
       "savings_acc_A65    -0.5448   0.2581 -2.1108 0.0348 -1.0507 -0.0389\n",
       "==================================================================\n",
       "\n",
       "\"\"\""
      ]
     },
     "execution_count": 17,
     "metadata": {},
     "output_type": "execute_result"
    }
   ],
   "source": [
    "final_logit.summary2()"
   ]
  },
  {
   "cell_type": "code",
   "execution_count": 18,
   "metadata": {},
   "outputs": [
    {
     "data": {
      "text/plain": [
       "array([0.12491651, 0.14893061, 0.48388335, 0.12999817, 0.14728162,\n",
       "       0.15091   , 0.57915508, 0.40150258, 0.52777751, 0.05889065,\n",
       "       0.35928155, 0.54575075, 0.11753399, 0.55234598, 0.09810212,\n",
       "       0.20689565, 0.18642782, 0.03052611, 0.62653351, 0.40785643,\n",
       "       0.53774518, 0.42349499, 0.10003751, 0.14731482, 0.59404289,\n",
       "       0.09347537, 0.3795748 , 0.36478559, 0.42655559, 0.14329295,\n",
       "       0.54331958, 0.29889839, 0.51586186, 0.02810455, 0.08207986,\n",
       "       0.2989718 , 0.73260816, 0.1586864 , 0.35288899, 0.13905618,\n",
       "       0.46358494, 0.35142665, 0.47086615, 0.29771828, 0.04657916,\n",
       "       0.15330644, 0.5674739 , 0.09125177, 0.0426326 , 0.04055503,\n",
       "       0.53908136, 0.59865996, 0.2245237 , 0.1881536 , 0.59790204,\n",
       "       0.72626082, 0.04122059, 0.23181359, 0.02749225, 0.11323186,\n",
       "       0.18458508, 0.24527597, 0.03892068, 0.16643914, 0.21433628,\n",
       "       0.39699038, 0.06703786, 0.10106142, 0.21813996, 0.07479413,\n",
       "       0.34048252, 0.10831464, 0.17710115, 0.45207562, 0.11934688,\n",
       "       0.24831164, 0.36334103, 0.33262675, 0.28640238, 0.5047798 ,\n",
       "       0.0696648 , 0.70467423, 0.01922756, 0.03109823, 0.49046759,\n",
       "       0.43223478, 0.60310524, 0.12935586, 0.02868234, 0.04454573,\n",
       "       0.08021644, 0.43346078, 0.48578719, 0.35659069, 0.42135752,\n",
       "       0.24173875, 0.39613914, 0.42218086, 0.06263087, 0.13874091,\n",
       "       0.03022731, 0.23331066, 0.1488021 , 0.40357312, 0.53372697,\n",
       "       0.22626664, 0.34329369, 0.62196737, 0.4610769 , 0.40282352,\n",
       "       0.13838146, 0.09354451, 0.05553167, 0.05451132, 0.03591418,\n",
       "       0.07780363, 0.16893406, 0.74412646, 0.32086937, 0.33064929,\n",
       "       0.72405421, 0.02604227, 0.13476347, 0.53161773, 0.09641454,\n",
       "       0.40512615, 0.40492279, 0.13784778, 0.15808194, 0.73628918,\n",
       "       0.64339987, 0.23812721, 0.11446966, 0.19819596, 0.09199049,\n",
       "       0.33094998, 0.3521254 , 0.58942275, 0.10973427, 0.55182919,\n",
       "       0.14260607, 0.12038036, 0.54824703, 0.56166536, 0.47475904,\n",
       "       0.17240296, 0.12761701, 0.31906174, 0.15494815, 0.03771729,\n",
       "       0.37833608, 0.11903998, 0.13499829, 0.27963069, 0.26078845,\n",
       "       0.50240717, 0.35291672, 0.16960812, 0.63508093, 0.06619805,\n",
       "       0.42997399, 0.21971393, 0.05701597, 0.27058962, 0.11938088,\n",
       "       0.07485377, 0.3984034 , 0.3811983 , 0.57417088, 0.43851991,\n",
       "       0.15020507, 0.04144279, 0.58669673, 0.49131755, 0.40780646,\n",
       "       0.67024141, 0.51520485, 0.05637238, 0.62202368, 0.56209397,\n",
       "       0.10511211, 0.35954845, 0.68786414, 0.31901711, 0.21750059,\n",
       "       0.30500537, 0.41766686, 0.4608456 , 0.54093057, 0.08054268,\n",
       "       0.42793171, 0.37477927, 0.02518856, 0.16941732, 0.11857539,\n",
       "       0.17333463, 0.39584668, 0.49981166, 0.21527995, 0.23648081,\n",
       "       0.04284853, 0.16448656, 0.70657877, 0.30518824, 0.22997067,\n",
       "       0.04225669, 0.59294704, 0.31566005, 0.10767399, 0.33976394,\n",
       "       0.51106565, 0.73412656, 0.119104  , 0.53299384, 0.07442724,\n",
       "       0.12532917, 0.1594981 , 0.16962436, 0.64751812, 0.10724799,\n",
       "       0.01502901, 0.60378822, 0.20440768, 0.33099311, 0.6470644 ,\n",
       "       0.07132591, 0.30495487, 0.5242055 , 0.47163073, 0.1667293 ,\n",
       "       0.54456993, 0.22571868, 0.20426348, 0.35361706, 0.16122163,\n",
       "       0.44751836, 0.35043715, 0.15510486, 0.44083425, 0.59379824,\n",
       "       0.52410693, 0.05187925, 0.46682701, 0.1390521 , 0.12578939,\n",
       "       0.03083999, 0.24127446, 0.32500576, 0.362832  , 0.41729596,\n",
       "       0.6353807 , 0.08289377, 0.08188898, 0.14257194, 0.12805494,\n",
       "       0.3682348 , 0.36460015, 0.39035225, 0.22626284, 0.25809488,\n",
       "       0.16435241, 0.45359571, 0.23887394, 0.61712079, 0.02961067,\n",
       "       0.13022677, 0.15073958, 0.14373361, 0.39735162, 0.40800615,\n",
       "       0.06395262, 0.41080268, 0.14528163, 0.43879251, 0.61242308,\n",
       "       0.79011517, 0.55595799, 0.56033619, 0.07539557, 0.10594378,\n",
       "       0.43680985, 0.18773378, 0.39418012, 0.3430051 , 0.47986198,\n",
       "       0.51019052, 0.26339816, 0.26308575, 0.16467772, 0.15520543,\n",
       "       0.22032623, 0.47504448, 0.19002683, 0.10705128, 0.49932492,\n",
       "       0.64456733, 0.66240204, 0.53557229, 0.70588703, 0.61414964,\n",
       "       0.48787198, 0.46919408, 0.4216473 , 0.53879411, 0.32556898,\n",
       "       0.40913254, 0.10605941, 0.07832737, 0.64674833, 0.04039269,\n",
       "       0.24386465, 0.59777292, 0.2488601 , 0.09933674, 0.27941941,\n",
       "       0.31347261, 0.38750241, 0.13508634, 0.06077044, 0.06902841,\n",
       "       0.19963128, 0.38292906, 0.04359128, 0.17222306, 0.03992061,\n",
       "       0.19631582, 0.0489127 , 0.12968852, 0.05619217, 0.21852763,\n",
       "       0.55264088, 0.19628398, 0.02504944, 0.10214381, 0.29607103,\n",
       "       0.2810263 , 0.1189592 , 0.50487923, 0.08325966, 0.51579301,\n",
       "       0.56967725, 0.6292927 , 0.30594438, 0.46940576, 0.77905234,\n",
       "       0.19299923, 0.13637056, 0.31987859, 0.57732715, 0.18223533,\n",
       "       0.72184012, 0.25114346, 0.11814317, 0.29271944, 0.1465318 ,\n",
       "       0.17262849, 0.20782219, 0.17781718, 0.1572233 , 0.07491768,\n",
       "       0.54480519, 0.19120298, 0.66172234, 0.39835037, 0.32292447,\n",
       "       0.69129525, 0.12867714, 0.26016015, 0.36961236, 0.35989345,\n",
       "       0.22517522, 0.17595574, 0.37570488, 0.35355805, 0.2234726 ,\n",
       "       0.08210261, 0.06911401, 0.17531947, 0.62000075, 0.30174973,\n",
       "       0.51474107, 0.14480902, 0.53961773, 0.0648887 , 0.02143524,\n",
       "       0.10222746, 0.10789234, 0.46235208, 0.14643552, 0.19565209,\n",
       "       0.36006127, 0.10601851, 0.54182263, 0.37902927, 0.06187247,\n",
       "       0.24518258, 0.51491583, 0.07482145, 0.38508718, 0.07305979,\n",
       "       0.66678024, 0.51765269, 0.15437252, 0.05188846, 0.2341827 ,\n",
       "       0.11690588, 0.04755566, 0.10557725, 0.26786537, 0.5225686 ,\n",
       "       0.66156526, 0.24410047, 0.06848659, 0.30359003, 0.13565072,\n",
       "       0.2204061 , 0.07273202, 0.50732435, 0.1856346 , 0.44574663,\n",
       "       0.4779757 , 0.49293458, 0.08203523, 0.21615852, 0.20188246,\n",
       "       0.12503831, 0.15308238, 0.08020587, 0.24337374, 0.28881296,\n",
       "       0.04673514, 0.09614959, 0.05570369, 0.36097547, 0.34955163,\n",
       "       0.38455849, 0.8360912 , 0.27201052, 0.58962231, 0.23960834,\n",
       "       0.19158703, 0.33245723, 0.46746592, 0.08761741, 0.05038921,\n",
       "       0.45692581, 0.80526323, 0.37411776, 0.39150217, 0.54490055,\n",
       "       0.36050343, 0.40644208, 0.01666653, 0.135513  , 0.34188036,\n",
       "       0.33354618, 0.17966411, 0.53738503, 0.35644673, 0.76554497,\n",
       "       0.57458902, 0.48887594, 0.12867664, 0.501944  , 0.52833139,\n",
       "       0.21657668, 0.10403182, 0.28945495, 0.21881713, 0.53124814,\n",
       "       0.50314937, 0.12578501, 0.21320213, 0.30281207, 0.61258644,\n",
       "       0.05151547, 0.32008375, 0.16631168, 0.11978495, 0.57331918,\n",
       "       0.34388399, 0.40621653, 0.15616039, 0.11541736, 0.19186302,\n",
       "       0.18212392, 0.47269912, 0.63611708, 0.46560466, 0.43118446,\n",
       "       0.10687583, 0.65351132, 0.05351693, 0.08740096, 0.39557842,\n",
       "       0.11107647, 0.19527681, 0.04042246, 0.2758285 , 0.05274686,\n",
       "       0.47890872, 0.15126746, 0.04409439, 0.12388894, 0.07942016,\n",
       "       0.69399628, 0.10100123, 0.01766953, 0.53180399, 0.53860544,\n",
       "       0.32547301, 0.47524769, 0.09507663, 0.30730425, 0.1013124 ,\n",
       "       0.20922785, 0.42702444, 0.14667001, 0.78542455, 0.48657267,\n",
       "       0.40536289, 0.11606515, 0.48131711, 0.20361275, 0.41173808,\n",
       "       0.30886728, 0.17048788, 0.06280945, 0.46137455, 0.22428133,\n",
       "       0.27082725, 0.47163481, 0.26474681, 0.36632119, 0.43617362,\n",
       "       0.18039429, 0.15163826, 0.41662045, 0.58384481, 0.03764307,\n",
       "       0.08884709, 0.02922609, 0.07394992, 0.3789873 , 0.32716288,\n",
       "       0.55561676, 0.53124295, 0.0480819 , 0.1286531 , 0.29636507,\n",
       "       0.48451956, 0.25811614, 0.07829851, 0.04507131, 0.45753903,\n",
       "       0.18386431, 0.23281769, 0.49450697, 0.12087123, 0.04362167,\n",
       "       0.74801091, 0.37967522, 0.10443235, 0.17631583, 0.33283106,\n",
       "       0.17788788, 0.50391652, 0.19886905, 0.45162091, 0.4728675 ,\n",
       "       0.11184743, 0.2748761 , 0.17812806, 0.08139604, 0.22181445,\n",
       "       0.10606047, 0.24983665, 0.61562124, 0.37534997, 0.15859215,\n",
       "       0.24053712, 0.03274703, 0.04038557, 0.0948548 , 0.14808424,\n",
       "       0.48263203, 0.12484272, 0.14415483, 0.41993553, 0.39708673,\n",
       "       0.0873017 , 0.56568485, 0.21886582, 0.6750348 , 0.47813987,\n",
       "       0.12334016, 0.03381818, 0.34258753, 0.22917579, 0.58085403,\n",
       "       0.48123159, 0.5446524 , 0.13780885, 0.49817948, 0.0840861 ,\n",
       "       0.39041591, 0.09981154, 0.22029036, 0.27146251, 0.3058672 ,\n",
       "       0.29972287, 0.50424655, 0.39425582, 0.5180104 , 0.13405288,\n",
       "       0.6706588 , 0.4740151 , 0.20932585, 0.58197639, 0.06847432,\n",
       "       0.46618428, 0.28671044, 0.43721338, 0.21186351, 0.06149168,\n",
       "       0.48333623, 0.08834336, 0.19052144, 0.47522122, 0.05499789,\n",
       "       0.45283061, 0.0635877 , 0.12511845, 0.08089575, 0.20421543,\n",
       "       0.62996012, 0.22674616, 0.3897314 , 0.70350231, 0.4943951 ,\n",
       "       0.69223502, 0.30255087, 0.50184582, 0.72664006, 0.0573742 ,\n",
       "       0.29503452, 0.57398152, 0.55040234, 0.06238316, 0.32197771,\n",
       "       0.23655458, 0.17052291, 0.09482102, 0.34039044, 0.3468817 ,\n",
       "       0.2764536 , 0.37225022, 0.09918419, 0.49370584, 0.30775487,\n",
       "       0.29121349, 0.35022501, 0.07983201, 0.37879232, 0.62425074,\n",
       "       0.28639521, 0.3605507 , 0.18358493, 0.07550111, 0.06103445,\n",
       "       0.21549598, 0.692096  , 0.06135615, 0.67965721, 0.10783926,\n",
       "       0.5231954 , 0.36679021, 0.02354207, 0.42660924, 0.37956473,\n",
       "       0.52176686, 0.42305903, 0.04541631, 0.42533913, 0.04179575,\n",
       "       0.57349906, 0.44883264, 0.15141752, 0.05671193, 0.55812812,\n",
       "       0.09657215, 0.2202902 , 0.0546318 , 0.16796836, 0.02853548,\n",
       "       0.14871535, 0.12535119, 0.14860066, 0.26104943, 0.12900365])"
      ]
     },
     "execution_count": 18,
     "metadata": {},
     "output_type": "execute_result"
    }
   ],
   "source": [
    "final_logit.predict()"
   ]
  },
  {
   "cell_type": "markdown",
   "metadata": {},
   "source": [
    "    IMP: The negative sign in coefficient value indicates that as the value of this variable increases, the probability of being Bad Credit decreases, that is P(Y = 1) decreases. A positive sign means that the probability being bad credit increases as the corresponding value of the variable increases. \n",
    "    \n",
    "    1. The log odds ratio of Bad Credit increases as duration, amount and inst_rate increases. For example, one unit change in duration results in 0.019 unit change in log odd ratio.\n",
    "    \n",
    "    2. The probability of being a bad credit descreses as age increases. This means that oder people tend to pay back their credits ontime compared to younger people."
   ]
  },
  {
   "cell_type": "markdown",
   "metadata": {},
   "source": [
    "### Predicting on Test Data"
   ]
  },
  {
   "cell_type": "code",
   "execution_count": 19,
   "metadata": {},
   "outputs": [],
   "source": [
    "y_pred_df = pd.DataFrame( { \"actual\": y_test, \n",
    "                           \"predicted_prob\": final_logit.predict(sm.add_constant( X_test[significant_vars]) ) } )"
   ]
  },
  {
   "cell_type": "code",
   "execution_count": 20,
   "metadata": {},
   "outputs": [
    {
     "data": {
      "text/html": [
       "<div>\n",
       "<style scoped>\n",
       "    .dataframe tbody tr th:only-of-type {\n",
       "        vertical-align: middle;\n",
       "    }\n",
       "\n",
       "    .dataframe tbody tr th {\n",
       "        vertical-align: top;\n",
       "    }\n",
       "\n",
       "    .dataframe thead th {\n",
       "        text-align: right;\n",
       "    }\n",
       "</style>\n",
       "<table border=\"1\" class=\"dataframe\">\n",
       "  <thead>\n",
       "    <tr style=\"text-align: right;\">\n",
       "      <th></th>\n",
       "      <th>actual</th>\n",
       "      <th>predicted_prob</th>\n",
       "    </tr>\n",
       "  </thead>\n",
       "  <tbody>\n",
       "    <tr>\n",
       "      <th>557</th>\n",
       "      <td>1</td>\n",
       "      <td>0.080493</td>\n",
       "    </tr>\n",
       "    <tr>\n",
       "      <th>798</th>\n",
       "      <td>0</td>\n",
       "      <td>0.076653</td>\n",
       "    </tr>\n",
       "    <tr>\n",
       "      <th>977</th>\n",
       "      <td>0</td>\n",
       "      <td>0.345979</td>\n",
       "    </tr>\n",
       "    <tr>\n",
       "      <th>136</th>\n",
       "      <td>0</td>\n",
       "      <td>0.249919</td>\n",
       "    </tr>\n",
       "    <tr>\n",
       "      <th>575</th>\n",
       "      <td>0</td>\n",
       "      <td>0.062264</td>\n",
       "    </tr>\n",
       "    <tr>\n",
       "      <th>544</th>\n",
       "      <td>0</td>\n",
       "      <td>0.040768</td>\n",
       "    </tr>\n",
       "    <tr>\n",
       "      <th>332</th>\n",
       "      <td>1</td>\n",
       "      <td>0.833093</td>\n",
       "    </tr>\n",
       "    <tr>\n",
       "      <th>917</th>\n",
       "      <td>1</td>\n",
       "      <td>0.370667</td>\n",
       "    </tr>\n",
       "    <tr>\n",
       "      <th>678</th>\n",
       "      <td>0</td>\n",
       "      <td>0.388392</td>\n",
       "    </tr>\n",
       "    <tr>\n",
       "      <th>363</th>\n",
       "      <td>0</td>\n",
       "      <td>0.088952</td>\n",
       "    </tr>\n",
       "  </tbody>\n",
       "</table>\n",
       "</div>"
      ],
      "text/plain": [
       "     actual  predicted_prob\n",
       "557       1        0.080493\n",
       "798       0        0.076653\n",
       "977       0        0.345979\n",
       "136       0        0.249919\n",
       "575       0        0.062264\n",
       "544       0        0.040768\n",
       "332       1        0.833093\n",
       "917       1        0.370667\n",
       "678       0        0.388392\n",
       "363       0        0.088952"
      ]
     },
     "execution_count": 20,
     "metadata": {},
     "output_type": "execute_result"
    }
   ],
   "source": [
    "y_pred_df.sample(10, random_state = 42) "
   ]
  },
  {
   "cell_type": "markdown",
   "metadata": {},
   "source": [
    "    To understand how many observations the model has classified correctly and how many it has not, as cut-off probability needs to be assumed. Assume that the cut-off probability is 0.5 (in most cases); then all observations with predicted probability of more than 0.5 will be predicted as bad credits and rest of all as good credits. We will explore tehniques on how to find the optimal cut-off probability later. For now assume 0.5 is our cut-off probability value.\n",
    "    \n",
    "    Iterate through predicted probabiilty of each observation using map() and tag the observation as bad credit(1) if probability value is more than 0.5 or as good credit (0) otherwise."
   ]
  },
  {
   "cell_type": "code",
   "execution_count": 21,
   "metadata": {
    "scrolled": false
   },
   "outputs": [
    {
     "data": {
      "text/html": [
       "<div>\n",
       "<style scoped>\n",
       "    .dataframe tbody tr th:only-of-type {\n",
       "        vertical-align: middle;\n",
       "    }\n",
       "\n",
       "    .dataframe tbody tr th {\n",
       "        vertical-align: top;\n",
       "    }\n",
       "\n",
       "    .dataframe thead th {\n",
       "        text-align: right;\n",
       "    }\n",
       "</style>\n",
       "<table border=\"1\" class=\"dataframe\">\n",
       "  <thead>\n",
       "    <tr style=\"text-align: right;\">\n",
       "      <th></th>\n",
       "      <th>actual</th>\n",
       "      <th>predicted_prob</th>\n",
       "      <th>predicted</th>\n",
       "    </tr>\n",
       "  </thead>\n",
       "  <tbody>\n",
       "    <tr>\n",
       "      <th>557</th>\n",
       "      <td>1</td>\n",
       "      <td>0.080493</td>\n",
       "      <td>0</td>\n",
       "    </tr>\n",
       "    <tr>\n",
       "      <th>798</th>\n",
       "      <td>0</td>\n",
       "      <td>0.076653</td>\n",
       "      <td>0</td>\n",
       "    </tr>\n",
       "    <tr>\n",
       "      <th>977</th>\n",
       "      <td>0</td>\n",
       "      <td>0.345979</td>\n",
       "      <td>0</td>\n",
       "    </tr>\n",
       "    <tr>\n",
       "      <th>136</th>\n",
       "      <td>0</td>\n",
       "      <td>0.249919</td>\n",
       "      <td>0</td>\n",
       "    </tr>\n",
       "    <tr>\n",
       "      <th>575</th>\n",
       "      <td>0</td>\n",
       "      <td>0.062264</td>\n",
       "      <td>0</td>\n",
       "    </tr>\n",
       "    <tr>\n",
       "      <th>544</th>\n",
       "      <td>0</td>\n",
       "      <td>0.040768</td>\n",
       "      <td>0</td>\n",
       "    </tr>\n",
       "    <tr>\n",
       "      <th>332</th>\n",
       "      <td>1</td>\n",
       "      <td>0.833093</td>\n",
       "      <td>1</td>\n",
       "    </tr>\n",
       "    <tr>\n",
       "      <th>917</th>\n",
       "      <td>1</td>\n",
       "      <td>0.370667</td>\n",
       "      <td>0</td>\n",
       "    </tr>\n",
       "    <tr>\n",
       "      <th>678</th>\n",
       "      <td>0</td>\n",
       "      <td>0.388392</td>\n",
       "      <td>0</td>\n",
       "    </tr>\n",
       "    <tr>\n",
       "      <th>363</th>\n",
       "      <td>0</td>\n",
       "      <td>0.088952</td>\n",
       "      <td>0</td>\n",
       "    </tr>\n",
       "  </tbody>\n",
       "</table>\n",
       "</div>"
      ],
      "text/plain": [
       "     actual  predicted_prob  predicted\n",
       "557       1        0.080493          0\n",
       "798       0        0.076653          0\n",
       "977       0        0.345979          0\n",
       "136       0        0.249919          0\n",
       "575       0        0.062264          0\n",
       "544       0        0.040768          0\n",
       "332       1        0.833093          1\n",
       "917       1        0.370667          0\n",
       "678       0        0.388392          0\n",
       "363       0        0.088952          0"
      ]
     },
     "execution_count": 21,
     "metadata": {},
     "output_type": "execute_result"
    }
   ],
   "source": [
    "y_pred_df['predicted'] = y_pred_df.predicted_prob.map( lambda x: 1 if x > 0.5 else 0) \n",
    "y_pred_df.sample(10, random_state = 42) "
   ]
  },
  {
   "cell_type": "code",
   "execution_count": 33,
   "metadata": {},
   "outputs": [
    {
     "data": {
      "text/plain": [
       "(300, 3)"
      ]
     },
     "execution_count": 33,
     "metadata": {},
     "output_type": "execute_result"
    }
   ],
   "source": [
    "y_pred_df.shape"
   ]
  },
  {
   "cell_type": "markdown",
   "metadata": {},
   "source": [
    "    It can be noticed from \"actual\" and \"predicted\" columns that some classifications are correct and some are wrong. For better understanding of this confusion, we can build a confusion matrix."
   ]
  },
  {
   "cell_type": "markdown",
   "metadata": {},
   "source": [
    "### Creating a Confusion Matrix\n",
    "    \n",
    "    Confusion Matrix (aka Error Matrix or Classification table) is a matrix formed by checking the actual values and predicted values of observations in the dataset. To create a confusion matrix, first import matplotlib.pyplot and seaborn to render plots."
   ]
  },
  {
   "cell_type": "code",
   "execution_count": 22,
   "metadata": {},
   "outputs": [],
   "source": [
    "import matplotlib.pyplot as plt\n",
    "import seaborn as sns\n",
    "%matplotlib inline"
   ]
  },
  {
   "cell_type": "code",
   "execution_count": 23,
   "metadata": {},
   "outputs": [],
   "source": [
    "from sklearn import metrics\n",
    "def draw_cm( actual, predicted ):\n",
    "    cm = metrics.confusion_matrix( actual, predicted, [1,0] )    \n",
    "    sns.heatmap(cm, annot=True,  fmt='.2f',  xticklabels = [\"Bad credit\", \"Good Credit\"] , \n",
    "               yticklabels = [\"Bad credit\", \"Good Credit\"] )    \n",
    "    plt.ylabel('True label')    \n",
    "    plt.xlabel('Predicted label')    \n",
    "    plt.show() "
   ]
  },
  {
   "cell_type": "code",
   "execution_count": 24,
   "metadata": {},
   "outputs": [
    {
     "data": {
      "image/png": "[encoded data removed]",
      "text/plain": [
       "<Figure size 432x288 with 2 Axes>"
      ]
     },
     "metadata": {
      "needs_background": "light"
     },
     "output_type": "display_data"
    }
   ],
   "source": [
    "draw_cm( y_pred_df.actual, y_pred_df.predicted )"
   ]
  },
  {
   "cell_type": "markdown",
   "metadata": {},
   "source": [
    "    The columns represents the predicted label(class), while the rows represents the actual label(class). For example, Out of 91 (30 + 61) bad credits, only 30 have been classified correctly as bad credits and rest 61 have been classified as good credits when the cut-off probability is 0.5. In other words, \n",
    "    \n",
    "    1. Top-left : True Positives (TP) : Predicted Positives are actually (really) positive.\n",
    "    2. Top-right: False Positives (FP): Predicted positives are actually Negative\n",
    "    3. Bottom-left: False Negatives (FN): Predicted Negatives are actually Positive\n",
    "    4. Bottom-right: True Negatives (TN): Predicted Negatives are actually negative."
   ]
  },
  {
   "cell_type": "markdown",
   "metadata": {},
   "source": [
    "### Measuring Accuracies:\n",
    "\n",
    "    In classification, the model performance is often measure using concepts such as Sensitivity, Specificity, Precision and F-Score. The ability of the model to correctly classify positives and negatives is called Sensitivity (aka Recall or true positive rate) and Specificity (aka True negative rate) respectively. "
   ]
  },
  {
   "cell_type": "markdown",
   "metadata": {},
   "source": [
    "#### Sensitivity or Recall or True Positive Rate:\n",
    "\n",
    "    Sensitivity is the conditional probability that the \"predicted class is positive given that the actual class is positive\". \n",
    "    \n",
    "$$\\large Sensitivity \\space = \\space \\frac {TP} {TP \\space + \\space FN}$$    "
   ]
  },
  {
   "cell_type": "markdown",
   "metadata": {},
   "source": [
    "#### Specificity (True Negative Rate):\n",
    "\n",
    "    Specificity is the conditional probability that the \"predicted class is negative given that the actual class is negative\". \n",
    "    \n",
    "$$\\large Specificity \\space = \\space \\frac {TN} {TN \\space + \\space FP}$$  "
   ]
  },
  {
   "cell_type": "markdown",
   "metadata": {},
   "source": [
    "#### Precision\n",
    "\n",
    "    Precision is the conditional probability that the \"actual value is positive given that the prediction by model is positive\". \n",
    "    \n",
    "$$\\large Precision \\space = \\space \\frac {TP} {TP \\space + \\space FP}$$  "
   ]
  },
  {
   "cell_type": "markdown",
   "metadata": {},
   "source": [
    "#### F-Score\n",
    "\n",
    "    F-Score is a meaure that combines precision and recall (Harmonic mean between precision and recall). \n",
    "    \n",
    "$$\\large  F-Score \\space = \\space \\frac {2 * Recall * Precision} {Recall \\space + \\space Precision}$$  "
   ]
  },
  {
   "cell_type": "code",
   "execution_count": 25,
   "metadata": {},
   "outputs": [
    {
     "name": "stdout",
     "output_type": "stream",
     "text": [
      "              precision    recall  f1-score   support\n",
      "\n",
      "           0       0.76      0.90      0.82       209\n",
      "           1       0.59      0.33      0.42        91\n",
      "\n",
      "   micro avg       0.73      0.73      0.73       300\n",
      "   macro avg       0.67      0.61      0.62       300\n",
      "weighted avg       0.70      0.73      0.70       300\n",
      "\n"
     ]
    }
   ],
   "source": [
    "print( metrics.classification_report( y_pred_df.actual, y_pred_df.predicted ) ) "
   ]
  },
  {
   "cell_type": "markdown",
   "metadata": {},
   "source": [
    "    The model is very good at identifying the good credits (Y=0), but not very good at identifying bad credits. This is the result for cut-off probability of 0.5%. This can be improved by choosing the right cut-off probability. "
   ]
  },
  {
   "cell_type": "code",
   "execution_count": 26,
   "metadata": {},
   "outputs": [
    {
     "data": {
      "image/png": "[encoded data removed]",
      "text/plain": [
       "<Figure size 576x432 with 1 Axes>"
      ]
     },
     "metadata": {
      "needs_background": "light"
     },
     "output_type": "display_data"
    }
   ],
   "source": [
    "plt.figure( figsize = (8,6) )\n",
    "sns.distplot( y_pred_df[y_pred_df.actual == 1][\"predicted_prob\"], \n",
    "            kde=False, color = 'b', label = 'Bad Credit' ) \n",
    "sns.distplot( y_pred_df[y_pred_df.actual == 0][\"predicted_prob\"], \n",
    "            kde=False, color = 'g', label = 'Good Credit' )\n",
    "plt.legend() \n",
    "plt.show()"
   ]
  },
  {
   "cell_type": "markdown",
   "metadata": {},
   "source": [
    "### Receiver Operating Characteristic (ROC) and Area Under Curve (AUC)\n",
    "\n",
    "    The Receiver Operating Characteristic (ROC) curve can be used to understand the overall performance (worth) of a logistic regression model and also used for model selection. \n",
    "    \n",
    "    ROC curve is a plot between sensitivity (true positive rate) on the vertical axis and 1-specificity (false positive rate) on the horizontal axis. "
   ]
  },
  {
   "cell_type": "code",
   "execution_count": 27,
   "metadata": {},
   "outputs": [],
   "source": [
    "def draw_roc( actual, probs ):\n",
    "    fpr, tpr, thresholds = metrics.roc_curve( actual, probs)\n",
    "    auc_score = metrics.roc_auc_score( actual, probs )\n",
    "    plt.figure(figsize=(8, 6))\n",
    "    plt.plot( fpr, tpr, label='ROC curve (area = %0.2f)' % auc_score)\n",
    "    plt.plot([0, 1], [0, 1], 'k--')    \n",
    "    plt.xlim([0.0, 1.0])\n",
    "    plt.ylim([0.0, 1.05])\n",
    "    plt.xlabel('False Positive Rate or [1 - True Negative Rate]')\n",
    "    plt.ylabel('True Positive Rate')\n",
    "    plt.legend(loc=\"lower right\")\n",
    "    plt.show()\n",
    "    return fpr, tpr, thresholds"
   ]
  },
  {
   "cell_type": "code",
   "execution_count": 28,
   "metadata": {
    "scrolled": true
   },
   "outputs": [
    {
     "data": {
      "image/png": "[encoded data removed]",
      "text/plain": [
       "<Figure size 576x432 with 1 Axes>"
      ]
     },
     "metadata": {
      "needs_background": "light"
     },
     "output_type": "display_data"
    }
   ],
   "source": [
    "fpr, tpr, thresholds = draw_roc( y_pred_df.actual, y_pred_df.predicted_prob)"
   ]
  },
  {
   "cell_type": "markdown",
   "metadata": {},
   "source": [
    "    The diagonal line represents the case of not using a model (no discrimination between positive and negative). The area below the diagonal line is equal to 0.5 ( it is a right-angle triangle). Sensitivity and Specificity are likely to change when the cut-off probability is changed. The line above the diagonal capture how sensitivity and 1 - specificity change when the cut-off probability is changed. Model with higher AUC is preferred and AUC is frequently used for model selection. \n",
    "    \n",
    "    As a thumb rule, AUC of at least 0.7 is required for practical applicaiton of the model. AUC greater than 0.9 implies an outstanding model. Caution should be exercised while selecting model based on AUC, especially when the data is imbalanced (i.e. dataset which has less than 10% positives). In case of imbalanced datasets, the AUC may be very high (greater than 0.9), how ever wither sensitivity or specificity values may be poor. \n",
    "    \n",
    "    For this example, the AUC is 0.78 which implies the model is fairly good. The AUC can also be obtained seperately. "
   ]
  },
  {
   "cell_type": "code",
   "execution_count": 29,
   "metadata": {},
   "outputs": [
    {
     "data": {
      "text/plain": [
       "0.78"
      ]
     },
     "execution_count": 29,
     "metadata": {},
     "output_type": "execute_result"
    }
   ],
   "source": [
    "auc_score = metrics.roc_auc_score( y_pred_df.actual, y_pred_df.predicted_prob) \n",
    "round( float( auc_score ), 2 )"
   ]
  },
  {
   "cell_type": "markdown",
   "metadata": {},
   "source": [
    "### Finding Optimal Classification Cut-Off:\n",
    "\n",
    "    While using logistic regression model, one of the decisions that a data scientist has to make is to choose the right classification cut-off probability (P). The overall accuracy, sensitivity and specificity will depend on the chose cut-off probability. The following two method s are used for selecting the cut-off probability. \n",
    "    \n",
    "    1. Youden's Index\n",
    "    2. Cost-based Approach. "
   ]
  },
  {
   "cell_type": "markdown",
   "metadata": {},
   "source": [
    "### Youden's Index:\n",
    "\n",
    "    Sensitivity and Specificity change when we change the cut-off probability. Youden's Index is a classification cut-off probability for which the function is maximinzed (J-Statistics)\n",
    "    \n",
    "    We already know that sensitivity is also known as True Positive Rate (TPR) and Specificity is known as True Negative Rate (TPR).That is, select the cut-off probability for which (TPR+TNR-1) is maximum.\n",
    "    \n",
    "    \n",
    "    "
   ]
  },
  {
   "cell_type": "code",
   "execution_count": 30,
   "metadata": {},
   "outputs": [
    {
     "data": {
      "text/html": [
       "<div>\n",
       "<style scoped>\n",
       "    .dataframe tbody tr th:only-of-type {\n",
       "        vertical-align: middle;\n",
       "    }\n",
       "\n",
       "    .dataframe tbody tr th {\n",
       "        vertical-align: top;\n",
       "    }\n",
       "\n",
       "    .dataframe thead th {\n",
       "        text-align: right;\n",
       "    }\n",
       "</style>\n",
       "<table border=\"1\" class=\"dataframe\">\n",
       "  <thead>\n",
       "    <tr style=\"text-align: right;\">\n",
       "      <th></th>\n",
       "      <th>tpr</th>\n",
       "      <th>fpr</th>\n",
       "      <th>thresholds</th>\n",
       "      <th>diff</th>\n",
       "    </tr>\n",
       "  </thead>\n",
       "  <tbody>\n",
       "    <tr>\n",
       "      <th>68</th>\n",
       "      <td>0.846154</td>\n",
       "      <td>0.397129</td>\n",
       "      <td>0.221534</td>\n",
       "      <td>0.449025</td>\n",
       "    </tr>\n",
       "    <tr>\n",
       "      <th>70</th>\n",
       "      <td>0.857143</td>\n",
       "      <td>0.421053</td>\n",
       "      <td>0.207107</td>\n",
       "      <td>0.436090</td>\n",
       "    </tr>\n",
       "    <tr>\n",
       "      <th>72</th>\n",
       "      <td>0.868132</td>\n",
       "      <td>0.440191</td>\n",
       "      <td>0.186966</td>\n",
       "      <td>0.427940</td>\n",
       "    </tr>\n",
       "    <tr>\n",
       "      <th>69</th>\n",
       "      <td>0.846154</td>\n",
       "      <td>0.421053</td>\n",
       "      <td>0.208485</td>\n",
       "      <td>0.425101</td>\n",
       "    </tr>\n",
       "    <tr>\n",
       "      <th>60</th>\n",
       "      <td>0.758242</td>\n",
       "      <td>0.339713</td>\n",
       "      <td>0.271040</td>\n",
       "      <td>0.418529</td>\n",
       "    </tr>\n",
       "  </tbody>\n",
       "</table>\n",
       "</div>"
      ],
      "text/plain": [
       "         tpr       fpr  thresholds      diff\n",
       "68  0.846154  0.397129    0.221534  0.449025\n",
       "70  0.857143  0.421053    0.207107  0.436090\n",
       "72  0.868132  0.440191    0.186966  0.427940\n",
       "69  0.846154  0.421053    0.208485  0.425101\n",
       "60  0.758242  0.339713    0.271040  0.418529"
      ]
     },
     "execution_count": 30,
     "metadata": {},
     "output_type": "execute_result"
    }
   ],
   "source": [
    "tpr_fpr = pd.DataFrame( { 'tpr': tpr, 'fpr': fpr,  'thresholds': thresholds } ) \n",
    "tpr_fpr['diff'] = tpr_fpr.tpr - tpr_fpr.fpr \n",
    "tpr_fpr.sort_values( 'diff', ascending = False )[0:5]"
   ]
  },
  {
   "cell_type": "markdown",
   "metadata": {},
   "source": [
    "    From the above result, the optimal cut-off is 0.22. We can now classify all the observation beyond 0.22 predicted probability as bad credits and others as good credits. We will capture these new classes in predicted_new variable and then draw a new confusion matrix."
   ]
  },
  {
   "cell_type": "code",
   "execution_count": 34,
   "metadata": {},
   "outputs": [],
   "source": [
    "y_pred_df['predicted_new'] = y_pred_df.predicted_prob.map( lambda x: 1 if x > 0.22 else 0)"
   ]
  },
  {
   "cell_type": "code",
   "execution_count": 37,
   "metadata": {},
   "outputs": [
    {
     "data": {
      "text/html": [
       "<div>\n",
       "<style scoped>\n",
       "    .dataframe tbody tr th:only-of-type {\n",
       "        vertical-align: middle;\n",
       "    }\n",
       "\n",
       "    .dataframe tbody tr th {\n",
       "        vertical-align: top;\n",
       "    }\n",
       "\n",
       "    .dataframe thead th {\n",
       "        text-align: right;\n",
       "    }\n",
       "</style>\n",
       "<table border=\"1\" class=\"dataframe\">\n",
       "  <thead>\n",
       "    <tr style=\"text-align: right;\">\n",
       "      <th></th>\n",
       "      <th>actual</th>\n",
       "      <th>predicted_prob</th>\n",
       "      <th>predicted</th>\n",
       "      <th>predicted_new</th>\n",
       "    </tr>\n",
       "  </thead>\n",
       "  <tbody>\n",
       "    <tr>\n",
       "      <th>521</th>\n",
       "      <td>1</td>\n",
       "      <td>0.452449</td>\n",
       "      <td>0</td>\n",
       "      <td>1</td>\n",
       "    </tr>\n",
       "    <tr>\n",
       "      <th>737</th>\n",
       "      <td>0</td>\n",
       "      <td>0.491820</td>\n",
       "      <td>0</td>\n",
       "      <td>1</td>\n",
       "    </tr>\n",
       "    <tr>\n",
       "      <th>740</th>\n",
       "      <td>0</td>\n",
       "      <td>0.418416</td>\n",
       "      <td>0</td>\n",
       "      <td>1</td>\n",
       "    </tr>\n",
       "    <tr>\n",
       "      <th>660</th>\n",
       "      <td>0</td>\n",
       "      <td>0.270285</td>\n",
       "      <td>0</td>\n",
       "      <td>1</td>\n",
       "    </tr>\n",
       "    <tr>\n",
       "      <th>411</th>\n",
       "      <td>0</td>\n",
       "      <td>0.132119</td>\n",
       "      <td>0</td>\n",
       "      <td>0</td>\n",
       "    </tr>\n",
       "  </tbody>\n",
       "</table>\n",
       "</div>"
      ],
      "text/plain": [
       "     actual  predicted_prob  predicted  predicted_new\n",
       "521       1        0.452449          0              1\n",
       "737       0        0.491820          0              1\n",
       "740       0        0.418416          0              1\n",
       "660       0        0.270285          0              1\n",
       "411       0        0.132119          0              0"
      ]
     },
     "execution_count": 37,
     "metadata": {},
     "output_type": "execute_result"
    }
   ],
   "source": [
    "y_pred_df.head()"
   ]
  },
  {
   "cell_type": "code",
   "execution_count": 35,
   "metadata": {
    "scrolled": true
   },
   "outputs": [
    {
     "data": {
      "image/png": "[encoded data removed]",
      "text/plain": [
       "<Figure size 432x288 with 2 Axes>"
      ]
     },
     "metadata": {
      "needs_background": "light"
     },
     "output_type": "display_data"
    }
   ],
   "source": [
    "draw_cm( y_pred_df.actual, y_pred_df.predicted_new) "
   ]
  },
  {
   "cell_type": "markdown",
   "metadata": {},
   "source": [
    "    Now print the report with cut-off probability 0.22"
   ]
  },
  {
   "cell_type": "code",
   "execution_count": 36,
   "metadata": {
    "scrolled": true
   },
   "outputs": [
    {
     "name": "stdout",
     "output_type": "stream",
     "text": [
      "              precision    recall  f1-score   support\n",
      "\n",
      "           0       0.90      0.60      0.72       209\n",
      "           1       0.48      0.85      0.61        91\n",
      "\n",
      "   micro avg       0.68      0.68      0.68       300\n",
      "   macro avg       0.69      0.72      0.67       300\n",
      "weighted avg       0.77      0.68      0.69       300\n",
      "\n"
     ]
    }
   ],
   "source": [
    "print(metrics.classification_report( y_pred_df.actual, y_pred_df.predicted_new )) "
   ]
  },
  {
   "cell_type": "markdown",
   "metadata": {},
   "source": [
    "    With cut-off probability os 0.22, the model is able to classify the bad credits better and the F1-score for bad credit (Y=1) has also improved to 0.61"
   ]
  },
  {
   "cell_type": "markdown",
   "metadata": {},
   "source": [
    "### Cost-Based Approach\n",
    "\n",
    "    As the cost of false negatives and false positives is not same, the optimal classification cut-off probability can also be determined using cost-based approach, which finds the cut-off where the total cost is minimum. In the cost-based approach, we assign penalty cost for misclassification of positives and negatives and find the total cost for a cut-off probability. \n",
    "    \n",
    "        Assuming cost of a false positive is C1 and that of a flase negative is C2, total cost will be \n",
    "        \n",
    "            Total Cost = FN * C2 * FP * C1\n",
    "            \n",
    "    The optimal cut-off probability is the one which minimizes the total penalty cost."
   ]
  },
  {
   "cell_type": "code",
   "execution_count": 41,
   "metadata": {},
   "outputs": [],
   "source": [
    "def get_total_cost( actual, predicted, cost_FPs, cost_FNs ):\n",
    "    cm = metrics.confusion_matrix(actual, predicted, [1,0])\n",
    "    cm_mat = np.array( cm )\n",
    "    return cm_mat[0,1] * cost_FNs + cm_mat[1,0] * cost_FPs "
   ]
  },
  {
   "cell_type": "code",
   "execution_count": 39,
   "metadata": {},
   "outputs": [],
   "source": [
    "cost_df = pd.DataFrame( columns = ['prob', 'cost']) "
   ]
  },
  {
   "cell_type": "markdown",
   "metadata": {},
   "source": [
    "    Now we can calculate the penalty cost for each cut-off probability values between 0.1 and 0.5 with incremental value of 0.01 and sort the costs in ascending order to find the cut-off probability at which the penalty cost is minimum"
   ]
  },
  {
   "cell_type": "code",
   "execution_count": 48,
   "metadata": {},
   "outputs": [],
   "source": [
    "idx = 0\n",
    "## iterate cut-off probability values between 0.1 and 0.5 \n",
    "for each_prob in range( 10, 50):\n",
    "    cost = get_total_cost( y_pred_df.actual, y_pred_df.predicted_prob.map( lambda x: 1 if x > (each_prob/100)  else 0), 1, 5 )\n",
    "    cost_df.loc[idx] = [(each_prob/100), cost] \n",
    "    idx += 1 \n"
   ]
  },
  {
   "cell_type": "code",
   "execution_count": 49,
   "metadata": {},
   "outputs": [
    {
     "data": {
      "text/html": [
       "<div>\n",
       "<style scoped>\n",
       "    .dataframe tbody tr th:only-of-type {\n",
       "        vertical-align: middle;\n",
       "    }\n",
       "\n",
       "    .dataframe tbody tr th {\n",
       "        vertical-align: top;\n",
       "    }\n",
       "\n",
       "    .dataframe thead th {\n",
       "        text-align: right;\n",
       "    }\n",
       "</style>\n",
       "<table border=\"1\" class=\"dataframe\">\n",
       "  <thead>\n",
       "    <tr style=\"text-align: right;\">\n",
       "      <th></th>\n",
       "      <th>prob</th>\n",
       "      <th>cost</th>\n",
       "    </tr>\n",
       "  </thead>\n",
       "  <tbody>\n",
       "    <tr>\n",
       "      <th>4</th>\n",
       "      <td>0.14</td>\n",
       "      <td>150.0</td>\n",
       "    </tr>\n",
       "    <tr>\n",
       "      <th>12</th>\n",
       "      <td>0.22</td>\n",
       "      <td>153.0</td>\n",
       "    </tr>\n",
       "    <tr>\n",
       "      <th>2</th>\n",
       "      <td>0.12</td>\n",
       "      <td>154.0</td>\n",
       "    </tr>\n",
       "    <tr>\n",
       "      <th>10</th>\n",
       "      <td>0.20</td>\n",
       "      <td>154.0</td>\n",
       "    </tr>\n",
       "    <tr>\n",
       "      <th>9</th>\n",
       "      <td>0.19</td>\n",
       "      <td>156.0</td>\n",
       "    </tr>\n",
       "  </tbody>\n",
       "</table>\n",
       "</div>"
      ],
      "text/plain": [
       "    prob   cost\n",
       "4   0.14  150.0\n",
       "12  0.22  153.0\n",
       "2   0.12  154.0\n",
       "10  0.20  154.0\n",
       "9   0.19  156.0"
      ]
     },
     "execution_count": 49,
     "metadata": {},
     "output_type": "execute_result"
    }
   ],
   "source": [
    "cost_df.sort_values( 'cost', ascending = True )[0:5] "
   ]
  },
  {
   "cell_type": "markdown",
   "metadata": {},
   "source": [
    "    The lowest cost is achieved at cut-off probablity of 0.14 if false negatives are assumed to be five times costlier than false positives (domain knowledge required). So, let us predict everything beyond 0.14 as bad credit and below 0.14 as good credit"
   ]
  },
  {
   "cell_type": "code",
   "execution_count": 51,
   "metadata": {},
   "outputs": [],
   "source": [
    "y_pred_df['predicted_using_cost'] = y_pred_df.predicted_prob.map(lambda x: 1 if x > 0.14 else 0)"
   ]
  },
  {
   "cell_type": "code",
   "execution_count": 52,
   "metadata": {},
   "outputs": [
    {
     "data": {
      "image/png": "[encoded data removed]",
      "text/plain": [
       "<Figure size 432x288 with 2 Axes>"
      ]
     },
     "metadata": {
      "needs_background": "light"
     },
     "output_type": "display_data"
    }
   ],
   "source": [
    "draw_cm( y_pred_df.actual, y_pred_df.predicted_using_cost )"
   ]
  },
  {
   "cell_type": "markdown",
   "metadata": {},
   "source": [
    "    The model has reduced the false negatives to only 6. This is because of high cost false negatives(5 times) compared to false positives. The number of false positives have increased to 120."
   ]
  },
  {
   "cell_type": "code",
   "execution_count": null,
   "metadata": {},
   "outputs": [],
   "source": []
  }
 ],
 "metadata": {
  "kernelspec": {
   "display_name": "Python 3 (ipykernel)",
   "language": "python",
   "name": "python3"
  },
  "language_info": {
   "codemirror_mode": {
    "name": "ipython",
    "version": 3
   },
   "file_extension": ".py",
   "mimetype": "text/x-python",
   "name": "python",
   "nbconvert_exporter": "python",
   "pygments_lexer": "ipython3",
   "version": "3.9.7"
  }
 },
 "nbformat": 4,
 "nbformat_minor": 2
}
